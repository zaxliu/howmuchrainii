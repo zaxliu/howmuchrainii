{
 "cells": [
  {
   "cell_type": "markdown",
   "metadata": {},
   "source": [
    "#Imports"
   ]
  },
  {
   "cell_type": "code",
   "execution_count": 1,
   "metadata": {
    "collapsed": false
   },
   "outputs": [],
   "source": [
    "import time\n",
    "#\n",
    "import numpy as np\n",
    "import pandas as pd\n",
    "import matplotlib.pyplot as plt\n",
    "# \n",
    "from sklearn.preprocessing import StandardScaler\n",
    "from sklearn.preprocessing import Imputer\n",
    "from sklearn.ensemble import RandomForestRegressor\n",
    "from sklearn.cross_validation import train_test_split\n",
    "#\n",
    "pd.set_option('display.max_columns', 500)  # force pandas to display all columns for better visual inspection\n",
    "# plot plots inline\n",
    "%matplotlib inline  "
   ]
  },
  {
   "cell_type": "markdown",
   "metadata": {},
   "source": [
    "#Dataset IO"
   ]
  },
  {
   "cell_type": "markdown",
   "metadata": {},
   "source": [
    "## Method 1: read from raw training set and sub sample"
   ]
  },
  {
   "cell_type": "code",
   "execution_count": 2,
   "metadata": {
    "collapsed": true
   },
   "outputs": [],
   "source": [
    "# Read training set into memory\n",
    "trn = pd.read_csv('./data/train.csv')\n",
    "# Generate random sample and save into file\n",
    "trn_10 = trn.sample(frac=0.1)  # random sample 10% from whole sample\n",
    "trn_10.to_csv('./data/train_10.csv')  # save randome sub-samples to a csv file\n",
    "trn_1 = trn.sample(frac=0.01)  # random sample 1% from whole sample\n",
    "trn_1.to_csv('./data/train_1.csv')  # save randome sub-samples to a csv file"
   ]
  },
  {
   "cell_type": "markdown",
   "metadata": {},
   "source": [
    "## Method 2: read from temp file"
   ]
  },
  {
   "cell_type": "code",
   "execution_count": 2,
   "metadata": {
    "collapsed": false,
    "scrolled": true
   },
   "outputs": [],
   "source": [
    "trn_10 = pd.read_csv('./data/train_10.csv', index_col=0)  # column #0 in our file is index\n",
    "# trn_1 = pd.read_csv('./data/train_1.csv', index_col=0)"
   ]
  },
  {
   "cell_type": "markdown",
   "metadata": {},
   "source": [
    "# ML"
   ]
  },
  {
   "cell_type": "markdown",
   "metadata": {},
   "source": [
    "## Cleaning"
   ]
  },
  {
   "cell_type": "code",
   "execution_count": 3,
   "metadata": {
    "collapsed": false,
    "scrolled": true
   },
   "outputs": [
    {
     "name": "stdout",
     "output_type": "stream",
     "text": [
      "Time elapsed: 0.1070 secs\n",
      "(1376520, 24) (633978, 24) 405191 814057\n"
     ]
    }
   ],
   "source": [
    "t = time.time()  # tic\n",
    "## filter out observations with non-valid 'Ref'\n",
    "# trn_1_withRef = trn_1[trn_1['Ref'].notnull()]\n",
    "trn_10_withRef = trn_10[trn_10['Ref'].notnull()]\n",
    "print 'Time elapsed: {:.4f} secs'.format(time.time()-t)  # toc\n",
    "## dimension checking\n",
    "# print trn_1.shape, trn_1_withRef.shape, trn_1_withRef['Id'].nunique(), trn_1['Id'].nunique()\n",
    "print trn_10.shape, trn_10_withRef.shape, trn_10_withRef['Id'].nunique(), trn_10['Id'].nunique()"
   ]
  },
  {
   "cell_type": "markdown",
   "metadata": {},
   "source": [
    "## Preprocessing "
   ]
  },
  {
   "cell_type": "markdown",
   "metadata": {},
   "source": [
    "### Combine observation"
   ]
  },
  {
   "cell_type": "code",
   "execution_count": 4,
   "metadata": {
    "collapsed": false
   },
   "outputs": [
    {
     "name": "stdout",
     "output_type": "stream",
     "text": [
      "0.756000041962\n"
     ]
    }
   ],
   "source": [
    "# Combine observations by 'Id'\n",
    "t = time.time()\n",
    "# trn_1_withRef_comb = trn_1_withRef.groupby('Id').agg(np.mean)\n",
    "trn_10_withRef_comb = trn_10_withRef.groupby('Id').agg(np.mean)\n",
    "print time.time()-t"
   ]
  },
  {
   "cell_type": "markdown",
   "metadata": {},
   "source": [
    "### Extract and split "
   ]
  },
  {
   "cell_type": "code",
   "execution_count": 5,
   "metadata": {
    "collapsed": false
   },
   "outputs": [],
   "source": [
    "# Extract matrix-form data from pandas df\n",
    "X = trn_10_withRef_comb.loc[:, 'minutes_past':'Kdp_5x5_90th'].values  # NOTE: used range slicing on column\n",
    "y = np.log10(trn_10_withRef_comb['Expected'].values)"
   ]
  },
  {
   "cell_type": "code",
   "execution_count": 6,
   "metadata": {
    "collapsed": true
   },
   "outputs": [],
   "source": [
    "# Split data as training and validation set\n",
    "[X_trn, X_val, y_trn, y_val] = train_test_split(X, y, test_size = 0.3)"
   ]
  },
  {
   "cell_type": "markdown",
   "metadata": {},
   "source": [
    "### Missing values"
   ]
  },
  {
   "cell_type": "code",
   "execution_count": 7,
   "metadata": {
    "collapsed": false
   },
   "outputs": [],
   "source": [
    "# Deal with missing values\n",
    "imp = Imputer(strategy='mean')  # Get a imputor with column-mean filling config\n",
    "X_trn = imp.fit_transform(X_trn)\n",
    "X_val = imp.fit_transform(X_val)"
   ]
  },
  {
   "cell_type": "code",
   "execution_count": 8,
   "metadata": {
    "collapsed": false,
    "scrolled": false
   },
   "outputs": [
    {
     "name": "stdout",
     "output_type": "stream",
     "text": [
      "(283633L, 22L) (121558L, 22L) (283633L,) (121558L,)\n"
     ]
    }
   ],
   "source": [
    "print X_trn.shape, X_val.shape, y_trn.shape, y_val.shape"
   ]
  },
  {
   "cell_type": "markdown",
   "metadata": {},
   "source": [
    "### Standardization"
   ]
  },
  {
   "cell_type": "code",
   "execution_count": 9,
   "metadata": {
    "collapsed": false
   },
   "outputs": [],
   "source": [
    "ss = StandardScaler(copy=False, with_mean=True, with_std=True)\n",
    "ss.fit(X_trn, y_trn)\n",
    "ss.transform(X_trn, y_trn)\n",
    "ss.transform(X_val, y_val);"
   ]
  },
  {
   "cell_type": "code",
   "execution_count": 10,
   "metadata": {
    "collapsed": false
   },
   "outputs": [
    {
     "name": "stdout",
     "output_type": "stream",
     "text": [
      "[ -1.77976619e-15  -8.08426142e-16  -4.10638395e-15  -2.96790570e-13\n",
      "   3.71114292e-13  -5.46767881e-15  -9.18582740e-15   1.46280386e-12\n",
      "  -4.31349270e-13  -3.57600921e-15  -2.40546578e-11   1.73638553e-11\n",
      "  -1.18695831e-11   1.84742387e-11   7.71047974e-15  -1.51471881e-12\n",
      "  -1.13648552e-12  -2.12249056e-12   9.70775509e-16  -4.47670098e-12\n",
      "  -3.15835942e-13  -5.98200861e-13] [ 1.  1.  1.  1.  1.  1.  1.  1.  1.  1.  1.  1.  1.  1.  1.  1.  1.  1.\n",
      "  1.  1.  1.  1.]\n",
      "0.132255495602\n",
      "[  3.33561724e-04  -1.05197622e-03  -2.36259527e-03   2.67887372e-03\n",
      "   4.56473839e-04  -2.52234971e-06  -5.24222625e-04   2.96769854e-03\n",
      "   1.96622799e-03   1.28064323e-03  -1.21186207e-03  -2.19198404e-03\n",
      "   4.82979431e-03  -3.88093110e-03  -5.20908263e-03  -2.83781395e-03\n",
      "   4.30704166e-03  -9.24050833e-03   5.77588363e-03   1.09066683e-03\n",
      "  -1.22318025e-03   3.22538779e-03] [ 1.  1.  1.  1.  1.  1.  1.  1.  1.  1.  1.  1.  1.  1.  1.  1.  1.  1.\n",
      "  1.  1.  1.  1.]\n",
      "0.139758647943\n"
     ]
    }
   ],
   "source": [
    "print X_trn.mean(axis=0), X_trn.std(axis=0)\n",
    "print y_trn.mean(axis=0)\n",
    "print X_val.mean(axis=0), X_trn.std(axis=0)\n",
    "print y_val.mean(axis=0)"
   ]
  },
  {
   "cell_type": "code",
   "execution_count": 76,
   "metadata": {
    "collapsed": true
   },
   "outputs": [
    {
     "data": {
      "image/png": "[encoded data removed]",
      "text/plain": [
       "<matplotlib.figure.Figure at 0x1a007f60>"
      ]
     },
     "metadata": {},
     "output_type": "display_data"
    }
   ],
   "source": [
    "plt.hist(X_trn, alpha=0.3)\n",
    "plt.show()"
   ]
  },
  {
   "cell_type": "code",
   "execution_count": 66,
   "metadata": {
    "collapsed": true
   },
   "outputs": [
    {
     "data": {
      "image/png": "[encoded data removed]",
      "text/plain": [
       "<matplotlib.figure.Figure at 0x208ffb70>"
      ]
     },
     "metadata": {},
     "output_type": "display_data"
    }
   ],
   "source": [
    "plt.hist(y_trn)\n",
    "plt.show()"
   ]
  },
  {
   "cell_type": "markdown",
   "metadata": {},
   "source": [
    "## Training and validation"
   ]
  },
  {
   "cell_type": "code",
   "execution_count": 11,
   "metadata": {
    "collapsed": false
   },
   "outputs": [
    {
     "name": "stdout",
     "output_type": "stream",
     "text": [
      "32.2119998932\n"
     ]
    }
   ],
   "source": [
    "t = time.time()\n",
    "clf = RandomForestRegressor(n_jobs=-1)  # NOTE: n_jobs=-1 will use all of your cores, set to a prefered number\n",
    "clf.fit(X_trn, y_trn)\n",
    "y_val_predict = clf.predict(X_val)\n",
    "print time.time()-t"
   ]
  },
  {
   "cell_type": "markdown",
   "metadata": {},
   "source": [
    "## Performance evaluation "
   ]
  },
  {
   "cell_type": "code",
   "execution_count": 105,
   "metadata": {
    "collapsed": true
   },
   "outputs": [
    {
     "data": {
      "text/plain": [
       "<matplotlib.text.Text at 0x22b2fb38>"
      ]
     },
     "execution_count": 105,
     "metadata": {},
     "output_type": "execute_result"
    },
    {
     "data": {
      "image/png": "[encoded data removed]",
      "text/plain": [
       "<matplotlib.figure.Figure at 0x1170d908>"
      ]
     },
     "metadata": {},
     "output_type": "display_data"
    }
   ],
   "source": [
    "plt.scatter(y_val_predict, y_val, alpha=0.5)\n",
    "plt.xlabel('Predict')\n",
    "plt.ylabel('Real')"
   ]
  },
  {
   "cell_type": "code",
   "execution_count": 37,
   "metadata": {
    "collapsed": true
   },
   "outputs": [
    {
     "name": "stdout",
     "output_type": "stream",
     "text": [
      "MSE = 49629.7515439\n"
     ]
    },
    {
     "data": {
      "text/plain": [
       "<matplotlib.text.Text at 0x21b3b0f0>"
      ]
     },
     "execution_count": 37,
     "metadata": {},
     "output_type": "execute_result"
    },
    {
     "data": {
      "image/png": "[encoded data removed]",
      "text/plain": [
       "<matplotlib.figure.Figure at 0x11622ba8>"
      ]
     },
     "metadata": {},
     "output_type": "display_data"
    }
   ],
   "source": [
    "# Results with linear y\n",
    "print 'MSE = {}'.format(((y_val_predict-y_val)**2).mean())\n",
    "plt.hist(np.log10(1+(y_val_predict-y_val)**2))\n",
    "plt.xlabel('log10(1+MSE)')"
   ]
  },
  {
   "cell_type": "code",
   "execution_count": 57,
   "metadata": {
    "collapsed": true
   },
   "outputs": [
    {
     "name": "stdout",
     "output_type": "stream",
     "text": [
      "MSE = 47466.7682711\n"
     ]
    },
    {
     "data": {
      "text/plain": [
       "<matplotlib.text.Text at 0x12c73160>"
      ]
     },
     "execution_count": 57,
     "metadata": {},
     "output_type": "execute_result"
    },
    {
     "data": {
      "image/png": "[encoded data removed]",
      "text/plain": [
       "<matplotlib.figure.Figure at 0x12b36eb8>"
      ]
     },
     "metadata": {},
     "output_type": "display_data"
    }
   ],
   "source": [
    "# Results with log10(y)\n",
    "print 'MSE = {}'.format(((10**y_val_predict-10**y_val)**2).mean())\n",
    "plt.hist(np.log10(1+(y_val_predict-y_val)**2))\n",
    "plt.xlabel('log10(1+MSE)')"
   ]
  },
  {
   "cell_type": "code",
   "execution_count": 12,
   "metadata": {
    "collapsed": true
   },
   "outputs": [
    {
     "name": "stdout",
     "output_type": "stream",
     "text": [
      "MAE = 17.5182675791\n"
     ]
    },
    {
     "data": {
      "text/plain": [
       "<matplotlib.text.Text at 0x243d320>"
      ]
     },
     "execution_count": 12,
     "metadata": {},
     "output_type": "execute_result"
    },
    {
     "data": {
      "image/png": "[encoded data removed]",
      "text/plain": [
       "<matplotlib.figure.Figure at 0x3cec208>"
      ]
     },
     "metadata": {},
     "output_type": "display_data"
    }
   ],
   "source": [
    "# Results with log10(y) + Standardization\n",
    "print 'MAE = {}'.format(abs(10**y_val_predict-10**y_val).mean())\n",
    "plt.hist(np.log10(1+abs(y_val_predict-y_val)))\n",
    "plt.xlabel('log10(1+MSE)')"
   ]
  },
  {
   "cell_type": "markdown",
   "metadata": {},
   "source": [
    "## Generate submission"
   ]
  },
  {
   "cell_type": "code",
   "execution_count": 13,
   "metadata": {
    "collapsed": false
   },
   "outputs": [],
   "source": [
    "test = pd.read_csv('./data/test.csv')\n",
    "test_withRef = test[test['Ref'].notnull()]\n",
    "test_withRef_comb = test_withRef.groupby('Id').agg(np.mean)\n",
    "test_X = test_withRef_comb.loc[:, 'minutes_past':'Kdp_5x5_90th'].values\n",
    "test_X = imp.fit_transform(test_X)\n",
    "ss.transform(test_X)\n",
    "test_y_predict = clf.predict(test_X)"
   ]
  },
  {
   "cell_type": "code",
   "execution_count": 23,
   "metadata": {
    "collapsed": false
   },
   "outputs": [
    {
     "data": {
      "text/plain": [
       "426094"
      ]
     },
     "execution_count": 23,
     "metadata": {},
     "output_type": "execute_result"
    }
   ],
   "source": [
    "test_result_withRef = pd.DataFrame()\n",
    "test_result_withRef['Id'] = test_withRef_comb.index\n",
    "test_result_withRef['Expected'] = test_y_predict"
   ]
  },
  {
   "cell_type": "code",
   "execution_count": 42,
   "metadata": {
    "collapsed": false
   },
   "outputs": [],
   "source": [
    "test_result = pd.DataFrame()\n",
    "test_result['Id'] = test['Id'].unique()\n",
    "test_result = pd.merge(test_result, test_result_withRef, how='left', on=['Id'], sort=True)\n",
    "test_result.loc[test_result['Expected'].isnull(), 'Expected'] = -1\n",
    "test_result\n",
    "test_result.to_csv('./data/result.csv', index=False)"
   ]
  },
  {
   "cell_type": "markdown",
   "metadata": {},
   "source": [
    "# Test code below"
   ]
  },
  {
   "cell_type": "code",
   "execution_count": 29,
   "metadata": {
    "collapsed": false,
    "scrolled": true
   },
   "outputs": [
    {
     "name": "stdout",
     "output_type": "stream",
     "text": [
      "907906\n",
      "1180945\n"
     ]
    }
   ],
   "source": [
    "# print trn[trn['Id']==8]\n",
    "print trn[trn['Ref'].isnull()]['Id'].nunique()\n",
    "print trn['Id'].nunique()\n"
   ]
  },
  {
   "cell_type": "code",
   "execution_count": 46,
   "metadata": {
    "collapsed": false
   },
   "outputs": [
    {
     "data": {
      "text/html": [
       "<div>\n",
       "<table border=\"1\" class=\"dataframe\">\n",
       "  <thead>\n",
       "    <tr style=\"text-align: right;\">\n",
       "      <th></th>\n",
       "      <th>Id</th>\n",
       "      <th>minutes_past</th>\n",
       "      <th>radardist_km</th>\n",
       "      <th>Ref</th>\n",
       "      <th>Ref_5x5_10th</th>\n",
       "      <th>Ref_5x5_50th</th>\n",
       "      <th>Ref_5x5_90th</th>\n",
       "      <th>RefComposite</th>\n",
       "      <th>RefComposite_5x5_10th</th>\n",
       "      <th>RefComposite_5x5_50th</th>\n",
       "      <th>RefComposite_5x5_90th</th>\n",
       "      <th>RhoHV</th>\n",
       "      <th>RhoHV_5x5_10th</th>\n",
       "      <th>RhoHV_5x5_50th</th>\n",
       "      <th>RhoHV_5x5_90th</th>\n",
       "      <th>Zdr</th>\n",
       "      <th>Zdr_5x5_10th</th>\n",
       "      <th>Zdr_5x5_50th</th>\n",
       "      <th>Zdr_5x5_90th</th>\n",
       "      <th>Kdp</th>\n",
       "      <th>Kdp_5x5_10th</th>\n",
       "      <th>Kdp_5x5_50th</th>\n",
       "      <th>Kdp_5x5_90th</th>\n",
       "      <th>Expected</th>\n",
       "    </tr>\n",
       "  </thead>\n",
       "  <tbody>\n",
       "    <tr>\n",
       "      <th>35</th>\n",
       "      <td>4</td>\n",
       "      <td>23</td>\n",
       "      <td>9</td>\n",
       "      <td>NaN</td>\n",
       "      <td>NaN</td>\n",
       "      <td>NaN</td>\n",
       "      <td>26</td>\n",
       "      <td>7.5</td>\n",
       "      <td>12</td>\n",
       "      <td>18.5</td>\n",
       "      <td>30.0</td>\n",
       "      <td>NaN</td>\n",
       "      <td>NaN</td>\n",
       "      <td>NaN</td>\n",
       "      <td>NaN</td>\n",
       "      <td>NaN</td>\n",
       "      <td>NaN</td>\n",
       "      <td>NaN</td>\n",
       "      <td>NaN</td>\n",
       "      <td>NaN</td>\n",
       "      <td>NaN</td>\n",
       "      <td>NaN</td>\n",
       "      <td>NaN</td>\n",
       "      <td>4.064002</td>\n",
       "    </tr>\n",
       "    <tr>\n",
       "      <th>40</th>\n",
       "      <td>4</td>\n",
       "      <td>47</td>\n",
       "      <td>9</td>\n",
       "      <td>NaN</td>\n",
       "      <td>NaN</td>\n",
       "      <td>NaN</td>\n",
       "      <td>20</td>\n",
       "      <td>11.0</td>\n",
       "      <td>NaN</td>\n",
       "      <td>12.5</td>\n",
       "      <td>21.5</td>\n",
       "      <td>NaN</td>\n",
       "      <td>NaN</td>\n",
       "      <td>NaN</td>\n",
       "      <td>1.008333</td>\n",
       "      <td>NaN</td>\n",
       "      <td>NaN</td>\n",
       "      <td>NaN</td>\n",
       "      <td>0.5625</td>\n",
       "      <td>NaN</td>\n",
       "      <td>NaN</td>\n",
       "      <td>NaN</td>\n",
       "      <td>5.62999</td>\n",
       "      <td>4.064002</td>\n",
       "    </tr>\n",
       "    <tr>\n",
       "      <th>41</th>\n",
       "      <td>4</td>\n",
       "      <td>52</td>\n",
       "      <td>9</td>\n",
       "      <td>NaN</td>\n",
       "      <td>NaN</td>\n",
       "      <td>NaN</td>\n",
       "      <td>11</td>\n",
       "      <td>NaN</td>\n",
       "      <td>NaN</td>\n",
       "      <td>6.5</td>\n",
       "      <td>15.0</td>\n",
       "      <td>NaN</td>\n",
       "      <td>NaN</td>\n",
       "      <td>NaN</td>\n",
       "      <td>1.005000</td>\n",
       "      <td>NaN</td>\n",
       "      <td>NaN</td>\n",
       "      <td>NaN</td>\n",
       "      <td>0.5625</td>\n",
       "      <td>NaN</td>\n",
       "      <td>NaN</td>\n",
       "      <td>NaN</td>\n",
       "      <td>NaN</td>\n",
       "      <td>4.064002</td>\n",
       "    </tr>\n",
       "  </tbody>\n",
       "</table>\n",
       "</div>"
      ],
      "text/plain": [
       "    Id  minutes_past  radardist_km  Ref  Ref_5x5_10th  Ref_5x5_50th  \\\n",
       "35   4            23             9  NaN           NaN           NaN   \n",
       "40   4            47             9  NaN           NaN           NaN   \n",
       "41   4            52             9  NaN           NaN           NaN   \n",
       "\n",
       "    Ref_5x5_90th  RefComposite  RefComposite_5x5_10th  RefComposite_5x5_50th  \\\n",
       "35            26           7.5                     12                   18.5   \n",
       "40            20          11.0                    NaN                   12.5   \n",
       "41            11           NaN                    NaN                    6.5   \n",
       "\n",
       "    RefComposite_5x5_90th  RhoHV  RhoHV_5x5_10th  RhoHV_5x5_50th  \\\n",
       "35                   30.0    NaN             NaN             NaN   \n",
       "40                   21.5    NaN             NaN             NaN   \n",
       "41                   15.0    NaN             NaN             NaN   \n",
       "\n",
       "    RhoHV_5x5_90th  Zdr  Zdr_5x5_10th  Zdr_5x5_50th  Zdr_5x5_90th  Kdp  \\\n",
       "35             NaN  NaN           NaN           NaN           NaN  NaN   \n",
       "40        1.008333  NaN           NaN           NaN        0.5625  NaN   \n",
       "41        1.005000  NaN           NaN           NaN        0.5625  NaN   \n",
       "\n",
       "    Kdp_5x5_10th  Kdp_5x5_50th  Kdp_5x5_90th  Expected  \n",
       "35           NaN           NaN           NaN  4.064002  \n",
       "40           NaN           NaN       5.62999  4.064002  \n",
       "41           NaN           NaN           NaN  4.064002  "
      ]
     },
     "execution_count": 46,
     "metadata": {},
     "output_type": "execute_result"
    }
   ],
   "source": [
    "trn[trn['Ref'].isnull()&(trn['Id']==4)].head(20)"
   ]
  },
  {
   "cell_type": "code",
   "execution_count": 38,
   "metadata": {
    "collapsed": false
   },
   "outputs": [
    {
     "data": {
      "text/plain": [
       "<matplotlib.axes._subplots.AxesSubplot at 0x1eed2fd0>"
      ]
     },
     "execution_count": 38,
     "metadata": {},
     "output_type": "execute_result"
    },
    {
     "data": {
      "image/png": "[encoded data removed]",
      "text/plain": [
       "<matplotlib.figure.Figure at 0x1316e908>"
      ]
     },
     "metadata": {},
     "output_type": "display_data"
    }
   ],
   "source": [
    "np.log10(trn[trn['Ref'].isnull()]['Expected']).hist()\n",
    "# plt.show()"
   ]
  },
  {
   "cell_type": "code",
   "execution_count": 40,
   "metadata": {
    "collapsed": false
   },
   "outputs": [
    {
     "data": {
      "text/plain": [
       "<matplotlib.axes._subplots.AxesSubplot at 0x30e530f0>"
      ]
     },
     "execution_count": 40,
     "metadata": {},
     "output_type": "execute_result"
    },
    {
     "data": {
      "image/png": "[encoded data removed]",
      "text/plain": [
       "<matplotlib.figure.Figure at 0x30e53e10>"
      ]
     },
     "metadata": {},
     "output_type": "display_data"
    }
   ],
   "source": [
    "np.log10(trn['Expected']).hist()"
   ]
  },
  {
   "cell_type": "code",
   "execution_count": 39,
   "metadata": {
    "collapsed": false
   },
   "outputs": [
    {
     "data": {
      "text/plain": [
       "<matplotlib.axes._subplots.AxesSubplot at 0x26f68898>"
      ]
     },
     "execution_count": 39,
     "metadata": {},
     "output_type": "execute_result"
    },
    {
     "data": {
      "image/png": "[encoded data removed]",
      "text/plain": [
       "<matplotlib.figure.Figure at 0x1316ef28>"
      ]
     },
     "metadata": {},
     "output_type": "display_data"
    }
   ],
   "source": [
    "np.log10(trn[~trn['Ref'].isnull()]['Expected']).hist()"
   ]
  },
  {
   "cell_type": "code",
   "execution_count": 7,
   "metadata": {
    "collapsed": false
   },
   "outputs": [],
   "source": [
    "y_trn = y_trn.transpose()\n",
    "y_val = y_val.transpose()"
   ]
  },
  {
   "cell_type": "code",
   "execution_count": 8,
   "metadata": {
    "collapsed": false
   },
   "outputs": [
    {
     "name": "stdout",
     "output_type": "stream",
     "text": [
      "(9635640L, 1L)\n",
      "(4129561L, 1L)\n"
     ]
    }
   ],
   "source": [
    "print y_trn.shape\n",
    "print y_val.shape"
   ]
  }
 ],
 "metadata": {
  "kernelspec": {
   "display_name": "Python 2",
   "language": "python",
   "name": "python2"
  },
  "language_info": {
   "codemirror_mode": {
    "name": "ipython",
    "version": 2
   },
   "file_extension": ".py",
   "mimetype": "text/x-python",
   "name": "python",
   "nbconvert_exporter": "python",
   "pygments_lexer": "ipython2",
   "version": "2.7.9"
  }
 },
 "nbformat": 4,
 "nbformat_minor": 0
}
