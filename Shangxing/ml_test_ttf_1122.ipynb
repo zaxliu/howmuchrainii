{
 "cells": [
  {
   "cell_type": "code",
   "execution_count": 1,
   "metadata": {
    "collapsed": false
   },
   "outputs": [],
   "source": [
    "# Basics\n",
    "import sys\n",
    "import time\n",
    "import numpy as np\n",
    "import pandas as pd\n",
    "import matplotlib.pyplot as plt\n",
    "# Sklearn\n",
    "from sklearn.preprocessing import StandardScaler, Imputer \n",
    "from sklearn.linear_model import LinearRegression\n",
    "from sklearn.linear_model import Ridge\n",
    "from sklearn.tree import DecisionTreeRegressor\n",
    "from sklearn.ensemble import RandomForestRegressor\n",
    "from sklearn.cross_validation import cross_val_score, ShuffleSplit\n",
    "from sklearn.learning_curve import learning_curve, validation_curve\n",
    "from sklearn.metrics import make_scorer\n",
    "# xgboost\n",
    "import xgboost as xgb\n",
    "# Our custom modules\n",
    "sys.path.append('..')\n",
    "from anrg.pipeline import Pipeline # my customized Pipeline\n",
    "from anrg.blending import BlendedRegressor\n",
    "from anrg.cleaning import TargetThresholdFilter, LogPlusOne\n",
    "##### setting #######\n",
    "pd.set_option('display.max_columns', 500)  # force pandas to display all columns for better visual inspection\n",
    "%matplotlib inline"
   ]
  },
  {
   "cell_type": "code",
   "execution_count": 2,
   "metadata": {
    "collapsed": false
   },
   "outputs": [],
   "source": [
    "trn = pd.read_csv('../data/train.csv')\n",
    "# trn = pd.read_csv('../data/train_10.csv', index_col=0)  # column #0 in our file is DataFrame index\n",
    "# trn = pd.read_csv('../data/train_1.csv', index_col=0)"
   ]
  },
  {
   "cell_type": "code",
   "execution_count": 3,
   "metadata": {
    "collapsed": false
   },
   "outputs": [
    {
     "name": "stdout",
     "output_type": "stream",
     "text": [
      "Time elapsed: 0.3486 secs\n"
     ]
    }
   ],
   "source": [
    "t = time.time()\n",
    "trn_withRef = trn[trn['Ref'].notnull()]\n",
    "print 'Time elapsed: {:.4f} secs'.format(time.time()-t)  # toc"
   ]
  },
  {
   "cell_type": "code",
   "execution_count": 4,
   "metadata": {
    "collapsed": false
   },
   "outputs": [
    {
     "name": "stdout",
     "output_type": "stream",
     "text": [
      "Time elapsed: 6.9471 secs\n"
     ]
    }
   ],
   "source": [
    "# Combine observations by 'Id', aggregate features\n",
    "t = time.time()\n",
    "trn_withRef_comb = trn_withRef.groupby('Id').agg(['mean','std','median','count','min', 'max'])\n",
    "trn_withRef_comb.columns = ['_'.join(tup) for (i,tup) in enumerate(trn_withRef_comb.columns.values)]\n",
    "#trn_withRef_comb = trn_withRef_comb.drop(['Expected_count', 'Expected_median', 'Expected_std', 'Expected_min','Expected_max'], axis =1)\n",
    "print 'Time elapsed: {:.4f} secs'.format(time.time()-t)  # toc"
   ]
  },
  {
   "cell_type": "code",
   "execution_count": 5,
   "metadata": {
    "collapsed": false
   },
   "outputs": [
    {
     "name": "stdout",
     "output_type": "stream",
     "text": [
      "(731556, 132) (731556,)\n",
      "0.010000005 33017.73\n"
     ]
    }
   ],
   "source": [
    "X = trn_withRef_comb.loc[:, 'minutes_past_mean':'Kdp_5x5_90th_max']  # NOTE: used range slicing on column\n",
    "y = trn_withRef_comb['Expected_mean']\n",
    "print X.shape, y.shape\n",
    "print y.min(), y.max()"
   ]
  },
  {
   "cell_type": "code",
   "execution_count": 6,
   "metadata": {
    "collapsed": false
   },
   "outputs": [],
   "source": [
    "ttf = TargetThresholdFilter(threshold=40)\n",
    "lpo = LogPlusOne()\n",
    "imp = Imputer(strategy='median', copy=False)  # Get a imputor with column-mean filling config\n",
    "ss = StandardScaler(copy=False, with_mean=True, with_std=True)\n",
    "clf = xgb.sklearn.XGBRegressor(n_estimators=10, nthread=6)\n",
    "pip = Pipeline([('ttf',ttf), ('lpo',lpo),('imp',imp), ('ss',ss), ('clf',clf)])  # a Pipeline wrapper to chain'em up\n",
    "def LogPlusOne_score(ground_truth, predictions, lpo=lpo):\n",
    "    return np.float64(np.mean(np.abs(ground_truth - (np.power(10, predictions) - 1))))\n",
    "scorer = make_scorer(LogPlusOne_score, greater_is_better=True)  # define scoring metric"
   ]
  },
  {
   "cell_type": "markdown",
   "metadata": {},
   "source": [
    "# CV"
   ]
  },
  {
   "cell_type": "code",
   "execution_count": null,
   "metadata": {
    "collapsed": true
   },
   "outputs": [],
   "source": [
    "scores = cross_val_score(estimator=pip, X=X, y=y, scoring=scorer, cv=10, n_jobs=1, verbose=1)"
   ]
  },
  {
   "cell_type": "code",
   "execution_count": 11,
   "metadata": {
    "collapsed": true
   },
   "outputs": [
    {
     "name": "stdout",
     "output_type": "stream",
     "text": [
      "[CV] ttf__threshold=35 ...............................................\n",
      "[CV] ...................................... ttf__threshold=35 -  17.3s\n",
      "[CV] ttf__threshold=37 ...............................................\n",
      "[CV] ...................................... ttf__threshold=37 -  17.3s\n",
      "[CV] ttf__threshold=39 ...............................................\n",
      "[CV] ...................................... ttf__threshold=39 -  17.6s\n",
      "[CV] ttf__threshold=41 ...............................................\n",
      "[CV] ...................................... ttf__threshold=41 -  17.1s\n",
      "[CV] ttf__threshold=43 ...............................................\n",
      "[CV] ...................................... ttf__threshold=43 -  17.3s\n",
      "[CV] ttf__threshold=45 ...............................................\n",
      "[CV] ...................................... ttf__threshold=45 -  17.3s\n",
      "[CV] ttf__threshold=47 ...............................................\n",
      "[CV] ...................................... ttf__threshold=47 -  17.6s\n",
      "[CV] ttf__threshold=49 ...............................................\n",
      "[CV] ...................................... ttf__threshold=49 -  17.2s\n",
      "[CV] ttf__threshold=51 ...............................................\n",
      "[CV] ...................................... ttf__threshold=51 -  17.4s\n",
      "[CV] ttf__threshold=53 ...............................................\n",
      "[CV] ...................................... ttf__threshold=53 -  17.3s\n",
      "[CV] ttf__threshold=55 ...............................................\n",
      "[CV] ...................................... ttf__threshold=55 -  17.4s\n",
      "[CV] ttf__threshold=57 ...............................................\n",
      "[CV] ...................................... ttf__threshold=57 -  17.3s\n",
      "[CV] ttf__threshold=59 ...............................................\n",
      "[CV] ...................................... ttf__threshold=59 -  17.3s\n",
      "[CV] ttf__threshold=35 ...............................................\n",
      "[CV] ...................................... ttf__threshold=35 -  17.2s\n",
      "[CV] ttf__threshold=37 ...............................................\n",
      "[CV] ...................................... ttf__threshold=37 -  17.1s\n",
      "[CV] ttf__threshold=39 ...............................................\n",
      "[CV] ...................................... ttf__threshold=39 -  17.2s\n",
      "[CV] ttf__threshold=41 ...............................................\n",
      "[CV] ...................................... ttf__threshold=41 -  17.3s\n",
      "[CV] ttf__threshold=43 ...............................................\n",
      "[CV] ...................................... ttf__threshold=43 -  17.3s\n",
      "[CV] ttf__threshold=45 ...............................................\n",
      "[CV] ...................................... ttf__threshold=45 -  17.3s\n",
      "[CV] ttf__threshold=47 ...............................................\n",
      "[CV] ...................................... ttf__threshold=47 -  17.8s\n",
      "[CV] ttf__threshold=49 ...............................................\n",
      "[CV] ...................................... ttf__threshold=49 -  17.3s\n",
      "[CV] ttf__threshold=51 ...............................................\n",
      "[CV] ...................................... ttf__threshold=51 -  17.4s\n",
      "[CV] ttf__threshold=53 ...............................................\n",
      "[CV] ...................................... ttf__threshold=53 -  17.3s\n",
      "[CV] ttf__threshold=55 ...............................................\n",
      "[CV] ...................................... ttf__threshold=55 -  17.2s\n",
      "[CV] ttf__threshold=57 ...............................................\n",
      "[CV] ...................................... ttf__threshold=57 -  17.4s\n",
      "[CV] ttf__threshold=59 ...............................................\n",
      "[CV] ...................................... ttf__threshold=59 -  17.4s\n",
      "[CV] ttf__threshold=35 ...............................................\n",
      "[CV] ...................................... ttf__threshold=35 -  17.3s\n",
      "[CV] ttf__threshold=37 ...............................................\n",
      "[CV] ...................................... ttf__threshold=37 -  17.3s\n",
      "[CV] ttf__threshold=39 ...............................................\n",
      "[CV] ...................................... ttf__threshold=39 -  17.2s\n",
      "[CV] ttf__threshold=41 ...............................................\n",
      "[CV] ...................................... ttf__threshold=41 -  17.3s\n",
      "[CV] ttf__threshold=43 ...............................................\n",
      "[CV] ...................................... ttf__threshold=43 -  17.3s\n",
      "[CV] ttf__threshold=45 ...............................................\n",
      "[CV] ...................................... ttf__threshold=45 -  17.7s\n",
      "[CV] ttf__threshold=47 ...............................................\n",
      "[CV] ...................................... ttf__threshold=47 -  17.3s\n",
      "[CV] ttf__threshold=49 ...............................................\n",
      "[CV] ...................................... ttf__threshold=49 -  17.1s\n",
      "[CV] ttf__threshold=51 ...............................................\n",
      "[CV] ...................................... ttf__threshold=51 -  17.2s\n",
      "[CV] ttf__threshold=53 ...............................................\n",
      "[CV] ...................................... ttf__threshold=53 -  17.3s\n",
      "[CV] ttf__threshold=55 ...............................................\n",
      "[CV] ...................................... ttf__threshold=55 -  17.2s\n",
      "[CV] ttf__threshold=57 ...............................................\n",
      "[CV] ...................................... ttf__threshold=57 -  17.4s\n",
      "[CV] ttf__threshold=59 ...............................................\n",
      "[CV] ...................................... ttf__threshold=59 -  17.3s\n",
      "[CV] ttf__threshold=35 ...............................................\n",
      "[CV] ...................................... ttf__threshold=35 -  17.3s\n",
      "[CV] ttf__threshold=37 ...............................................\n",
      "[CV] ...................................... ttf__threshold=37 -  17.3s\n",
      "[CV] ttf__threshold=39 ...............................................\n",
      "[CV] ...................................... ttf__threshold=39 -  17.4s\n",
      "[CV] ttf__threshold=41 ...............................................\n",
      "[CV] ...................................... ttf__threshold=41 -  17.6s\n",
      "[CV] ttf__threshold=43 ...............................................\n",
      "[CV] ...................................... ttf__threshold=43 -  17.7s\n",
      "[CV] ttf__threshold=45 ...............................................\n",
      "[CV] ...................................... ttf__threshold=45 -  17.4s\n",
      "[CV] ttf__threshold=47 ...............................................\n",
      "[CV] ...................................... ttf__threshold=47 -  17.6s\n",
      "[CV] ttf__threshold=49 ...............................................\n",
      "[CV] ...................................... ttf__threshold=49 -  17.4s\n",
      "[CV] ttf__threshold=51 ...............................................\n",
      "[CV] ...................................... ttf__threshold=51 -  17.5s\n",
      "[CV] ttf__threshold=53 ...............................................\n",
      "[CV] ...................................... ttf__threshold=53 -  17.4s\n",
      "[CV] ttf__threshold=55 ...............................................\n",
      "[CV] ...................................... ttf__threshold=55 -  17.5s\n",
      "[CV] ttf__threshold=57 ...............................................\n",
      "[CV] ...................................... ttf__threshold=57 -  17.4s\n",
      "[CV] ttf__threshold=59 ...............................................\n",
      "[CV] ...................................... ttf__threshold=59 -  17.4s\n",
      "[CV] ttf__threshold=35 ...............................................\n",
      "[CV] ...................................... ttf__threshold=35 -  17.1s\n",
      "[CV] ttf__threshold=37 ...............................................\n",
      "[CV] ...................................... ttf__threshold=37 -  17.1s\n",
      "[CV] ttf__threshold=39 ...............................................\n",
      "[CV] ...................................... ttf__threshold=39 -  17.4s\n",
      "[CV] ttf__threshold=41 ...............................................\n",
      "[CV] ...................................... ttf__threshold=41 -  17.5s\n",
      "[CV] ttf__threshold=43 ...............................................\n",
      "[CV] ...................................... ttf__threshold=43 -  17.2s\n",
      "[CV] ttf__threshold=45 ...............................................\n",
      "[CV] ...................................... ttf__threshold=45 -  17.3s\n",
      "[CV] ttf__threshold=47 ...............................................\n",
      "[CV] ...................................... ttf__threshold=47 -  17.4s\n",
      "[CV] ttf__threshold=49 ...............................................\n",
      "[CV] ...................................... ttf__threshold=49 -  17.5s\n",
      "[CV] ttf__threshold=51 ...............................................\n",
      "[CV] ...................................... ttf__threshold=51 -  17.3s\n",
      "[CV] ttf__threshold=53 ...............................................\n",
      "[CV] ...................................... ttf__threshold=53 -  17.3s\n",
      "[CV] ttf__threshold=55 ...............................................\n",
      "[CV] ...................................... ttf__threshold=55 -  17.3s\n",
      "[CV] ttf__threshold=57 ...............................................\n",
      "[CV] ...................................... ttf__threshold=57 -  17.4s\n",
      "[CV] ttf__threshold=59 ...............................................\n",
      "[CV] ...................................... ttf__threshold=59 -  17.5s\n",
      "[CV] ttf__threshold=35 ...............................................\n",
      "[CV] ...................................... ttf__threshold=35 -  17.4s\n",
      "[CV] ttf__threshold=37 ...............................................\n",
      "[CV] ...................................... ttf__threshold=37 -  17.4s\n",
      "[CV] ttf__threshold=39 ...............................................\n",
      "[CV] ...................................... ttf__threshold=39 -  17.3s\n",
      "[CV] ttf__threshold=41 ...............................................\n",
      "[CV] ...................................... ttf__threshold=41 -  17.2s\n",
      "[CV] ttf__threshold=43 ...............................................\n",
      "[CV] ...................................... ttf__threshold=43 -  17.6s\n",
      "[CV] ttf__threshold=45 ...............................................\n",
      "[CV] ...................................... ttf__threshold=45 -  17.4s\n",
      "[CV] ttf__threshold=47 ...............................................\n",
      "[CV] ...................................... ttf__threshold=47 -  17.2s\n",
      "[CV] ttf__threshold=49 ...............................................\n",
      "[CV] ...................................... ttf__threshold=49 -  17.5s\n",
      "[CV] ttf__threshold=51 ...............................................\n",
      "[CV] ...................................... ttf__threshold=51 -  17.4s\n",
      "[CV] ttf__threshold=53 ...............................................\n",
      "[CV] ...................................... ttf__threshold=53 -  17.8s\n",
      "[CV] ttf__threshold=55 ...............................................\n",
      "[CV] ...................................... ttf__threshold=55 -  17.4s\n",
      "[CV] ttf__threshold=57 ...............................................\n",
      "[CV] ...................................... ttf__threshold=57 -  17.4s\n",
      "[CV] ttf__threshold=59 ...............................................\n",
      "[CV] ...................................... ttf__threshold=59 -  17.4s\n",
      "[CV] ttf__threshold=35 ...............................................\n",
      "[CV] ...................................... ttf__threshold=35 -  17.7s\n",
      "[CV] ttf__threshold=37 ...............................................\n",
      "[CV] ...................................... ttf__threshold=37 -  17.7s\n",
      "[CV] ttf__threshold=39 ...............................................\n",
      "[CV] ...................................... ttf__threshold=39 -  17.3s\n",
      "[CV] ttf__threshold=41 ...............................................\n",
      "[CV] ...................................... ttf__threshold=41 -  17.6s\n",
      "[CV] ttf__threshold=43 ...............................................\n",
      "[CV] ...................................... ttf__threshold=43 -  17.4s\n",
      "[CV] ttf__threshold=45 ...............................................\n",
      "[CV] ...................................... ttf__threshold=45 -  17.5s\n",
      "[CV] ttf__threshold=47 ...............................................\n",
      "[CV] ...................................... ttf__threshold=47 -  17.5s\n",
      "[CV] ttf__threshold=49 ...............................................\n",
      "[CV] ...................................... ttf__threshold=49 -  17.5s\n",
      "[CV] ttf__threshold=51 ...............................................\n",
      "[CV] ...................................... ttf__threshold=51 -  17.5s\n",
      "[CV] ttf__threshold=53 ...............................................\n",
      "[CV] ...................................... ttf__threshold=53 -  17.5s\n",
      "[CV] ttf__threshold=55 ...............................................\n",
      "[CV] ...................................... ttf__threshold=55 -  17.4s\n",
      "[CV] ttf__threshold=57 ...............................................\n",
      "[CV] ...................................... ttf__threshold=57 -  17.4s\n",
      "[CV] ttf__threshold=59 ...............................................\n",
      "[CV] ...................................... ttf__threshold=59 -  17.5s\n",
      "[CV] ttf__threshold=35 ...............................................\n",
      "[CV] ...................................... ttf__threshold=35 -  17.5s\n",
      "[CV] ttf__threshold=37 ...............................................\n",
      "[CV] ...................................... ttf__threshold=37 -  17.4s\n",
      "[CV] ttf__threshold=39 ...............................................\n",
      "[CV] ...................................... ttf__threshold=39 -  17.3s\n",
      "[CV] ttf__threshold=41 ...............................................\n",
      "[CV] ...................................... ttf__threshold=41 -  17.1s\n",
      "[CV] ttf__threshold=43 ...............................................\n",
      "[CV] ...................................... ttf__threshold=43 -  17.3s\n",
      "[CV] ttf__threshold=45 ...............................................\n",
      "[CV] ...................................... ttf__threshold=45 -  17.2s\n",
      "[CV] ttf__threshold=47 ...............................................\n",
      "[CV] ...................................... ttf__threshold=47 -  17.3s\n",
      "[CV] ttf__threshold=49 ...............................................\n",
      "[CV] ...................................... ttf__threshold=49 -  17.7s\n",
      "[CV] ttf__threshold=51 ...............................................\n",
      "[CV] ...................................... ttf__threshold=51 -  17.5s\n",
      "[CV] ttf__threshold=53 ...............................................\n",
      "[CV] ...................................... ttf__threshold=53 -  17.4s\n",
      "[CV] ttf__threshold=55 ...............................................\n",
      "[CV] ...................................... ttf__threshold=55 -  17.8s\n",
      "[CV] ttf__threshold=57 ...............................................\n",
      "[CV] ...................................... ttf__threshold=57 -  17.6s\n",
      "[CV] ttf__threshold=59 ...............................................\n",
      "[CV] ...................................... ttf__threshold=59 -  17.4s\n",
      "[CV] ttf__threshold=35 ...............................................\n",
      "[CV] ...................................... ttf__threshold=35 -  17.3s\n",
      "[CV] ttf__threshold=37 ...............................................\n",
      "[CV] ...................................... ttf__threshold=37 -  17.4s\n",
      "[CV] ttf__threshold=39 ...............................................\n",
      "[CV] ...................................... ttf__threshold=39 -  17.4s\n",
      "[CV] ttf__threshold=41 ...............................................\n",
      "[CV] ...................................... ttf__threshold=41 -  17.3s\n",
      "[CV] ttf__threshold=43 ...............................................\n",
      "[CV] ...................................... ttf__threshold=43 -  17.3s\n",
      "[CV] ttf__threshold=45 ...............................................\n",
      "[CV] ...................................... ttf__threshold=45 -  17.6s\n",
      "[CV] ttf__threshold=47 ...............................................\n",
      "[CV] ...................................... ttf__threshold=47 -  17.4s\n",
      "[CV] ttf__threshold=49 ...............................................\n",
      "[CV] ...................................... ttf__threshold=49 -  17.4s\n",
      "[CV] ttf__threshold=51 ...............................................\n",
      "[CV] ...................................... ttf__threshold=51 -  17.3s\n",
      "[CV] ttf__threshold=53 ...............................................\n",
      "[CV] ...................................... ttf__threshold=53 -  17.5s\n",
      "[CV] ttf__threshold=55 ...............................................\n",
      "[CV] ...................................... ttf__threshold=55 -  17.3s\n",
      "[CV] ttf__threshold=57 ...............................................\n",
      "[CV] ...................................... ttf__threshold=57 -  17.4s\n",
      "[CV] ttf__threshold=59 ...............................................\n",
      "[CV] ...................................... ttf__threshold=59 -  17.5s\n",
      "[CV] ttf__threshold=35 ...............................................\n",
      "[CV] ...................................... ttf__threshold=35 -  17.7s\n",
      "[CV] ttf__threshold=37 ...............................................\n",
      "[CV] ...................................... ttf__threshold=37 -  17.4s\n",
      "[CV] ttf__threshold=39 ...............................................\n",
      "[CV] ...................................... ttf__threshold=39 -  17.5s\n",
      "[CV] ttf__threshold=41 ...............................................\n",
      "[CV] ...................................... ttf__threshold=41 -  17.6s\n",
      "[CV] ttf__threshold=43 ...............................................\n",
      "[CV] ...................................... ttf__threshold=43 -  17.7s\n",
      "[CV] ttf__threshold=45 ...............................................\n",
      "[CV] ...................................... ttf__threshold=45 -  17.6s\n",
      "[CV] ttf__threshold=47 ...............................................\n",
      "[CV] ...................................... ttf__threshold=47 -  17.4s\n",
      "[CV] ttf__threshold=49 ...............................................\n",
      "[CV] ...................................... ttf__threshold=49 -  17.5s\n",
      "[CV] ttf__threshold=51 ...............................................\n",
      "[CV] ...................................... ttf__threshold=51 -  17.4s\n",
      "[CV] ttf__threshold=53 ...............................................\n",
      "[CV] ...................................... ttf__threshold=53 -  17.4s\n",
      "[CV] ttf__threshold=55 ...............................................\n",
      "[CV] ...................................... ttf__threshold=55 -  17.5s\n",
      "[CV] ttf__threshold=57 ...............................................\n",
      "[CV] ...................................... ttf__threshold=57 -  17.8s\n",
      "[CV] ttf__threshold=59 ...............................................\n",
      "[CV] ...................................... ttf__threshold=59 -  17.6s"
     ]
    },
    {
     "name": "stderr",
     "output_type": "stream",
     "text": [
      "[Parallel(n_jobs=1)]: Done  40 tasks       | elapsed: 11.5min\n",
      "[Parallel(n_jobs=1)]: Done 130 out of 130 | elapsed: 37.7min finished\n"
     ]
    },
    {
     "name": "stdout",
     "output_type": "stream",
     "text": [
      "\n"
     ]
    }
   ],
   "source": [
    "## Sweep parameter\n",
    "param_name, param_range='ttf__threshold', np.arange(35,60,2)\n",
    "train_scores, test_scores= validation_curve(estimator=pip, X=X, y=y, scoring=scorer, cv=10, n_jobs=1, \n",
    "                          param_name=param_name, param_range=param_range, verbose=2)\n",
    "train_scores_mean = np.mean(train_scores, axis=1)\n",
    "train_scores_std = np.std(train_scores, axis=1)\n",
    "test_scores_mean = np.mean(test_scores, axis=1)\n",
    "test_scores_std = np.std(test_scores, axis=1)"
   ]
  },
  {
   "cell_type": "code",
   "execution_count": 8,
   "metadata": {
    "collapsed": true
   },
   "outputs": [
    {
     "name": "stdout",
     "output_type": "stream",
     "text": [
      "[('ttf', TargetThresholdFilter(threshold=55)), ('lpo', LogPlusOne()), ('imp', Imputer(axis=0, copy=False, missing_values='NaN', strategy='median',\n",
      "    verbose=0)), ('ss', StandardScaler(copy=False, with_mean=True, with_std=True)), ('clf', XGBRegressor(base_score=0.5, colsample_bylevel=1, colsample_bytree=1, gamma=0,\n",
      "       learning_rate=0.1, max_delta_step=0, max_depth=3,\n",
      "       min_child_weight=1, missing=None, n_estimators=10, nthread=6,\n",
      "       objective='reg:linear', reg_alpha=0, reg_lambda=1,\n",
      "       scale_pos_weight=1, seed=0, silent=True, subsample=1))]\n",
      "[ 23.34054385  23.33167927  23.33051903  23.32734111  23.32517229\n",
      "  23.3257775   23.3252702   23.32519141]\n",
      "[ 23.34135214  23.33271174  23.33139094  23.32837003  23.32618436\n",
      "  23.32694778  23.32634706  23.32643975]\n"
     ]
    },
    {
     "data": {
      "image/png": "[encoded data removed]",
      "text/plain": [
       "<matplotlib.figure.Figure at 0x7f49b0363310>"
      ]
     },
     "metadata": {},
     "output_type": "display_data"
    }
   ],
   "source": [
    "print pip.get_params()['steps']\n",
    "print train_scores_mean\n",
    "print test_scores_mean\n",
    "# Plotting the validation curver, i.e. trn/val error versus parameter value\n",
    "plt.title(\"Validation Curve\")\n",
    "plt.xlabel(param_name)\n",
    "plt.ylabel(\"Score\")\n",
    "plt.plot(param_range, train_scores_mean, label=\"Training score\", color=\"r\")\n",
    "# plt.fill_between(param_range, train_scores_mean - train_scores_std, train_scores_mean + train_scores_std, alpha=0.2, color=\"r\")\n",
    "plt.plot(param_range, test_scores_mean, label=\"Cross-validation score\", color=\"g\")\n",
    "# plt.fill_between(param_range, test_scores_mean - test_scores_std, test_scores_mean + test_scores_std, alpha=0.2, color=\"g\")\n",
    "plt.legend(loc=\"best\")\n",
    "plt.show()"
   ]
  },
  {
   "cell_type": "code",
   "execution_count": 10,
   "metadata": {
    "collapsed": true
   },
   "outputs": [
    {
     "name": "stdout",
     "output_type": "stream",
     "text": [
      "[('ttf', TargetThresholdFilter(threshold=95)), ('lpo', LogPlusOne()), ('imp', Imputer(axis=0, copy=False, missing_values='NaN', strategy='median',\n",
      "    verbose=0)), ('ss', StandardScaler(copy=False, with_mean=True, with_std=True)), ('clf', XGBRegressor(base_score=0.5, colsample_bylevel=1, colsample_bytree=1, gamma=0,\n",
      "       learning_rate=0.1, max_delta_step=0, max_depth=3,\n",
      "       min_child_weight=1, missing=None, n_estimators=10, nthread=6,\n",
      "       objective='reg:linear', reg_alpha=0, reg_lambda=1,\n",
      "       scale_pos_weight=1, seed=0, silent=True, subsample=1))]\n",
      "[ 23.32734111  23.32517229  23.3257775   23.3252702   23.32519141\n",
      "  23.3265972   23.32697535  23.32722887  23.32856829  23.329611\n",
      "  23.33023189  23.33142561  23.33186614]\n",
      "[ 23.32837003  23.32618436  23.32694778  23.32634706  23.32643975\n",
      "  23.32782747  23.32799833  23.32834664  23.3297957   23.33087059\n",
      "  23.33146931  23.3325642   23.33304502]\n"
     ]
    },
    {
     "data": {
      "image/png": "[encoded data removed]",
      "text/plain": [
       "<matplotlib.figure.Figure at 0x7f48f3daa610>"
      ]
     },
     "metadata": {},
     "output_type": "display_data"
    }
   ],
   "source": [
    "print pip.get_params()['steps']\n",
    "print train_scores_mean\n",
    "print test_scores_mean\n",
    "# Plotting the validation curver, i.e. trn/val error versus parameter value\n",
    "plt.title(\"Validation Curve\")\n",
    "plt.xlabel(param_name)\n",
    "plt.ylabel(\"Score\")\n",
    "plt.plot(param_range, train_scores_mean, label=\"Training score\", color=\"r\")\n",
    "# plt.fill_between(param_range, train_scores_mean - train_scores_std, train_scores_mean + train_scores_std, alpha=0.2, color=\"r\")\n",
    "plt.plot(param_range, test_scores_mean, label=\"Cross-validation score\", color=\"g\")\n",
    "# plt.fill_between(param_range, test_scores_mean - test_scores_std, test_scores_mean + test_scores_std, alpha=0.2, color=\"g\")\n",
    "plt.legend(loc=\"best\")\n",
    "plt.show()"
   ]
  },
  {
   "cell_type": "code",
   "execution_count": 18,
   "metadata": {
    "collapsed": true
   },
   "outputs": [
    {
     "name": "stdout",
     "output_type": "stream",
     "text": [
      "[('ttf', TargetThresholdFilter(threshold=59)), ('lpo', LogPlusOne()), ('imp', Imputer(axis=0, copy=False, missing_values='NaN', strategy='median',\n",
      "    verbose=0)), ('ss', StandardScaler(copy=False, with_mean=True, with_std=True)), ('clf', XGBRegressor(base_score=0.5, colsample_bylevel=1, colsample_bytree=1, gamma=0,\n",
      "       learning_rate=0.1, max_delta_step=0, max_depth=3,\n",
      "       min_child_weight=1, missing=None, n_estimators=10, nthread=6,\n",
      "       objective='reg:linear', reg_alpha=0, reg_lambda=1,\n",
      "       scale_pos_weight=1, seed=0, silent=True, subsample=1))]\n",
      "[35 37 39 41 43 45 47 49 51 53 55 57 59]\n",
      "[ 23.32734111  23.32648336  23.32563079  23.32481212  23.32435456\n",
      "  23.3257775   23.32576055  23.32539407  23.32558056  23.32546596\n",
      "  23.32519141  23.32509582  23.3264783 ]\n",
      "[ 23.32837003  23.32755282  23.32663944  23.32584383  23.32530818\n",
      "  23.32694778  23.32683543  23.32658774  23.32676298  23.32670598\n",
      "  23.32643975  23.32635231  23.32775549]\n"
     ]
    },
    {
     "data": {
      "image/png": "[encoded data removed]",
      "text/plain": [
       "<matplotlib.figure.Figure at 0x7f48f3dc0a90>"
      ]
     },
     "metadata": {},
     "output_type": "display_data"
    }
   ],
   "source": [
    "print pip.get_params()['steps']\n",
    "print param_range\n",
    "print train_scores_mean\n",
    "print test_scores_mean\n",
    "# Plotting the validation curver, i.e. trn/val error versus parameter value\n",
    "plt.title(\"Validation Curve\")\n",
    "plt.xlabel(param_name)\n",
    "plt.ylabel(\"Score\")\n",
    "plt.plot(param_range, train_scores_mean, label=\"Training score\", color=\"r\")\n",
    "# plt.fill_between(param_range, train_scores_mean - train_scores_std, train_scores_mean + train_scores_std, alpha=0.2, color=\"r\")\n",
    "plt.plot(param_range, test_scores_mean, label=\"Cross-validation score\", color=\"g\")\n",
    "# plt.fill_between(param_range, test_scores_mean - test_scores_std, test_scores_mean + test_scores_std, alpha=0.2, color=\"g\")\n",
    "plt.legend(loc=\"best\")\n",
    "plt.show()"
   ]
  },
  {
   "cell_type": "markdown",
   "metadata": {},
   "source": [
    "# Generate submission"
   ]
  },
  {
   "cell_type": "code",
   "execution_count": 9,
   "metadata": {
    "collapsed": false
   },
   "outputs": [
    {
     "data": {
      "text/plain": [
       "Pipeline(steps=[('ttf', <cleaning.TargetThresholdFilter object at 0x7f846dca14d0>), ('lpo', <cleaning.LogPlusOne object at 0x7f846dca18d0>), ('imp', Imputer(axis=0, copy=False, missing_values='NaN', strategy='median',\n",
       "    verbose=0)), ('ss', StandardScaler(copy=False, with_mean=True, with_std=True)), ('clf',...egression(copy_X=True, fit_intercept=True, n_jobs=1, normalize=False),\n",
       "         blending_split=10))])"
      ]
     },
     "execution_count": 9,
     "metadata": {},
     "output_type": "execute_result"
    }
   ],
   "source": [
    "pip.fit(X, y)"
   ]
  },
  {
   "cell_type": "code",
   "execution_count": 10,
   "metadata": {
    "collapsed": true
   },
   "outputs": [],
   "source": [
    "test = pd.read_csv('../data/test.csv')\n",
    "test_withRef = test[test['Ref'].notnull()]\n",
    "test_withRef_comb = test_withRef.groupby('Id').agg(['mean','std','median','count','min', 'max'])\n",
    "test_withRef_comb.columns = ['_'.join(tup) for (i,tup) in enumerate(test_withRef_comb.columns.values)]\n",
    "test_X = test_withRef_comb.loc[:, 'minutes_past_mean':'Kdp_5x5_90th_max']  # NOTE: used range slicing on column\n",
    "test_y_predict = 10**pip.predict(X=test_X)-1"
   ]
  },
  {
   "cell_type": "code",
   "execution_count": 11,
   "metadata": {
    "collapsed": false
   },
   "outputs": [
    {
     "name": "stdout",
     "output_type": "stream",
     "text": [
      "../data/result_20151122_015933.csv\n"
     ]
    }
   ],
   "source": [
    "# Ref-samples\n",
    "test_result_withRef = pd.DataFrame()\n",
    "test_result_withRef['Id'] = test_withRef_comb.index\n",
    "test_result_withRef['Expected'] = test_y_predict\n",
    "# All-samples\n",
    "test_result = pd.DataFrame()\n",
    "test_result['Id'] = test['Id'].unique()\n",
    "# Merge and set Non-Ref samples to -1\n",
    "test_result = pd.merge(test_result, test_result_withRef, how='left', on=['Id'], sort=True)\n",
    "test_result.loc[test_result['Expected'].isnull(), 'Expected'] = -1\n",
    "# Write file\n",
    "datetime_str = time.strftime('%Y%m%d_%H%M%S')\n",
    "test_result.to_csv('../data/result_'+datetime_str+'.csv', index=False)\n",
    "print '../data/result_'+datetime_str+'.csv'"
   ]
  }
 ],
 "metadata": {
  "kernelspec": {
   "display_name": "Python 2",
   "language": "python",
   "name": "python2"
  },
  "language_info": {
   "codemirror_mode": {
    "name": "ipython",
    "version": 2
   },
   "file_extension": ".py",
   "mimetype": "text/x-python",
   "name": "python",
   "nbconvert_exporter": "python",
   "pygments_lexer": "ipython2",
   "version": "2.7.6"
  }
 },
 "nbformat": 4,
 "nbformat_minor": 0
}
