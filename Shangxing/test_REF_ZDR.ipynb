{
 "cells": [
  {
   "cell_type": "code",
   "execution_count": 1,
   "metadata": {
    "collapsed": true
   },
   "outputs": [],
   "source": [
    "import numpy as np\n",
    "import pandas as pd\n",
    "\n",
    "from sklearn.pipeline import Pipeline\n",
    "\n",
    "from sklearn.preprocessing import Imputer\n",
    "\n",
    "from sklearn.utils.estimator_checks import check_estimator\n",
    "\n",
    "from sklearn.cross_validation import cross_val_score"
   ]
  },
  {
   "cell_type": "code",
   "execution_count": 2,
   "metadata": {
    "collapsed": true
   },
   "outputs": [],
   "source": [
    "trn_all = pd.read_csv('../data/train.csv')  # column #0 in our file is index\n",
    "\n",
    "#selected features and Cut off outliers of Expected >= 69\n",
    "#trn_new = trn_all[trn_all['Expected']<69]\n",
    "trn_new = trn_all\n",
    "\n",
    "#combine observations with same ID by using mean\n",
    "#replace Nan by overall mean\n",
    "trn_mean = trn_new.groupby(trn_new.Id).agg(['mean', 'median', 'std', 'count', 'min', 'max'])\n",
    "trn_mean.columns = ['_'.join(col).strip() for col in trn_mean.columns.values]\n",
    "trn_mean = trn_mean.drop(['Expected_count', 'Expected_median', 'Expected_std', 'Expected_min', 'Expected_max'], axis =1)\n",
    "\n",
    "del trn_all\n",
    "del trn_new"
   ]
  },
  {
   "cell_type": "code",
   "execution_count": 3,
   "metadata": {
    "collapsed": true
   },
   "outputs": [],
   "source": [
    "# ignore id's where all Ref vales are NaN\n",
    "trn_mean = trn_mean[pd.notnull(trn_mean.Ref_mean)]\n",
    "\n",
    "# Imputing\n",
    "index2 = list(trn_mean)\n",
    "imp = Imputer(missing_values='NaN', strategy='mean', axis=0)\n",
    "\n",
    "trn_mean= pd.DataFrame(imp.fit_transform(trn_mean),index = trn_mean.index, columns=index2)"
   ]
  },
  {
   "cell_type": "code",
   "execution_count": 4,
   "metadata": {
    "collapsed": false
   },
   "outputs": [],
   "source": [
    "# data preparation\n",
    "X = trn_mean.loc[:,'minutes_past_mean':'Kdp_5x5_90th_max']\n",
    "y = trn_mean.loc[:,'Expected_mean']\n",
    "\n",
    "del trn_mean"
   ]
  },
  {
   "cell_type": "code",
   "execution_count": 5,
   "metadata": {
    "collapsed": false
   },
   "outputs": [],
   "source": [
    "#X.loc[:,['Ref_mean','Zdr_mean']"
   ]
  },
  {
   "cell_type": "code",
   "execution_count": 6,
   "metadata": {
    "collapsed": false
   },
   "outputs": [],
   "source": [
    "#X.loc[:,'Kdp_mean']"
   ]
  },
  {
   "cell_type": "code",
   "execution_count": 31,
   "metadata": {
    "collapsed": false
   },
   "outputs": [],
   "source": [
    "from REF_ZDR import REFZDRRegressor\n",
    "import matplotlib.pyplot as plt\n",
    "# plot plots inline\n",
    "%matplotlib inline  \n",
    "\n",
    "scale = np.arange(0.1,1.5,0.1)\n",
    "indexes = range(0,len(scale))\n",
    "#print indexes\n",
    "#print scale"
   ]
  },
  {
   "cell_type": "code",
   "execution_count": 37,
   "metadata": {
    "collapsed": false
   },
   "outputs": [
    {
     "data": {
      "text/plain": [
       "0.10000000000000001"
      ]
     },
     "execution_count": 37,
     "metadata": {},
     "output_type": "execute_result"
    }
   ],
   "source": [
    "MAE = []\n",
    "for idx in indexes: \n",
    "    estimator=REFZDRRegressor(refzdr_aa_scaling=0.0017,refzdr_bb_scaling=0.9,refzdr_cc_scaling=0.8) \n",
    "    estimator.fit(X = X, y =y)\n",
    "    y_est = estimator.predict(X = X)\n",
    "    MAE.append(sum(abs(y- y_est))/ len(y))\n",
    "    #print scaling, MAE\n",
    "\n",
    "opt = MAE.index(min(MAE))\n",
    "scale[opt] #best parameter: 0.003,1,1"
   ]
  },
  {
   "cell_type": "code",
   "execution_count": 38,
   "metadata": {
    "collapsed": false
   },
   "outputs": [
    {
     "data": {
      "text/plain": [
       "Id\n",
       "2          0.000184\n",
       "4          0.013038\n",
       "7          0.000093\n",
       "8          0.000100\n",
       "10         0.006626\n",
       "11         0.000264\n",
       "12         0.001326\n",
       "14         0.000278\n",
       "15         0.000140\n",
       "17         0.001060\n",
       "18         0.000279\n",
       "19         0.000245\n",
       "24         0.003347\n",
       "27         0.005027\n",
       "28         0.000178\n",
       "29         0.000069\n",
       "32         0.000801\n",
       "33         0.003692\n",
       "34         0.002231\n",
       "35         0.000422\n",
       "36         0.003011\n",
       "37         0.000010\n",
       "38         0.002261\n",
       "39         0.000019\n",
       "40         0.000154\n",
       "41         0.000804\n",
       "42         0.001258\n",
       "45         0.000329\n",
       "51         0.001651\n",
       "55         0.000260\n",
       "             ...   \n",
       "1180897    0.000875\n",
       "1180898    0.001580\n",
       "1180899    0.003169\n",
       "1180901    0.000421\n",
       "1180904    0.001731\n",
       "1180909    0.007363\n",
       "1180910    0.000730\n",
       "1180911    0.004851\n",
       "1180912    0.000580\n",
       "1180913    0.002019\n",
       "1180915    0.001156\n",
       "1180918    0.000325\n",
       "1180919    0.000025\n",
       "1180920    0.000073\n",
       "1180921    0.000045\n",
       "1180922    0.000004\n",
       "1180923    0.003559\n",
       "1180924    0.000020\n",
       "1180925    0.001242\n",
       "1180926    0.000073\n",
       "1180927    0.002765\n",
       "1180928    0.000291\n",
       "1180929    0.000569\n",
       "1180933    0.000103\n",
       "1180934    0.000959\n",
       "1180935    0.000817\n",
       "1180938    0.000214\n",
       "1180942    0.000111\n",
       "1180944    0.000959\n",
       "1180945    0.000823\n",
       "dtype: float64"
      ]
     },
     "execution_count": 38,
     "metadata": {},
     "output_type": "execute_result"
    }
   ],
   "source": [
    "y_est"
   ]
  },
  {
   "cell_type": "code",
   "execution_count": 39,
   "metadata": {
    "collapsed": false
   },
   "outputs": [
    {
     "name": "stdout",
     "output_type": "stream",
     "text": [
      "0.1\n",
      "[23.992172881656899, 23.992326574970587, 23.992457938541914, 23.992567881111743, 23.992654054038525, 23.992715741939083, 23.992776764671898, 23.992918522503086, 23.993312646823924, 23.99422714465959, 23.996442301956364, 24.001793994237861, 24.014439687083819, 24.044254812494529]\n",
      "\n",
      "\n",
      "23.9921728817\n"
     ]
    }
   ],
   "source": [
    "print(scale[opt])\n",
    "print(MAE)\n",
    "print('\\n')\n",
    "print(min(MAE))"
   ]
  },
  {
   "cell_type": "code",
   "execution_count": 40,
   "metadata": {
    "collapsed": false
   },
   "outputs": [
    {
     "data": {
      "text/plain": [
       "<matplotlib.text.Text at 0x7eff137ba4d0>"
      ]
     },
     "execution_count": 40,
     "metadata": {},
     "output_type": "execute_result"
    },
    {
     "data": {
      "image/png": "[encoded data removed]",
      "text/plain": [
       "<matplotlib.figure.Figure at 0x7eff3c2618d0>"
      ]
     },
     "metadata": {},
     "output_type": "display_data"
    }
   ],
   "source": [
    "plt.plot(scale, MAE)\n",
    "plt.xlabel(\"Power Scaling Parameter\")\n",
    "plt.ylabel(\"MAE\")"
   ]
  },
  {
   "cell_type": "code",
   "execution_count": 42,
   "metadata": {
    "collapsed": false
   },
   "outputs": [
    {
     "data": {
      "text/plain": [
       "[23.992918522503086]"
      ]
     },
     "execution_count": 42,
     "metadata": {},
     "output_type": "execute_result"
    }
   ],
   "source": [
    "MAE=[]\n",
    "estimator=REFZDRRegressor(refzdr_aa_scaling=0.0017,refzdr_bb_scaling=0.9,refzdr_cc_scaling=0.8) \n",
    "estimator.fit(X = X, y =y)\n",
    "y_est = estimator.predict(X = X)\n",
    "MAE.append(sum(abs(y- y_est))/ len(y))\n",
    "    #print scaling, MAE\n",
    "\n",
    "MAE"
   ]
  },
  {
   "cell_type": "code",
   "execution_count": 41,
   "metadata": {
    "collapsed": true
   },
   "outputs": [],
   "source": [
    "#trn_withRef_comb['KDP'] = pow(pow(10, trn_withRef_comb['Ref_mean']/10)/200, 0.625 * 0.82)\n",
    "\n",
    "#KDP\n",
    "#kdp_aa = 4.06\n",
    "#kdp_bb = 0.0866\n",
    "#kdp_aa_scaling=0.33\n",
    "#kdp_bb_scaling=0.79\n",
    "#trn_withRef_comb['KDP']=np.sign(trn_withRef_comb['Kdp_mean'])*(kdp_aa*kdp_aa_scaling)*pow(np.abs(trn_withRef_comb['Kdp_mean']),kdp_bb*kdp_bb_scaling)\n",
    "\n",
    "#KDP_ZDR\n",
    "#kdpzdr_aa = 13.6\n",
    "#kdpzdr_bb = 0.0968\n",
    "#kdpzdr_cc = -0.286\n",
    "#kdpzdr_aa_scaling=0.003\n",
    "#trn_withRef_comb['KDP_ZDR'] = np.sign(trn_withRef_comb['Kdp_mean'])*(kdpzdr_aa*kdpzdr_aa_scaling)*pow(np.abs(trn_withRef_comb['Kdp_mean']),kdpzdr_bb)*pow(pow(10,trn_withRef_comb['Zdr_mean']/10),kdpzdr_cc)"
   ]
  }
 ],
 "metadata": {
  "kernelspec": {
   "display_name": "Python 2",
   "language": "python",
   "name": "python2"
  },
  "language_info": {
   "codemirror_mode": {
    "name": "ipython",
    "version": 2
   },
   "file_extension": ".py",
   "mimetype": "text/x-python",
   "name": "python",
   "nbconvert_exporter": "python",
   "pygments_lexer": "ipython2",
   "version": "2.7.10"
  }
 },
 "nbformat": 4,
 "nbformat_minor": 0
}
