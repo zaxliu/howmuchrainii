{
 "cells": [
  {
   "cell_type": "code",
   "execution_count": 1,
   "metadata": {
    "collapsed": true
   },
   "outputs": [],
   "source": [
    "import numpy as np\n",
    "import pandas as pd\n",
    "\n",
    "from sklearn.pipeline import Pipeline\n",
    "\n",
    "from sklearn.preprocessing import Imputer\n",
    "\n",
    "from sklearn.utils.estimator_checks import check_estimator\n",
    "\n",
    "from sklearn.cross_validation import cross_val_score"
   ]
  },
  {
   "cell_type": "code",
   "execution_count": 2,
   "metadata": {
    "collapsed": true
   },
   "outputs": [],
   "source": [
    "trn_all = pd.read_csv('../data/train.csv')  # column #0 in our file is index\n",
    "\n",
    "#selected features and Cut off outliers of Expected >= 69\n",
    "#trn_new = trn_all[trn_all['Expected']<69]\n",
    "trn_new = trn_all\n",
    "\n",
    "#combine observations with same ID by using mean\n",
    "#replace Nan by overall mean\n",
    "trn_mean = trn_new.groupby(trn_new.Id).agg(['mean', 'median', 'std', 'count', 'min', 'max'])\n",
    "trn_mean.columns = ['_'.join(col).strip() for col in trn_mean.columns.values]\n",
    "trn_mean = trn_mean.drop(['Expected_count', 'Expected_median', 'Expected_std', 'Expected_min', 'Expected_max'], axis =1)\n",
    "\n",
    "del trn_all\n",
    "del trn_new"
   ]
  },
  {
   "cell_type": "code",
   "execution_count": 3,
   "metadata": {
    "collapsed": true
   },
   "outputs": [],
   "source": [
    "# ignore id's where all Ref vales are NaN\n",
    "trn_mean = trn_mean[pd.notnull(trn_mean.Ref_mean)]\n",
    "\n",
    "# Imputing\n",
    "index2 = list(trn_mean)\n",
    "imp = Imputer(missing_values='NaN', strategy='mean', axis=0)\n",
    "\n",
    "trn_mean= pd.DataFrame(imp.fit_transform(trn_mean),index = trn_mean.index, columns=index2)"
   ]
  },
  {
   "cell_type": "code",
   "execution_count": 4,
   "metadata": {
    "collapsed": false
   },
   "outputs": [],
   "source": [
    "# data preparation\n",
    "X = trn_mean.loc[:,'minutes_past_mean':'Kdp_5x5_90th_max']\n",
    "y = trn_mean.loc[:,'Expected_mean']\n",
    "\n",
    "del trn_mean"
   ]
  },
  {
   "cell_type": "code",
   "execution_count": 5,
   "metadata": {
    "collapsed": false
   },
   "outputs": [
    {
     "data": {
      "text/plain": [
       "Id\n",
       "2          0.380208\n",
       "4         -1.125000\n",
       "7          0.584581\n",
       "8          1.156250\n",
       "10         0.255208\n",
       "11         0.482143\n",
       "12         1.162500\n",
       "14         0.196429\n",
       "15         0.489583\n",
       "17        -0.140625\n",
       "18         0.236111\n",
       "19         0.584581\n",
       "24         0.653409\n",
       "27        -0.312500\n",
       "28         0.584581\n",
       "29         0.755208\n",
       "32         0.250000\n",
       "33         0.533654\n",
       "34        -0.359375\n",
       "35         0.166667\n",
       "36        -1.937500\n",
       "37         0.375000\n",
       "38         0.269231\n",
       "39         0.302083\n",
       "40         0.584581\n",
       "41         0.555556\n",
       "42         0.584581\n",
       "45         0.584581\n",
       "51         0.354167\n",
       "55         0.584581\n",
       "             ...   \n",
       "1180897    0.584581\n",
       "1180898   -0.421875\n",
       "1180899    0.411458\n",
       "1180901    0.584581\n",
       "1180904    0.625000\n",
       "1180909   -0.250000\n",
       "1180910    0.778409\n",
       "1180911   -0.812500\n",
       "1180912    0.584581\n",
       "1180913   -1.006944\n",
       "1180915    0.584581\n",
       "1180918    0.162500\n",
       "1180919    1.229167\n",
       "1180920    0.584581\n",
       "1180921    0.762500\n",
       "1180922    1.750000\n",
       "1180923    0.346591\n",
       "1180924    0.584581\n",
       "1180925   -0.562500\n",
       "1180926    0.584581\n",
       "1180927    0.584581\n",
       "1180928    0.650000\n",
       "1180929    0.584581\n",
       "1180933    1.250000\n",
       "1180934    0.584581\n",
       "1180935   -0.544643\n",
       "1180938    0.584581\n",
       "1180942    0.584581\n",
       "1180944    0.584581\n",
       "1180945    0.875000\n",
       "Name: Zdr_mean, dtype: float64"
      ]
     },
     "execution_count": 5,
     "metadata": {},
     "output_type": "execute_result"
    }
   ],
   "source": [
    "X.loc[:,'Zdr_mean']"
   ]
  },
  {
   "cell_type": "code",
   "execution_count": 67,
   "metadata": {
    "collapsed": false
   },
   "outputs": [
    {
     "data": {
      "text/plain": [
       "Id\n",
       "2         -0.288187\n",
       "4          7.029999\n",
       "7          0.043955\n",
       "8          0.002499\n",
       "10        -1.404172\n",
       "11        -1.450004\n",
       "12         0.067993\n",
       "14        -0.590005\n",
       "15         1.526660\n",
       "17        -0.617503\n",
       "18         0.675549\n",
       "19         0.043955\n",
       "24        -0.573642\n",
       "27         2.939996\n",
       "28         0.043955\n",
       "29         1.183997\n",
       "32         1.964165\n",
       "33        -0.113852\n",
       "34         0.356664\n",
       "35         1.122494\n",
       "36         0.043955\n",
       "37         0.043955\n",
       "38         0.539228\n",
       "39        -1.410004\n",
       "40         0.043955\n",
       "41         0.351246\n",
       "42         0.043955\n",
       "45         0.043955\n",
       "51         1.436656\n",
       "55         0.043955\n",
       "             ...   \n",
       "1180897    0.043955\n",
       "1180898   -1.240006\n",
       "1180899    0.789995\n",
       "1180901    0.043955\n",
       "1180904   -0.365002\n",
       "1180909    0.043955\n",
       "1180910   -0.281004\n",
       "1180911   -0.172504\n",
       "1180912    0.043955\n",
       "1180913   -0.564001\n",
       "1180915    0.043955\n",
       "1180918    0.737997\n",
       "1180919   -1.686676\n",
       "1180920    0.043955\n",
       "1180921    1.056666\n",
       "1180922   -7.750000\n",
       "1180923   -0.218185\n",
       "1180924    0.043955\n",
       "1180925    0.043955\n",
       "1180926    0.043955\n",
       "1180927    0.043955\n",
       "1180928   -0.493004\n",
       "1180929    0.043955\n",
       "1180933    1.173330\n",
       "1180934    0.043955\n",
       "1180935   -0.660006\n",
       "1180938    0.043955\n",
       "1180942    0.043955\n",
       "1180944    0.043955\n",
       "1180945    9.724991\n",
       "Name: Kdp_mean, dtype: float64"
      ]
     },
     "execution_count": 67,
     "metadata": {},
     "output_type": "execute_result"
    }
   ],
   "source": [
    "X.loc[:,'Kdp_mean']"
   ]
  },
  {
   "cell_type": "code",
   "execution_count": 78,
   "metadata": {
    "collapsed": false
   },
   "outputs": [],
   "source": [
    "from KDP_ZDR import KDPZDRRegressor\n",
    "import matplotlib.pyplot as plt\n",
    "# plot plots inline\n",
    "%matplotlib inline  \n",
    "\n",
    "scale = np.arange(0.001,0.006,0.0005)\n",
    "indexes = range(0,len(scale))\n",
    "#print indexes\n",
    "#print scale"
   ]
  },
  {
   "cell_type": "code",
   "execution_count": 79,
   "metadata": {
    "collapsed": false
   },
   "outputs": [
    {
     "data": {
      "text/plain": [
       "0.0030000000000000001"
      ]
     },
     "execution_count": 79,
     "metadata": {},
     "output_type": "execute_result"
    }
   ],
   "source": [
    "MAE = []\n",
    "for idx in indexes: \n",
    "    estimator=KDPZDRRegressor(kdpzdr_aa_scaling=scale[idx],kdpzdr_bb_scaling=1,kdpzdr_cc_scaling=1) \n",
    "    estimator.fit(X = X, y =y)\n",
    "    y_est = estimator.predict(X = X)\n",
    "    MAE.append(sum(abs(y- y_est))/ len(y))\n",
    "    #print scaling, MAE\n",
    "\n",
    "opt = MAE.index(min(MAE))\n",
    "scale[opt] #best parameter: 0.003,1,1"
   ]
  },
  {
   "cell_type": "code",
   "execution_count": 80,
   "metadata": {
    "collapsed": false
   },
   "outputs": [
    {
     "data": {
      "text/plain": [
       "Id\n",
       "2           0.000000\n",
       "4          10.363448\n",
       "7           0.024725\n",
       "8           0.001057\n",
       "10          0.000000\n",
       "11          0.000000\n",
       "12          0.025778\n",
       "14          0.000000\n",
       "15          0.816100\n",
       "17          0.000000\n",
       "18          0.438008\n",
       "19          0.024725\n",
       "24          0.000000\n",
       "27          2.609975\n",
       "28          0.024725\n",
       "29          0.535692\n",
       "32          1.219545\n",
       "33          0.000000\n",
       "34          0.349357\n",
       "35          0.749571\n",
       "36          0.130153\n",
       "37          0.028384\n",
       "38          0.344554\n",
       "39          0.000000\n",
       "40          0.024725\n",
       "41          0.188436\n",
       "42          0.024725\n",
       "45          0.024725\n",
       "51          0.841254\n",
       "55          0.024725\n",
       "             ...    \n",
       "1180897     0.024725\n",
       "1180898     0.000000\n",
       "1180899     0.454072\n",
       "1180901     0.024725\n",
       "1180904     0.000000\n",
       "1180909     0.042838\n",
       "1180910     0.000000\n",
       "1180911     0.000000\n",
       "1180912     0.024725\n",
       "1180913     0.000000\n",
       "1180915     0.024725\n",
       "1180918     0.500845\n",
       "1180919     0.000000\n",
       "1180920     0.024725\n",
       "1180921     0.477527\n",
       "1180922     0.000000\n",
       "1180923     0.000000\n",
       "1180924     0.024725\n",
       "1180925     0.052626\n",
       "1180926     0.024725\n",
       "1180927     0.024725\n",
       "1180928     0.000000\n",
       "1180929     0.024725\n",
       "1180933     0.383354\n",
       "1180934     0.024725\n",
       "1180935     0.000000\n",
       "1180938     0.024725\n",
       "1180942     0.024725\n",
       "1180944     0.024725\n",
       "1180945     3.801267\n",
       "dtype: float64"
      ]
     },
     "execution_count": 80,
     "metadata": {},
     "output_type": "execute_result"
    }
   ],
   "source": [
    "y_est"
   ]
  },
  {
   "cell_type": "code",
   "execution_count": 81,
   "metadata": {
    "collapsed": false
   },
   "outputs": [
    {
     "name": "stdout",
     "output_type": "stream",
     "text": [
      "0.003\n",
      "[23.960833026550976, 23.951679520941386, 23.945848051745308, 23.942594078581195, 23.941455011504324, 23.942040446458755, 23.944115069359857, 23.94743574301318, 23.951863804337219, 23.957291925864361]\n",
      "\n",
      "\n",
      "23.9414550115\n"
     ]
    }
   ],
   "source": [
    "print(scale[opt])\n",
    "print(MAE)\n",
    "print('\\n')\n",
    "print(min(MAE))"
   ]
  },
  {
   "cell_type": "code",
   "execution_count": 82,
   "metadata": {
    "collapsed": false
   },
   "outputs": [
    {
     "data": {
      "text/plain": [
       "<matplotlib.text.Text at 0x7f8b884a17d0>"
      ]
     },
     "execution_count": 82,
     "metadata": {},
     "output_type": "execute_result"
    },
    {
     "data": {
      "image/png": "[encoded data removed]",
      "text/plain": [
       "<matplotlib.figure.Figure at 0x7f8b88568f50>"
      ]
     },
     "metadata": {},
     "output_type": "display_data"
    }
   ],
   "source": [
    "plt.plot(scale, MAE)\n",
    "plt.xlabel(\"Power Scaling Parameter\")\n",
    "plt.ylabel(\"MAE\")"
   ]
  },
  {
   "cell_type": "code",
   "execution_count": null,
   "metadata": {
    "collapsed": true
   },
   "outputs": [],
   "source": [
    "#trn_withRef_comb['KDP'] = pow(pow(10, trn_withRef_comb['Ref_mean']/10)/200, 0.625 * 0.82)\n",
    "\n",
    "#KDP\n",
    "kdp_aa = 4.06\n",
    "kdp_bb = 0.0866\n",
    "kdp_aa_scaling=0.33\n",
    "kdp_bb_scaling=0.79\n",
    "trn_withRef_comb['KDP']=np.sign(trn_withRef_comb['Kdp_mean'])*(kdp_aa*kdp_aa_scaling)*pow(np.abs(trn_withRef_comb['Kdp_mean']),kdp_bb*kdp_bb_scaling)\n",
    "\n",
    "#KDP_ZDR\n",
    "kdpzdr_aa = 13.6\n",
    "kdpzdr_bb = 0.0968\n",
    "kdpzdr_cc = -0.286\n",
    "kdpzdr_aa_scaling=0.003\n",
    "trn_withRef_comb['KDP_ZDR'] = np.sign(trn_withRef_comb['Kdp_mean'])*(kdpzdr_aa*kdpzdr_aa_scaling)*pow(np.abs(trn_withRef_comb['Kdp_mean']),kdpzdr_bb)*pow(pow(10,trn_withRef_comb['Zdr_mean']/10),kdpzdr_cc)\n",
    "\n",
    "#REF_ZDR\n",
    "refzdr_aa = 0.00746\n",
    "refzdr_bb = 0.945\n",
    "refzdr_cc = -4.76\n",
    "\n",
    "refzdr_aa_scaling=0.0017\n",
    "refzdr_bb_scaling=0.9\n",
    "refzdr_cc_scaling=0.8\n",
    "trn_withRef_comb['REF_ZDR'] = (refzdr_aa*refzdr_aa_scaling)*pow(pow(10,trn_withRef_comb['Ref_mean']/10),refzdr_bb*refzdr_bb_scaling)*pow(pow(10,trn_withRef_comb['Zdr_mean']/10),refzdr_cc*refzdr_cc_scaling)\n"
   ]
  }
 ],
 "metadata": {
  "kernelspec": {
   "display_name": "Python 2",
   "language": "python",
   "name": "python2"
  },
  "language_info": {
   "codemirror_mode": {
    "name": "ipython",
    "version": 2
   },
   "file_extension": ".py",
   "mimetype": "text/x-python",
   "name": "python",
   "nbconvert_exporter": "python",
   "pygments_lexer": "ipython2",
   "version": "2.7.10"
  }
 },
 "nbformat": 4,
 "nbformat_minor": 0
}
