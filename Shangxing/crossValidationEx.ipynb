{
 "cells": [
  {
   "cell_type": "code",
   "execution_count": 5,
   "metadata": {
    "collapsed": true
   },
   "outputs": [],
   "source": [
    "import numpy as np\n",
    "from sklearn.cross_validation import KFold\n",
    "from sklearn import cross_validation\n",
    "from sklearn.metrics import mean_squared_error #MAE\n",
    "from sklearn import metrics\n",
    "#scores = cross_validation.cross_val_score(clf, iris.data, iris.target, cv=5, scoring='mean_absolute_error')\n",
    "#cv = cross_validation.ShuffleSplit(n_samples, n_iter=3, test_size=0.3, random_state=0)"
   ]
  },
  {
   "cell_type": "code",
   "execution_count": 6,
   "metadata": {
    "collapsed": false
   },
   "outputs": [
    {
     "name": "stdout",
     "output_type": "stream",
     "text": [
      "[[-1. -1.]\n",
      " [ 2.  2.]]\n",
      "[0 1]\n",
      "[[ 0.  0.]\n",
      " [ 1.  1.]]\n",
      "[0 1]\n",
      "[[ 0.  0.]\n",
      " [ 1.  1.]]\n",
      "[0 1]\n",
      "[[-1. -1.]\n",
      " [ 2.  2.]]\n",
      "[0 1]\n"
     ]
    }
   ],
   "source": [
    "kf = KFold(4,n_folds=2)\n",
    "for train, test in kf:\n",
    "    X = np.array([[0., 0.], [1., 1.], [-1., -1.], [2., 2.]])\n",
    "    y = np.array([0, 1, 0, 1])\n",
    "    X_train, X_test, y_train, y_test = X[train], X[test], y[train], y[test]\n",
    "    print(X_train)\n",
    "    print(y_train)\n",
    "    print(X_test)\n",
    "    print(y_test)"
   ]
  },
  {
   "cell_type": "code",
   "execution_count": 7,
   "metadata": {
    "collapsed": false
   },
   "outputs": [
    {
     "name": "stdout",
     "output_type": "stream",
     "text": [
      "[[ 1.  1.]\n",
      " [ 0.  0.]]\n",
      "[1 0]\n",
      "[[-1. -1.]\n",
      " [ 2.  2.]]\n",
      "[0 1]\n"
     ]
    }
   ],
   "source": [
    "X_train, X_test, y_train, y_test = cross_validation.train_test_split(X,y, test_size=0.5, random_state=0)\n",
    "print(X_train)\n",
    "print(y_train)\n",
    "print(X_test)\n",
    "print(y_test)"
   ]
  },
  {
   "cell_type": "code",
   "execution_count": null,
   "metadata": {
    "collapsed": true
   },
   "outputs": [],
   "source": []
  }
 ],
 "metadata": {
  "kernelspec": {
   "display_name": "Python 2",
   "language": "python",
   "name": "python2"
  },
  "language_info": {
   "codemirror_mode": {
    "name": "ipython",
    "version": 2
   },
   "file_extension": ".py",
   "mimetype": "text/x-python",
   "name": "python",
   "nbconvert_exporter": "python",
   "pygments_lexer": "ipython2",
   "version": "2.7.10"
  }
 },
 "nbformat": 4,
 "nbformat_minor": 0
}
