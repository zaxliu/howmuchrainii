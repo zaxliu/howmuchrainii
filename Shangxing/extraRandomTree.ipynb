{
 "cells": [
  {
   "cell_type": "code",
   "execution_count": 3,
   "metadata": {
    "collapsed": false
   },
   "outputs": [],
   "source": [
    "import time\n",
    "#\n",
    "import numpy as np\n",
    "import pandas as pd\n",
    "import matplotlib.pyplot as plt\n",
    "# \n",
    "from sklearn.preprocessing import StandardScaler\n",
    "from sklearn.preprocessing import Imputer\n",
    "from sklearn.ensemble import RandomForestRegressor\n",
    "from sklearn.cross_validation import train_test_split\n",
    "from math import *\n",
    "from sklearn import metrics\n",
    "from sklearn.ensemble import ExtraTreesRegressor\n",
    "import matplotlib.pyplot as plt\n",
    "print(__doc__)\n",
    "#\n",
    "#pd.set_option('display.max_columns', 500)  # force pandas to display all columns for better visual inspection\n",
    "# plot plots inline\n",
    "#%matplotlib inline "
   ]
  },
  {
   "cell_type": "code",
   "execution_count": null,
   "metadata": {
    "collapsed": false
   },
   "outputs": [],
   "source": [
    "trn_all = pd.read_csv('../data/train.csv')  # column #0 in our file is index\n",
    "# trn_1 = pd.read_csv('../data/train_1.csv', index_col=0)"
   ]
  },
  {
   "cell_type": "code",
   "execution_count": 6,
   "metadata": {
    "collapsed": true
   },
   "outputs": [],
   "source": [
    "#selected features and Cut off outliers of Expected >= 69\n",
    "trn_new = trn_all[trn_all['Expected']<69]"
   ]
  },
  {
   "cell_type": "code",
   "execution_count": 7,
   "metadata": {
    "collapsed": false
   },
   "outputs": [
    {
     "name": "stdout",
     "output_type": "stream",
     "text": [
      "Index([u'Id', u'minutes_past', u'radardist_km', u'Ref', u'Ref_5x5_10th',\n",
      "       u'Ref_5x5_50th', u'Ref_5x5_90th', u'RefComposite',\n",
      "       u'RefComposite_5x5_10th', u'RefComposite_5x5_50th',\n",
      "       u'RefComposite_5x5_90th', u'RhoHV', u'RhoHV_5x5_10th',\n",
      "       u'RhoHV_5x5_50th', u'RhoHV_5x5_90th', u'Zdr', u'Zdr_5x5_10th',\n",
      "       u'Zdr_5x5_50th', u'Zdr_5x5_90th', u'Kdp', u'Kdp_5x5_10th',\n",
      "       u'Kdp_5x5_50th', u'Kdp_5x5_90th', u'Expected'],\n",
      "      dtype='object')\n"
     ]
    }
   ],
   "source": [
    "print(trn_new.columns)"
   ]
  },
  {
   "cell_type": "code",
   "execution_count": 8,
   "metadata": {
    "collapsed": true
   },
   "outputs": [],
   "source": [
    "#combine observations with same ID by using mean\n",
    "#replace Nan by overall mean\n",
    "trn_mean = trn_new.groupby(trn_new.Id).agg(['mean', 'median', 'std', 'count', 'min', 'max'])\n",
    "trn_mean.columns = ['_'.join(col).strip() for col in trn_mean.columns.values]\n",
    "#trn_mean = trn_mean.drop(['Expected_count', 'Expected_median', 'Expected_std', 'Expected_min', 'Expected_max'], axis =1)"
   ]
  },
  {
   "cell_type": "code",
   "execution_count": 21,
   "metadata": {
    "collapsed": false
   },
   "outputs": [
    {
     "name": "stdout",
     "output_type": "stream",
     "text": [
      "Index([u'minutes_past_mean', u'minutes_past_median', u'minutes_past_std',\n",
      "       u'minutes_past_count', u'minutes_past_min', u'minutes_past_max',\n",
      "       u'radardist_km_mean', u'radardist_km_median', u'radardist_km_std',\n",
      "       u'radardist_km_count',\n",
      "       ...\n",
      "       u'Kdp_5x5_90th_std', u'Kdp_5x5_90th_count', u'Kdp_5x5_90th_min',\n",
      "       u'Kdp_5x5_90th_max', u'Expected_mean', u'Expected_median',\n",
      "       u'Expected_std', u'Expected_count', u'Expected_min', u'Expected_max'],\n",
      "      dtype='object', length=138)\n"
     ]
    }
   ],
   "source": [
    "print(trn_mean.columns)"
   ]
  },
  {
   "cell_type": "code",
   "execution_count": 22,
   "metadata": {
    "collapsed": false
   },
   "outputs": [],
   "source": [
    "# ignore id's where all Ref vales are NaN\n",
    "trn_mean = trn_mean[pd.notnull(trn_mean.Ref_mean)]"
   ]
  },
  {
   "cell_type": "code",
   "execution_count": 23,
   "metadata": {
    "collapsed": true
   },
   "outputs": [],
   "source": [
    "index2 = list(trn_mean)\n",
    "imp = Imputer(missing_values='NaN', strategy='mean', axis=0)\n",
    "\n",
    "trn_mean= pd.DataFrame(imp.fit_transform(trn_mean),index = trn_mean.index, columns=index2)"
   ]
  },
  {
   "cell_type": "code",
   "execution_count": 24,
   "metadata": {
    "collapsed": true
   },
   "outputs": [],
   "source": [
    "#train and test data preparation\n",
    "X_trn = trn_mean.loc[:,'minutes_past_mean':'Kdp_5x5_90th_max'].values\n",
    "y_trn = np.log1p(trn_mean.loc[:,'Expected_mean'].values)"
   ]
  },
  {
   "cell_type": "code",
   "execution_count": 26,
   "metadata": {
    "collapsed": true
   },
   "outputs": [],
   "source": [
    "clf = ExtraTreesRegressor(n_estimators=100, max_depth=None, min_samples_split=1, random_state=0, n_jobs=5)  # NOTE: n_jobs=-1 will use all of your cores, set to a prefered number"
   ]
  },
  {
   "cell_type": "code",
   "execution_count": 27,
   "metadata": {
    "collapsed": false
   },
   "outputs": [
    {
     "name": "stdout",
     "output_type": "stream",
     "text": [
      "1312.01620913\n"
     ]
    }
   ],
   "source": [
    "#train model\n",
    "t = time.time()\n",
    "clf.fit(X_trn, y_trn)\n",
    "print time.time()-t"
   ]
  },
  {
   "cell_type": "code",
   "execution_count": 28,
   "metadata": {
    "collapsed": true
   },
   "outputs": [],
   "source": [
    "#generate test result\n",
    "test_new = pd.read_csv('../data/test.csv')\n",
    "\n",
    "#combine observations with same ID by using mean\n",
    "#replace Nan by overall mean\n",
    "test_mean = test_new.groupby(test_new.Id).agg(['mean', 'median', 'std', 'count', 'min', 'max'])\n",
    "test_mean.columns = ['_'.join(col).strip() for col in test_mean.columns.values]\n",
    "\n",
    "index2 = list(test_mean)\n",
    "imp = Imputer(missing_values='NaN', strategy='mean', axis=0)\n",
    "test_mean= pd.DataFrame(imp.fit_transform(test_mean),index=test_mean.index,columns=index2)\n",
    "\n",
    "test_X =test_mean.loc[:,'minutes_past_mean':'Kdp_5x5_90th_max'].values\n",
    "\n",
    "test_y_predict = np.exp(clf.predict(test_X))-1"
   ]
  },
  {
   "cell_type": "code",
   "execution_count": 30,
   "metadata": {
    "collapsed": false
   },
   "outputs": [],
   "source": [
    "#generate output file\n",
    "#0.75 from prediction and 0.25 from marshall palmer\n",
    "marshall = pd.read_csv('../data/MP_r_09.csv')\n",
    "\n",
    "test_result_exist = pd.DataFrame()\n",
    "test_result_exist['Id'] = test_mean.index\n",
    "test_result_exist['Expected'] = test_y_predict\n",
    "\n",
    "test_result = pd.DataFrame()\n",
    "test_result['Id'] = test_new['Id'].unique()\n",
    "test_result = pd.merge(test_result, test_result_exist, how='left', on=['Id'], sort=True)\n",
    "#test_result.loc[test_result['Expected'].isnull(), 'Expected'] = marshall.loc[test_result['Expected'].isnull(), 'Expected']\n",
    "test_result.loc[test_result['Expected'].notnull(), 'Expected'] = 0.75*test_result.loc[test_result['Expected'].notnull(), 'Expected']+0.25*marshall.loc[test_result['Expected'].notnull(), 'Expected']\n",
    "\n",
    "test_result.to_csv('../data/extraRandom_result_11_19.csv', index=False)"
   ]
  },
  {
   "cell_type": "code",
   "execution_count": 74,
   "metadata": {
    "collapsed": false
   },
   "outputs": [
    {
     "name": "stdout",
     "output_type": "stream",
     "text": [
      "Feature ranking:\n",
      "feature Ref_5x5_90th_max (35) (0.042035)\n",
      "feature Ref_max (17) (0.038750)\n",
      "feature Ref_5x5_50th_max (29) (0.038686)\n",
      "feature Ref_5x5_10th_max (23) (0.034208)\n",
      "feature Ref_5x5_90th_mean (30) (0.027373)\n",
      "feature RefComposite_5x5_50th_max (53) (0.022057)\n",
      "feature RefComposite_max (41) (0.017698)\n",
      "feature RefComposite_5x5_10th_max (47) (0.017455)\n",
      "feature Ref_5x5_50th_mean (24) (0.017116)\n",
      "feature Ref_mean (12) (0.016653)\n",
      "feature RefComposite_5x5_90th_max (59) (0.016215)\n",
      "feature RefComposite_5x5_90th_mean (54) (0.015652)\n",
      "feature Ref_5x5_90th_median (31) (0.015251)\n",
      "feature radardist_km_min (10) (0.015101)\n",
      "feature radardist_km_median (7) (0.014125)\n",
      "feature radardist_km_mean (6) (0.013263)\n",
      "feature radardist_km_max (11) (0.012517)\n",
      "feature Ref_5x5_10th_mean (18) (0.012373)\n",
      "feature RefComposite_5x5_50th_mean (48) (0.011819)\n",
      "feature minutes_past_std (2) (0.010588)\n",
      "feature Ref_5x5_50th_median (25) (0.010212)\n",
      "feature RefComposite_mean (36) (0.009661)\n",
      "feature minutes_past_min (4) (0.009575)\n",
      "feature minutes_past_max (5) (0.009545)\n",
      "feature RefComposite_5x5_90th_median (55) (0.009411)\n",
      "feature minutes_past_mean (0) (0.009275)\n",
      "feature minutes_past_median (1) (0.009268)\n",
      "feature Ref_5x5_90th_min (34) (0.009049)\n",
      "feature RefComposite_5x5_50th_median (49) (0.008808)\n",
      "feature Ref_min (16) (0.008451)\n",
      "feature Ref_median (13) (0.008049)\n",
      "feature RefComposite_5x5_10th_median (43) (0.008021)\n",
      "feature Ref_5x5_90th_std (32) (0.007958)\n",
      "feature RefComposite_5x5_90th_min (58) (0.007884)\n",
      "feature Ref_5x5_50th_min (28) (0.007852)\n",
      "feature Ref_5x5_90th_count (33) (0.007829)\n",
      "feature Ref_5x5_50th_count (27) (0.007783)\n",
      "feature Ref_count (15) (0.007774)\n",
      "feature RefComposite_5x5_90th_std (56) (0.007632)\n",
      "feature Ref_5x5_10th_count (21) (0.007629)\n",
      "feature RefComposite_median (37) (0.007561)\n",
      "feature RefComposite_5x5_10th_mean (42) (0.007491)\n",
      "feature Ref_std (14) (0.007432)\n",
      "feature RefComposite_min (40) (0.007366)\n",
      "feature radardist_km_count (9) (0.007256)\n",
      "feature minutes_past_count (3) (0.007201)\n",
      "feature Ref_5x5_10th_median (19) (0.007152)\n",
      "feature Ref_5x5_10th_min (22) (0.007103)\n",
      "feature Ref_5x5_50th_std (26) (0.007026)\n",
      "feature Ref_5x5_10th_std (20) (0.007023)\n",
      "feature RefComposite_std (38) (0.007019)\n",
      "feature RefComposite_5x5_50th_min (52) (0.006942)\n",
      "feature RefComposite_5x5_10th_std (44) (0.006755)\n",
      "feature RefComposite_5x5_10th_min (46) (0.006712)\n",
      "feature RefComposite_5x5_50th_std (50) (0.006635)\n",
      "feature RefComposite_5x5_90th_count (57) (0.006448)\n",
      "feature Zdr_5x5_90th_median (103) (0.005753)\n",
      "feature RefComposite_count (39) (0.005677)\n",
      "feature RefComposite_5x5_10th_count (45) (0.005656)\n",
      "feature Zdr_5x5_90th_min (106) (0.005648)\n",
      "feature RefComposite_5x5_50th_count (51) (0.005602)\n",
      "feature Zdr_5x5_90th_mean (102) (0.005593)\n",
      "feature Zdr_5x5_90th_max (107) (0.005528)\n",
      "feature Zdr_5x5_90th_std (104) (0.005129)\n",
      "feature Kdp_5x5_90th_min (130) (0.004858)\n",
      "feature Kdp_5x5_90th_max (131) (0.004763)\n",
      "feature Zdr_5x5_50th_median (97) (0.004753)\n",
      "feature Zdr_5x5_50th_max (101) (0.004698)\n",
      "feature Zdr_min (88) (0.004698)\n",
      "feature Zdr_max (89) (0.004624)\n",
      "feature Kdp_5x5_90th_median (127) (0.004569)\n",
      "feature Zdr_median (85) (0.004561)\n",
      "feature Kdp_min (112) (0.004523)\n",
      "feature Zdr_5x5_10th_max (95) (0.004511)\n",
      "feature Kdp_median (109) (0.004485)\n",
      "feature Kdp_max (113) (0.004479)\n",
      "feature Kdp_5x5_50th_max (125) (0.004469)\n",
      "feature Zdr_std (86) (0.004440)\n",
      "feature Zdr_5x5_50th_mean (96) (0.004432)\n",
      "feature Zdr_mean (84) (0.004430)\n",
      "feature Zdr_5x5_50th_min (100) (0.004411)\n",
      "feature Zdr_5x5_10th_std (92) (0.004377)\n",
      "feature Kdp_5x5_90th_std (128) (0.004372)\n",
      "feature RhoHV_5x5_50th_max (77) (0.004368)\n",
      "feature RhoHV_5x5_90th_std (80) (0.004344)\n",
      "feature RhoHV_max (65) (0.004334)\n",
      "feature RhoHV_5x5_90th_max (83) (0.004309)\n",
      "feature Kdp_5x5_90th_mean (126) (0.004299)\n",
      "feature Zdr_5x5_50th_std (98) (0.004296)\n",
      "feature Kdp_5x5_10th_std (116) (0.004290)\n",
      "feature RhoHV_5x5_90th_median (79) (0.004242)\n",
      "feature RhoHV_5x5_90th_min (82) (0.004237)\n",
      "feature Kdp_5x5_10th_max (119) (0.004231)\n",
      "feature Kdp_mean (108) (0.004228)\n",
      "feature Kdp_std (110) (0.004137)\n",
      "feature RhoHV_5x5_90th_mean (78) (0.004094)\n",
      "feature Zdr_5x5_10th_median (91) (0.004093)\n",
      "feature Kdp_5x5_10th_min (118) (0.004048)\n",
      "feature Zdr_5x5_10th_min (94) (0.004023)\n",
      "feature Kdp_5x5_50th_median (121) (0.004006)\n",
      "feature RhoHV_std (62) (0.003998)\n",
      "feature RhoHV_min (64) (0.003978)\n",
      "feature Kdp_5x5_50th_min (124) (0.003945)\n",
      "feature Kdp_5x5_50th_std (122) (0.003895)\n",
      "feature RhoHV_median (61) (0.003880)\n",
      "feature RhoHV_5x5_10th_std (68) (0.003857)\n",
      "feature Kdp_5x5_10th_median (115) (0.003855)\n",
      "feature RhoHV_5x5_10th_max (71) (0.003854)\n",
      "feature Zdr_5x5_10th_mean (90) (0.003828)\n",
      "feature Kdp_5x5_50th_mean (120) (0.003682)\n",
      "feature RhoHV_5x5_50th_min (76) (0.003679)\n",
      "feature RhoHV_5x5_50th_std (74) (0.003672)\n",
      "feature RhoHV_5x5_50th_median (73) (0.003644)\n",
      "feature RhoHV_5x5_10th_min (70) (0.003614)\n",
      "feature Kdp_5x5_10th_mean (114) (0.003611)\n",
      "feature RhoHV_mean (60) (0.003576)\n",
      "feature RhoHV_5x5_50th_mean (72) (0.003480)\n",
      "feature RhoHV_5x5_10th_median (67) (0.003437)\n",
      "feature RhoHV_5x5_10th_mean (66) (0.003317)\n",
      "feature RhoHV_5x5_90th_count (81) (0.003246)\n",
      "feature Zdr_5x5_90th_count (105) (0.003238)\n",
      "feature Kdp_5x5_90th_count (129) (0.003102)\n",
      "feature Kdp_5x5_10th_count (117) (0.003091)\n",
      "feature Kdp_count (111) (0.002752)\n",
      "feature Kdp_5x5_50th_count (123) (0.002633)\n",
      "feature Zdr_5x5_10th_count (93) (0.002550)\n",
      "feature RhoHV_count (63) (0.002488)\n",
      "feature Zdr_count (87) (0.002479)\n",
      "feature RhoHV_5x5_10th_count (69) (0.002467)\n",
      "feature RhoHV_5x5_50th_count (75) (0.002416)\n",
      "feature Zdr_5x5_50th_count (99) (0.002403)\n",
      "feature radardist_km_std (8) (0.000000)\n"
     ]
    }
   ],
   "source": [
    "#feature importance\n",
    "importance = clf.feature_importances_\n",
    "std = np.std([tree.feature_importances_ for tree in clf.estimators_],axis=0)\n",
    "indices = np.argsort(importance)[::-1]\n",
    "\n",
    "#print(len(indices))\n",
    "\n",
    "print(\"Feature ranking:\")\n",
    "\n",
    "for count in range(len(indices)):\n",
    "    print(\"feature %s (%d) (%f)\" % (test_mean.columns[indices[count]], indices[count], importance[indices[count]]))\n",
    "  "
   ]
  },
  {
   "cell_type": "code",
   "execution_count": 87,
   "metadata": {
    "collapsed": false
   },
   "outputs": [
    {
     "data": {
      "image/png": "[encoded data removed]",
      "text/plain": [
       "<matplotlib.figure.Figure at 0x7f36d6f7cd90>"
      ]
     },
     "metadata": {},
     "output_type": "display_data"
    }
   ],
   "source": [
    "#plot figure importance in bar and save ./multipage.pdf\n",
    "import matplotlib\n",
    "matplotlib.use('Agg')\n",
    "%matplotlib inline\n",
    "import matplotlib.pyplot as plt\n",
    "from matplotlib.backends.backend_pdf import PdfPages\n",
    "\n",
    "plt.figure()\n",
    "plt.title(\"Feature importances\")\n",
    "#plt.bar(range(len(indices)), importance[indices],color=\"r\", yerr=std[indices], align=\"center\")\n",
    "plt.bar(range(len(indices)), importance[indices],color=\"r\", align=\"center\")\n",
    "plt.xticks(range(len(indices)), indices)\n",
    "plt.xlim([-1, len(indices)])\n",
    "pp = PdfPages('./multipage.pdf')\n",
    "plt.savefig(pp, format='pdf')\n",
    "#pp.savefig()\n",
    "pp.close()\n",
    "plt.show()\n",
    "\n"
   ]
  },
  {
   "cell_type": "code",
   "execution_count": 85,
   "metadata": {
    "collapsed": false
   },
   "outputs": [
    {
     "data": {
      "text/plain": [
       "<matplotlib.figure.Figure at 0x7f36c8aa6e50>"
      ]
     },
     "metadata": {},
     "output_type": "display_data"
    }
   ],
   "source": [
    "\n",
    "\n"
   ]
  },
  {
   "cell_type": "code",
   "execution_count": null,
   "metadata": {
    "collapsed": true
   },
   "outputs": [],
   "source": []
  }
 ],
 "metadata": {
  "kernelspec": {
   "display_name": "Python 2",
   "language": "python",
   "name": "python2"
  },
  "language_info": {
   "codemirror_mode": {
    "name": "ipython",
    "version": 2
   },
   "file_extension": ".py",
   "mimetype": "text/x-python",
   "name": "python",
   "nbconvert_exporter": "python",
   "pygments_lexer": "ipython2",
   "version": "2.7.10"
  }
 },
 "nbformat": 4,
 "nbformat_minor": 0
}
