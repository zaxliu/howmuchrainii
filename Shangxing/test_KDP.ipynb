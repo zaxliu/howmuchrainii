{
 "cells": [
  {
   "cell_type": "code",
   "execution_count": 1,
   "metadata": {
    "collapsed": true
   },
   "outputs": [],
   "source": [
    "import numpy as np\n",
    "import pandas as pd\n",
    "\n",
    "from sklearn.pipeline import Pipeline\n",
    "\n",
    "from sklearn.preprocessing import Imputer\n",
    "\n",
    "from sklearn.utils.estimator_checks import check_estimator\n",
    "\n",
    "from sklearn.cross_validation import cross_val_score"
   ]
  },
  {
   "cell_type": "code",
   "execution_count": 2,
   "metadata": {
    "collapsed": true
   },
   "outputs": [],
   "source": [
    "trn_all = pd.read_csv('../data/train.csv')  # column #0 in our file is index\n",
    "\n",
    "#selected features and Cut off outliers of Expected >= 69\n",
    "#trn_new = trn_all[trn_all['Expected']<69]\n",
    "trn_new = trn_all\n",
    "\n",
    "#combine observations with same ID by using mean\n",
    "#replace Nan by overall mean\n",
    "trn_mean = trn_new.groupby(trn_new.Id).agg(['mean', 'median', 'std', 'count', 'min', 'max'])\n",
    "trn_mean.columns = ['_'.join(col).strip() for col in trn_mean.columns.values]\n",
    "trn_mean = trn_mean.drop(['Expected_count', 'Expected_median', 'Expected_std', 'Expected_min', 'Expected_max'], axis =1)\n",
    "\n",
    "del trn_all\n",
    "del trn_new"
   ]
  },
  {
   "cell_type": "code",
   "execution_count": 3,
   "metadata": {
    "collapsed": true
   },
   "outputs": [],
   "source": [
    "# ignore id's where all Ref vales are NaN\n",
    "trn_mean = trn_mean[pd.notnull(trn_mean.Ref_mean)]\n",
    "\n",
    "# Imputing\n",
    "index2 = list(trn_mean)\n",
    "imp = Imputer(missing_values='NaN', strategy='mean', axis=0)\n",
    "\n",
    "trn_mean= pd.DataFrame(imp.fit_transform(trn_mean),index = trn_mean.index, columns=index2)"
   ]
  },
  {
   "cell_type": "code",
   "execution_count": 4,
   "metadata": {
    "collapsed": false
   },
   "outputs": [],
   "source": [
    "# data preparation\n",
    "X = trn_mean.loc[:,'minutes_past_mean':'Kdp_5x5_90th_max']\n",
    "y = trn_mean.loc[:,'Expected_mean']\n",
    "\n",
    "del trn_mean"
   ]
  },
  {
   "cell_type": "code",
   "execution_count": 13,
   "metadata": {
    "collapsed": false
   },
   "outputs": [],
   "source": [
    "from KDP import KDPRegressor\n",
    "import matplotlib.pyplot as plt\n",
    "# plot plots inline\n",
    "%matplotlib inline  \n",
    "\n",
    "scale = np.arange(0.01,1.1,0.01)\n",
    "indexes = range(0,len(scale))\n",
    "#print indexes\n",
    "#print scale"
   ]
  },
  {
   "cell_type": "code",
   "execution_count": 14,
   "metadata": {
    "collapsed": false
   },
   "outputs": [
    {
     "data": {
      "text/plain": [
       "0.79000000000000004"
      ]
     },
     "execution_count": 14,
     "metadata": {},
     "output_type": "execute_result"
    }
   ],
   "source": [
    "MAE = []\n",
    "for idx in indexes: \n",
    "    estimator=KDPRegressor(kdp_aa_scaling=0.33,kdp_bb_scaling=0,79)\n",
    "    estimator.fit(X = X, y =y)\n",
    "    y_est = estimator.predict(X = X)\n",
    "    MAE.append(sum(abs(y- y_est))/ len(y))\n",
    "    #print scaling, MAE\n",
    "\n",
    "opt = MAE.index(min(MAE))\n",
    "scale[opt] #best: kdp_aa_scaling=0.33,kdp_bb_scaling=0.79"
   ]
  },
  {
   "cell_type": "code",
   "execution_count": 15,
   "metadata": {
    "collapsed": false
   },
   "outputs": [
    {
     "name": "stdout",
     "output_type": "stream",
     "text": [
      "0.79\n",
      "[23.702407151318688, 23.702282877867955, 23.702159035619648, 23.702035623615128, 23.701912640692726, 23.701790100400203, 23.701668001771619, 23.701546329075374, 23.70142515069216, 23.701304905015885, 23.70118571391605, 23.701067371553332, 23.700949834530597, 23.700833040729457, 23.700716858439328, 23.700601268820456, 23.700486436584878, 23.700372470746149, 23.700259534953922, 23.700165685133658, 23.700134474073852, 23.700104053789019, 23.700074412595146, 23.700045584530734, 23.700017425974657, 23.699990114876133, 23.699963510694676, 23.699937610486167, 23.699912444908719, 23.699888107244803, 23.699864376010034, 23.69984131058953, 23.699818827480939, 23.699796877969042, 23.699775528529333, 23.699754849796662, 23.699734880969213, 23.699715446458431, 23.699696554545145, 23.699678178692245, 23.699660290190472, 23.699642867440783, 23.69962595589524, 23.699609601330575, 23.699593790208787, 23.699578531962946, 23.699563883141426, 23.699549780536415, 23.69953614686678, 23.69952315232117, 23.699510872967561, 23.699499167722006, 23.699487954617769, 23.699477260610553, 23.699467075076491, 23.699457402211852, 23.699448315366233, 23.699439537980542, 23.69943119444579, 23.699423865375415, 23.699417187897289, 23.699410813751825, 23.699404734121078, 23.699399013873929, 23.69939370331339, 23.699388816133773, 23.699384323799961, 23.699380228596866, 23.699376543324437, 23.699373262599565, 23.699370352938139, 23.69936780480176, 23.699365638312049, 23.69936378626571, 23.699362299939214, 23.699361220705551, 23.699360482081669, 23.699360042906221, 23.699359927054243, 23.699360123683938, 23.699360619125294, 23.699363337049206, 23.699367630368581, 23.699372283142583, 23.699377224635295, 23.699382471054083, 23.69938814058187, 23.69939425319415, 23.699400710006636, 23.699407584805275, 23.699414872388914, 23.699422541017579, 23.699430607756796, 23.69943916222131, 23.699448172325379, 23.699457588533935, 23.699467492692261, 23.699477892702021, 23.699488713970133, 23.699499977101524, 23.699511643760751, 23.699523687709089, 23.699611490754521, 23.699723009546283, 23.699834656933316, 23.699946450867095, 23.700058337522005, 23.700170348847724, 23.70028252581119]\n"
     ]
    }
   ],
   "source": [
    "print(scale[opt])\n",
    "print(MAE)"
   ]
  },
  {
   "cell_type": "code",
   "execution_count": 18,
   "metadata": {
    "collapsed": false
   },
   "outputs": [
    {
     "data": {
      "text/plain": [
       "[23.699359927054243]"
      ]
     },
     "execution_count": 18,
     "metadata": {},
     "output_type": "execute_result"
    }
   ],
   "source": [
    "MAE = []\n",
    "\n",
    "estimator=KDPRegressor(kdp_aa_scaling=0.33,kdp_bb_scaling=0.79)\n",
    "estimator.fit(X = X, y =y)\n",
    "y_est = estimator.predict(X = X)\n",
    "MAE.append(sum(abs(y- y_est))/ len(y))\n",
    "    #print scaling, MAE\n",
    "\n",
    "MAE"
   ]
  },
  {
   "cell_type": "code",
   "execution_count": 16,
   "metadata": {
    "collapsed": false
   },
   "outputs": [
    {
     "data": {
      "text/plain": [
       "<matplotlib.text.Text at 0x7f1c64c9e050>"
      ]
     },
     "execution_count": 16,
     "metadata": {},
     "output_type": "execute_result"
    },
    {
     "data": {
      "image/png": "[encoded data removed]",
      "text/plain": [
       "<matplotlib.figure.Figure at 0x7f1c643f9bd0>"
      ]
     },
     "metadata": {},
     "output_type": "display_data"
    }
   ],
   "source": [
    "plt.plot(scale, MAE)\n",
    "plt.xlabel(\"Power Scaling Parameter\")\n",
    "plt.ylabel(\"MAE\")"
   ]
  },
  {
   "cell_type": "code",
   "execution_count": null,
   "metadata": {
    "collapsed": true
   },
   "outputs": [],
   "source": []
  }
 ],
 "metadata": {
  "kernelspec": {
   "display_name": "Python 2",
   "language": "python",
   "name": "python2"
  },
  "language_info": {
   "codemirror_mode": {
    "name": "ipython",
    "version": 2
   },
   "file_extension": ".py",
   "mimetype": "text/x-python",
   "name": "python",
   "nbconvert_exporter": "python",
   "pygments_lexer": "ipython2",
   "version": "2.7.10"
  }
 },
 "nbformat": 4,
 "nbformat_minor": 0
}
