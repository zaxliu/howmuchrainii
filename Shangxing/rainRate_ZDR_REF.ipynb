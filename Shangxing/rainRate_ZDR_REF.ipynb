{
 "cells": [
  {
   "cell_type": "code",
   "execution_count": 1,
   "metadata": {
    "collapsed": false
   },
   "outputs": [],
   "source": [
    "__author__ = 'shangxing'\n",
    "#!/usr/bin/env python\n",
    "#\n",
    "#  Python program that will create the sample solution\n",
    "#\n",
    "#  @author: lak@climate.com\n",
    "#  @version: $Id:$\n",
    "#\n",
    "#  you may have to install the master branch of 'dask' using:\n",
    "#     pip install --upgrade git+https://github.com/blaze/dask\n",
    "#\n",
    "# Rate from Z and Zdr\n",
    "\n",
    "# For the reprocessed rain rate, it was found that the Brandes, et al. (2002) formulation produced more consistent results for the tropical Maldives environment than the in-field, real-time formulation. See Brandes, et al., eqn. 7. Note that the form of the equation used for the Z/Zdr relation is very sensitive to the value of the coefficients, particularly for low rain rates.\n",
    "\n",
    "# For the Z-ZH Rate used in the field, see the Footnotes.\n",
    "\n",
    "#   ZDR is a linear ratio - (ZH / ZV).\n",
    "\n",
    "#     RATE_Z_ZDR = zzdr_aa * (ZH ** zzdr_bb) * (ZDR ** zzdr_cc)\n",
    "\n",
    "#   where\n",
    "\n",
    "#     zzdr_aa = 0.00746\n",
    "#     zzdr_bb = 0.945\n",
    "#     zzdr_cc = -4.76\n",
    "\n",
    "\n",
    "import time\n",
    "import pandas as pd\n",
    "import numpy as np\n",
    "import sys\n",
    "import pickle as df\n",
    "import math"
   ]
  },
  {
   "cell_type": "code",
   "execution_count": 2,
   "metadata": {
    "collapsed": true
   },
   "outputs": [],
   "source": [
    "\n",
    "# change the location of the downloaded test file as necessary.\n",
    "infile=\"../data/test.csv\"\n",
    "#infile=\"kaggle/sample.csv\"\n",
    "outfile=\"../data/new_solution_zdr_ref_11_12.csv\""
   ]
  },
  {
   "cell_type": "code",
   "execution_count": 3,
   "metadata": {
    "collapsed": false
   },
   "outputs": [
    {
     "name": "stdout",
     "output_type": "stream",
     "text": [
      "Time elapsed: 22.2713 secs\n"
     ]
    }
   ],
   "source": [
    "# read file\n",
    "t = time.time()\n",
    "alldata = pd.read_csv(infile)\n",
    "\n",
    "print 'Time elapsed: {:.4f} secs'.format(time.time()-t) "
   ]
  },
  {
   "cell_type": "code",
   "execution_count": 4,
   "metadata": {
    "collapsed": false
   },
   "outputs": [
    {
     "name": "stdout",
     "output_type": "stream",
     "text": [
      "Time elapsed: 0.0009 secs\n"
     ]
    }
   ],
   "source": [
    "t = time.time()\n",
    "zzdr_aa = 0.00746\n",
    "zzdr_bb = 0.945\n",
    "zzdr_cc = -4.76\n",
    "\n",
    "#RATE_Z_ZDR = zzdr_aa * (ZH ** zzdr_bb) * (ZDR ** zzdr_cc)\n",
    "\n",
    "def rainRate_REF_ZDR(ref,zdr, minutes_past):\n",
    "    #print \"Estimating rainfall from {0} observations\".format(len(minutes_past))\n",
    "    # how long is each observation valid?\n",
    "    valid_time = np.zeros_like(minutes_past)\n",
    "    valid_time[0] = minutes_past.iloc[0]\n",
    "    for n in range(1, len(minutes_past)):\n",
    "        valid_time[n] = minutes_past.iloc[n] - minutes_past.iloc[n-1]\n",
    "    valid_time[-1] = valid_time[-1] + 60 - np.sum(valid_time)\n",
    "    valid_time = valid_time / 60.0\n",
    "\n",
    "    # sum up rainrate * validtime\n",
    "    sum = 0\n",
    "    for ref_temp,zdr_temp, hours in zip(ref,zdr, valid_time):\n",
    "        # See: https://en.wikipedia.org/wiki/DBZ_(meteorology)\n",
    "        if np.isfinite(ref_temp) and np.isfinite(zdr_temp):\n",
    "            ref_temp = pow(10,ref_temp/10)\n",
    "            mmperhr = zzdr_aa*(pow(ref_temp,zzdr_bb))*(pow(zdr_temp,zzdr_cc))\n",
    "            sum = sum + mmperhr * hours\n",
    "    return sum\n",
    "\n",
    "\n",
    "# each unique Id is an hour of data at some gauge\n",
    "def myfunc(hour):\n",
    "\n",
    "    hour = hour.sort('minutes_past', ascending=True)\n",
    "    est = rainRate_REF_ZDR(hour['Ref'], hour['Zdr'],hour['minutes_past'])\n",
    "    return est\n",
    "\n",
    "\n",
    "#return(sum((sign(Kdp)*(40.6)*(abs(Kdp) **.866)*valid_time), na.rm=TRUE))\n",
    "print 'Time elapsed: {:.4f} secs'.format(time.time()-t) "
   ]
  },
  {
   "cell_type": "code",
   "execution_count": 5,
   "metadata": {
    "collapsed": false
   },
   "outputs": [
    {
     "name": "stdout",
     "output_type": "stream",
     "text": [
      "Time elapsed: 929.7891 secs\n"
     ]
    },
    {
     "name": "stderr",
     "output_type": "stream",
     "text": [
      "/home/jingchu/anaconda2/lib/python2.7/site-packages/ipykernel/__main__.py:32: FutureWarning: sort(columns=....) is deprecated, use sort_values(by=.....)\n"
     ]
    }
   ],
   "source": [
    "t = time.time()\n",
    "estimates = alldata.groupby(alldata.Id).apply(lambda d: myfunc(d))\n",
    "\n",
    "df = pd.DataFrame(estimates,columns=['Expected'])\n",
    "\n",
    "df.to_csv(outfile, header=True)\n",
    "print 'Time elapsed: {:.4f} secs'.format(time.time()-t) "
   ]
  },
  {
   "cell_type": "code",
   "execution_count": null,
   "metadata": {
    "collapsed": true
   },
   "outputs": [],
   "source": [
    "\n"
   ]
  }
 ],
 "metadata": {
  "kernelspec": {
   "display_name": "Python 2",
   "language": "python",
   "name": "python2"
  },
  "language_info": {
   "codemirror_mode": {
    "name": "ipython",
    "version": 2
   },
   "file_extension": ".py",
   "mimetype": "text/x-python",
   "name": "python",
   "nbconvert_exporter": "python",
   "pygments_lexer": "ipython2",
   "version": "2.7.10"
  }
 },
 "nbformat": 4,
 "nbformat_minor": 0
}
