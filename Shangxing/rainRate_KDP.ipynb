{
 "cells": [
  {
   "cell_type": "code",
   "execution_count": 2,
   "metadata": {
    "collapsed": false
   },
   "outputs": [],
   "source": [
    "__author__ = 'shangxing'\n",
    "#!/usr/bin/env python\n",
    "#\n",
    "#  Python program that will create the sample solution\n",
    "#\n",
    "#  @author: lak@climate.com\n",
    "#  @version: $Id:$\n",
    "#\n",
    "#  you may have to install the master branch of 'dask' using:\n",
    "#     pip install --upgrade git+https://github.com/blaze/dask\n",
    "#\n",
    "# Rate from KDP\n",
    "\n",
    "# From Sachidananda and Zrnic, 1987 (eqn 9).\n",
    "\n",
    "#   KDP in deg/km.\n",
    "\n",
    "#     RATE_KDP = sign(KDP) * kdp_aa * (|KDP| ** kdp_bb).\n",
    "\n",
    "#   where\n",
    "\n",
    "#     kdp_aa = 40.6\n",
    "#     kdp_bb = 0.866\n",
    "\n",
    "import time\n",
    "import pandas as pd\n",
    "import numpy as np\n",
    "import sys\n",
    "import pickle as df"
   ]
  },
  {
   "cell_type": "code",
   "execution_count": 3,
   "metadata": {
    "collapsed": true
   },
   "outputs": [],
   "source": [
    "\n",
    "# change the location of the downloaded test file as necessary.\n",
    "infile=\"../data/test.csv\"\n",
    "#infile=\"kaggle/sample.csv\"\n",
    "outfile=\"../data/new_solution_11_12.csv\""
   ]
  },
  {
   "cell_type": "code",
   "execution_count": 4,
   "metadata": {
    "collapsed": false
   },
   "outputs": [
    {
     "name": "stdout",
     "output_type": "stream",
     "text": [
      "Time elapsed: 79.9494 secs\n"
     ]
    }
   ],
   "source": [
    "# read file\n",
    "t = time.time()\n",
    "alldata = pd.read_csv(infile)\n",
    "print 'Time elapsed: {:.4f} secs'.format(time.time()-t) "
   ]
  },
  {
   "cell_type": "code",
   "execution_count": 12,
   "metadata": {
    "collapsed": false
   },
   "outputs": [
    {
     "name": "stdout",
     "output_type": "stream",
     "text": [
      "Time elapsed: 46.8730 secs\n"
     ]
    }
   ],
   "source": [
    "kdp_aa = 40.6\n",
    "kdp_bb = 0.866\n",
    "\n",
    "def rainRate_KDP(kdp, minutes_past):\n",
    "    #print \"Estimating rainfall from {0} observations\".format(len(minutes_past))\n",
    "    # how long is each observation valid?\n",
    "    valid_time = np.zeros_like(minutes_past)\n",
    "    valid_time[0] = minutes_past.iloc[0]\n",
    "    for n in range(1, len(minutes_past)):\n",
    "        valid_time[n] = minutes_past.iloc[n] - minutes_past.iloc[n-1]\n",
    "    valid_time[-1] = valid_time[-1] + 60 - np.sum(valid_time)\n",
    "    valid_time = valid_time / 60.0\n",
    "\n",
    "    # sum up rainrate * validtime\n",
    "    sum = 0\n",
    "    for kdp_temp, hours in zip(kdp, valid_time):\n",
    "        # See: https://en.wikipedia.org/wiki/DBZ_(meteorology)\n",
    "        if np.isfinite(dbz):\n",
    "            mmperhr = np.sign(kdp_temp)*kdp_aa*pow(np.abs(kdp_temp),kdp_bb)\n",
    "            sum = sum + mmperhr * hours\n",
    "    return sum\n",
    "\n",
    "\n",
    "# each unique Id is an hour of data at some gauge\n",
    "def myfunc(hour):\n",
    "\n",
    "    hour = hour.sort('minutes_past', ascending=True)\n",
    "    est = rainRate_KDP(hour['Kdp'], hour['minutes_past'])\n",
    "    return est\n",
    "\n",
    "\n",
    "#return(sum((sign(Kdp)*(40.6)*(abs(Kdp) **.866)*valid_time), na.rm=TRUE))\n",
    "print 'Time elapsed: {:.4f} secs'.format(time.time()-t) "
   ]
  },
  {
   "cell_type": "code",
   "execution_count": 13,
   "metadata": {
    "collapsed": false
   },
   "outputs": [
    {
     "name": "stdout",
     "output_type": "stream",
     "text": [
      "Time elapsed: 868.7828 secs\n"
     ]
    },
    {
     "name": "stderr",
     "output_type": "stream",
     "text": [
      "/home/jingchu/anaconda2/lib/python2.7/site-packages/ipykernel/__main__.py:24: FutureWarning: sort(columns=....) is deprecated, use sort_values(by=.....)\n"
     ]
    }
   ],
   "source": [
    "t = time.time()\n",
    "estimates = alldata.groupby(alldata.Id).apply(lambda d: myfunc(d))\n",
    "\n",
    "df = pd.DataFrame(estimates,columns=['Expected'])\n",
    "\n",
    "df.to_csv(outfile, header=True)\n",
    "print 'Time elapsed: {:.4f} secs'.format(time.time()-t) "
   ]
  },
  {
   "cell_type": "code",
   "execution_count": 9,
   "metadata": {
    "collapsed": false
   },
   "outputs": [
    {
     "data": {
      "text/plain": [
       "0.5"
      ]
     },
     "execution_count": 9,
     "metadata": {},
     "output_type": "execute_result"
    }
   ],
   "source": [
    "np.abs(0.5)"
   ]
  },
  {
   "cell_type": "code",
   "execution_count": null,
   "metadata": {
    "collapsed": true
   },
   "outputs": [],
   "source": []
  }
 ],
 "metadata": {
  "kernelspec": {
   "display_name": "Python 2",
   "language": "python",
   "name": "python2"
  },
  "language_info": {
   "codemirror_mode": {
    "name": "ipython",
    "version": 2
   },
   "file_extension": ".py",
   "mimetype": "text/x-python",
   "name": "python",
   "nbconvert_exporter": "python",
   "pygments_lexer": "ipython2",
   "version": "2.7.10"
  }
 },
 "nbformat": 4,
 "nbformat_minor": 0
}
