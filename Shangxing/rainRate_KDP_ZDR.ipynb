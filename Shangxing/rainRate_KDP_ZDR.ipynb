{
 "cells": [
  {
   "cell_type": "code",
   "execution_count": null,
   "metadata": {
    "collapsed": false
   },
   "outputs": [],
   "source": [
    "__author__ = 'shangxing'\n",
    "#!/usr/bin/env python\n",
    "#\n",
    "#  Python program that will create the sample solution\n",
    "#\n",
    "#  @author: lak@climate.com\n",
    "#  @version: $Id:$\n",
    "#\n",
    "#  you may have to install the master branch of 'dask' using:\n",
    "#     pip install --upgrade git+https://github.com/blaze/dask\n",
    "#\n",
    "\t \n",
    "# Rate from KDP and ZDR\n",
    "\n",
    "# Equation form from Ryzhkov and Zrnic, 1995, with coefficents determined by Brandes (personal communication w/ M. Dixon) for the tropical situation of CP2 radar and disdrometer data near Brisbane.\n",
    "\n",
    "#       RATE_KDP_ZDR =\n",
    "#         sign(KDP) * kdpzdr_aa * (|KDP| ** kdpzdr_bb) *\n",
    "#        (ZDR  ** kdpzdr_cc)\n",
    "\n",
    "#   where\n",
    "\n",
    "#     kdpzdr_aa = 136\n",
    "#     kdpzdr_bb = 0.968\n",
    "#     kdpzdr_cc = -2.86\n",
    "\n",
    "\n",
    "import time\n",
    "import pandas as pd\n",
    "import numpy as np\n",
    "import sys\n",
    "import pickle as df\n",
    "import math"
   ]
  },
  {
   "cell_type": "code",
   "execution_count": null,
   "metadata": {
    "collapsed": true
   },
   "outputs": [],
   "source": [
    "\n",
    "# change the location of the downloaded test file as necessary.\n",
    "infile=\"../data/test.csv\"\n",
    "#infile=\"kaggle/sample.csv\"\n",
    "outfile=\"../data/new_solution_11_12.csv\""
   ]
  },
  {
   "cell_type": "code",
   "execution_count": 1,
   "metadata": {
    "collapsed": false
   },
   "outputs": [
    {
     "ename": "NameError",
     "evalue": "name 'time' is not defined",
     "output_type": "error",
     "traceback": [
      "\u001b[1;31m---------------------------------------------------------------------------\u001b[0m",
      "\u001b[1;31mNameError\u001b[0m                                 Traceback (most recent call last)",
      "\u001b[1;32m<ipython-input-1-1b27e5a34493>\u001b[0m in \u001b[0;36m<module>\u001b[1;34m()\u001b[0m\n\u001b[0;32m      1\u001b[0m \u001b[1;31m# read file\u001b[0m\u001b[1;33m\u001b[0m\u001b[1;33m\u001b[0m\u001b[0m\n\u001b[1;32m----> 2\u001b[1;33m \u001b[0mt\u001b[0m \u001b[1;33m=\u001b[0m \u001b[0mtime\u001b[0m\u001b[1;33m.\u001b[0m\u001b[0mtime\u001b[0m\u001b[1;33m(\u001b[0m\u001b[1;33m)\u001b[0m\u001b[1;33m\u001b[0m\u001b[0m\n\u001b[0m\u001b[0;32m      3\u001b[0m \u001b[0malldata\u001b[0m \u001b[1;33m=\u001b[0m \u001b[0mpd\u001b[0m\u001b[1;33m.\u001b[0m\u001b[0mread_csv\u001b[0m\u001b[1;33m(\u001b[0m\u001b[0minfile\u001b[0m\u001b[1;33m)\u001b[0m\u001b[1;33m\u001b[0m\u001b[0m\n\u001b[0;32m      4\u001b[0m \u001b[1;33m\u001b[0m\u001b[0m\n\u001b[0;32m      5\u001b[0m \u001b[1;32mdef\u001b[0m \u001b[0mrainRate_ZDR_REF\u001b[0m\u001b[1;33m(\u001b[0m\u001b[0mref\u001b[0m\u001b[1;33m,\u001b[0m\u001b[0mzdr\u001b[0m\u001b[1;33m,\u001b[0m \u001b[0mminutes_past\u001b[0m\u001b[1;33m)\u001b[0m\u001b[1;33m:\u001b[0m\u001b[1;33m\u001b[0m\u001b[0m\n",
      "\u001b[1;31mNameError\u001b[0m: name 'time' is not defined"
     ]
    }
   ],
   "source": [
    "# read file\n",
    "t = time.time()\n",
    "alldata = pd.read_csv(infile)\n",
    "\n"
   ]
  },
  {
   "cell_type": "code",
   "execution_count": null,
   "metadata": {
    "collapsed": true
   },
   "outputs": [],
   "source": [
    "kdpzdr_aa = 136\n",
    "kdpzdr_bb = 0.968\n",
    "kdpzdr_cc = -2.86\n",
    "\n",
    "#       RATE_KDP_ZDR =\n",
    "#         sign(KDP) * kdpzdr_aa * (|KDP| ** kdpzdr_bb) *\n",
    "#        (ZDR  ** kdpzdr_cc)\n",
    "\n",
    "def rainRate_KDP_ZDR(kdp,zdr, minutes_past):\n",
    "    #print \"Estimating rainfall from {0} observations\".format(len(minutes_past))\n",
    "    # how long is each observation valid?\n",
    "    valid_time = np.zeros_like(minutes_past)\n",
    "    valid_time[0] = minutes_past.iloc[0]\n",
    "    for n in range(1, len(minutes_past)):\n",
    "        valid_time[n] = minutes_past.iloc[n] - minutes_past.iloc[n-1]\n",
    "    valid_time[-1] = valid_time[-1] + 60 - np.sum(valid_time)\n",
    "    valid_time = valid_time / 60.0\n",
    "\n",
    "    # sum up rainrate * validtime\n",
    "    sum = 0\n",
    "    for kdp_temp,zdr_temp, hours in zip(ref,zdr, valid_time):\n",
    "        # See: https://en.wikipedia.org/wiki/DBZ_(meteorology)\n",
    "        if np.isfinite(kdp_temp) and np.isfinite(zdr_temp):\n",
    "           \n",
    "            mmperhr = np.sign(kdp_temp)*kdpzdr_aa*(pow(np.abs(kdp_temp),kdpzdr_bb)*pow(zdr_temp,kdpzdr_cc)\n",
    "            sum = sum + mmperhr * hours\n",
    "    return sum\n",
    "\n",
    "\n",
    "# each unique Id is an hour of data at some gauge\n",
    "def myfunc(hour):\n",
    "\n",
    "    hour = hour.sort('minutes_past', ascending=True)\n",
    "    est = rainRate_KDP_ZDR(hour['Kdp'], hour['Zdr'],hour['minutes_past'])\n",
    "    return est\n",
    "\n",
    "\n",
    "#return(sum((sign(Kdp)*(40.6)*(abs(Kdp) **.866)*valid_time), na.rm=TRUE))\n",
    "print 'Time elapsed: {:.4f} secs'.format(time.time()-t) "
   ]
  },
  {
   "cell_type": "code",
   "execution_count": null,
   "metadata": {
    "collapsed": true
   },
   "outputs": [],
   "source": [
    "t = time.time()\n",
    "estimates = alldata.groupby(alldata.Id).apply(lambda d: myfunc(d))\n",
    "\n",
    "df = pd.DataFrame(estimates,columns=['Expected'])\n",
    "\n",
    "df.to_csv(outfile, header=True)\n",
    "print 'Time elapsed: {:.4f} secs'.format(time.time()-t) "
   ]
  },
  {
   "cell_type": "code",
   "execution_count": null,
   "metadata": {
    "collapsed": true
   },
   "outputs": [],
   "source": []
  }
 ],
 "metadata": {
  "kernelspec": {
   "display_name": "Python 2",
   "language": "python",
   "name": "python2"
  },
  "language_info": {
   "codemirror_mode": {
    "name": "ipython",
    "version": 2
   },
   "file_extension": ".py",
   "mimetype": "text/x-python",
   "name": "python",
   "nbconvert_exporter": "python",
   "pygments_lexer": "ipython2",
   "version": "2.7.10"
  }
 },
 "nbformat": 4,
 "nbformat_minor": 0
}
