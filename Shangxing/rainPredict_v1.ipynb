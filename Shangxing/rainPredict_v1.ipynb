{
 "cells": [
  {
   "cell_type": "code",
   "execution_count": 1,
   "metadata": {
    "collapsed": false
   },
   "outputs": [],
   "source": [
    "import time\n",
    "#\n",
    "import numpy as np\n",
    "import pandas as pd\n",
    "#import matplotlib.pyplot as plt\n",
    "# \n",
    "from sklearn.preprocessing import StandardScaler\n",
    "from sklearn.preprocessing import Imputer\n",
    "from sklearn.ensemble import RandomForestRegressor\n",
    "from sklearn.cross_validation import train_test_split\n",
    "from math import *\n",
    "from sklearn import metrics\n",
    "#\n",
    "pd.set_option('display.max_columns', 500)  # force pandas to display all columns for better visual inspection\n",
    "# plot plots inline\n",
    "#matplotlib inline "
   ]
  },
  {
   "cell_type": "code",
   "execution_count": 2,
   "metadata": {
    "collapsed": true
   },
   "outputs": [],
   "source": [
    "trn_10 = pd.read_csv('../data/train.csv')  # column #0 in our file is index\n",
    "# trn_1 = pd.read_csv('../data/train_1.csv', index_col=0)"
   ]
  },
  {
   "cell_type": "code",
   "execution_count": 3,
   "metadata": {
    "collapsed": false
   },
   "outputs": [],
   "source": [
    "#selected features and Cut off outliers of Expected >= 69\n",
    "index=list(trn_10)\n",
    "my_indices = [0,1,2,3,5,6,7,9,10,15,17, 18, 23]\n",
    "trn_new = trn_10[[index[i] for i in my_indices]]\n",
    "\n",
    "trn_new = trn_new[trn_new['Expected']<69] \n",
    "\n",
    "\n",
    "\n",
    "\n"
   ]
  },
  {
   "cell_type": "code",
   "execution_count": 4,
   "metadata": {
    "collapsed": false
   },
   "outputs": [],
   "source": [
    "#Cut off Ref values < 0\n",
    "trn_new[trn_new['Ref_5x5_50th']<0] = np.nan\n",
    "trn_new[trn_new['Ref_5x5_90th']<0] = np.nan\n",
    "trn_new[trn_new['RefComposite']<0] = np.nan\n",
    "trn_new[trn_new['RefComposite_5x5_50th']<0] = np.nan\n",
    "trn_new[trn_new['RefComposite_5x5_90th']<0] = np.nan\n",
    "trn_new[trn_new['Ref']<0] = np.nan"
   ]
  },
  {
   "cell_type": "code",
   "execution_count": 5,
   "metadata": {
    "collapsed": false
   },
   "outputs": [],
   "source": [
    "#combine observations with same ID by using mean\n",
    "#replace Nan by overall mean\n",
    "trn_mean = trn_new.groupby(trn_new.Id).mean()\n",
    "index2 = list(trn_mean)\n",
    "imp = Imputer(missing_values='NaN', strategy='mean', axis=0)\n",
    "\n",
    "\n",
    "\n",
    "trn_mean= pd.DataFrame(imp.fit_transform(trn_mean),index = trn_mean.index, columns=index2)\n",
    "\n",
    "\n"
   ]
  },
  {
   "cell_type": "code",
   "execution_count": 6,
   "metadata": {
    "collapsed": false
   },
   "outputs": [],
   "source": [
    "#train and test data preparation\n",
    "X_trn = trn_mean.loc[:,'minutes_past':'Zdr_5x5_90th'].values\n",
    "y_trn = np.log1p(trn_mean.loc[:,'Expected'].values)\n",
    "\n",
    "\n",
    "# Split data as training and validation set\n",
    "#[X_trn, X_test, y_trn, y_test] = train_test_split(X, Y, test_size = 0.3)\n"
   ]
  },
  {
   "cell_type": "code",
   "execution_count": 7,
   "metadata": {
    "collapsed": false
   },
   "outputs": [
    {
     "name": "stdout",
     "output_type": "stream",
     "text": [
      "170.840358973\n"
     ]
    }
   ],
   "source": [
    "#train model\n",
    "t = time.time()\n",
    "clf = RandomForestRegressor(n_estimators=20,n_jobs=2)  # NOTE: n_jobs=-1 will use all of your cores, set to a prefered number\n",
    "clf.fit(X_trn, y_trn)\n",
    "print time.time()-t"
   ]
  },
  {
   "cell_type": "code",
   "execution_count": null,
   "metadata": {
    "collapsed": false
   },
   "outputs": [],
   "source": [
    "#test performance\n",
    "#y_predict = clf.predict(X_test)\n",
    "#score = metrics.mean_absolute_error(y_test, np.exp(y_predict)-1) #MAE"
   ]
  },
  {
   "cell_type": "code",
   "execution_count": null,
   "metadata": {
    "collapsed": true
   },
   "outputs": [],
   "source": []
  },
  {
   "cell_type": "code",
   "execution_count": null,
   "metadata": {
    "collapsed": false
   },
   "outputs": [],
   "source": [
    "#print score"
   ]
  },
  {
   "cell_type": "markdown",
   "metadata": {},
   "source": [
    "# === ===== === "
   ]
  },
  {
   "cell_type": "code",
   "execution_count": 8,
   "metadata": {
    "collapsed": true
   },
   "outputs": [],
   "source": [
    "#generate test result\n",
    "test = pd.read_csv('../data/test.csv')"
   ]
  },
  {
   "cell_type": "code",
   "execution_count": 10,
   "metadata": {
    "collapsed": false,
    "scrolled": false
   },
   "outputs": [
    {
     "data": {
      "text/plain": [
       "717625"
      ]
     },
     "execution_count": 10,
     "metadata": {},
     "output_type": "execute_result"
    }
   ],
   "source": [
    "test['Id'].nunique()"
   ]
  },
  {
   "cell_type": "code",
   "execution_count": 11,
   "metadata": {
    "collapsed": false
   },
   "outputs": [
    {
     "data": {
      "text/plain": [
       "['Id',\n",
       " 'minutes_past',\n",
       " 'radardist_km',\n",
       " 'Ref',\n",
       " 'Ref_5x5_10th',\n",
       " 'Ref_5x5_50th',\n",
       " 'Ref_5x5_90th',\n",
       " 'RefComposite',\n",
       " 'RefComposite_5x5_10th',\n",
       " 'RefComposite_5x5_50th',\n",
       " 'RefComposite_5x5_90th',\n",
       " 'RhoHV',\n",
       " 'RhoHV_5x5_10th',\n",
       " 'RhoHV_5x5_50th',\n",
       " 'RhoHV_5x5_90th',\n",
       " 'Zdr',\n",
       " 'Zdr_5x5_10th',\n",
       " 'Zdr_5x5_50th',\n",
       " 'Zdr_5x5_90th',\n",
       " 'Kdp',\n",
       " 'Kdp_5x5_10th',\n",
       " 'Kdp_5x5_50th',\n",
       " 'Kdp_5x5_90th']"
      ]
     },
     "execution_count": 11,
     "metadata": {},
     "output_type": "execute_result"
    }
   ],
   "source": [
    "list(test)"
   ]
  },
  {
   "cell_type": "code",
   "execution_count": 32,
   "metadata": {
    "collapsed": true
   },
   "outputs": [],
   "source": [
    "#selected features and Cut off outliers of Expected >= 69\n",
    "index=list(test)\n",
    "my_indices = [0,1,2,3,5,6,7,9,10,15,17, 18]\n",
    "test_new = test[[index[i] for i in my_indices]]"
   ]
  },
  {
   "cell_type": "code",
   "execution_count": 33,
   "metadata": {
    "collapsed": false
   },
   "outputs": [
    {
     "data": {
      "text/plain": [
       "717625"
      ]
     },
     "execution_count": 33,
     "metadata": {},
     "output_type": "execute_result"
    }
   ],
   "source": [
    "test_new['Id'].nunique()"
   ]
  },
  {
   "cell_type": "markdown",
   "metadata": {},
   "source": [
    "# Below is where went wrong "
   ]
  },
  {
   "cell_type": "code",
   "execution_count": 27,
   "metadata": {
    "collapsed": true
   },
   "outputs": [
    {
     "name": "stderr",
     "output_type": "stream",
     "text": [
      "/home/jingchu/anaconda2/lib/python2.7/site-packages/ipykernel/__main__.py:2: SettingWithCopyWarning: \n",
      "A value is trying to be set on a copy of a slice from a DataFrame.\n",
      "Try using .loc[row_indexer,col_indexer] = value instead\n",
      "\n",
      "See the caveats in the documentation: http://pandas.pydata.org/pandas-docs/stable/indexing.html#indexing-view-versus-copy\n",
      "  from ipykernel import kernelapp as app\n",
      "/home/jingchu/anaconda2/lib/python2.7/site-packages/ipykernel/__main__.py:3: SettingWithCopyWarning: \n",
      "A value is trying to be set on a copy of a slice from a DataFrame.\n",
      "Try using .loc[row_indexer,col_indexer] = value instead\n",
      "\n",
      "See the caveats in the documentation: http://pandas.pydata.org/pandas-docs/stable/indexing.html#indexing-view-versus-copy\n",
      "  app.launch_new_instance()\n",
      "/home/jingchu/anaconda2/lib/python2.7/site-packages/ipykernel/__main__.py:4: SettingWithCopyWarning: \n",
      "A value is trying to be set on a copy of a slice from a DataFrame.\n",
      "Try using .loc[row_indexer,col_indexer] = value instead\n",
      "\n",
      "See the caveats in the documentation: http://pandas.pydata.org/pandas-docs/stable/indexing.html#indexing-view-versus-copy\n",
      "/home/jingchu/anaconda2/lib/python2.7/site-packages/ipykernel/__main__.py:5: SettingWithCopyWarning: \n",
      "A value is trying to be set on a copy of a slice from a DataFrame.\n",
      "Try using .loc[row_indexer,col_indexer] = value instead\n",
      "\n",
      "See the caveats in the documentation: http://pandas.pydata.org/pandas-docs/stable/indexing.html#indexing-view-versus-copy\n",
      "/home/jingchu/anaconda2/lib/python2.7/site-packages/ipykernel/__main__.py:6: SettingWithCopyWarning: \n",
      "A value is trying to be set on a copy of a slice from a DataFrame.\n",
      "Try using .loc[row_indexer,col_indexer] = value instead\n",
      "\n",
      "See the caveats in the documentation: http://pandas.pydata.org/pandas-docs/stable/indexing.html#indexing-view-versus-copy\n",
      "/home/jingchu/anaconda2/lib/python2.7/site-packages/ipykernel/__main__.py:7: SettingWithCopyWarning: \n",
      "A value is trying to be set on a copy of a slice from a DataFrame.\n",
      "Try using .loc[row_indexer,col_indexer] = value instead\n",
      "\n",
      "See the caveats in the documentation: http://pandas.pydata.org/pandas-docs/stable/indexing.html#indexing-view-versus-copy\n"
     ]
    }
   ],
   "source": [
    "#Cut off Ref values < 0\n",
    "test_new[test_new['Ref_5x5_50th']<0] = np.nan\n",
    "test_new[test_new['Ref_5x5_90th']<0] = np.nan\n",
    "test_new[test_new['RefComposite']<0] = np.nan\n",
    "test_new[test_new['RefComposite_5x5_50th']<0] = np.nan\n",
    "test_new[test_new['RefComposite_5x5_90th']<0] = np.nan\n",
    "test_new[test_new['Ref']<0] = np.nan"
   ]
  },
  {
   "cell_type": "code",
   "execution_count": 28,
   "metadata": {
    "collapsed": false,
    "scrolled": true
   },
   "outputs": [
    {
     "data": {
      "text/plain": [
       "716611"
      ]
     },
     "execution_count": 28,
     "metadata": {},
     "output_type": "execute_result"
    }
   ],
   "source": [
    "test_new['Id'].nunique()"
   ]
  },
  {
   "cell_type": "code",
   "execution_count": 35,
   "metadata": {
    "collapsed": false
   },
   "outputs": [],
   "source": [
    "#Cut off Ref values < 0\n",
    "test_new.loc[test_new['Ref_5x5_50th']<0, 'Ref_5x5_50th'] = np.nan\n",
    "test_new.loc[test_new['Ref_5x5_90th']<0, 'Ref_5x5_90th'] = np.nan\n",
    "test_new.loc[test_new['RefComposite']<0, 'RefComposite'] = np.nan\n",
    "test_new.loc[test_new['RefComposite_5x5_50th']<0, 'RefComposite_5x5_50th'] = np.nan\n",
    "test_new.loc[test_new['RefComposite_5x5_90th']<0, 'RefComposite_5x5_90th'] = np.nan\n",
    "test_new.loc[test_new['Ref']<0, 'Ref'] = np.nan"
   ]
  },
  {
   "cell_type": "code",
   "execution_count": 36,
   "metadata": {
    "collapsed": false,
    "scrolled": true
   },
   "outputs": [
    {
     "data": {
      "text/plain": [
       "717625"
      ]
     },
     "execution_count": 36,
     "metadata": {},
     "output_type": "execute_result"
    }
   ],
   "source": [
    "test_new['Id'].nunique()"
   ]
  },
  {
   "cell_type": "markdown",
   "metadata": {},
   "source": [
    "# Above is ..."
   ]
  },
  {
   "cell_type": "code",
   "execution_count": null,
   "metadata": {
    "collapsed": false,
    "scrolled": false
   },
   "outputs": [],
   "source": [
    "#combine observations with same ID by using mean\n",
    "#replace Nan by overall mean\n",
    "test_mean = test_new.groupby(test_new.Id).mean()\n",
    "index2 = list(test_mean)\n",
    "imp = Imputer(missing_values='NaN', strategy='mean', axis=0)\n",
    "test_mean= pd.DataFrame(imp.fit_transform(test_mean),index=test_mean.index,columns=index2)\n",
    "\n",
    "test_X =test_mean.loc[:,'minutes_past':'Zdr_5x5_90th'].values\n",
    "\n",
    "test_y_predict = np.exp(clf.predict(test_X))-1"
   ]
  },
  {
   "cell_type": "code",
   "execution_count": null,
   "metadata": {
    "collapsed": false
   },
   "outputs": [],
   "source": [
    "#generate output file\n",
    "#0.75 from prediction and 0.25 from marshall palmer\n",
    "marshall = pd.read_csv('../data/sample_solution.csv')\n",
    "\n",
    "test_result_exist = pd.DataFrame()\n",
    "test_result_exist['Id'] = test_mean.index\n",
    "test_result_exist['Expected'] = test_y_predict\n",
    "\n",
    "test_result = pd.DataFrame()\n",
    "test_result['Id'] = test['Id'].unique()\n",
    "test_result = pd.merge(test_result, test_result_exist, how='left', on=['Id'], sort=True)\n",
    "test_result.loc[test_result['Expected'].isnull(), 'Expected'] = marshall.loc[test_result['Expected'].isnull(), 'Expected']\n",
    "test_result.loc[test_result['Expected'].notnull(), 'Expected'] = 0.75*test_result.loc[test_result['Expected'].notnull(), 'Expected']+0.25*marshall.loc[test_result['Expected'].notnull(), 'Expected']\n",
    "\n",
    "test_result.to_csv('../data/result3.csv', index=False)"
   ]
  },
  {
   "cell_type": "code",
   "execution_count": null,
   "metadata": {
    "collapsed": false
   },
   "outputs": [],
   "source": [
    "#print test_result\n",
    "#submission$Expected <- round(submission$Expected / 0.254) * 0.254"
   ]
  },
  {
   "cell_type": "code",
   "execution_count": null,
   "metadata": {
    "collapsed": true
   },
   "outputs": [],
   "source": [
    "print test_result\n"
   ]
  },
  {
   "cell_type": "code",
   "execution_count": null,
   "metadata": {
    "collapsed": true
   },
   "outputs": [],
   "source": []
  }
 ],
 "metadata": {
  "kernelspec": {
   "display_name": "Python 2",
   "language": "python",
   "name": "python2"
  },
  "language_info": {
   "codemirror_mode": {
    "name": "ipython",
    "version": 2
   },
   "file_extension": ".py",
   "mimetype": "text/x-python",
   "name": "python",
   "nbconvert_exporter": "python",
   "pygments_lexer": "ipython2",
   "version": "2.7.10"
  }
 },
 "nbformat": 4,
 "nbformat_minor": 0
}
