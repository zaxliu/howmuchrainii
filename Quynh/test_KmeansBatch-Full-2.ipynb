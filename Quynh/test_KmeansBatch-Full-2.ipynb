{
 "cells": [
  {
   "cell_type": "code",
   "execution_count": 6,
   "metadata": {
    "collapsed": true
   },
   "outputs": [],
   "source": [
    "import numpy as np\n",
    "import pandas as pd\n",
    "\n",
    "from sklearn.pipeline import Pipeline\n",
    "\n",
    "from sklearn.preprocessing import Imputer\n",
    "\n",
    "from sklearn.utils.estimator_checks import check_estimator\n",
    "\n",
    "from sklearn.cross_validation import cross_val_score"
   ]
  },
  {
   "cell_type": "code",
   "execution_count": 7,
   "metadata": {
    "collapsed": true
   },
   "outputs": [],
   "source": [
    "trn_all = pd.read_csv('../data/train.csv')  # column #0 in our file is index\n",
    "\n",
    "#selected features and Cut off outliers of Expected >= 69\n",
    "trn_new = trn_all[trn_all['Expected']<69]\n",
    "trn_new = trn_all\n",
    "\n",
    "#combine observations with same ID by using mean\n",
    "#replace Nan by overall mean\n",
    "# trn_mean = trn_new.groupby(trn_new.Id).agg(['mean', 'median', 'std', 'count', 'min', 'max'])\n",
    "# trn_mean.columns = ['_'.join(col).strip() for col in trn_mean.columns.values]\n",
    "# trn_mean = trn_mean.drop(['Expected_count', 'Expected_median', 'Expected_std', 'Expected_min', 'Expected_max'], axis =1)\n",
    "trn_mean = trn_all\n",
    "del trn_all\n",
    "del trn_new"
   ]
  },
  {
   "cell_type": "code",
   "execution_count": 8,
   "metadata": {
    "collapsed": false
   },
   "outputs": [],
   "source": [
    "# ignore id's where all Ref vales are NaN\n",
    "trn_mean = trn_mean[pd.notnull(trn_mean.Ref)]\n",
    "\n",
    "# Imputing\n",
    "index2 = list(trn_mean)\n",
    "imp = Imputer(missing_values='NaN', strategy='mean', axis=0)\n",
    "\n",
    "trn_mean= pd.DataFrame(imp.fit_transform(trn_mean),index = trn_mean.index, columns=index2)"
   ]
  },
  {
   "cell_type": "code",
   "execution_count": 9,
   "metadata": {
    "collapsed": true
   },
   "outputs": [],
   "source": [
    "from kmeans_batch import ClusteringFilterBatch\n",
    "import matplotlib.pyplot as plt\n",
    "from sklearn import metrics\n",
    "# plot plots inline\n",
    "%matplotlib inline"
   ]
  },
  {
   "cell_type": "code",
   "execution_count": 10,
   "metadata": {
    "collapsed": false
   },
   "outputs": [
    {
     "name": "stdout",
     "output_type": "stream",
     "text": [
      "('For n_clusters =', 2, 'The average silhouette_score is :', 0.62913032796697643)\n",
      "('For n_clusters =', 3, 'The average silhouette_score is :', 0.59457972002902604)\n",
      "('For n_clusters =', 4, 'The average silhouette_score is :', 0.5608814304632298)\n",
      "('For n_clusters =', 5, 'The average silhouette_score is :', 0.55751298119319614)\n",
      "('For n_clusters =', 6, 'The average silhouette_score is :', 0.55057291915027196)\n",
      "('For n_clusters =', 7, 'The average silhouette_score is :', 0.54734225532295289)\n",
      "('For n_clusters =', 8, 'The average silhouette_score is :', 0.54272008279543882)\n",
      "('For n_clusters =', 9, 'The average silhouette_score is :', 0.54283594061307094)\n",
      "('For n_clusters =', 10, 'The average silhouette_score is :', 0.53844417124663957)\n",
      "('For n_clusters =', 11, 'The average silhouette_score is :', 0.53933059195141742)\n",
      "('For n_clusters =', 12, 'The average silhouette_score is :', 0.54249570660203872)\n",
      "('For n_clusters =', 13, 'The average silhouette_score is :', 0.52943870762533807)\n",
      "('For n_clusters =', 14, 'The average silhouette_score is :', 0.53064369442366044)\n",
      "('For n_clusters =', 15, 'The average silhouette_score is :', 0.52795322759288965)\n",
      "('For n_clusters =', 16, 'The average silhouette_score is :', 0.53073860233365411)\n",
      "('For n_clusters =', 17, 'The average silhouette_score is :', 0.52638684469077646)\n",
      "('For n_clusters =', 18, 'The average silhouette_score is :', 0.52910247118852438)\n",
      "('For n_clusters =', 19, 'The average silhouette_score is :', 0.52891454743141353)\n",
      "('For n_clusters =', 20, 'The average silhouette_score is :', 0.52246932040374272)\n",
      "('For n_clusters =', 21, 'The average silhouette_score is :', 0.52341427776510041)\n",
      "('For n_clusters =', 22, 'The average silhouette_score is :', 0.52543997581686386)\n",
      "('For n_clusters =', 23, 'The average silhouette_score is :', 0.53055995742349649)\n",
      "('For n_clusters =', 24, 'The average silhouette_score is :', 0.52366721553686801)\n",
      "('For n_clusters =', 25, 'The average silhouette_score is :', 0.52357744233740999)\n",
      "('For n_clusters =', 26, 'The average silhouette_score is :', 0.53150091385198561)\n",
      "('For n_clusters =', 27, 'The average silhouette_score is :', 0.53327851379191449)\n",
      "('For n_clusters =', 28, 'The average silhouette_score is :', 0.53763156881541541)\n",
      "('For n_clusters =', 29, 'The average silhouette_score is :', 0.52967913454936366)\n"
     ]
    },
    {
     "data": {
      "text/plain": [
       "2"
      ]
     },
     "execution_count": 10,
     "metadata": {},
     "output_type": "execute_result"
    }
   ],
   "source": [
    "estimator=ClusteringFilterBatch(max_clusters = 30)\n",
    "silhouette_avg = estimator.predict(trn_mean)\n",
    "opt_idx = silhouette_avg.index(max(silhouette_avg))\n",
    "silhouette = opt_idx+2\n",
    "\n",
    "silhouette"
   ]
  }
 ],
 "metadata": {
  "kernelspec": {
   "display_name": "Python 2",
   "language": "python",
   "name": "python2"
  },
  "language_info": {
   "codemirror_mode": {
    "name": "ipython",
    "version": 2
   },
   "file_extension": ".py",
   "mimetype": "text/x-python",
   "name": "python",
   "nbconvert_exporter": "python",
   "pygments_lexer": "ipython2",
   "version": "2.7.10"
  }
 },
 "nbformat": 4,
 "nbformat_minor": 0
}
