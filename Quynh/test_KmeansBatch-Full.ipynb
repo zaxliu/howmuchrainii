{
 "cells": [
  {
   "cell_type": "code",
   "execution_count": 1,
   "metadata": {
    "collapsed": true
   },
   "outputs": [],
   "source": [
    "import numpy as np\n",
    "import pandas as pd\n",
    "\n",
    "from sklearn.pipeline import Pipeline\n",
    "\n",
    "from sklearn.preprocessing import Imputer\n",
    "\n",
    "from sklearn.utils.estimator_checks import check_estimator\n",
    "\n",
    "from sklearn.cross_validation import cross_val_score"
   ]
  },
  {
   "cell_type": "code",
   "execution_count": 2,
   "metadata": {
    "collapsed": true
   },
   "outputs": [],
   "source": [
    "trn_all = pd.read_csv('../data/train.csv')  # column #0 in our file is index\n",
    "\n",
    "#selected features and Cut off outliers of Expected >= 69\n",
    "#trn_new = trn_all[trn_all['Expected']<69]\n",
    "trn_new = trn_all\n",
    "#combine observations with same ID by using mean\n",
    "#replace Nan by overall mean\n",
    "# trn_mean = trn_new.groupby(trn_new.Id).agg(['mean', 'median', 'std', 'count', 'min', 'max'])\n",
    "# trn_mean.columns = ['_'.join(col).strip() for col in trn_mean.columns.values]\n",
    "# trn_mean = trn_mean.drop(['Expected_count', 'Expected_median', 'Expected_std', 'Expected_min', 'Expected_max'], axis =1)\n",
    "trn_mean = trn_all\n",
    "del trn_all\n",
    "del trn_new"
   ]
  },
  {
   "cell_type": "code",
   "execution_count": 3,
   "metadata": {
    "collapsed": false
   },
   "outputs": [],
   "source": [
    "# ignore id's where all Ref vales are NaN\n",
    "trn_mean = trn_mean[pd.notnull(trn_mean.Ref)]\n",
    "\n",
    "# Imputing\n",
    "index2 = list(trn_mean)\n",
    "imp = Imputer(missing_values='NaN', strategy='mean', axis=0)\n",
    "\n",
    "trn_mean= pd.DataFrame(imp.fit_transform(trn_mean),index = trn_mean.index, columns=index2)"
   ]
  },
  {
   "cell_type": "code",
   "execution_count": 4,
   "metadata": {
    "collapsed": true
   },
   "outputs": [],
   "source": [
    "from kmeans_batch import ClusteringFilterBatch\n",
    "import matplotlib.pyplot as plt\n",
    "from sklearn import metrics\n",
    "# plot plots inline\n",
    "%matplotlib inline"
   ]
  },
  {
   "cell_type": "code",
   "execution_count": 5,
   "metadata": {
    "collapsed": false
   },
   "outputs": [
    {
     "name": "stdout",
     "output_type": "stream",
     "text": [
      "('For n_clusters =', 2, 'The average silhouette_score is :', 0.63265570643613434)\n",
      "('For n_clusters =', 3, 'The average silhouette_score is :', 0.5897810550951621)\n",
      "('For n_clusters =', 4, 'The average silhouette_score is :', 0.55697348894204768)\n",
      "('For n_clusters =', 5, 'The average silhouette_score is :', 0.5622807460671293)\n",
      "('For n_clusters =', 6, 'The average silhouette_score is :', 0.55464900085554314)\n",
      "('For n_clusters =', 7, 'The average silhouette_score is :', 0.54718601533132782)\n",
      "('For n_clusters =', 8, 'The average silhouette_score is :', 0.54270131976754232)\n",
      "('For n_clusters =', 9, 'The average silhouette_score is :', 0.53996148537461974)\n",
      "('For n_clusters =', 10, 'The average silhouette_score is :', 0.53488047340301736)\n",
      "('For n_clusters =', 11, 'The average silhouette_score is :', 0.54249425875440083)\n",
      "('For n_clusters =', 12, 'The average silhouette_score is :', 0.53074944493090115)\n",
      "('For n_clusters =', 13, 'The average silhouette_score is :', 0.53184580542897553)\n",
      "('For n_clusters =', 14, 'The average silhouette_score is :', 0.52265855208671408)\n",
      "('For n_clusters =', 15, 'The average silhouette_score is :', 0.53306651933260518)\n",
      "('For n_clusters =', 16, 'The average silhouette_score is :', 0.52048955396301844)\n",
      "('For n_clusters =', 17, 'The average silhouette_score is :', 0.5297075726921715)\n",
      "('For n_clusters =', 18, 'The average silhouette_score is :', 0.54001635278699844)\n",
      "('For n_clusters =', 19, 'The average silhouette_score is :', 0.52885332552067332)\n",
      "('For n_clusters =', 20, 'The average silhouette_score is :', 0.51840640898391521)\n",
      "('For n_clusters =', 21, 'The average silhouette_score is :', 0.53296232961546919)\n",
      "('For n_clusters =', 22, 'The average silhouette_score is :', 0.52283681460653464)\n",
      "('For n_clusters =', 23, 'The average silhouette_score is :', 0.52678215836626474)\n",
      "('For n_clusters =', 24, 'The average silhouette_score is :', 0.52280680975186933)\n",
      "('For n_clusters =', 25, 'The average silhouette_score is :', 0.52635584484557951)\n",
      "('For n_clusters =', 26, 'The average silhouette_score is :', 0.52842707520936827)\n",
      "('For n_clusters =', 27, 'The average silhouette_score is :', 0.52770454979120285)\n",
      "('For n_clusters =', 28, 'The average silhouette_score is :', 0.52049317119544414)\n",
      "('For n_clusters =', 29, 'The average silhouette_score is :', 0.52499955924900965)\n"
     ]
    },
    {
     "data": {
      "text/plain": [
       "2"
      ]
     },
     "execution_count": 5,
     "metadata": {},
     "output_type": "execute_result"
    }
   ],
   "source": [
    "estimator=ClusteringFilterBatch(max_clusters = 30)\n",
    "silhouette_avg = estimator.predict(trn_mean)\n",
    "opt_idx = silhouette_avg.index(max(silhouette_avg))\n",
    "silhouette = opt_idx+2\n",
    "\n",
    "silhouette"
   ]
  },
  {
   "cell_type": "code",
   "execution_count": null,
   "metadata": {
    "collapsed": true
   },
   "outputs": [],
   "source": []
  }
 ],
 "metadata": {
  "kernelspec": {
   "display_name": "Python 2",
   "language": "python",
   "name": "python2"
  },
  "language_info": {
   "codemirror_mode": {
    "name": "ipython",
    "version": 2
   },
   "file_extension": ".py",
   "mimetype": "text/x-python",
   "name": "python",
   "nbconvert_exporter": "python",
   "pygments_lexer": "ipython2",
   "version": "2.7.10"
  }
 },
 "nbformat": 4,
 "nbformat_minor": 0
}
