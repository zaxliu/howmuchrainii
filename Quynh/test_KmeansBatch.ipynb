{
 "cells": [
  {
   "cell_type": "code",
   "execution_count": 1,
   "metadata": {
    "collapsed": true
   },
   "outputs": [],
   "source": [
    "import numpy as np\n",
    "import pandas as pd\n",
    "\n",
    "from sklearn.pipeline import Pipeline\n",
    "\n",
    "from sklearn.preprocessing import Imputer\n",
    "\n",
    "from sklearn.utils.estimator_checks import check_estimator\n",
    "\n",
    "from sklearn.cross_validation import cross_val_score"
   ]
  },
  {
   "cell_type": "code",
   "execution_count": 2,
   "metadata": {
    "collapsed": true
   },
   "outputs": [],
   "source": [
    "trn_all = pd.read_csv('../data/train.csv')  # column #0 in our file is index\n",
    "\n",
    "#selected features and Cut off outliers of Expected >= 69\n",
    "#trn_new = trn_all[trn_all['Expected']<69]\n",
    "trn_new = trn_all\n",
    "#combine observations with same ID by using mean\n",
    "#replace Nan by overall mean\n",
    "# trn_mean = trn_new.groupby(trn_new.Id).agg(['mean', 'median', 'std', 'count', 'min', 'max'])\n",
    "# trn_mean.columns = ['_'.join(col).strip() for col in trn_mean.columns.values]\n",
    "# trn_mean = trn_mean.drop(['Expected_count', 'Expected_median', 'Expected_std', 'Expected_min', 'Expected_max'], axis =1)\n",
    "trn_mean = trn_all\n",
    "del trn_all\n",
    "del trn_new"
   ]
  },
  {
   "cell_type": "code",
   "execution_count": 3,
   "metadata": {
    "collapsed": true
   },
   "outputs": [],
   "source": [
    "# ignore id's where all Ref vales are NaN\n",
    "trn_mean = trn_mean[pd.notnull(trn_mean.Ref)]\n",
    "\n",
    "# Imputing\n",
    "index2 = list(trn_mean)\n",
    "imp = Imputer(missing_values='NaN', strategy='mean', axis=0)\n",
    "\n",
    "trn_mean= pd.DataFrame(imp.fit_transform(trn_mean),index = trn_mean.index, columns=index2)"
   ]
  },
  {
   "cell_type": "code",
   "execution_count": 4,
   "metadata": {
    "collapsed": false
   },
   "outputs": [
    {
     "name": "stdout",
     "output_type": "stream",
     "text": [
      "Index([u'Ref', u'RhoHV', u'Zdr', u'Kdp'], dtype='object')\n"
     ]
    }
   ],
   "source": [
    "# data preparation\n",
    "pre_X = trn_mean[['Ref','RhoHV','Zdr','Kdp']]\n",
    "print(pre_X.columns)\n",
    "\n",
    "del trn_mean"
   ]
  },
  {
   "cell_type": "code",
   "execution_count": 5,
   "metadata": {
    "collapsed": false
   },
   "outputs": [],
   "source": [
    "from kmeans_batch import ClusteringFilterBatch\n",
    "import matplotlib.pyplot as plt\n",
    "from sklearn import metrics\n",
    "# plot plots inline\n",
    "%matplotlib inline"
   ]
  },
  {
   "cell_type": "code",
   "execution_count": 6,
   "metadata": {
    "collapsed": false
   },
   "outputs": [
    {
     "name": "stdout",
     "output_type": "stream",
     "text": [
      "('For n_clusters =', 2, 'The average silhouette_score is :', 0.48891333752963856)\n",
      "('For n_clusters =', 3, 'The average silhouette_score is :', 0.44517403926961135)\n",
      "('For n_clusters =', 4, 'The average silhouette_score is :', 0.41277032313104894)\n",
      "('For n_clusters =', 5, 'The average silhouette_score is :', 0.39816363985214059)\n",
      "('For n_clusters =', 6, 'The average silhouette_score is :', 0.3700076395327852)\n",
      "('For n_clusters =', 7, 'The average silhouette_score is :', 0.3519243641626642)\n",
      "('For n_clusters =', 8, 'The average silhouette_score is :', 0.35434198287123497)\n",
      "('For n_clusters =', 9, 'The average silhouette_score is :', 0.337065294318449)\n",
      "('For n_clusters =', 10, 'The average silhouette_score is :', 0.29815113225192724)\n",
      "('For n_clusters =', 11, 'The average silhouette_score is :', 0.31700547084772407)\n",
      "('For n_clusters =', 12, 'The average silhouette_score is :', 0.31164737608464133)\n",
      "('For n_clusters =', 13, 'The average silhouette_score is :', 0.33806127360298216)\n",
      "('For n_clusters =', 14, 'The average silhouette_score is :', 0.28787402020435021)\n",
      "('For n_clusters =', 15, 'The average silhouette_score is :', 0.30680512990719899)\n",
      "('For n_clusters =', 16, 'The average silhouette_score is :', 0.33014555587471367)\n",
      "('For n_clusters =', 17, 'The average silhouette_score is :', 0.31576821062849558)\n",
      "('For n_clusters =', 18, 'The average silhouette_score is :', 0.29219570403670214)\n",
      "('For n_clusters =', 19, 'The average silhouette_score is :', 0.3241296858264901)\n",
      "('For n_clusters =', 20, 'The average silhouette_score is :', 0.32864292937877571)\n",
      "('For n_clusters =', 21, 'The average silhouette_score is :', 0.27989267267037721)\n",
      "('For n_clusters =', 22, 'The average silhouette_score is :', 0.30576126079945481)\n",
      "('For n_clusters =', 23, 'The average silhouette_score is :', 0.29447450939882847)\n",
      "('For n_clusters =', 24, 'The average silhouette_score is :', 0.29760273934244186)\n",
      "('For n_clusters =', 25, 'The average silhouette_score is :', 0.29376526362112365)\n",
      "('For n_clusters =', 26, 'The average silhouette_score is :', 0.30055840992555333)\n",
      "('For n_clusters =', 27, 'The average silhouette_score is :', 0.30342165080369726)\n",
      "('For n_clusters =', 28, 'The average silhouette_score is :', 0.29166710500334647)\n",
      "('For n_clusters =', 29, 'The average silhouette_score is :', 0.29010391554250597)\n"
     ]
    },
    {
     "data": {
      "text/plain": [
       "2"
      ]
     },
     "execution_count": 6,
     "metadata": {},
     "output_type": "execute_result"
    }
   ],
   "source": [
    "\n",
    "\n",
    "\n",
    "estimator=ClusteringFilterBatch(max_clusters = 30)\n",
    "silhouette_avg = estimator.predict(pre_X)\n",
    "opt_idx = silhouette_avg.index(max(silhouette_avg))\n",
    "silhouette = opt_idx+2\n",
    "\n",
    "silhouette"
   ]
  },
  {
   "cell_type": "code",
   "execution_count": null,
   "metadata": {
    "collapsed": true
   },
   "outputs": [],
   "source": []
  }
 ],
 "metadata": {
  "kernelspec": {
   "display_name": "Python 2",
   "language": "python",
   "name": "python2"
  },
  "language_info": {
   "codemirror_mode": {
    "name": "ipython",
    "version": 2
   },
   "file_extension": ".py",
   "mimetype": "text/x-python",
   "name": "python",
   "nbconvert_exporter": "python",
   "pygments_lexer": "ipython2",
   "version": "2.7.10"
  }
 },
 "nbformat": 4,
 "nbformat_minor": 0
}
