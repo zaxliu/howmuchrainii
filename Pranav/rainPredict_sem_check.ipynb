{
 "cells": [
  {
   "cell_type": "code",
   "execution_count": null,
   "metadata": {
    "collapsed": false
   },
   "outputs": [],
   "source": [
    "import time\n",
    "#\n",
    "import numpy as np\n",
    "import pandas as pd\n",
    "import matplotlib.pyplot as plt\n",
    "# \n",
    "from sklearn.preprocessing import StandardScaler\n",
    "from sklearn.preprocessing import Imputer\n",
    "from sklearn.ensemble import RandomForestRegressor\n",
    "from sklearn.cross_validation import train_test_split\n",
    "from math import *\n",
    "from sklearn import metrics"
   ]
  },
  {
   "cell_type": "code",
   "execution_count": null,
   "metadata": {
    "collapsed": false
   },
   "outputs": [],
   "source": [
    "trn_all = pd.read_csv('../data/train.csv')  # column #0 in our file is index\n",
    "# trn_1 = pd.read_csv('../data/train_1.csv', index_col=0)"
   ]
  },
  {
   "cell_type": "code",
   "execution_count": null,
   "metadata": {
    "collapsed": true
   },
   "outputs": [],
   "source": [
    "#selected features and Cut off outliers of Expected >= 69\n",
    "trn_new = trn_all[trn_all['Expected']<69]\n",
    "\n",
    "del trn_all"
   ]
  },
  {
   "cell_type": "code",
   "execution_count": null,
   "metadata": {
    "collapsed": true
   },
   "outputs": [],
   "source": [
    "#combine observations with same ID by using mean\n",
    "#replace Nan by overall mean\n",
    "trn_mean = trn_new.groupby(trn_new.Id).agg(['mean', 'median', 'std', 'count', 'sem', 'min', 'max'])\n",
    "trn_mean.columns = ['_'.join(col).strip() for col in trn_mean.columns.values]\n",
    "#trn_mean = trn_mean.drop(['Expected_count', 'Expected_median', 'Expected_std', 'Expected_min', 'Expected_max'], axis =1)\n",
    "\n",
    "del trn_new"
   ]
  },
  {
   "cell_type": "code",
   "execution_count": null,
   "metadata": {
    "collapsed": true
   },
   "outputs": [],
   "source": [
    "# ignore id's where all Ref vales are NaN\n",
    "trn_mean = trn_mean[pd.notnull(trn_mean.Ref_mean)]"
   ]
  },
  {
   "cell_type": "code",
   "execution_count": null,
   "metadata": {
    "collapsed": true
   },
   "outputs": [],
   "source": [
    "index2 = list(trn_mean)\n",
    "imp = Imputer(missing_values='NaN', strategy='mean', axis=0)\n",
    "\n",
    "trn_mean= pd.DataFrame(imp.fit_transform(trn_mean),index = trn_mean.index, columns=index2)"
   ]
  },
  {
   "cell_type": "code",
   "execution_count": null,
   "metadata": {
    "collapsed": true
   },
   "outputs": [],
   "source": [
    "#train and test data preparation\n",
    "X_trn = trn_mean.loc[:,'minutes_past_mean':'Kdp_5x5_90th_max'].values\n",
    "y_trn = np.log1p(trn_mean.loc[:,'Expected_mean'].values)\n",
    "\n",
    "del trn_mean"
   ]
  },
  {
   "cell_type": "code",
   "execution_count": null,
   "metadata": {
    "collapsed": true
   },
   "outputs": [],
   "source": [
    "clf = RandomForestRegressor(n_estimators=200,n_jobs=10)  # NOTE: n_jobs=-1 will use all of your cores, set to a prefered number"
   ]
  },
  {
   "cell_type": "code",
   "execution_count": null,
   "metadata": {
    "collapsed": false
   },
   "outputs": [],
   "source": [
    "#train model\n",
    "t = time.time()\n",
    "clf.fit(X_trn, y_trn)\n",
    "print time.time()-t\n",
    "\n",
    "del X_trn\n",
    "del y_trn"
   ]
  },
  {
   "cell_type": "code",
   "execution_count": null,
   "metadata": {
    "collapsed": false
   },
   "outputs": [],
   "source": [
    "#generate test result\n",
    "test_new = pd.read_csv('../data/test.csv')"
   ]
  },
  {
   "cell_type": "code",
   "execution_count": null,
   "metadata": {
    "collapsed": false
   },
   "outputs": [],
   "source": [
    "#combine observations with same ID by using mean\n",
    "#replace Nan by overall mean\n",
    "test_mean = test_new.groupby(test_new.Id).agg(['mean', 'median', 'std', 'count', 'sem', 'min', 'max'])\n",
    "test_mean.columns = ['_'.join(col).strip() for col in test_mean.columns.values]\n",
    "\n",
    "index2 = list(test_mean)\n",
    "imp = Imputer(missing_values='NaN', strategy='mean', axis=0)\n",
    "test_mean= pd.DataFrame(imp.fit_transform(test_mean),index=test_mean.index,columns=index2)\n",
    "\n",
    "test_X =test_mean.loc[:,'minutes_past_mean':'Kdp_5x5_90th_max'].values\n",
    "\n",
    "test_y_predict = np.exp(clf.predict(test_X))-1\n",
    "\n",
    "#del test_new\n",
    "#del test_mean\n",
    "#del test_X"
   ]
  },
  {
   "cell_type": "code",
   "execution_count": null,
   "metadata": {
    "collapsed": false
   },
   "outputs": [],
   "source": [
    "#generate output file\n",
    "#0.75 from prediction and 0.25 from marshall palmer\n",
    "marshall = pd.read_csv('../data/MP_r_09.csv')\n",
    "\n",
    "test_result_exist = pd.DataFrame()\n",
    "test_result_exist['Id'] = test_mean.index\n",
    "test_result_exist['Expected'] = test_y_predict\n",
    "\n",
    "test_result = pd.DataFrame()\n",
    "test_result['Id'] = test_new['Id'].unique()\n",
    "test_result = pd.merge(test_result, test_result_exist, how='left', on=['Id'], sort=True)\n",
    "test_result.loc[test_result['Expected'].isnull(), 'Expected'] = marshall.loc[test_result['Expected'].isnull(), 'Expected']\n",
    "test_result.loc[test_result['Expected'].notnull(), 'Expected'] = 0.75*test_result.loc[test_result['Expected'].notnull(), 'Expected']+0.25*marshall.loc[test_result['Expected'].notnull(), 'Expected']\n",
    "\n",
    "test_result.to_csv('../data/pks_result_sem_check_2811.csv', index=False)"
   ]
  },
  {
   "cell_type": "code",
   "execution_count": null,
   "metadata": {
    "collapsed": true
   },
   "outputs": [],
   "source": []
  }
 ],
 "metadata": {
  "kernelspec": {
   "display_name": "Python 2",
   "language": "python",
   "name": "python2"
  },
  "language_info": {
   "codemirror_mode": {
    "name": "ipython",
    "version": 2
   },
   "file_extension": ".py",
   "mimetype": "text/x-python",
   "name": "python",
   "nbconvert_exporter": "python",
   "pygments_lexer": "ipython2",
   "version": "2.7.10"
  }
 },
 "nbformat": 4,
 "nbformat_minor": 0
}
