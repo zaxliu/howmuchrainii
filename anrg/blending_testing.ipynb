{
 "cells": [
  {
   "cell_type": "code",
   "execution_count": 1,
   "metadata": {
    "collapsed": true
   },
   "outputs": [],
   "source": [
    "import numpy as np\n",
    "from sklearn.linear_model import LinearRegression\n",
    "from sklearn.ensemble import RandomForestRegressor\n",
    "from sklearn.svm import LinearSVR\n",
    "from sklearn.pipeline import Pipeline\n",
    "from blending import BlendedRegressor\n",
    "from sklearn.utils.estimator_checks import check_estimator\n",
    "from sklearn.datasets import load_boston\n",
    "from sklearn.cross_validation import cross_val_score"
   ]
  },
  {
   "cell_type": "code",
   "execution_count": 2,
   "metadata": {
    "collapsed": true
   },
   "outputs": [],
   "source": [
    "boston = load_boston()\n",
    "X = boston.data\n",
    "y = boston.target"
   ]
  },
  {
   "cell_type": "code",
   "execution_count": 3,
   "metadata": {
    "collapsed": false
   },
   "outputs": [
    {
     "name": "stdout",
     "output_type": "stream",
     "text": [
      "[-11.1239261   -5.48623713  -5.33383713 -24.46055674 -11.33345355\n",
      " -15.05428971  -6.99553812 -97.19973087 -27.39163712 -15.6265035 ]\n",
      "-22.0005709993 26.0512022397\n"
     ]
    }
   ],
   "source": [
    "scores = cross_val_score(estimator=RandomForestRegressor(n_estimators=40), X=X, y=y, scoring='mean_squared_error', cv=10)\n",
    "print scores\n",
    "print np.mean(scores), np.std(scores)"
   ]
  },
  {
   "cell_type": "code",
   "execution_count": 4,
   "metadata": {
    "collapsed": false
   },
   "outputs": [
    {
     "name": "stdout",
     "output_type": "stream",
     "text": [
      "[  -8.76255882  -11.02586078   -4.66632941  -32.1505902   -18.25787647\n",
      "  -31.01644314   -6.50348    -108.062432    -28.86352     -13.438578  ]\n",
      "-26.2747668824 28.9465124005\n"
     ]
    }
   ],
   "source": [
    "#\n",
    "# scores = cross_val_score(estimator=BlendedRegressor((RandomForestRegressor(n_estimators=40), LinearRegression(), LinearSVR()),\n",
    "#                         blending_model=LinearRegression(), blending_split=10),\n",
    "#                          X=X, y=y, scoring='mean_squared_error', cv=10)\n",
    "# print scores\n",
    "# print np.mean(scores), np.std(scores)\n",
    "\n",
    "# scores = cross_val_score(estimator=BlendedRegressor((RandomForestRegressor(n_estimators=40), LinearRegression(), LinearSVR()),\n",
    "#                         blending_model=LinearRegression(), blending_split=0.1),\n",
    "#                          X=X, y=y, scoring='mean_squared_error', cv=10)\n",
    "# print scores\n",
    "# print np.mean(scores), np.std(scores)\n",
    "\n",
    "scores = cross_val_score(estimator=BlendedRegressor((RandomForestRegressor(n_estimators=40), LinearRegression(), LinearSVR()),\n",
    "                        blending_model=RandomForestRegressor(), blending_split=0.1, with_feature=True),\n",
    "                         X=X, y=y, scoring='mean_squared_error', cv=10)\n",
    "print scores\n",
    "print np.mean(scores), np.std(scores)"
   ]
  },
  {
   "cell_type": "code",
   "execution_count": null,
   "metadata": {
    "collapsed": true
   },
   "outputs": [],
   "source": []
  }
 ],
 "metadata": {
  "kernelspec": {
   "display_name": "Python 2",
   "language": "python",
   "name": "python2"
  },
  "language_info": {
   "codemirror_mode": {
    "name": "ipython",
    "version": 2
   },
   "file_extension": ".py",
   "mimetype": "text/x-python",
   "name": "python",
   "nbconvert_exporter": "python",
   "pygments_lexer": "ipython2",
   "version": "2.7.10"
  }
 },
 "nbformat": 4,
 "nbformat_minor": 0
}
