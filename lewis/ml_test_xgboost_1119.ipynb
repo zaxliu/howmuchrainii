{
 "cells": [
  {
   "cell_type": "code",
   "execution_count": 1,
   "metadata": {
    "collapsed": true
   },
   "outputs": [],
   "source": [
    "import time\n",
    "#\n",
    "import numpy as np\n",
    "import pandas as pd\n",
    "import matplotlib.pyplot as plt\n",
    "# \n",
    "from sklearn.preprocessing import StandardScaler, Imputer\n",
    "from sklearn.tree import DecisionTreeRegressor\n",
    "from sklearn.ensemble import RandomForestRegressor\n",
    "from sklearn.linear_model import LinearRegression, Ridge\n",
    "from sklearn.pipeline import Pipeline\n",
    "from sklearn.cross_validation import cross_val_score, ShuffleSplit\n",
    "from sklearn.learning_curve import learning_curve, validation_curve\n",
    "from sklearn.metrics import make_scorer\n",
    "#\n",
    "import xgboost as xgb\n",
    "#\n",
    "from blending import BlendedRegressor\n",
    "from cleaning import TargetThresholdFilter\n",
    "#\n",
    "pd.set_option('display.max_columns', 500)  # force pandas to display all columns for better visual inspection\n",
    "# plot plots inline\n",
    "%matplotlib inline  "
   ]
  },
  {
   "cell_type": "code",
   "execution_count": 2,
   "metadata": {
    "collapsed": false
   },
   "outputs": [],
   "source": [
    "trn = pd.read_csv('../data/train.csv')\n",
    "# trn = pd.read_csv('../data/train_10.csv', index_col=0)  # column #0 in our file is DataFrame index\n",
    "# trn = pd.read_csv('../data/train_1.csv', index_col=0)\n",
    "# test = pd.read_csv('../data/test.csv')"
   ]
  },
  {
   "cell_type": "code",
   "execution_count": 3,
   "metadata": {
    "collapsed": false
   },
   "outputs": [
    {
     "name": "stdout",
     "output_type": "stream",
     "text": [
      "Time elapsed: 1.4094 secs\n"
     ]
    }
   ],
   "source": [
    "t = time.time()\n",
    "trn_withRef = trn[trn['Ref'].notnull()]\n",
    "# test_withRef = test[test['Ref'].notnull()]\n",
    "del trn\n",
    "print 'Time elapsed: {:.4f} secs'.format(time.time()-t)  # toc"
   ]
  },
  {
   "cell_type": "code",
   "execution_count": 4,
   "metadata": {
    "collapsed": false
   },
   "outputs": [
    {
     "name": "stdout",
     "output_type": "stream",
     "text": [
      "Time elapsed: 18.4084 secs\n"
     ]
    }
   ],
   "source": [
    "# Combine observations by 'Id', aggregate features\n",
    "t = time.time()\n",
    "trn_withRef_comb = trn_withRef.groupby('Id').agg(['mean','std','median','count','min', 'max'])\n",
    "trn_withRef_comb.columns = ['_'.join(tup) for (i,tup) in enumerate(trn_withRef_comb.columns.values)]\n",
    "trn_withRef_comb = trn_withRef_comb.drop(['Expected_count', 'Expected_median', 'Expected_std', 'Expected_min','Expected_max'], axis =1)\n",
    "# test_withRef_comb = test_withRef.groupby('Id').agg(['mean','std','median','count','min', 'max'])\n",
    "# test_withRef_comb.columns = ['_'.join(tup) for (i,tup) in enumerate(test_withRef_comb.columns.values)]\n",
    "# test_withRef_comb = test_withRef_comb.drop(['Expected_count', 'Expected_median', 'Expected_std', 'Expected_min','Expected_max'], axis =1)\n",
    "del trn_withRef\n",
    "print 'Time elapsed: {:.4f} secs'.format(time.time()-t)  # toc"
   ]
  },
  {
   "cell_type": "markdown",
   "metadata": {},
   "source": [
    "# Impute after cv split"
   ]
  },
  {
   "cell_type": "code",
   "execution_count": 5,
   "metadata": {
    "collapsed": true
   },
   "outputs": [],
   "source": [
    "X = trn_withRef_comb.loc[:, 'minutes_past_mean':'Kdp_5x5_90th_max']  # NOTE: used range slicing on column\n",
    "y = np.log10(1+trn_withRef_comb['Expected_mean'])\n",
    "def MAE_logy(ground_truth, predictions):\n",
    "    \"\"\"Custom scoring function for log(y) or log(1+y)\n",
    "       NOTE: please change this if you use another non-linearity on y\n",
    "    \"\"\"\n",
    "    return np.float64(np.mean(np.abs(10**ground_truth - 10**predictions)))"
   ]
  },
  {
   "cell_type": "code",
   "execution_count": 12,
   "metadata": {
    "collapsed": true
   },
   "outputs": [],
   "source": [
    "# preprocessing\n",
    "imp1 = Imputer(strategy='mean', copy=True)  # Get a imputor with column-mean filling config\n",
    "ss1 = StandardScaler(copy=False, with_mean=True, with_std=True)\n",
    "clf1 = RandomForestRegressor(n_estimators=40, max_features='sqrt', max_depth=5, n_jobs=4)\n",
    "pip1 = Pipeline([('imp',imp1), ('ss',ss1), ('clf', clf1)])  # a Pipeline wrapper to chain'em up"
   ]
  },
  {
   "cell_type": "code",
   "execution_count": 13,
   "metadata": {
    "collapsed": false
   },
   "outputs": [
    {
     "name": "stdout",
     "output_type": "stream",
     "text": [
      "23.2683538325 1.58087644069\n"
     ]
    },
    {
     "name": "stderr",
     "output_type": "stream",
     "text": [
      "[Parallel(n_jobs=1)]: Done  10 out of  10 | elapsed:  4.7min finished\n"
     ]
    }
   ],
   "source": [
    "scorer = make_scorer(MAE_logy, greater_is_better=True)  # define scoring metric\n",
    "scores = cross_val_score(estimator=pip1, X=X, y=y, scoring=scorer, cv=10, n_jobs=1, verbose=1)\n",
    "print np.mean(scores), np.std(scores)"
   ]
  },
  {
   "cell_type": "markdown",
   "metadata": {},
   "source": [
    "# Impute before cv split"
   ]
  },
  {
   "cell_type": "code",
   "execution_count": 14,
   "metadata": {
    "collapsed": true
   },
   "outputs": [],
   "source": [
    "imp2 = Imputer(strategy='mean', copy=True)\n",
    "X_imp = imp2.fit_transform(X)\n",
    "ss2 = StandardScaler(copy=False, with_mean=True, with_std=True)\n",
    "clf2 = RandomForestRegressor(n_estimators=40, max_features='sqrt', max_depth=5, n_jobs=4)\n",
    "pip2 = Pipeline([('ss',ss2), ('clf', clf2)])  # a Pipeline wrapper to chain'em up"
   ]
  },
  {
   "cell_type": "code",
   "execution_count": 15,
   "metadata": {
    "collapsed": false
   },
   "outputs": [
    {
     "name": "stdout",
     "output_type": "stream",
     "text": [
      "23.268932147 1.58039111499\n"
     ]
    },
    {
     "name": "stderr",
     "output_type": "stream",
     "text": [
      "[Parallel(n_jobs=1)]: Done  10 out of  10 | elapsed:  5.1min finished\n"
     ]
    }
   ],
   "source": [
    "# preprocessing\n",
    "scorer = make_scorer(MAE_logy, greater_is_better=True)  # define scoring metric\n",
    "scores = cross_val_score(estimator=pip2, X=X_imp, y=y, scoring=scorer, cv=10, n_jobs=1, verbose=1)\n",
    "print np.mean(scores), np.std(scores)"
   ]
  },
  {
   "cell_type": "markdown",
   "metadata": {},
   "source": [
    "# Impute after cv split + median"
   ]
  },
  {
   "cell_type": "code",
   "execution_count": 6,
   "metadata": {
    "collapsed": true
   },
   "outputs": [],
   "source": [
    "# preprocessing\n",
    "imp3 = Imputer(strategy='median')  # Get a imputor with column-mean filling config\n",
    "ss3 = StandardScaler(copy=False, with_mean=True, with_std=True)\n",
    "clf3 = RandomForestRegressor(n_estimators=40, max_features='sqrt', max_depth=5, n_jobs=4)\n",
    "pip3 = Pipeline([('imp',imp3), ('ss',ss3), ('clf', clf3)])  # a Pipeline wrapper to chain'em up"
   ]
  },
  {
   "cell_type": "code",
   "execution_count": 7,
   "metadata": {
    "collapsed": false
   },
   "outputs": [
    {
     "name": "stdout",
     "output_type": "stream",
     "text": [
      "23.2674629028 1.57987458739\n"
     ]
    },
    {
     "name": "stderr",
     "output_type": "stream",
     "text": [
      "[Parallel(n_jobs=1)]: Done  10 out of  10 | elapsed:  7.8min finished\n"
     ]
    }
   ],
   "source": [
    "scorer = make_scorer(MAE_logy, greater_is_better=True)  # define scoring metric\n",
    "scores = cross_val_score(estimator=pip3, X=X, y=y, scoring=scorer, cv=10, n_jobs=1, verbose=1)\n",
    "print np.mean(scores), np.std(scores)"
   ]
  },
  {
   "cell_type": "code",
   "execution_count": null,
   "metadata": {
    "collapsed": true
   },
   "outputs": [],
   "source": []
  }
 ],
 "metadata": {
  "kernelspec": {
   "display_name": "Python 2",
   "language": "python",
   "name": "python2"
  },
  "language_info": {
   "codemirror_mode": {
    "name": "ipython",
    "version": 2
   },
   "file_extension": ".py",
   "mimetype": "text/x-python",
   "name": "python",
   "nbconvert_exporter": "python",
   "pygments_lexer": "ipython2",
   "version": "2.7.10"
  }
 },
 "nbformat": 4,
 "nbformat_minor": 0
}
