{
 "cells": [
  {
   "cell_type": "markdown",
   "metadata": {},
   "source": [
    "# 1. Imports"
   ]
  },
  {
   "cell_type": "code",
   "execution_count": 1,
   "metadata": {
    "collapsed": false
   },
   "outputs": [],
   "source": [
    "import time\n",
    "#\n",
    "import numpy as np\n",
    "import pandas as pd\n",
    "import matplotlib.pyplot as plt\n",
    "# \n",
    "from sklearn.preprocessing import StandardScaler\n",
    "from sklearn.preprocessing import Imputer\n",
    "from sklearn.ensemble import RandomForestRegressor\n",
    "from sklearn.pipeline import Pipeline\n",
    "from sklearn.cross_validation import cross_val_score, ShuffleSplit\n",
    "from sklearn.learning_curve import learning_curve, validation_curve\n",
    "from sklearn.metrics import make_scorer\n",
    "#\n",
    "pd.set_option('display.max_columns', 500)  # force pandas to display all columns for better visual inspection\n",
    "# plot plots inline\n",
    "%matplotlib inline  "
   ]
  },
  {
   "cell_type": "markdown",
   "metadata": {},
   "source": [
    "# 2. Data cleaning"
   ]
  },
  {
   "cell_type": "markdown",
   "metadata": {},
   "source": [
    "## 2.1 Dataset IO"
   ]
  },
  {
   "cell_type": "code",
   "execution_count": 2,
   "metadata": {
    "collapsed": false,
    "scrolled": true
   },
   "outputs": [],
   "source": [
    "# Read training set into memory\n",
    "trn = pd.read_csv('../data/train.csv')\n",
    "# trn_10 = pd.read_csv('../data/train_10.csv', index_col=0)  # column #0 in our file is index\n",
    "# trn_1 = pd.read_csv('../data/train_1.csv', index_col=0)\n",
    "\n",
    "# reading the MP values for training data\n",
    "MP_train = pd.read_csv('../data/MP_train.csv')"
   ]
  },
  {
   "cell_type": "markdown",
   "metadata": {},
   "source": [
    "## 2.2 Cleaning"
   ]
  },
  {
   "cell_type": "code",
   "execution_count": 3,
   "metadata": {
    "collapsed": false,
    "scrolled": true
   },
   "outputs": [
    {
     "name": "stdout",
     "output_type": "stream",
     "text": [
      "Time elapsed: 1.2205 secs\n",
      "(13765201, 24) (6349375, 24) 731556 1180945\n"
     ]
    }
   ],
   "source": [
    "t = time.time()  # tic\n",
    "## filter out observations with non-valid 'Ref'\n",
    "# trn_1_withRef = trn_1[trn_1['Ref'].notnull()]\n",
    "# trn_10_withRef = trn_10[trn_10['Ref'].notnull()]\n",
    "trn_withRef = trn[trn['Ref'].notnull()]\n",
    "print 'Time elapsed: {:.4f} secs'.format(time.time()-t)  # toc\n",
    "## dimension checking\n",
    "# print trn_1.shape, trn_1_withRef.shape, trn_1_withRef['Id'].nunique(), trn_1['Id'].nunique()\n",
    "# print trn_10.shape, trn_10_withRef.shape, trn_10_withRef['Id'].nunique(), trn_10['Id'].nunique()\n",
    "print trn.shape, trn_withRef.shape, trn_withRef['Id'].nunique(), trn['Id'].nunique()"
   ]
  },
  {
   "cell_type": "markdown",
   "metadata": {},
   "source": [
    "## 2.3 Combine observation"
   ]
  },
  {
   "cell_type": "code",
   "execution_count": 161,
   "metadata": {
    "collapsed": false
   },
   "outputs": [
    {
     "name": "stdout",
     "output_type": "stream",
     "text": [
      "29.8273561001\n"
     ]
    }
   ],
   "source": [
    "# Combine observations by 'Id'\n",
    "t = time.time()\n",
    "# trn_withRef_comb = trn_withRef.groupby('Id').agg(np.mean)\n",
    "trn_withRef_comb = trn_withRef.groupby('Id').agg(['mean','std','median','count','min', 'max'])\n",
    "trn_withRef_comb.columns = ['_'.join(tup) for (i,tup) in enumerate(trn_withRef_comb.columns.values)]\n",
    "trn_withRef_comb = trn_withRef_comb.drop(['Expected_count', 'Expected_median', 'Expected_std', 'Expected_min','Expected_max'], axis =1)\n",
    "trn_withRef_comb.columns = ['_'.join(tup) for tup in trn_withRef_comb.columns.values]\n",
    "print time.time()-t"
   ]
  },
  {
   "cell_type": "code",
   "execution_count": 149,
   "metadata": {
    "collapsed": true
   },
   "outputs": [
    {
     "data": {
      "text/plain": [
       "Index([u'minutes_past_mean', u'minutes_past_std', u'minutes_past_median',\n",
       "       u'minutes_past_count', u'radardist_km_mean', u'radardist_km_std',\n",
       "       u'radardist_km_median', u'radardist_km_count', u'Ref_mean', u'Ref_std',\n",
       "       u'Ref_median', u'Ref_count', u'Ref_5x5_10th_mean', u'Ref_5x5_10th_std',\n",
       "       u'Ref_5x5_10th_median', u'Ref_5x5_10th_count', u'Ref_5x5_50th_mean',\n",
       "       u'Ref_5x5_50th_std', u'Ref_5x5_50th_median', u'Ref_5x5_50th_count',\n",
       "       u'Ref_5x5_90th_mean', u'Ref_5x5_90th_std', u'Ref_5x5_90th_median',\n",
       "       u'Ref_5x5_90th_count', u'RefComposite_mean', u'RefComposite_std',\n",
       "       u'RefComposite_median', u'RefComposite_count',\n",
       "       u'RefComposite_5x5_10th_mean', u'RefComposite_5x5_10th_std',\n",
       "       u'RefComposite_5x5_10th_median', u'RefComposite_5x5_10th_count',\n",
       "       u'RefComposite_5x5_50th_mean', u'RefComposite_5x5_50th_std',\n",
       "       u'RefComposite_5x5_50th_median', u'RefComposite_5x5_50th_count',\n",
       "       u'RefComposite_5x5_90th_mean', u'RefComposite_5x5_90th_std',\n",
       "       u'RefComposite_5x5_90th_median', u'RefComposite_5x5_90th_count',\n",
       "       u'RhoHV_mean', u'RhoHV_std', u'RhoHV_median', u'RhoHV_count',\n",
       "       u'RhoHV_5x5_10th_mean', u'RhoHV_5x5_10th_std', u'RhoHV_5x5_10th_median',\n",
       "       u'RhoHV_5x5_10th_count', u'RhoHV_5x5_50th_mean', u'RhoHV_5x5_50th_std',\n",
       "       u'RhoHV_5x5_50th_median', u'RhoHV_5x5_50th_count',\n",
       "       u'RhoHV_5x5_90th_mean', u'RhoHV_5x5_90th_std', u'RhoHV_5x5_90th_median',\n",
       "       u'RhoHV_5x5_90th_count', u'Zdr_mean', u'Zdr_std', u'Zdr_median',\n",
       "       u'Zdr_count', u'Zdr_5x5_10th_mean', u'Zdr_5x5_10th_std',\n",
       "       u'Zdr_5x5_10th_median', u'Zdr_5x5_10th_count', u'Zdr_5x5_50th_mean',\n",
       "       u'Zdr_5x5_50th_std', u'Zdr_5x5_50th_median', u'Zdr_5x5_50th_count',\n",
       "       u'Zdr_5x5_90th_mean', u'Zdr_5x5_90th_std', u'Zdr_5x5_90th_median',\n",
       "       u'Zdr_5x5_90th_count', u'Kdp_mean', u'Kdp_std', u'Kdp_median',\n",
       "       u'Kdp_count', u'Kdp_5x5_10th_mean', u'Kdp_5x5_10th_std',\n",
       "       u'Kdp_5x5_10th_median', u'Kdp_5x5_10th_count', u'Kdp_5x5_50th_mean',\n",
       "       u'Kdp_5x5_50th_std', u'Kdp_5x5_50th_median', u'Kdp_5x5_50th_count',\n",
       "       u'Kdp_5x5_90th_mean', u'Kdp_5x5_90th_std', u'Kdp_5x5_90th_median',\n",
       "       u'Kdp_5x5_90th_count', u'Expected_mean'],\n",
       "      dtype='object')"
      ]
     },
     "execution_count": 149,
     "metadata": {},
     "output_type": "execute_result"
    }
   ],
   "source": [
    "trn_withRef_comb.columns"
   ]
  },
  {
   "cell_type": "code",
   "execution_count": 21,
   "metadata": {
    "collapsed": false,
    "scrolled": true
   },
   "outputs": [],
   "source": [
    "# MP_09 = MP_train.loc[MP_train['Id'].isin(trn_withRef_comb.index)]\n",
    "# MP_09.set_index('Id', inplace=True)"
   ]
  },
  {
   "cell_type": "code",
   "execution_count": 104,
   "metadata": {
    "collapsed": true
   },
   "outputs": [
    {
     "name": "stdout",
     "output_type": "stream",
     "text": [
      "0.010000005 1.2700007 33017.73\n",
      "0.0 0.750796747145 86.4067385175\n",
      "-83.6480875477 0.241518555392 33016.177192\n",
      "[ -7.21249414  -1.48683955   0.24151856   6.42194898  14.31093897]\n"
     ]
    },
    {
     "data": {
      "text/plain": [
       "<matplotlib.axes._subplots.AxesSubplot at 0x7f8fb0e80610>"
      ]
     },
     "execution_count": 104,
     "metadata": {},
     "output_type": "execute_result"
    },
    {
     "data": {
      "image/png": "[encoded data removed]",
      "text/plain": [
       "<matplotlib.figure.Figure at 0x7f8fb0fc3bd0>"
      ]
     },
     "metadata": {},
     "output_type": "display_data"
    }
   ],
   "source": [
    "truth = trn_withRef_omb['Expected']\n",
    "# mp = MP_09['Expected']\n",
    "# diff = truth-mp\n",
    "# log_diff = np.log10(100+diff)\n",
    "print truth.min(), truth.median(), truth.max()\n",
    "print mp.min(), mp.median(), mp.max()\n",
    "print diff.min(), diff.median(), diff.max()\n",
    "print np.percentile(diff, [1, 10, 50, 90, 95])\n",
    "# tmp = tmp + np.min(tmp)\n",
    "# print tmp.min(), tmp.median(), tmp.max()\n",
    "# tmp = tmp/np.median(tmp)\n",
    "diff.hist(bins=100)\n",
    "# plt.xlim([-100, 100])\n",
    "# np.sum(tmp.isnull())"
   ]
  },
  {
   "cell_type": "markdown",
   "metadata": {},
   "source": [
    "## 2.4 Form feature X and target y"
   ]
  },
  {
   "cell_type": "code",
   "execution_count": 167,
   "metadata": {
    "collapsed": false
   },
   "outputs": [],
   "source": [
    "# Extract matrix-form data from pandas df\n",
    "X = trn_comb.loc[:, 'minutes_past_mean':'Kdp_5x5_90th_max'].values  # NOTE: used range slicing on column\n",
    "# y = np.log10(trn_withRef_comb['Expected'].values)  # y = log(Truth)\n",
    "y = np.log10(1+trn_comb['Expected_mean'].values)  # y = log(1+Truth)\n",
    "# y = (trn_withRef_comb['Expected']-MP_09['Expected']).values  # y = Truth-MP\n",
    "# y = np.log10(1+trn_withRef_comb['Expected']-MP_09['Expected']).values  # y = log(100+Truth-MP)"
   ]
  },
  {
   "cell_type": "code",
   "execution_count": 168,
   "metadata": {
    "collapsed": false
   },
   "outputs": [],
   "source": [
    "def MAE_logy(ground_truth, predictions):\n",
    "    \"\"\"Custom scoring function for log(y) or log(1+y)\n",
    "       NOTE: please change this if you use another non-linearity on y\n",
    "    \"\"\"\n",
    "    return np.float64(np.mean(np.abs(10**ground_truth - 10**predictions)))\n",
    "def MAE(ground_truth, predictions):\n",
    "    \"\"\"Standard MAE\n",
    "    \"\"\"\n",
    "    return np.float64(np.mean(np.abs(ground_truth - predictions)))"
   ]
  },
  {
   "cell_type": "markdown",
   "metadata": {},
   "source": [
    "# 3 ML and Validation"
   ]
  },
  {
   "cell_type": "markdown",
   "metadata": {},
   "source": [
    "## 3.1 Constuct pipeline"
   ]
  },
  {
   "cell_type": "code",
   "execution_count": 169,
   "metadata": {
    "collapsed": false
   },
   "outputs": [],
   "source": [
    "imp = Imputer(strategy='mean')  # Get a imputor with column-mean filling config\n",
    "ss = StandardScaler(copy=False, with_mean=True, with_std=True)\n",
    "clf = RandomForestRegressor(n_estimators=10, max_features='sqrt', max_depth=5, n_jobs=4)  # NOTE: n_jobs=-1 will use all of your cores, set to a prefered number e.g. 4\n",
    "pip = Pipeline([('imp',imp), ('ss',ss), ('clf',clf)])  # a Pipeline wrapper to chain'em up"
   ]
  },
  {
   "cell_type": "markdown",
   "metadata": {},
   "source": [
    "## 3.2 Cross validation"
   ]
  },
  {
   "cell_type": "markdown",
   "metadata": {},
   "source": [
    "### 3.2.1 Initialization"
   ]
  },
  {
   "cell_type": "code",
   "execution_count": 170,
   "metadata": {
    "collapsed": false
   },
   "outputs": [],
   "source": [
    "scorer = make_scorer(MAE_logy, greater_is_better=True)  # define scoring metric"
   ]
  },
  {
   "cell_type": "markdown",
   "metadata": {},
   "source": [
    "### 3.2.2A: Single param value cv"
   ]
  },
  {
   "cell_type": "code",
   "execution_count": null,
   "metadata": {
    "collapsed": true
   },
   "outputs": [],
   "source": [
    "# This is for getting a basic idea of how long it takes to run a single parameter"
   ]
  },
  {
   "cell_type": "code",
   "execution_count": 171,
   "metadata": {
    "collapsed": false
   },
   "outputs": [
    {
     "name": "stderr",
     "output_type": "stream",
     "text": [
      "[Parallel(n_jobs=2)]: Done  10 out of  10 | elapsed: 13.4min finished\n"
     ]
    }
   ],
   "source": [
    "scores = cross_val_score(estimator=pip, X=X, y=y, scoring=scorer, cv=10, n_jobs=2, verbose=1)"
   ]
  },
  {
   "cell_type": "code",
   "execution_count": 45,
   "metadata": {
    "collapsed": false,
    "scrolled": true
   },
   "outputs": [
    {
     "name": "stdout",
     "output_type": "stream",
     "text": [
      "23.2716100202 1.57705091824\n"
     ]
    }
   ],
   "source": [
    "# Scores:\n",
    "# Filter-out null ref, !!!log(Truth)!!!, impute with mean, (0,1) standardization, RF with 10 trees, 'sqrt' features, depth=5\n",
    "print np.mean(scores), np.std(scores)"
   ]
  },
  {
   "cell_type": "code",
   "execution_count": 128,
   "metadata": {
    "collapsed": false,
    "scrolled": true
   },
   "outputs": [
    {
     "name": "stdout",
     "output_type": "stream",
     "text": [
      "23.3509680762 1.57723658976\n"
     ]
    }
   ],
   "source": [
    "# Scores:\n",
    "# [mean], Filter-out null ref, !!!log(1+Truth)!!!, impute with mean, (0,1) standardization, RF with 10 trees, 'sqrt' features, depth=5\n",
    "print np.mean(scores), np.std(scores)"
   ]
  },
  {
   "cell_type": "code",
   "execution_count": 148,
   "metadata": {
    "collapsed": false,
    "scrolled": true
   },
   "outputs": [
    {
     "name": "stdout",
     "output_type": "stream",
     "text": [
      "23.3129628677 1.57943826265\n"
     ]
    }
   ],
   "source": [
    "# Scores:\n",
    "# [mean, med, std, cnt], all feature, Filter-out null ref, !!!log(1+Truth)!!!, impute with mean, (0,1) standardization, RF with 10 trees, 'sqrt' features, depth=5\n",
    "print np.mean(scores), np.std(scores)"
   ]
  },
  {
   "cell_type": "code",
   "execution_count": 172,
   "metadata": {
    "collapsed": false,
    "scrolled": true
   },
   "outputs": [
    {
     "name": "stdout",
     "output_type": "stream",
     "text": [
      "132.170990758 7.72976027985\n"
     ]
    }
   ],
   "source": [
    "# Scores:\n",
    "# [mean, med, std, cnt], all feature, include ref, !!!log(1+Truth)!!!, impute with mean, (0,1) standardization, RF with 10 trees, 'sqrt' features, depth=5\n",
    "print np.mean(scores), np.std(scores)"
   ]
  },
  {
   "cell_type": "code",
   "execution_count": 157,
   "metadata": {
    "collapsed": false,
    "scrolled": true
   },
   "outputs": [
    {
     "name": "stdout",
     "output_type": "stream",
     "text": [
      "23.2697228078 1.5791936134\n"
     ]
    }
   ],
   "source": [
    "# Scores:\n",
    "# [mean, med, std, min, max, cnt], all feature, Filter-out null ref, !!!log(1+Truth)!!!, impute with mean, (0,1) standardization, RF with 10 trees, 'sqrt' features, depth=5\n",
    "print np.mean(scores), np.std(scores)"
   ]
  },
  {
   "cell_type": "code",
   "execution_count": 53,
   "metadata": {
    "collapsed": false,
    "scrolled": true
   },
   "outputs": [
    {
     "name": "stdout",
     "output_type": "stream",
     "text": [
      "40.1995830031 1.57656296034\n"
     ]
    }
   ],
   "source": [
    "# Scores:\n",
    "# Filter-out null ref, !!!Truth-MP!!!, impute with mean, (0,1) standardization, RF with 10 trees, 'sqrt' features, depth=5\n",
    "print np.mean(scores), np.std(scores)"
   ]
  },
  {
   "cell_type": "code",
   "execution_count": 61,
   "metadata": {
    "collapsed": false,
    "scrolled": false
   },
   "outputs": [
    {
     "name": "stdout",
     "output_type": "stream",
     "text": [
      "26.1906870356 1.55649221847\n"
     ]
    }
   ],
   "source": [
    "# Scores:\n",
    "# Filter-out null ref, !!!log(100+Truth-MP)!!!, impute with mean, (0,1) standardization, RF with 10 trees, 'sqrt' features, depth=5\n",
    "print np.mean(scores), np.std(scores)"
   ]
  },
  {
   "cell_type": "code",
   "execution_count": null,
   "metadata": {
    "collapsed": false,
    "scrolled": false
   },
   "outputs": [],
   "source": [
    "# Scores:\n",
    "# Filter-out null ref, !!!log(1+Truth)-log(1+MP)!!!, impute with mean, (0,1) standardization, RF with 10 trees, 'sqrt' features, depth=5\n",
    "print np.mean(scores), np.std(scores)"
   ]
  },
  {
   "cell_type": "markdown",
   "metadata": {},
   "source": [
    "### 3.2.2B: Validation curve on list of single param"
   ]
  },
  {
   "cell_type": "code",
   "execution_count": 130,
   "metadata": {
    "collapsed": false,
    "scrolled": true
   },
   "outputs": [
    {
     "name": "stderr",
     "output_type": "stream",
     "text": [
      "[Parallel(n_jobs=2)]: Done 100 out of 100 | elapsed:  4.0min finished\n"
     ]
    }
   ],
   "source": [
    "# param_name, param_range='clf__n_estimators', [2**i for i in range(0, 8)]\n",
    "param_name, param_range= 'clf__max_depth', range(1, 20, 2)\n",
    "train_scores, test_scores= validation_curve(estimator=pip, X=X, y=y, scoring=scorer, cv=10, n_jobs=2, \n",
    "                          param_name=param_name, param_range=param_range, verbose=1)\n",
    "train_scores_mean = np.mean(train_scores, axis=1)\n",
    "train_scores_std = np.std(train_scores, axis=1)\n",
    "test_scores_mean = np.mean(test_scores, axis=1)\n",
    "test_scores_std = np.std(test_scores, axis=1)"
   ]
  },
  {
   "cell_type": "markdown",
   "metadata": {},
   "source": [
    "Below: Filter-out null-ref samples, log(y), impute with mean, (0,1) standardization, RF with 10 trees, 'sqrt' features, max_depth=range(1, 20, 2)"
   ]
  },
  {
   "cell_type": "code",
   "execution_count": 131,
   "metadata": {
    "collapsed": false
   },
   "outputs": [
    {
     "name": "stdout",
     "output_type": "stream",
     "text": [
      "[ 23.48850106  23.40157289  23.35608426  23.32141901  23.24709279\n",
      "  23.03045067  22.62036214  21.74243459  20.60463995  19.04659527] [ 0.17045127  0.17846828  0.17614809  0.17518025  0.18058755  0.18559333\n",
      "  0.1714176   0.1820058   0.25176128  0.30703489] [ 23.48714631  23.40407627  23.35831802  23.3368696   23.32463006\n",
      "  23.31026567  23.36757853  23.38903279  23.45324982  23.63929665] [ 1.5792973   1.57219923  1.57508209  1.57773449  1.57435587  1.56007204\n",
      "  1.55307983  1.5966486   1.58027541  1.61247645]\n"
     ]
    }
   ],
   "source": [
    "print train_scores_mean, train_scores_std, test_scores_mean, test_scores_std"
   ]
  },
  {
   "cell_type": "code",
   "execution_count": 132,
   "metadata": {
    "collapsed": false
   },
   "outputs": [
    {
     "name": "stderr",
     "output_type": "stream",
     "text": [
      "/home/jingchu/anaconda2/lib/python2.7/site-packages/matplotlib/collections.py:590: FutureWarning: elementwise comparison failed; returning scalar instead, but in the future will perform elementwise comparison\n",
      "  if self._edgecolors == str('face'):\n"
     ]
    },
    {
     "data": {
      "image/png": "[encoded data removed]",
      "text/plain": [
       "<matplotlib.figure.Figure at 0x7f8fcc0e7a10>"
      ]
     },
     "metadata": {},
     "output_type": "display_data"
    }
   ],
   "source": [
    "# Plotting the validation curver, i.e. trn/val error versus parameter value\n",
    "plt.title(\"Validation Curve\")\n",
    "plt.xlabel(param_name)\n",
    "plt.ylabel(\"Score\")\n",
    "plt.plot(param_range, train_scores_mean, label=\"Training score\", color=\"r\")\n",
    "plt.fill_between(param_range, train_scores_mean - train_scores_std,\n",
    "                 train_scores_mean + train_scores_std, alpha=0.2, color=\"r\")\n",
    "plt.plot(param_range, test_scores_mean, label=\"Cross-validation score\",\n",
    "             color=\"g\")\n",
    "plt.fill_between(param_range, test_scores_mean - test_scores_std,\n",
    "                 test_scores_mean + test_scores_std, alpha=0.2, color=\"g\")\n",
    "plt.legend(loc=\"best\")\n",
    "plt.show()"
   ]
  }
 ],
 "metadata": {
  "kernelspec": {
   "display_name": "Python 2",
   "language": "python",
   "name": "python2"
  },
  "language_info": {
   "codemirror_mode": {
    "name": "ipython",
    "version": 2
   },
   "file_extension": ".py",
   "mimetype": "text/x-python",
   "name": "python",
   "nbconvert_exporter": "python",
   "pygments_lexer": "ipython2",
   "version": "2.7.10"
  }
 },
 "nbformat": 4,
 "nbformat_minor": 0
}
