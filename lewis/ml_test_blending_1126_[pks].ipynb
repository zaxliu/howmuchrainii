{
 "cells": [
  {
   "cell_type": "code",
   "execution_count": 2,
   "metadata": {
    "collapsed": false
   },
   "outputs": [],
   "source": [
    "# Basics\n",
    "import sys\n",
    "import time\n",
    "import numpy as np\n",
    "import pandas as pd\n",
    "import matplotlib.pyplot as plt\n",
    "# Sklearn\n",
    "from sklearn.preprocessing import StandardScaler, Imputer \n",
    "from sklearn.linear_model import LinearRegression, Ridge, Lasso\n",
    "from sklearn.tree import DecisionTreeRegressor\n",
    "from sklearn.ensemble import RandomForestRegressor\n",
    "from sklearn.cross_validation import cross_val_score, ShuffleSplit\n",
    "from sklearn.learning_curve import learning_curve, validation_curve\n",
    "from sklearn.metrics import make_scorer\n",
    "# xgboost\n",
    "import xgboost as xgb\n",
    "# Our custom modules\n",
    "sys.path.append('..')\n",
    "from anrg.pipeline import Pipeline, SelectTailK, LeaveTailK, DummyRegressor\n",
    "from anrg.blending import BlendedRegressor\n",
    "from anrg.cleaning import TargetThresholdFilter, LogPlusOne\n",
    "from anrg.mp import MPRegressor\n",
    "##### setting #######\n",
    "pd.set_option('display.max_columns', 500)  # force pandas to display all columns for better visual inspection\n",
    "%matplotlib inline"
   ]
  },
  {
   "cell_type": "code",
   "execution_count": 3,
   "metadata": {
    "collapsed": false
   },
   "outputs": [],
   "source": [
    "trn = pd.read_csv('../data/train.csv')\n",
    "# trn = pd.read_csv('../data/train_10.csv', index_col=0)  # column #0 in our file is DataFrame index\n",
    "# trn = pd.read_csv('../data/train_1.csv', index_col=0)"
   ]
  },
  {
   "cell_type": "code",
   "execution_count": 4,
   "metadata": {
    "collapsed": false
   },
   "outputs": [
    {
     "name": "stdout",
     "output_type": "stream",
     "text": [
      "Time elapsed: 12.4313 secs\n"
     ]
    }
   ],
   "source": [
    "# Combine observations by 'Id', aggregate features\n",
    "t = time.time()\n",
    "trn_comb = trn.groupby('Id').agg(['mean','std','median','count', 'min', 'max'])\n",
    "trn_comb.columns = ['_'.join(tup) for (i,tup) in enumerate(trn_comb.columns.values)]\n",
    "trn_comb = trn_comb.drop(['Expected_count', 'Expected_median', 'Expected_std', 'Expected_min','Expected_max'], axis =1)\n",
    "\n",
    "# ignore id's where all Ref vales are NaN\n",
    "trn_withRef_comb = trn_comb[pd.notnull(trn_comb.Ref_mean)]\n",
    "\n",
    "print 'Time elapsed: {:.4f} secs'.format(time.time()-t)  # toc"
   ]
  },
  {
   "cell_type": "code",
   "execution_count": 5,
   "metadata": {
    "collapsed": false
   },
   "outputs": [
    {
     "name": "stdout",
     "output_type": "stream",
     "text": [
      "(731556, 133) (731556,)\n"
     ]
    }
   ],
   "source": [
    "y = trn_withRef_comb['Expected_mean']\n",
    "trn_withRef_comb = trn_withRef_comb.drop(['Expected_mean'], axis =1)\n",
    "\n",
    "trn_withRef_comb['MP'] = np.log10(1+pow(pow(10, trn_withRef_comb['Ref_mean']/10)/200, 0.625 * 0.82))\n",
    "X = trn_withRef_comb.loc[:, 'minutes_past_mean':'MP']  # NOTE: used range slicing on column\n",
    "\n",
    "print X.shape, y.shape"
   ]
  },
  {
   "cell_type": "code",
   "execution_count": 6,
   "metadata": {
    "collapsed": false
   },
   "outputs": [],
   "source": [
    "ttf = TargetThresholdFilter(threshold=45)\n",
    "lpo = LogPlusOne()\n",
    "imp = Imputer(strategy='median', copy=False)  # Get a imputor with column-mean filling config\n",
    "ss = StandardScaler(copy=False, with_mean=True, with_std=True)\n",
    "base1 = Pipeline([('sel', LeaveTailK(K=1)), ('rf', RandomForestRegressor(n_estimators=500, max_features=0.2, max_depth=25, n_jobs=7))])  # NOTE: n_jobs=-1 will use all of your cores, set to a prefered number e.g. 4\n",
    "base2 = Pipeline([('sel', LeaveTailK(K=1)), ('xgb', xgb.sklearn.XGBRegressor(n_estimators=500, nthread=6))], copy = False)\n",
    "base3 = Pipeline([('sel', LeaveTailK(K=1)), ('ri', Ridge(alpha=2.0))], copy = False)\n",
    "base4 = Pipeline([('sel', LeaveTailK(K=1)), ('la', Lasso(alpha=0.01))], copy = False)\n",
    "base5 = Pipeline([('sel', SelectTailK(K=1)), ('mp', DummyRegressor())], copy = False)\n",
    "blender = Ridge(alpha=2)\n",
    "clf = BlendedRegressor(base_models=(base1, base2, base3, base4, base5), blending_model=blender, blending_split=0.2, with_feature=True)\n",
    "pip = Pipeline([('ttf',ttf), ('lpo',lpo), ('imp',imp), ('ss',ss), ('clf',clf)], copy=True)  # a Pipeline wrapper to chain'em up\n",
    "def LogPlusOne_score(ground_truth, predictions, lpo=lpo):\n",
    "    return np.float64(np.mean(np.abs(ground_truth - (np.power(10, predictions) - 1))))\n",
    "scorer = make_scorer(LogPlusOne_score, greater_is_better=False)  # define scoring metric"
   ]
  },
  {
   "cell_type": "markdown",
   "metadata": {},
   "source": [
    "# CV"
   ]
  },
  {
   "cell_type": "code",
   "execution_count": 17,
   "metadata": {
    "collapsed": true
   },
   "outputs": [
    {
     "name": "stdout",
     "output_type": "stream",
     "text": [
      "[CV] no parameters to be set .........................................\n",
      "[CV] .............. no parameters to be set, score=-22.188152 -15.7min\n",
      "[CV] no parameters to be set .........................................\n",
      "[CV] .............. no parameters to be set, score=-22.463025 -16.3min\n",
      "[CV] no parameters to be set .........................................\n",
      "[CV] .............. no parameters to be set, score=-23.337652 -16.0min\n",
      "[CV] no parameters to be set .........................................\n",
      "[CV] .............. no parameters to be set, score=-24.861429 -16.2min\n",
      "[CV] no parameters to be set .........................................\n",
      "[CV] .............. no parameters to be set, score=-23.699062 -15.6min\n",
      "[CV] no parameters to be set .........................................\n",
      "[CV] .............. no parameters to be set, score=-23.857426 -15.8min\n",
      "[CV] no parameters to be set .........................................\n",
      "[CV] .............. no parameters to be set, score=-19.849024 -15.2min\n",
      "[CV] no parameters to be set .........................................\n",
      "[CV] .............. no parameters to be set, score=-25.541439 -16.6min\n",
      "[CV] no parameters to be set .........................................\n",
      "[CV] .............. no parameters to be set, score=-23.606466 -15.6min\n",
      "[CV] no parameters to be set .........................................\n",
      "[CV] .............. no parameters to be set, score=-21.401195 -15.7min\n"
     ]
    },
    {
     "name": "stderr",
     "output_type": "stream",
     "text": [
      "[Parallel(n_jobs=1)]: Done  10 out of  10 | elapsed: 158.7min finished\n"
     ]
    }
   ],
   "source": [
    "scores = cross_val_score(estimator=pip, X=X, y=y, scoring=scorer, cv=10, n_jobs=1, verbose=3)"
   ]
  },
  {
   "cell_type": "code",
   "execution_count": 14,
   "metadata": {
    "collapsed": true
   },
   "outputs": [
    {
     "name": "stdout",
     "output_type": "stream",
     "text": [
      "-23.0830986257 1.58102456168\n",
      "[('ttf', TargetThresholdFilter(threshold=45)), ('lpo', LogPlusOne()), ('imp', Imputer(axis=0, copy=False, missing_values='NaN', strategy='median',\n",
      "    verbose=0)), ('ss', StandardScaler(copy=False, with_mean=True, with_std=True)), ('clf', BlendedRegressor(base_models=(Pipeline(copy=True,\n",
      "     steps=[('sel', LeaveTailK(K=1)), ('rf', RandomForestRegressor(bootstrap=True, criterion='mse', max_depth=25,\n",
      "           max_features=0.2, max_leaf_nodes=None, min_samples_leaf=1,\n",
      "           min_samples_split=2, min_weight_fraction_leaf=0.0,\n",
      "           n_estimato...t=False))]), Pipeline(copy=False,\n",
      "     steps=[('sel', SelectTailK(K=1)), ('mp', DummyRegressor())])),\n",
      "         blending_model=LinearRegression(copy_X=True, fit_intercept=True, n_jobs=1, normalize=False),\n",
      "         blending_split=0.1, with_feature=False))]\n"
     ]
    }
   ],
   "source": [
    "# ttf = TargetThresholdFilter(threshold=45)\n",
    "# base1 = RandomForestRegressor(n_estimators=500, max_features=0.2, max_depth=25, n_jobs=7)  # NOTE: n_jobs=-1 will use all of your cores, set to a prefered number e.g. 4\n",
    "# base2 = xgb.sklearn.XGBRegressor(n_estimators=500, nthread=6) # base3 = Ridge(alpha=2.0)# base4 = Lasso(alpha=0.01) # base5: MP\n",
    "# blender = Ridge(1)\n",
    "# clf = BlendedRegressor(base_models=(base1, base2, base3, base4, base5), blending_model=blender, blending_split=0.1)\n",
    "# pip = Pipeline([('ttf',ttf), ('lpo',lpo), ('imp',imp), ('ss',ss), ('clf',clf)])  # a Pipeline wrapper to chain'em up\n",
    "print np.mean(scores), np.std(scores)\n",
    "print pip.get_params()['steps']"
   ]
  },
  {
   "cell_type": "code",
   "execution_count": 18,
   "metadata": {
    "collapsed": false
   },
   "outputs": [
    {
     "name": "stdout",
     "output_type": "stream",
     "text": [
      "-23.0804868909 1.58104365075\n",
      "[('ttf', TargetThresholdFilter(threshold=45)), ('lpo', LogPlusOne()), ('imp', Imputer(axis=0, copy=False, missing_values='NaN', strategy='median',\n",
      "    verbose=0)), ('ss', StandardScaler(copy=False, with_mean=True, with_std=True)), ('clf', BlendedRegressor(base_models=(Pipeline(copy=True,\n",
      "     steps=[('sel', LeaveTailK(K=1)), ('rf', RandomForestRegressor(bootstrap=True, criterion='mse', max_depth=25,\n",
      "           max_features=0.2, max_leaf_nodes=None, min_samples_leaf=1,\n",
      "           min_samples_split=2, min_weight_fraction_leaf=0.0,\n",
      "           n_estimato...ressor())]), Pipeline(copy=False,\n",
      "     steps=[('sel', SelectTailK(K=1)), ('mp', DummyRegressor())])),\n",
      "         blending_model=Ridge(alpha=2, copy_X=True, fit_intercept=True, max_iter=None,\n",
      "   normalize=False, random_state=None, solver='auto', tol=0.001),\n",
      "         blending_split=0.2, with_feature=True))]\n"
     ]
    }
   ],
   "source": [
    "# ttf = TargetThresholdFilter(threshold=45)\n",
    "# base1 = RandomForestRegressor(n_estimators=500, max_features=0.2, max_depth=25, n_jobs=7)  # NOTE: n_jobs=-1 will use all of your cores, set to a prefered number e.g. 4\n",
    "# base2 = xgb.sklearn.XGBRegressor(n_estimators=500, nthread=6) # base3 = Ridge(alpha=2.0)# base4 = Lasso(alpha=0.01) # base5: MP\n",
    "# blender = Ridge(2)\n",
    "# clf = BlendedRegressor(base_models=(base1, base2, base3, base4, base5), blending_model=blender, blending_split=0.2)\n",
    "# pip = Pipeline([('ttf',ttf), ('lpo',lpo), ('imp',imp), ('ss',ss), ('clf',clf)])  # a Pipeline wrapper to chain'em up\n",
    "print np.mean(scores), np.std(scores)\n",
    "print pip.get_params()['steps']"
   ]
  },
  {
   "cell_type": "code",
   "execution_count": 10,
   "metadata": {
    "collapsed": true
   },
   "outputs": [
    {
     "name": "stdout",
     "output_type": "stream",
     "text": [
      "[CV] clf__blending_model__alpha=1.5 ..................................\n",
      "[CV] ....... clf__blending_model__alpha=1.5, score=-18.701770 -  47.5s\n",
      "[CV] clf__blending_model__alpha=1.75 .................................\n",
      "[CV] ...... clf__blending_model__alpha=1.75, score=-18.701138 -  47.4s\n",
      "[CV] clf__blending_model__alpha=2.0 ..................................\n",
      "[CV] ....... clf__blending_model__alpha=2.0, score=-18.698794 -  47.7s\n",
      "[CV] clf__blending_model__alpha=2.25 .................................\n",
      "[CV] ...... clf__blending_model__alpha=2.25, score=-18.699666 -  47.5s\n",
      "[CV] clf__blending_model__alpha=1.5 ..................................\n",
      "[CV] ....... clf__blending_model__alpha=1.5, score=-14.461044 -  47.6s\n",
      "[CV] clf__blending_model__alpha=1.75 .................................\n",
      "[CV] ...... clf__blending_model__alpha=1.75, score=-14.459920 -  47.7s\n",
      "[CV] clf__blending_model__alpha=2.0 ..................................\n",
      "[CV] ....... clf__blending_model__alpha=2.0, score=-14.458963 -  47.7s\n",
      "[CV] clf__blending_model__alpha=2.25 .................................\n",
      "[CV] ...... clf__blending_model__alpha=2.25, score=-14.459868 -  47.5s\n",
      "[CV] clf__blending_model__alpha=1.5 ..................................\n",
      "[CV] ....... clf__blending_model__alpha=1.5, score=-17.348493 -  47.5s\n",
      "[CV] clf__blending_model__alpha=1.75 .................................\n",
      "[CV] ...... clf__blending_model__alpha=1.75, score=-17.349086 -  47.3s\n",
      "[CV] clf__blending_model__alpha=2.0 ..................................\n",
      "[CV] ....... clf__blending_model__alpha=2.0, score=-17.347952 -  47.3s\n",
      "[CV] clf__blending_model__alpha=2.25 .................................\n",
      "[CV] ...... clf__blending_model__alpha=2.25, score=-17.348905 -  47.5s\n",
      "[CV] clf__blending_model__alpha=1.5 ..................................\n",
      "[CV] ....... clf__blending_model__alpha=1.5, score=-16.022966 -  48.3s\n",
      "[CV] clf__blending_model__alpha=1.75 .................................\n",
      "[CV] ...... clf__blending_model__alpha=1.75, score=-16.022316 -  47.7s\n",
      "[CV] clf__blending_model__alpha=2.0 ..................................\n",
      "[CV] ....... clf__blending_model__alpha=2.0, score=-16.022670 -  47.7s\n",
      "[CV] clf__blending_model__alpha=2.25 .................................\n",
      "[CV] ...... clf__blending_model__alpha=2.25, score=-16.022200 -  47.6s\n",
      "[CV] clf__blending_model__alpha=1.5 ..................................\n",
      "[CV] ....... clf__blending_model__alpha=1.5, score=-14.191743 -  47.6s\n",
      "[CV] clf__blending_model__alpha=1.75 .................................\n",
      "[CV] ...... clf__blending_model__alpha=1.75, score=-14.191285 -  47.8s\n",
      "[CV] clf__blending_model__alpha=2.0 ..................................\n",
      "[CV] ....... clf__blending_model__alpha=2.0, score=-14.193186 -  47.7s\n",
      "[CV] clf__blending_model__alpha=2.25 .................................\n",
      "[CV] ...... clf__blending_model__alpha=2.25, score=-14.191617 -  47.8s\n",
      "[CV] clf__blending_model__alpha=1.5 ..................................\n",
      "[CV] ....... clf__blending_model__alpha=1.5, score=-21.149233 -  47.1s\n",
      "[CV] clf__blending_model__alpha=1.75 .................................\n",
      "[CV] ...... clf__blending_model__alpha=1.75, score=-21.150311 -  47.1s\n",
      "[CV] clf__blending_model__alpha=2.0 ..................................\n",
      "[CV] ....... clf__blending_model__alpha=2.0, score=-21.153060 -  46.9s\n",
      "[CV] clf__blending_model__alpha=2.25 .................................\n",
      "[CV] ...... clf__blending_model__alpha=2.25, score=-21.149865 -  47.1s\n",
      "[CV] clf__blending_model__alpha=1.5 ..................................\n",
      "[CV] ....... clf__blending_model__alpha=1.5, score=-16.080315 -  47.7s\n",
      "[CV] clf__blending_model__alpha=1.75 .................................\n",
      "[CV] ...... clf__blending_model__alpha=1.75, score=-16.080881 -  47.6s\n",
      "[CV] clf__blending_model__alpha=2.0 ..................................\n",
      "[CV] ....... clf__blending_model__alpha=2.0, score=-16.080235 -  47.6s\n",
      "[CV] clf__blending_model__alpha=2.25 .................................\n",
      "[CV] ...... clf__blending_model__alpha=2.25, score=-16.080557 -  47.8s\n",
      "[CV] clf__blending_model__alpha=1.5 ..................................\n",
      "[CV] ....... clf__blending_model__alpha=1.5, score=-17.526304 -  47.8s\n",
      "[CV] clf__blending_model__alpha=1.75 .................................\n",
      "[CV] ...... clf__blending_model__alpha=1.75, score=-17.523579 -  47.8s\n",
      "[CV] clf__blending_model__alpha=2.0 ..................................\n",
      "[CV] ....... clf__blending_model__alpha=2.0, score=-17.520600 -  48.3s\n",
      "[CV] clf__blending_model__alpha=2.25 .................................\n",
      "[CV] ...... clf__blending_model__alpha=2.25, score=-17.520345 -  47.7s\n",
      "[CV] clf__blending_model__alpha=1.5 ..................................\n",
      "[CV] ....... clf__blending_model__alpha=1.5, score=-15.731356 -  47.6s\n",
      "[CV] clf__blending_model__alpha=1.75 .................................\n",
      "[CV] ...... clf__blending_model__alpha=1.75, score=-15.732376 -  47.7s\n",
      "[CV] clf__blending_model__alpha=2.0 ..................................\n",
      "[CV] ....... clf__blending_model__alpha=2.0, score=-15.731403 -  47.8s\n",
      "[CV] clf__blending_model__alpha=2.25 .................................\n",
      "[CV] ...... clf__blending_model__alpha=2.25, score=-15.730833 -  47.7s\n",
      "[CV] clf__blending_model__alpha=1.5 ..................................\n",
      "[CV] ....... clf__blending_model__alpha=1.5, score=-18.024105 -  47.8s\n",
      "[CV] clf__blending_model__alpha=1.75 .................................\n",
      "[CV] ...... clf__blending_model__alpha=1.75, score=-18.023188 -  48.2s\n",
      "[CV] clf__blending_model__alpha=2.0 ..................................\n",
      "[CV] ....... clf__blending_model__alpha=2.0, score=-18.021515 -  48.1s\n",
      "[CV] clf__blending_model__alpha=2.25 .................................\n",
      "[CV] ...... clf__blending_model__alpha=2.25, score=-18.022140 -  47.7s"
     ]
    },
    {
     "name": "stderr",
     "output_type": "stream",
     "text": [
      "[Parallel(n_jobs=1)]: Done  31 tasks       | elapsed: 24.6min\n",
      "[Parallel(n_jobs=1)]: Done  40 out of  40 | elapsed: 31.8min finished\n"
     ]
    },
    {
     "name": "stdout",
     "output_type": "stream",
     "text": [
      "\n"
     ]
    }
   ],
   "source": [
    "# Sweep parameter\n",
    "param_name, param_range='clf__blending_model__alpha', np.arange(1.5, 2.5, 0.25)\n",
    "train_scores, test_scores= validation_curve(estimator=pip, X=X, y=y, scoring=scorer, cv=10, n_jobs=1, \n",
    "                          param_name=param_name, param_range=param_range, verbose=3)\n",
    "train_scores_mean = np.mean(train_scores, axis=1)\n",
    "train_scores_std = np.std(train_scores, axis=1)\n",
    "test_scores_mean = np.mean(test_scores, axis=1)\n",
    "test_scores_std = np.std(test_scores, axis=1)# Sweep parameter"
   ]
  },
  {
   "cell_type": "code",
   "execution_count": 7,
   "metadata": {
    "collapsed": true
   },
   "outputs": [
    {
     "name": "stdout",
     "output_type": "stream",
     "text": [
      "[('ttf', TargetThresholdFilter(threshold=45)), ('lpo', LogPlusOne()), ('imp', Imputer(axis=0, copy=False, missing_values='NaN', strategy='median',\n",
      "    verbose=0)), ('ss', StandardScaler(copy=False, with_mean=True, with_std=True)), ('clf', BlendedRegressor(base_models=(Pipeline(copy=True,\n",
      "     steps=[('sel', LeaveTailK(K=1)), ('rf', RandomForestRegressor(bootstrap=True, criterion='mse', max_depth=25,\n",
      "           max_features=0.2, max_leaf_nodes=None, min_samples_leaf=1,\n",
      "           min_samples_split=2, min_weight_fraction_leaf=0.0,\n",
      "           n_estimato...t=False))]), Pipeline(copy=False,\n",
      "     steps=[('sel', SelectTailK(K=1)), ('mp', DummyRegressor())])),\n",
      "         blending_model=Ridge(alpha=1.5, copy_X=True, fit_intercept=True, max_iter=None,\n",
      "   normalize=False, random_state=None, solver='auto', tol=0.001),\n",
      "         blending_split=0.1, with_feature=True))]\n",
      "[0.5, 0.75, 1, 1.25, 1.5]\n",
      "[-16.48869519 -16.4984791  -16.51418115 -16.50239642 -16.50757212]\n",
      "[-16.93193277 -16.93090144 -16.93018647 -16.92970733 -16.92918362]\n"
     ]
    },
    {
     "data": {
      "image/png": "[encoded data removed]",
      "text/plain": [
       "<matplotlib.figure.Figure at 0x7f784af9e990>"
      ]
     },
     "metadata": {},
     "output_type": "display_data"
    }
   ],
   "source": [
    "# Plotting the validation curver, i.e. trn/val error versus parameter value\n",
    "# Sweep alpha = [0.5, 0.75, 1, 1.25, 1.5]\n",
    "# 100% data\n",
    "print pip.get_params()['steps']\n",
    "print param_range\n",
    "print train_scores_mean\n",
    "print test_scores_mean\n",
    "plt.title(\"Validation Curve\")\n",
    "plt.xlabel(param_name)\n",
    "plt.ylabel(\"Score\")\n",
    "plt.plot(param_range, train_scores_mean, label=\"Training score\", color=\"r\")\n",
    "# plt.fill_between(param_range, train_scores_mean - train_scores_std, train_scores_mean + train_scores_std, alpha=0.2, color=\"r\")\n",
    "plt.twinx()\n",
    "plt.plot(param_range, test_scores_mean, label=\"Cross-validation score\", color=\"g\")\n",
    "# plt.fill_between(param_range, test_scores_mean - test_scores_std, test_scores_mean + test_scores_std, alpha=0.2, color=\"g\")\n",
    "plt.legend(loc=\"best\")\n",
    "plt.show()"
   ]
  },
  {
   "cell_type": "code",
   "execution_count": 11,
   "metadata": {
    "collapsed": true
   },
   "outputs": [
    {
     "name": "stdout",
     "output_type": "stream",
     "text": [
      "[('ttf', TargetThresholdFilter(threshold=45)), ('lpo', LogPlusOne()), ('imp', Imputer(axis=0, copy=False, missing_values='NaN', strategy='median',\n",
      "    verbose=0)), ('ss', StandardScaler(copy=False, with_mean=True, with_std=True)), ('clf', BlendedRegressor(base_models=(Pipeline(copy=True,\n",
      "     steps=[('sel', LeaveTailK(K=1)), ('rf', RandomForestRegressor(bootstrap=True, criterion='mse', max_depth=25,\n",
      "           max_features=0.2, max_leaf_nodes=None, min_samples_leaf=1,\n",
      "           min_samples_split=2, min_weight_fraction_leaf=0.0,\n",
      "           n_estimato...t=False))]), Pipeline(copy=False,\n",
      "     steps=[('sel', SelectTailK(K=1)), ('mp', DummyRegressor())])),\n",
      "         blending_model=Ridge(alpha=2.25, copy_X=True, fit_intercept=True, max_iter=None,\n",
      "   normalize=False, random_state=None, solver='auto', tol=0.001),\n",
      "         blending_split=0.175, with_feature=True))]\n",
      "[ 1.5   1.75  2.    2.25]\n",
      "[-16.53457031 -16.53353487 -16.53191321 -16.5337056 ]\n",
      "[-16.9237328  -16.92340796 -16.92283777 -16.92259963]\n"
     ]
    },
    {
     "data": {
      "image/png": "[encoded data removed]",
      "text/plain": [
       "<matplotlib.figure.Figure at 0x7f784adee750>"
      ]
     },
     "metadata": {},
     "output_type": "display_data"
    }
   ],
   "source": [
    "# Plotting the validation curver, i.e. trn/val error versus parameter value\n",
    "# Sweep alpha = np.arange(1.5, 2.5, 0.25)\n",
    "# 100% data\n",
    "print pip.get_params()['steps']\n",
    "print param_range\n",
    "print train_scores_mean\n",
    "print test_scores_mean\n",
    "plt.title(\"Validation Curve\")\n",
    "plt.xlabel(param_name)\n",
    "plt.ylabel(\"Score\")\n",
    "plt.plot(param_range, train_scores_mean, label=\"Training score\", color=\"r\")\n",
    "# plt.fill_between(param_range, train_scores_mean - train_scores_std, train_scores_mean + train_scores_std, alpha=0.2, color=\"r\")\n",
    "plt.twinx()\n",
    "plt.plot(param_range, test_scores_mean, label=\"Cross-validation score\", color=\"g\")\n",
    "# plt.fill_between(param_range, test_scores_mean - test_scores_std, test_scores_mean + test_scores_std, alpha=0.2, color=\"g\")\n",
    "plt.legend(loc=\"best\")\n",
    "plt.show()"
   ]
  },
  {
   "cell_type": "code",
   "execution_count": 8,
   "metadata": {
    "collapsed": true
   },
   "outputs": [
    {
     "name": "stdout",
     "output_type": "stream",
     "text": [
      "[CV] clf__blending_split=0.025 .......................................\n",
      "[CV] ............ clf__blending_split=0.025, score=-18.943317 -  56.9s\n",
      "[CV] clf__blending_split=0.05 ........................................\n",
      "[CV] ............. clf__blending_split=0.05, score=-18.723569 -  54.7s\n",
      "[CV] clf__blending_split=0.075 .......................................\n",
      "[CV] ............ clf__blending_split=0.075, score=-18.703653 -  53.2s\n",
      "[CV] clf__blending_split=0.1 .........................................\n",
      "[CV] .............. clf__blending_split=0.1, score=-18.696839 -  51.7s\n",
      "[CV] clf__blending_split=0.125 .......................................\n",
      "[CV] ............ clf__blending_split=0.125, score=-18.698795 -  50.3s\n",
      "[CV] clf__blending_split=0.15 ........................................\n",
      "[CV] ............. clf__blending_split=0.15, score=-18.696780 -  49.0s\n",
      "[CV] clf__blending_split=0.175 .......................................\n",
      "[CV] ............ clf__blending_split=0.175, score=-18.699620 -  47.6s\n",
      "[CV] clf__blending_split=0.025 .......................................\n",
      "[CV] ............ clf__blending_split=0.025, score=-14.535033 -  56.8s\n",
      "[CV] clf__blending_split=0.05 ........................................\n",
      "[CV] ............. clf__blending_split=0.05, score=-14.485961 -  54.7s\n",
      "[CV] clf__blending_split=0.075 .......................................\n",
      "[CV] ............ clf__blending_split=0.075, score=-14.477387 -  53.7s\n",
      "[CV] clf__blending_split=0.1 .........................................\n",
      "[CV] .............. clf__blending_split=0.1, score=-14.475558 -  52.1s\n",
      "[CV] clf__blending_split=0.125 .......................................\n",
      "[CV] ............ clf__blending_split=0.125, score=-14.465026 -  50.3s\n",
      "[CV] clf__blending_split=0.15 ........................................\n",
      "[CV] ............. clf__blending_split=0.15, score=-14.462832 -  49.0s\n",
      "[CV] clf__blending_split=0.175 .......................................\n",
      "[CV] ............ clf__blending_split=0.175, score=-14.460066 -  47.6s\n",
      "[CV] clf__blending_split=0.025 .......................................\n",
      "[CV] ............ clf__blending_split=0.025, score=-17.516809 -  56.5s\n",
      "[CV] clf__blending_split=0.05 ........................................\n",
      "[CV] ............. clf__blending_split=0.05, score=-17.369754 -  54.7s\n",
      "[CV] clf__blending_split=0.075 .......................................\n",
      "[CV] ............ clf__blending_split=0.075, score=-17.361068 -  53.5s\n",
      "[CV] clf__blending_split=0.1 .........................................\n",
      "[CV] .............. clf__blending_split=0.1, score=-17.364140 -  52.1s\n",
      "[CV] clf__blending_split=0.125 .......................................\n",
      "[CV] ............ clf__blending_split=0.125, score=-17.364374 -  50.2s\n",
      "[CV] clf__blending_split=0.15 ........................................\n",
      "[CV] ............. clf__blending_split=0.15, score=-17.352225 -  49.0s\n",
      "[CV] clf__blending_split=0.175 .......................................\n",
      "[CV] ............ clf__blending_split=0.175, score=-17.348720 -  47.0s\n",
      "[CV] clf__blending_split=0.025 .......................................\n",
      "[CV] ............ clf__blending_split=0.025, score=-16.069763 -  56.2s\n",
      "[CV] clf__blending_split=0.05 ........................................\n",
      "[CV] ............. clf__blending_split=0.05, score=-16.039713 -  54.7s\n",
      "[CV] clf__blending_split=0.075 .......................................\n",
      "[CV] ............ clf__blending_split=0.075, score=-16.034070 -  53.5s\n",
      "[CV] clf__blending_split=0.1 .........................................\n",
      "[CV] .............. clf__blending_split=0.1, score=-16.028317 -  52.5s\n",
      "[CV] clf__blending_split=0.125 .......................................\n",
      "[CV] ............ clf__blending_split=0.125, score=-16.025048 -  50.4s\n",
      "[CV] clf__blending_split=0.15 ........................................\n",
      "[CV] ............. clf__blending_split=0.15, score=-16.023092 -  49.0s\n",
      "[CV] clf__blending_split=0.175 .......................................\n",
      "[CV] ............ clf__blending_split=0.175, score=-16.022772 -  47.8s\n",
      "[CV] clf__blending_split=0.025 .......................................\n",
      "[CV] ............ clf__blending_split=0.025, score=-14.299470 -  56.3s\n",
      "[CV] clf__blending_split=0.05 ........................................\n",
      "[CV] ............. clf__blending_split=0.05, score=-14.218666 -  54.6s\n",
      "[CV] clf__blending_split=0.075 .......................................\n",
      "[CV] ............ clf__blending_split=0.075, score=-14.205907 -  53.7s\n",
      "[CV] clf__blending_split=0.1 .........................................\n",
      "[CV] .............. clf__blending_split=0.1, score=-14.198033 -  52.4s\n",
      "[CV] clf__blending_split=0.125 .......................................\n",
      "[CV] ............ clf__blending_split=0.125, score=-14.193256 -  50.3s\n",
      "[CV] clf__blending_split=0.15 ........................................\n",
      "[CV] ............. clf__blending_split=0.15, score=-14.192101 -  49.1s\n",
      "[CV] clf__blending_split=0.175 .......................................\n",
      "[CV] ............ clf__blending_split=0.175, score=-14.191894 -  47.7s\n",
      "[CV] clf__blending_split=0.025 .......................................\n",
      "[CV] ............ clf__blending_split=0.025, score=-21.194521 -  56.1s\n",
      "[CV] clf__blending_split=0.05 ........................................\n",
      "[CV] ............. clf__blending_split=0.05, score=-21.170858 -  54.7s\n",
      "[CV] clf__blending_split=0.075 .......................................\n",
      "[CV] ............ clf__blending_split=0.075, score=-21.163835 -  53.6s\n",
      "[CV] clf__blending_split=0.1 .........................................\n",
      "[CV] .............. clf__blending_split=0.1, score=-21.155621 -  51.9s\n",
      "[CV] clf__blending_split=0.125 .......................................\n",
      "[CV] ............ clf__blending_split=0.125, score=-21.149899 -  51.3s\n",
      "[CV] clf__blending_split=0.15 ........................................\n",
      "[CV] ............. clf__blending_split=0.15, score=-21.148041 -  49.0s\n",
      "[CV] clf__blending_split=0.175 .......................................\n",
      "[CV] ............ clf__blending_split=0.175, score=-21.147978 -  46.7s\n",
      "[CV] clf__blending_split=0.025 .......................................\n",
      "[CV] ............ clf__blending_split=0.025, score=-16.127241 -  56.1s\n",
      "[CV] clf__blending_split=0.05 ........................................\n",
      "[CV] ............. clf__blending_split=0.05, score=-16.092033 -  54.9s\n",
      "[CV] clf__blending_split=0.075 .......................................\n",
      "[CV] ............ clf__blending_split=0.075, score=-16.084879 -  53.1s\n",
      "[CV] clf__blending_split=0.1 .........................................\n",
      "[CV] .............. clf__blending_split=0.1, score=-16.083672 -  51.7s\n",
      "[CV] clf__blending_split=0.125 .......................................\n",
      "[CV] ............ clf__blending_split=0.125, score=-16.080012 -  50.4s\n",
      "[CV] clf__blending_split=0.15 ........................................\n",
      "[CV] ............. clf__blending_split=0.15, score=-16.083771 -  48.3s\n",
      "[CV] clf__blending_split=0.175 .......................................\n",
      "[CV] ............ clf__blending_split=0.175, score=-16.081277 -  47.4s\n",
      "[CV] clf__blending_split=0.025 .......................................\n",
      "[CV] ............ clf__blending_split=0.025, score=-17.534076 -  56.1s\n",
      "[CV] clf__blending_split=0.05 ........................................\n",
      "[CV] ............. clf__blending_split=0.05, score=-17.515333 -  54.6s\n",
      "[CV] clf__blending_split=0.075 .......................................\n",
      "[CV] ............ clf__blending_split=0.075, score=-17.518221 -  53.4s\n",
      "[CV] clf__blending_split=0.1 .........................................\n",
      "[CV] .............. clf__blending_split=0.1, score=-17.521891 -  51.9s\n",
      "[CV] clf__blending_split=0.125 .......................................\n",
      "[CV] ............ clf__blending_split=0.125, score=-17.515486 -  50.5s\n",
      "[CV] clf__blending_split=0.15 ........................................\n",
      "[CV] ............. clf__blending_split=0.15, score=-17.518482 -  49.0s\n",
      "[CV] clf__blending_split=0.175 .......................................\n",
      "[CV] ............ clf__blending_split=0.175, score=-17.526012 -  47.6s\n",
      "[CV] clf__blending_split=0.025 .......................................\n",
      "[CV] ............ clf__blending_split=0.025, score=-15.773872 -  56.0s\n",
      "[CV] clf__blending_split=0.05 ........................................\n",
      "[CV] ............. clf__blending_split=0.05, score=-15.748073 -  54.5s\n",
      "[CV] clf__blending_split=0.075 .......................................\n",
      "[CV] ............ clf__blending_split=0.075, score=-15.739583 -  53.1s\n",
      "[CV] clf__blending_split=0.1 .........................................\n",
      "[CV] .............. clf__blending_split=0.1, score=-15.735292 -  51.8s\n",
      "[CV] clf__blending_split=0.125 .......................................\n",
      "[CV] ............ clf__blending_split=0.125, score=-15.731356 -  50.4s\n",
      "[CV] clf__blending_split=0.15 ........................................\n",
      "[CV] ............. clf__blending_split=0.15, score=-15.732506 -  49.0s\n",
      "[CV] clf__blending_split=0.175 .......................................\n",
      "[CV] ............ clf__blending_split=0.175, score=-15.733038 -  48.1s\n",
      "[CV] clf__blending_split=0.025 .......................................\n",
      "[CV] ............ clf__blending_split=0.025, score=-18.143893 -  56.0s\n",
      "[CV] clf__blending_split=0.05 ........................................\n",
      "[CV] ............. clf__blending_split=0.05, score=-18.042678 -  54.8s\n",
      "[CV] clf__blending_split=0.075 .......................................\n",
      "[CV] ............ clf__blending_split=0.075, score=-18.029608 -  53.2s\n",
      "[CV] clf__blending_split=0.1 .........................................\n",
      "[CV] .............. clf__blending_split=0.1, score=-18.031483 -  51.9s\n",
      "[CV] clf__blending_split=0.125 .......................................\n",
      "[CV] ............ clf__blending_split=0.125, score=-18.026764 -  50.5s\n",
      "[CV] clf__blending_split=0.15 ........................................\n",
      "[CV] ............. clf__blending_split=0.15, score=-18.023712 -  49.2s\n",
      "[CV] clf__blending_split=0.175 .......................................\n",
      "[CV] ............ clf__blending_split=0.175, score=-18.023998 -  47.8s"
     ]
    },
    {
     "name": "stderr",
     "output_type": "stream",
     "text": [
      "[Parallel(n_jobs=1)]: Done  31 tasks       | elapsed: 27.0min\n",
      "[Parallel(n_jobs=1)]: Done  70 out of  70 | elapsed: 60.6min finished\n"
     ]
    },
    {
     "name": "stdout",
     "output_type": "stream",
     "text": [
      "\n"
     ]
    }
   ],
   "source": [
    "# Sweep parameter\n",
    "param_name, param_range='clf__blending_split', [0.025, 0.05, 0.075, 0.1, 0.125, 0.15, 0.175]\n",
    "train_scores, test_scores= validation_curve(estimator=pip, X=X, y=y, scoring=scorer, cv=10, n_jobs=1, \n",
    "                          param_name=param_name, param_range=param_range, verbose=3)\n",
    "train_scores_mean = np.mean(train_scores, axis=1)\n",
    "train_scores_std = np.std(train_scores, axis=1)\n",
    "test_scores_mean = np.mean(test_scores, axis=1)\n",
    "test_scores_std = np.std(test_scores, axis=1)# Sweep parameter"
   ]
  },
  {
   "cell_type": "code",
   "execution_count": 9,
   "metadata": {
    "collapsed": true
   },
   "outputs": [
    {
     "name": "stdout",
     "output_type": "stream",
     "text": [
      "[('ttf', TargetThresholdFilter(threshold=45)), ('lpo', LogPlusOne()), ('imp', Imputer(axis=0, copy=False, missing_values='NaN', strategy='median',\n",
      "    verbose=0)), ('ss', StandardScaler(copy=False, with_mean=True, with_std=True)), ('clf', BlendedRegressor(base_models=(Pipeline(copy=True,\n",
      "     steps=[('sel', LeaveTailK(K=1)), ('rf', RandomForestRegressor(bootstrap=True, criterion='mse', max_depth=25,\n",
      "           max_features=0.2, max_leaf_nodes=None, min_samples_leaf=1,\n",
      "           min_samples_split=2, min_weight_fraction_leaf=0.0,\n",
      "           n_estimato...t=False))]), Pipeline(copy=False,\n",
      "     steps=[('sel', SelectTailK(K=1)), ('mp', DummyRegressor())])),\n",
      "         blending_model=Ridge(alpha=1.5, copy_X=True, fit_intercept=True, max_iter=None,\n",
      "   normalize=False, random_state=None, solver='auto', tol=0.001),\n",
      "         blending_split=0.175, with_feature=True))]\n",
      "[0.025, 0.05, 0.075, 0.1, 0.125, 0.15, 0.175]\n",
      "[-16.6385217  -16.53745866 -16.51598257 -16.50349195 -16.5158823\n",
      " -16.52596137 -16.54045239]\n",
      "[-17.01379944 -16.94066371 -16.93182108 -16.9290846  -16.92500158\n",
      " -16.92335422 -16.92353774]\n"
     ]
    },
    {
     "data": {
      "image/png": "[encoded data removed]",
      "text/plain": [
       "<matplotlib.figure.Figure at 0x7f784adf7790>"
      ]
     },
     "metadata": {},
     "output_type": "display_data"
    }
   ],
   "source": [
    "# Plotting the validation curver, i.e. trn/val error versus parameter value\n",
    "# 'clf__blending_split', [0.025, 0.05, 0.075, 0.1, 0.125, 0.15, 0.175]\n",
    "# 100% data\n",
    "print pip.get_params()['steps']\n",
    "print param_range\n",
    "print train_scores_mean\n",
    "print test_scores_mean\n",
    "plt.title(\"Validation Curve\")\n",
    "plt.xlabel(param_name)\n",
    "plt.ylabel(\"Score\")\n",
    "plt.plot(param_range, train_scores_mean, label=\"Training score\", color=\"r\")\n",
    "# plt.fill_between(param_range, train_scores_mean - train_scores_std, train_scores_mean + train_scores_std, alpha=0.2, color=\"r\")\n",
    "plt.twinx()\n",
    "plt.plot(param_range, test_scores_mean, label=\"Cross-validation score\", color=\"g\")\n",
    "# plt.fill_between(param_range, test_scores_mean - test_scores_std, test_scores_mean + test_scores_std, alpha=0.2, color=\"g\")\n",
    "plt.legend(loc=\"best\")\n",
    "plt.show()"
   ]
  },
  {
   "cell_type": "markdown",
   "metadata": {},
   "source": [
    "# Generate submission"
   ]
  },
  {
   "cell_type": "code",
   "execution_count": 19,
   "metadata": {
    "collapsed": false
   },
   "outputs": [
    {
     "data": {
      "text/plain": [
       "Pipeline(copy=True,\n",
       "     steps=[('ttf', TargetThresholdFilter(threshold=45)), ('lpo', LogPlusOne()), ('imp', Imputer(axis=0, copy=False, missing_values='NaN', strategy='median',\n",
       "    verbose=0)), ('ss', StandardScaler(copy=False, with_mean=True, with_std=True)), ('clf', BlendedRegressor(base_models=(Pipeline(copy=True,\n",
       "     ...lse, random_state=None, solver='auto', tol=0.001),\n",
       "         blending_split=0.2, with_feature=True))])"
      ]
     },
     "execution_count": 19,
     "metadata": {},
     "output_type": "execute_result"
    }
   ],
   "source": [
    "pip.fit(X, y)"
   ]
  },
  {
   "cell_type": "code",
   "execution_count": 20,
   "metadata": {
    "collapsed": false
   },
   "outputs": [
    {
     "name": "stderr",
     "output_type": "stream",
     "text": [
      "/usr/local/lib/python2.7/dist-packages/ipykernel/__main__.py:5: SettingWithCopyWarning: \n",
      "A value is trying to be set on a copy of a slice from a DataFrame.\n",
      "Try using .loc[row_indexer,col_indexer] = value instead\n",
      "\n",
      "See the caveats in the documentation: http://pandas.pydata.org/pandas-docs/stable/indexing.html#indexing-view-versus-copy\n"
     ]
    }
   ],
   "source": [
    "test = pd.read_csv('../data/test.csv')\n",
    "test_comb = test.groupby('Id').agg(['mean','std','median','count','min', 'max'])\n",
    "test_comb.columns = ['_'.join(tup) for (i,tup) in enumerate(test_comb.columns.values)]\n",
    "test_withRef_comb = test_comb[pd.notnull(test_comb.Ref_mean)]\n",
    "test_withRef_comb['MP'] = np.log10(1+pow(pow(10, test_withRef_comb['Ref_mean']/10)/200, 0.625 * 0.82))\n",
    "\n",
    "test_X = test_withRef_comb.loc[:, 'minutes_past_mean':'MP']   # NOTE: used range slicing on column\n",
    "test_y_predict = 10**pip.predict(X=test_X)-1"
   ]
  },
  {
   "cell_type": "code",
   "execution_count": 21,
   "metadata": {
    "collapsed": false
   },
   "outputs": [
    {
     "name": "stdout",
     "output_type": "stream",
     "text": [
      "../data/result_20151128_061852.csv\n"
     ]
    }
   ],
   "source": [
    "# Ref-samples\n",
    "test_result_withRef = pd.DataFrame()\n",
    "test_result_withRef['Id'] = test_withRef_comb.index\n",
    "test_result_withRef['Expected'] = test_y_predict\n",
    "# All-samples\n",
    "test_result = pd.DataFrame()\n",
    "test_result['Id'] = test['Id'].unique()\n",
    "# Merge and set Non-Ref samples to -1\n",
    "test_result = pd.merge(test_result, test_result_withRef, how='left', on=['Id'], sort=True)\n",
    "test_result.loc[test_result['Expected'].isnull(), 'Expected'] = -1\n",
    "# Write file\n",
    "datetime_str = time.strftime('%Y%m%d_%H%M%S')\n",
    "test_result.to_csv('../data/result_'+datetime_str+'.csv', index=False)\n",
    "print '../data/result_'+datetime_str+'.csv'"
   ]
  },
  {
   "cell_type": "code",
   "execution_count": null,
   "metadata": {
    "collapsed": true
   },
   "outputs": [],
   "source": []
  }
 ],
 "metadata": {
  "kernelspec": {
   "display_name": "Python 2",
   "language": "python",
   "name": "python2"
  },
  "language_info": {
   "codemirror_mode": {
    "name": "ipython",
    "version": 2
   },
   "file_extension": ".py",
   "mimetype": "text/x-python",
   "name": "python",
   "nbconvert_exporter": "python",
   "pygments_lexer": "ipython2",
   "version": "2.7.6"
  }
 },
 "nbformat": 4,
 "nbformat_minor": 0
}
