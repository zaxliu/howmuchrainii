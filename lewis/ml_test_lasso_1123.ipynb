{
 "cells": [
  {
   "cell_type": "code",
   "execution_count": 1,
   "metadata": {
    "collapsed": false
   },
   "outputs": [],
   "source": [
    "# Basics\n",
    "import sys\n",
    "import time\n",
    "import numpy as np\n",
    "import pandas as pd\n",
    "import matplotlib.pyplot as plt\n",
    "# Sklearn\n",
    "from sklearn.preprocessing import StandardScaler, Imputer \n",
    "from sklearn.linear_model import LinearRegression, Ridge, Lasso\n",
    "from sklearn.tree import DecisionTreeRegressor\n",
    "from sklearn.ensemble import RandomForestRegressor\n",
    "from sklearn.cross_validation import cross_val_score, ShuffleSplit\n",
    "from sklearn.learning_curve import learning_curve, validation_curve\n",
    "from sklearn.metrics import make_scorer\n",
    "# xgboost\n",
    "import xgboost as xgb\n",
    "# Our custom modules\n",
    "sys.path.append('..')\n",
    "from anrg.pipeline import Pipeline # my customized Pipeline\n",
    "from anrg.blending import BlendedRegressor\n",
    "from anrg.cleaning import TargetThresholdFilter, LogPlusOne\n",
    "##### setting #######\n",
    "pd.set_option('display.max_columns', 500)  # force pandas to display all columns for better visual inspection\n",
    "%matplotlib inline"
   ]
  },
  {
   "cell_type": "code",
   "execution_count": 2,
   "metadata": {
    "collapsed": false
   },
   "outputs": [],
   "source": [
    "trn = pd.read_csv('../data/train.csv')\n",
    "# trn = pd.read_csv('../data/train_10.csv', index_col=0)  # column #0 in our file is DataFrame index\n",
    "# trn = pd.read_csv('../data/train_1.csv', index_col=0)"
   ]
  },
  {
   "cell_type": "code",
   "execution_count": 3,
   "metadata": {
    "collapsed": false
   },
   "outputs": [
    {
     "name": "stdout",
     "output_type": "stream",
     "text": [
      "Time elapsed: 0.7081 secs\n"
     ]
    }
   ],
   "source": [
    "t = time.time()\n",
    "trn_withRef = trn[trn['Ref'].notnull()]\n",
    "print 'Time elapsed: {:.4f} secs'.format(time.time()-t)  # toc"
   ]
  },
  {
   "cell_type": "code",
   "execution_count": 4,
   "metadata": {
    "collapsed": false
   },
   "outputs": [
    {
     "name": "stdout",
     "output_type": "stream",
     "text": [
      "Time elapsed: 11.1145 secs\n"
     ]
    }
   ],
   "source": [
    "# Combine observations by 'Id', aggregate features\n",
    "t = time.time()\n",
    "trn_withRef_comb = trn_withRef.groupby('Id').agg(['mean','std','median','count','min', 'max'])\n",
    "trn_withRef_comb.columns = ['_'.join(tup) for (i,tup) in enumerate(trn_withRef_comb.columns.values)]\n",
    "trn_withRef_comb = trn_withRef_comb.drop(['Expected_count', 'Expected_median', 'Expected_std', 'Expected_min','Expected_max'], axis =1)\n",
    "print 'Time elapsed: {:.4f} secs'.format(time.time()-t)  # toc"
   ]
  },
  {
   "cell_type": "code",
   "execution_count": 5,
   "metadata": {
    "collapsed": false
   },
   "outputs": [
    {
     "name": "stdout",
     "output_type": "stream",
     "text": [
      "(731556, 132) (731556,)\n"
     ]
    }
   ],
   "source": [
    "X = trn_withRef_comb.loc[:, 'minutes_past_mean':'Kdp_5x5_90th_max']  # NOTE: used range slicing on column\n",
    "y = trn_withRef_comb['Expected_mean']\n",
    "print X.shape, y.shape"
   ]
  },
  {
   "cell_type": "code",
   "execution_count": 10,
   "metadata": {
    "collapsed": false
   },
   "outputs": [],
   "source": [
    "ttf = TargetThresholdFilter(threshold=45)\n",
    "lpo = LogPlusOne()\n",
    "imp = Imputer(strategy='median', copy=False)  # Get a imputor with column-mean filling config\n",
    "ss = StandardScaler(copy=False, with_mean=True, with_std=True)\n",
    "clf = Lasso(alpha=1.0)\n",
    "pip = Pipeline([('ttf',ttf), ('lpo',lpo), ('imp',imp), ('ss',ss), ('clf',clf)])  # a Pipeline wrapper to chain'em up\n",
    "def LogPlusOne_score(ground_truth, predictions, lpo=lpo):\n",
    "    return np.float64(np.mean(np.abs(ground_truth - (np.power(10, predictions) - 1))))\n",
    "scorer = make_scorer(LogPlusOne_score, greater_is_better=True)  # define scoring metric"
   ]
  },
  {
   "cell_type": "markdown",
   "metadata": {},
   "source": [
    "# CV"
   ]
  },
  {
   "cell_type": "code",
   "execution_count": 31,
   "metadata": {
    "collapsed": true
   },
   "outputs": [
    {
     "name": "stdout",
     "output_type": "stream",
     "text": [
      "[CV] no parameters to be set .........................................\n",
      "[CV] ................................ no parameters to be set -  20.4s\n",
      "[CV] no parameters to be set .........................................\n",
      "[CV] ................................ no parameters to be set -  18.7s\n",
      "[CV] no parameters to be set .........................................\n",
      "[CV] ................................ no parameters to be set -  16.6s\n",
      "[CV] no parameters to be set .........................................\n",
      "[CV] ................................ no parameters to be set -  14.5s\n",
      "[CV] no parameters to be set .........................................\n",
      "[CV] ................................ no parameters to be set -  21.6s\n",
      "[CV] no parameters to be set .........................................\n",
      "[CV] ................................ no parameters to be set -  18.5s\n",
      "[CV] no parameters to be set .........................................\n",
      "[CV] ................................ no parameters to be set -  21.5s\n",
      "[CV] no parameters to be set .........................................\n",
      "[CV] ................................ no parameters to be set -  20.1s\n",
      "[CV] no parameters to be set .........................................\n",
      "[CV] ................................ no parameters to be set -  21.0s\n",
      "[CV] no parameters to be set .........................................\n",
      "[CV] ................................ no parameters to be set -  20.3s\n"
     ]
    },
    {
     "name": "stderr",
     "output_type": "stream",
     "text": [
      "[Parallel(n_jobs=1)]: Done  10 out of  10 | elapsed:  3.2min finished\n"
     ]
    }
   ],
   "source": [
    "scores = cross_val_score(estimator=pip, X=X, y=y, scoring=scorer, cv=10, n_jobs=1, verbose=2)"
   ]
  },
  {
   "cell_type": "code",
   "execution_count": 17,
   "metadata": {
    "collapsed": true
   },
   "outputs": [
    {
     "name": "stdout",
     "output_type": "stream",
     "text": [
      "23.2664903075 1.58167881735\n"
     ]
    },
    {
     "data": {
      "text/plain": [
       "Pipeline(steps=[('ttf', TargetThresholdFilter(threshold=45)), ('lpo', LogPlusOne()), ('imp', Imputer(axis=0, copy=False, missing_values='NaN', strategy='median',\n",
       "    verbose=0)), ('ss', StandardScaler(copy=False, with_mean=True, with_std=True)), ('clf', Ridge(alpha=1.0, copy_X=True, fit_intercept=True, max_iter=None,\n",
       "   normalize=False, random_state=None, solver='auto', tol=0.001))])"
      ]
     },
     "execution_count": 17,
     "metadata": {},
     "output_type": "execute_result"
    }
   ],
   "source": [
    "print np.mean(scores), np.std(scores)\n",
    "pip"
   ]
  },
  {
   "cell_type": "code",
   "execution_count": 32,
   "metadata": {
    "collapsed": true
   },
   "outputs": [
    {
     "name": "stdout",
     "output_type": "stream",
     "text": [
      "23.2664899853 1.58167932924\n"
     ]
    },
    {
     "data": {
      "text/plain": [
       "Pipeline(steps=[('ttf', TargetThresholdFilter(threshold=45)), ('lpo', LogPlusOne()), ('imp', Imputer(axis=0, copy=False, missing_values='NaN', strategy='median',\n",
       "    verbose=0)), ('ss', StandardScaler(copy=False, with_mean=True, with_std=True)), ('clf', Ridge(alpha=2.0, copy_X=True, fit_intercept=True, max_iter=None,\n",
       "   normalize=False, random_state=None, solver='auto', tol=0.001))])"
      ]
     },
     "execution_count": 32,
     "metadata": {},
     "output_type": "execute_result"
    }
   ],
   "source": [
    "print np.mean(scores), np.std(scores)\n",
    "pip"
   ]
  },
  {
   "cell_type": "code",
   "execution_count": 13,
   "metadata": {
    "collapsed": true
   },
   "outputs": [
    {
     "name": "stdout",
     "output_type": "stream",
     "text": [
      "[CV] clf__alpha=0.01 .................................................\n",
      "[CV] ........................................ clf__alpha=0.01 -  45.8s\n",
      "[CV] clf__alpha=0.02 .................................................\n",
      "[CV] ........................................ clf__alpha=0.02 -  48.8s\n",
      "[CV] clf__alpha=0.03 .................................................\n",
      "[CV] ........................................ clf__alpha=0.03 -  48.0s\n",
      "[CV] clf__alpha=0.04 .................................................\n",
      "[CV] ........................................ clf__alpha=0.04 -  43.5s\n",
      "[CV] clf__alpha=0.05 .................................................\n",
      "[CV] ........................................ clf__alpha=0.05 -  30.6s\n",
      "[CV] clf__alpha=0.01 .................................................\n",
      "[CV] ........................................ clf__alpha=0.01 -  39.7s\n",
      "[CV] clf__alpha=0.02 .................................................\n",
      "[CV] ........................................ clf__alpha=0.02 -  47.7s\n",
      "[CV] clf__alpha=0.03 .................................................\n",
      "[CV] ........................................ clf__alpha=0.03 -  50.5s\n",
      "[CV] clf__alpha=0.04 .................................................\n",
      "[CV] ........................................ clf__alpha=0.04 -  38.0s\n",
      "[CV] clf__alpha=0.05 .................................................\n",
      "[CV] ........................................ clf__alpha=0.05 -  41.4s\n",
      "[CV] clf__alpha=0.01 .................................................\n",
      "[CV] ........................................ clf__alpha=0.01 -  45.3s\n",
      "[CV] clf__alpha=0.02 .................................................\n",
      "[CV] ........................................ clf__alpha=0.02 -  47.8s\n",
      "[CV] clf__alpha=0.03 .................................................\n",
      "[CV] ........................................ clf__alpha=0.03 -  48.2s\n",
      "[CV] clf__alpha=0.04 .................................................\n",
      "[CV] ........................................ clf__alpha=0.04 -  43.2s\n",
      "[CV] clf__alpha=0.05 .................................................\n",
      "[CV] ........................................ clf__alpha=0.05 -  34.8s\n",
      "[CV] clf__alpha=0.01 .................................................\n",
      "[CV] ........................................ clf__alpha=0.01 -  45.9s\n",
      "[CV] clf__alpha=0.02 .................................................\n",
      "[CV] ........................................ clf__alpha=0.02 -  46.9s\n",
      "[CV] clf__alpha=0.03 .................................................\n",
      "[CV] ........................................ clf__alpha=0.03 -  50.5s\n",
      "[CV] clf__alpha=0.04 .................................................\n",
      "[CV] ........................................ clf__alpha=0.04 -  44.1s\n",
      "[CV] clf__alpha=0.05 .................................................\n",
      "[CV] ........................................ clf__alpha=0.05 -  40.9s\n",
      "[CV] clf__alpha=0.01 .................................................\n",
      "[CV] ........................................ clf__alpha=0.01 -  46.1s\n",
      "[CV] clf__alpha=0.02 .................................................\n",
      "[CV] ........................................ clf__alpha=0.02 -  48.0s\n",
      "[CV] clf__alpha=0.03 .................................................\n",
      "[CV] ........................................ clf__alpha=0.03 -  42.9s\n",
      "[CV] clf__alpha=0.04 .................................................\n",
      "[CV] ........................................ clf__alpha=0.04 -  41.9s\n",
      "[CV] clf__alpha=0.05 .................................................\n",
      "[CV] ........................................ clf__alpha=0.05 -  43.3s\n",
      "[CV] clf__alpha=0.01 .................................................\n",
      "[CV] ........................................ clf__alpha=0.01 -  41.4s\n",
      "[CV] clf__alpha=0.02 .................................................\n",
      "[CV] ........................................ clf__alpha=0.02 -  48.5s\n",
      "[CV] clf__alpha=0.03 .................................................\n",
      "[CV] ........................................ clf__alpha=0.03 -  51.1s\n",
      "[CV] clf__alpha=0.04 .................................................\n",
      "[CV] ........................................ clf__alpha=0.04 -  45.9s\n",
      "[CV] clf__alpha=0.05 .................................................\n",
      "[CV] ........................................ clf__alpha=0.05 -  39.9s\n",
      "[CV] clf__alpha=0.01 .................................................\n",
      "[CV] ........................................ clf__alpha=0.01 -  48.2s\n",
      "[CV] clf__alpha=0.02 .................................................\n",
      "[CV] ........................................ clf__alpha=0.02 -  42.3s\n",
      "[CV] clf__alpha=0.03 .................................................\n",
      "[CV] ........................................ clf__alpha=0.03 -  53.5s\n",
      "[CV] clf__alpha=0.04 .................................................\n",
      "[CV] ........................................ clf__alpha=0.04 -  37.5s\n",
      "[CV] clf__alpha=0.05 .................................................\n",
      "[CV] ........................................ clf__alpha=0.05 -  38.1s\n",
      "[CV] clf__alpha=0.01 .................................................\n",
      "[CV] ........................................ clf__alpha=0.01 -  43.0s\n",
      "[CV] clf__alpha=0.02 .................................................\n",
      "[CV] ........................................ clf__alpha=0.02 -  46.4s\n",
      "[CV] clf__alpha=0.03 .................................................\n",
      "[CV] ........................................ clf__alpha=0.03 -  34.9s\n",
      "[CV] clf__alpha=0.04 .................................................\n",
      "[CV] ........................................ clf__alpha=0.04 -  41.3s\n",
      "[CV] clf__alpha=0.05 .................................................\n",
      "[CV] ........................................ clf__alpha=0.05 -  41.5s\n",
      "[CV] clf__alpha=0.01 .................................................\n",
      "[CV] ........................................ clf__alpha=0.01 -  43.0s\n",
      "[CV] clf__alpha=0.02 .................................................\n",
      "[CV] ........................................ clf__alpha=0.02 -  46.6s\n",
      "[CV] clf__alpha=0.03 .................................................\n",
      "[CV] ........................................ clf__alpha=0.03 -  50.2s\n",
      "[CV] clf__alpha=0.04 .................................................\n",
      "[CV] ........................................ clf__alpha=0.04 -  36.9s\n",
      "[CV] clf__alpha=0.05 .................................................\n",
      "[CV] ........................................ clf__alpha=0.05 -  34.8s\n",
      "[CV] clf__alpha=0.01 .................................................\n",
      "[CV] ........................................ clf__alpha=0.01 -  41.6s\n",
      "[CV] clf__alpha=0.02 .................................................\n",
      "[CV] ........................................ clf__alpha=0.02 -  43.5s\n",
      "[CV] clf__alpha=0.03 .................................................\n",
      "[CV] ........................................ clf__alpha=0.03 -  47.6s\n",
      "[CV] clf__alpha=0.04 .................................................\n",
      "[CV] ........................................ clf__alpha=0.04 -  40.9s\n",
      "[CV] clf__alpha=0.05 .................................................\n",
      "[CV] ........................................ clf__alpha=0.05 -  39.4s"
     ]
    },
    {
     "name": "stderr",
     "output_type": "stream",
     "text": [
      "[Parallel(n_jobs=1)]: Done  40 tasks       | elapsed: 29.3min\n",
      "[Parallel(n_jobs=1)]: Done  50 out of  50 | elapsed: 36.4min finished\n"
     ]
    },
    {
     "name": "stdout",
     "output_type": "stream",
     "text": [
      "\n"
     ]
    }
   ],
   "source": [
    "# Sweep parameter\n",
    "param_name, param_range='clf__alpha', np.arange(0.01, 0.06, 0.01)\n",
    "train_scores, test_scores= validation_curve(estimator=pip, X=X, y=y, scoring=scorer, cv=10, n_jobs=1, \n",
    "                          param_name=param_name, param_range=param_range, verbose=2)\n",
    "train_scores_mean = np.mean(train_scores, axis=1)\n",
    "train_scores_std = np.std(train_scores, axis=1)\n",
    "test_scores_mean = np.mean(test_scores, axis=1)\n",
    "test_scores_std = np.std(test_scores, axis=1)"
   ]
  },
  {
   "cell_type": "code",
   "execution_count": 8,
   "metadata": {
    "collapsed": true
   },
   "outputs": [
    {
     "name": "stdout",
     "output_type": "stream",
     "text": [
      "[('ttf', TargetThresholdFilter(threshold=45)), ('lpo', LogPlusOne()), ('imp', Imputer(axis=0, copy=False, missing_values='NaN', strategy='median',\n",
      "    verbose=0)), ('ss', StandardScaler(copy=False, with_mean=True, with_std=True)), ('clf', Lasso(alpha=100, copy_X=True, fit_intercept=True, max_iter=1000,\n",
      "   normalize=False, positive=False, precompute=False, random_state=None,\n",
      "   selection='cyclic', tol=0.0001, warm_start=False))]\n",
      "[0.1, 0.5, 1, 5, 10, 50, 100]\n",
      "[ 23.47007435  23.57301816  23.57301816  23.57301816  23.57301816\n",
      "  23.57301816  23.57301816]\n",
      "[ 23.47025201  23.57313559  23.57313559  23.57313559  23.57313559\n",
      "  23.57313559  23.57313559]\n"
     ]
    },
    {
     "data": {
      "image/png": "[encoded data removed]",
      "text/plain": [
       "<matplotlib.figure.Figure at 0x7fc714ec34d0>"
      ]
     },
     "metadata": {},
     "output_type": "display_data"
    }
   ],
   "source": [
    "# Plotting the validation curver, i.e. trn/val error versus parameter value\n",
    "# Sweep alpha = [0.1, 0.5, 1, 5, 10, 50, 100]\n",
    "# 100% data\n",
    "print pip.get_params()['steps']\n",
    "print param_range\n",
    "print train_scores_mean\n",
    "print test_scores_mean\n",
    "plt.title(\"Validation Curve\")\n",
    "plt.xlabel(param_name)\n",
    "plt.ylabel(\"Score\")\n",
    "plt.plot(param_range, train_scores_mean, label=\"Training score\", color=\"r\")\n",
    "# plt.fill_between(param_range, train_scores_mean - train_scores_std, train_scores_mean + train_scores_std, alpha=0.2, color=\"r\")\n",
    "plt.twinx()\n",
    "plt.plot(param_range, test_scores_mean, label=\"Cross-validation score\", color=\"g\")\n",
    "# plt.fill_between(param_range, test_scores_mean - test_scores_std, test_scores_mean + test_scores_std, alpha=0.2, color=\"g\")\n",
    "plt.legend(loc=\"best\")\n",
    "plt.show()"
   ]
  },
  {
   "cell_type": "code",
   "execution_count": 12,
   "metadata": {
    "collapsed": true
   },
   "outputs": [
    {
     "name": "stdout",
     "output_type": "stream",
     "text": [
      "[('ttf', TargetThresholdFilter(threshold=45)), ('lpo', LogPlusOne()), ('imp', Imputer(axis=0, copy=False, missing_values='NaN', strategy='median',\n",
      "    verbose=0)), ('ss', StandardScaler(copy=False, with_mean=True, with_std=True)), ('clf', Lasso(alpha=0.15, copy_X=True, fit_intercept=True, max_iter=1000,\n",
      "   normalize=False, positive=False, precompute=False, random_state=None,\n",
      "   selection='cyclic', tol=0.0001, warm_start=False))]\n",
      "[0.05, 0.075, 0.1, 0.125, 0.15]\n",
      "[ 23.37831713  23.42092525  23.47007435  23.52437783  23.57301816]\n",
      "[ 23.37848721  23.42110236  23.47025201  23.52455331  23.57313559]\n"
     ]
    },
    {
     "data": {
      "image/png": "[encoded data removed]",
      "text/plain": [
       "<matplotlib.figure.Figure at 0x7fc67ee967d0>"
      ]
     },
     "metadata": {},
     "output_type": "display_data"
    }
   ],
   "source": [
    "# Plotting the validation curver, i.e. trn/val error versus parameter value\n",
    "# Sweep alpha = [0.05, 0.075, 0.1, 0.125, 0.15]\n",
    "# 100% data\n",
    "print pip.get_params()['steps']\n",
    "print param_range\n",
    "print train_scores_mean\n",
    "print test_scores_mean\n",
    "plt.title(\"Validation Curve\")\n",
    "plt.xlabel(param_name)\n",
    "plt.ylabel(\"Score\")\n",
    "plt.plot(param_range, train_scores_mean, label=\"Training score\", color=\"r\")\n",
    "# plt.fill_between(param_range, train_scores_mean - train_scores_std, train_scores_mean + train_scores_std, alpha=0.2, color=\"r\")\n",
    "plt.twinx()\n",
    "plt.plot(param_range, test_scores_mean, label=\"Cross-validation score\", color=\"g\")\n",
    "# plt.fill_between(param_range, test_scores_mean - test_scores_std, test_scores_mean + test_scores_std, alpha=0.2, color=\"g\")\n",
    "plt.legend(loc=\"best\")\n",
    "plt.show()"
   ]
  },
  {
   "cell_type": "code",
   "execution_count": 14,
   "metadata": {
    "collapsed": false
   },
   "outputs": [
    {
     "name": "stdout",
     "output_type": "stream",
     "text": [
      "[('ttf', TargetThresholdFilter(threshold=45)), ('lpo', LogPlusOne()), ('imp', Imputer(axis=0, copy=False, missing_values='NaN', strategy='median',\n",
      "    verbose=0)), ('ss', StandardScaler(copy=False, with_mean=True, with_std=True)), ('clf', Lasso(alpha=0.050000000000000003, copy_X=True, fit_intercept=True,\n",
      "   max_iter=1000, normalize=False, positive=False, precompute=False,\n",
      "   random_state=None, selection='cyclic', tol=0.0001, warm_start=False))]\n",
      "[ 0.01  0.02  0.03  0.04  0.05]\n",
      "[ 23.30190234  23.31966858  23.33777022  23.35918683  23.37831713]\n",
      "[ 23.30216888  23.31987094  23.33796525  23.35937672  23.37848721]\n"
     ]
    },
    {
     "data": {
      "image/png": "[encoded data removed]",
      "text/plain": [
       "<matplotlib.figure.Figure at 0x7fc67ebf6910>"
      ]
     },
     "metadata": {},
     "output_type": "display_data"
    }
   ],
   "source": [
    "# Plotting the validation curver, i.e. trn/val error versus parameter value\n",
    "# Sweep alpha = [0.05, 0.075, 0.1, 0.125, 0.15]\n",
    "# 100% data\n",
    "print pip.get_params()['steps']\n",
    "print param_range\n",
    "print train_scores_mean\n",
    "print test_scores_mean\n",
    "plt.title(\"Validation Curve\")\n",
    "plt.xlabel(param_name)\n",
    "plt.ylabel(\"Score\")\n",
    "plt.plot(param_range, train_scores_mean, label=\"Training score\", color=\"r\")\n",
    "# plt.fill_between(param_range, train_scores_mean - train_scores_std, train_scores_mean + train_scores_std, alpha=0.2, color=\"r\")\n",
    "plt.twinx()\n",
    "plt.plot(param_range, test_scores_mean, label=\"Cross-validation score\", color=\"g\")\n",
    "# plt.fill_between(param_range, test_scores_mean - test_scores_std, test_scores_mean + test_scores_std, alpha=0.2, color=\"g\")\n",
    "plt.legend(loc=\"best\")\n",
    "plt.show()"
   ]
  },
  {
   "cell_type": "markdown",
   "metadata": {},
   "source": [
    "# Generate submission"
   ]
  },
  {
   "cell_type": "code",
   "execution_count": 28,
   "metadata": {
    "collapsed": false
   },
   "outputs": [
    {
     "data": {
      "text/plain": [
       "Pipeline(steps=[('imp', Imputer(axis=0, copy=False, missing_values='NaN', strategy='median',\n",
       "    verbose=0)), ('ss', StandardScaler(copy=False, with_mean=True, with_std=True)), ('clf', XGBRegressor(base_score=0.5, colsample_bylevel=1, colsample_bytree=1, gamma=0,\n",
       "       learning_rate=0.1, max_delta_step=0, m...g:linear', reg_alpha=0, reg_lambda=1,\n",
       "       scale_pos_weight=1, seed=0, silent=True, subsample=1))])"
      ]
     },
     "execution_count": 28,
     "metadata": {},
     "output_type": "execute_result"
    }
   ],
   "source": [
    "pip.fit(X, y)"
   ]
  },
  {
   "cell_type": "code",
   "execution_count": 32,
   "metadata": {
    "collapsed": true
   },
   "outputs": [],
   "source": [
    "test = pd.read_csv('../data/test.csv')\n",
    "test_withRef = test[test['Ref'].notnull()]\n",
    "test_withRef_comb = test_withRef.groupby('Id').agg(['mean','std','median','count','min', 'max'])\n",
    "test_withRef_comb.columns = ['_'.join(tup) for (i,tup) in enumerate(test_withRef_comb.columns.values)]\n",
    "test_X = test_withRef_comb.loc[:, 'minutes_past_mean':'Kdp_5x5_90th_max']  # NOTE: used range slicing on column\n",
    "test_y_predict = 10**pip.predict(X=test_X)-1"
   ]
  },
  {
   "cell_type": "code",
   "execution_count": 33,
   "metadata": {
    "collapsed": false
   },
   "outputs": [
    {
     "name": "stdout",
     "output_type": "stream",
     "text": [
      "../data/result_20151121_124706.csv\n"
     ]
    }
   ],
   "source": [
    "# Ref-samples\n",
    "test_result_withRef = pd.DataFrame()\n",
    "test_result_withRef['Id'] = test_withRef_comb.index\n",
    "test_result_withRef['Expected'] = test_y_predict\n",
    "# All-samples\n",
    "test_result = pd.DataFrame()\n",
    "test_result['Id'] = test['Id'].unique()\n",
    "# Merge and set Non-Ref samples to -1\n",
    "test_result = pd.merge(test_result, test_result_withRef, how='left', on=['Id'], sort=True)\n",
    "test_result.loc[test_result['Expected'].isnull(), 'Expected'] = -1\n",
    "# Write file\n",
    "datetime_str = time.strftime('%Y%m%d_%H%M%S')\n",
    "test_result.to_csv('../data/result_'+datetime_str+'.csv', index=False)\n",
    "print '../data/result_'+datetime_str+'.csv'"
   ]
  }
 ],
 "metadata": {
  "kernelspec": {
   "display_name": "Python 2",
   "language": "python",
   "name": "python2"
  },
  "language_info": {
   "codemirror_mode": {
    "name": "ipython",
    "version": 2
   },
   "file_extension": ".py",
   "mimetype": "text/x-python",
   "name": "python",
   "nbconvert_exporter": "python",
   "pygments_lexer": "ipython2",
   "version": "2.7.6"
  }
 },
 "nbformat": 4,
 "nbformat_minor": 0
}
