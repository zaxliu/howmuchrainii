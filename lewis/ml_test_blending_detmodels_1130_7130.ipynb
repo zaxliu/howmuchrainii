{
 "cells": [
  {
   "cell_type": "code",
   "execution_count": 2,
   "metadata": {
    "collapsed": false
   },
   "outputs": [],
   "source": [
    "# Basics\n",
    "import sys\n",
    "import time\n",
    "import numpy as np\n",
    "import pandas as pd\n",
    "import matplotlib.pyplot as plt\n",
    "# Sklearn\n",
    "from sklearn.preprocessing import StandardScaler, Imputer \n",
    "from sklearn.linear_model import LinearRegression, Ridge, Lasso\n",
    "from sklearn.tree import DecisionTreeRegressor\n",
    "from sklearn.ensemble import RandomForestRegressor\n",
    "from sklearn.cross_validation import cross_val_score, ShuffleSplit\n",
    "from sklearn.learning_curve import learning_curve, validation_curve\n",
    "from sklearn.metrics import make_scorer\n",
    "# xgboost\n",
    "import xgboost as xgb\n",
    "# Our custom modules\n",
    "sys.path.append('..')\n",
    "from anrg.pipeline import Pipeline, SelectTailK, LeaveTailK, SelectK2Last, DummyRegressor\n",
    "from anrg.blending import BlendedRegressor\n",
    "from anrg.cleaning import TargetThresholdFilter, LogPlusOne\n",
    "from anrg.mp import MPRegressor\n",
    "##### setting #######\n",
    "pd.set_option('display.max_columns', 500)  # force pandas to display all columns for better visual inspection\n",
    "%matplotlib inline"
   ]
  },
  {
   "cell_type": "code",
   "execution_count": 3,
   "metadata": {
    "collapsed": true
   },
   "outputs": [],
   "source": [
    "trn = pd.read_csv('../data/train.csv')\n",
    "# trn = pd.read_csv('../data/train_10.csv', index_col=0)  # column #0 in our file is DataFrame index\n",
    "# trn = pd.read_csv('../data/train_1.csv', index_col=0)"
   ]
  },
  {
   "cell_type": "code",
   "execution_count": 4,
   "metadata": {
    "collapsed": false
   },
   "outputs": [
    {
     "name": "stdout",
     "output_type": "stream",
     "text": [
      "Time elapsed: 31.3604 secs\n"
     ]
    }
   ],
   "source": [
    "# Combine observations by 'Id', aggregate features\n",
    "t = time.time()\n",
    "trn_comb = trn.groupby('Id').agg(['mean','std','median','count', 'min', 'max'])\n",
    "trn_comb.columns = ['_'.join(tup) for (i,tup) in enumerate(trn_comb.columns.values)]\n",
    "# ignore id's where all Ref vales are NaN\n",
    "trn_withRef_comb = trn_comb[pd.notnull(trn_comb.Ref_mean)]\n",
    "# Timing\n",
    "print 'Time elapsed: {:.4f} secs'.format(time.time()-t)  # toc"
   ]
  },
  {
   "cell_type": "code",
   "execution_count": 5,
   "metadata": {
    "collapsed": false
   },
   "outputs": [
    {
     "name": "stderr",
     "output_type": "stream",
     "text": [
      "/home/lewis/anaconda2/lib/python2.7/site-packages/pandas/core/indexing.py:260: SettingWithCopyWarning: \n",
      "A value is trying to be set on a copy of a slice from a DataFrame.\n",
      "Try using .loc[row_indexer,col_indexer] = value instead\n",
      "\n",
      "See the caveats in the documentation: http://pandas.pydata.org/pandas-docs/stable/indexing.html#indexing-view-versus-copy\n",
      "  self.obj[key] = _infer_fill_value(value)\n",
      "/home/lewis/anaconda2/lib/python2.7/site-packages/pandas/core/indexing.py:420: SettingWithCopyWarning: \n",
      "A value is trying to be set on a copy of a slice from a DataFrame.\n",
      "Try using .loc[row_indexer,col_indexer] = value instead\n",
      "\n",
      "See the caveats in the documentation: http://pandas.pydata.org/pandas-docs/stable/indexing.html#indexing-view-versus-copy\n",
      "  self.obj[item] = s\n"
     ]
    }
   ],
   "source": [
    "# Add deterministic estimator as columns\n",
    "# MP params=0.82\n",
    "trn_withRef_comb.loc[:,'MP'] = 1+pow(pow(10, trn_withRef_comb['Ref_mean']/10)/200, 0.625 * 0.82)\n",
    "#KDP\n",
    "kdp_aa, kdp_bb, kdp_aa_scaling, kdp_bb_scaling = 4.06, 0.0866, 0.33, 0.79\n",
    "trn_withRef_comb.loc[:,'KDP'] = np.sign(trn_withRef_comb['Kdp_mean'])*(kdp_aa*kdp_aa_scaling)*pow(np.abs(trn_withRef_comb['Kdp_mean']),kdp_bb*kdp_bb_scaling)\n",
    "#KDP_ZDR\n",
    "kdpzdr_aa, kdpzdr_bb, kdpzdr_cc, kdpzdr_aa_scaling = 13.6, 0.0968, -0.286, 0.003\n",
    "trn_withRef_comb.loc[:, 'KDP_ZDR'] = np.sign(trn_withRef_comb['Kdp_mean'])*(kdpzdr_aa*kdpzdr_aa_scaling)*pow(np.abs(trn_withRef_comb['Kdp_mean']),kdpzdr_bb)*pow(pow(10,trn_withRef_comb['Zdr_mean']/10),kdpzdr_cc)\n",
    "#REF_ZDR\n",
    "refzdr_aa, refzdr_bb, refzdr_cc, refzdr_aa_scaling, refzdr_bb_scaling, refzdr_cc_scaling = 0.00746, 0.945, -4.76, 0.0017, 0.9, 0.8\n",
    "trn_withRef_comb.loc[:,'REF_ZDR'] = (refzdr_aa*refzdr_aa_scaling)*pow(pow(10,trn_withRef_comb['Ref_mean']/10),refzdr_bb*refzdr_bb_scaling)*pow(pow(10,trn_withRef_comb['Zdr_mean']/10),refzdr_cc*refzdr_cc_scaling)\n",
    "# Regularizing negative predictions to 0\n",
    "for name in ['MP','KDP', 'KDP_ZDR', 'REF_ZDR']:\n",
    "    trn_withRef_comb.loc[trn_withRef_comb[name]<0, name] = 0\n",
    "# Taking log(1+x) on all predictions\n",
    "trn_withRef_comb.loc[:, ['MP','KDP', 'KDP_ZDR', 'REF_ZDR']] = np.log10(1+trn_withRef_comb.loc[:, ['MP','KDP', 'KDP_ZDR', 'REF_ZDR']])"
   ]
  },
  {
   "cell_type": "code",
   "execution_count": 6,
   "metadata": {
    "collapsed": false
   },
   "outputs": [
    {
     "name": "stdout",
     "output_type": "stream",
     "text": [
      "(731556, 136) (731556,)\n"
     ]
    }
   ],
   "source": [
    "# Extract X and y\n",
    "y = trn_withRef_comb['Expected_mean']\n",
    "X = trn_withRef_comb.ix[:, [col for col in trn_withRef_comb.columns if not 'Expected' in col]]  # NOTE: used range slicing on column\n",
    "print X.shape, y.shape"
   ]
  },
  {
   "cell_type": "code",
   "execution_count": 14,
   "metadata": {
    "collapsed": false
   },
   "outputs": [],
   "source": [
    "ttf = TargetThresholdFilter(threshold=45)\n",
    "lpo = LogPlusOne()\n",
    "imp = Imputer(strategy='median', copy=False)  # Get a imputor with column-mean filling config\n",
    "ss = StandardScaler(copy=False, with_mean=True, with_std=True)\n",
    "base1 = Pipeline([('sel', LeaveTailK(K=4)), ('rf', RandomForestRegressor(n_estimators=500, max_features=0.2, max_depth=25, n_jobs=8))])  # NOTE: n_jobs=-1 will use all of your cores, set to a prefered number e.g. 4\n",
    "base2 = Pipeline([('sel', LeaveTailK(K=4)), ('xgb', xgb.sklearn.XGBRegressor(n_estimators=500, nthread=8))], copy = False)\n",
    "base3 = Pipeline([('sel', LeaveTailK(K=4)), ('ri', Ridge(alpha=2.0))], copy = False)\n",
    "base4 = Pipeline([('sel', LeaveTailK(K=4)), ('la', Lasso(alpha=0.01))], copy = False)\n",
    "base5 = Pipeline([('sel', SelectK2Last(K=4)), ('mp', DummyRegressor())], copy = False)\n",
    "base6 = Pipeline([('sel', SelectK2Last(K=3)), ('kdp', DummyRegressor())], copy = False)\n",
    "base7 = Pipeline([('sel', SelectK2Last(K=2)), ('kdp_zdr', DummyRegressor())], copy = False)\n",
    "base8 = Pipeline([('sel', SelectK2Last(K=1)), ('ref_zdr', DummyRegressor())], copy = False)\n",
    "blender = Ridge(alpha=1.3)\n",
    "base_models=(base1, base2, base3, base4, base5, base6, base7, base8)\n",
    "clf = BlendedRegressor(base_models=base_models, blending_model=blender, blending_split=0.2, with_feature=True)\n",
    "pip = Pipeline([('ttf',ttf), ('lpo',lpo), ('imp',imp), ('ss',ss), ('clf',clf)], copy=True)  # a Pipeline wrapper to chain'em up\n",
    "def LogPlusOne_score(ground_truth, predictions, lpo=lpo):\n",
    "    tmp = np.abs(ground_truth - (np.power(10, predictions) - 1))\n",
    "    idx = tmp.argmax()\n",
    "#     print ground_truth[idx], predictions[idx], tmp[idx]\n",
    "    return np.float64(np.mean(np.abs(ground_truth - (np.power(10, predictions) - 1))))\n",
    "scorer = make_scorer(LogPlusOne_score, greater_is_better=False)  # define scoring metric"
   ]
  },
  {
   "cell_type": "markdown",
   "metadata": {},
   "source": [
    "# CV"
   ]
  },
  {
   "cell_type": "code",
   "execution_count": 7,
   "metadata": {
    "collapsed": false
   },
   "outputs": [
    {
     "name": "stderr",
     "output_type": "stream",
     "text": [
      "[Parallel(n_jobs=2)]: Done   1 jobs       | elapsed: 48.7min\n",
      "[Parallel(n_jobs=2)]: Done   8 out of  10 | elapsed: 184.3min remaining: 46.1min\n",
      "[Parallel(n_jobs=2)]: Done  10 out of  10 | elapsed: 229.1min finished\n"
     ]
    },
    {
     "name": "stdout",
     "output_type": "stream",
     "text": [
      "-23.0795741293 1.5804091146\n",
      "[('ttf', TargetThresholdFilter(threshold=45)), ('lpo', LogPlusOne()), ('imp', Imputer(axis=0, copy=False, missing_values='NaN', strategy='median',\n",
      "    verbose=0)), ('ss', StandardScaler(copy=False, with_mean=True, with_std=True)), ('clf', BlendedRegressor(base_models=(Pipeline(copy=True,\n",
      "     steps=[('sel', LeaveTailK(K=4)), ('rf', RandomForestRegressor(bootstrap=True, criterion='mse', max_depth=25,\n",
      "           max_features=0.2, max_leaf_nodes=None, min_samples_leaf=1,\n",
      "           min_samples_split=2, min_weight_fraction_leaf=0.0,\n",
      "           n_estimato...())]), Pipeline(copy=False,\n",
      "     steps=[('sel', SelectK2Last(K=1)), ('ref_zdr', DummyRegressor())])),\n",
      "         blending_model=Ridge(alpha=1.65, copy_X=True, fit_intercept=True, max_iter=None,\n",
      "   normalize=False, solver='auto', tol=0.001),\n",
      "         blending_split=0.2, with_feature=True))]\n",
      "[CV] no parameters to be set .........................................\n",
      "[CV] no parameters to be set .........................................\n",
      "[CV] .............. no parameters to be set, score=-22.188509 -48.7min[CV] .............. no parameters to be set, score=-22.460696 -48.7min\n",
      "\n",
      "[CV] no parameters to be set .........................................[CV] no parameters to be set .........................................\n",
      "\n",
      "[CV] .............. no parameters to be set, score=-23.337799 -44.6min[CV] .............. no parameters to be set, score=-24.859230 -43.9min\n",
      "\n",
      "[CV] no parameters to be set .........................................[CV] no parameters to be set .........................................\n",
      "\n",
      "[CV] .............. no parameters to be set, score=-23.855304 -44.6min[CV] .............. no parameters to be set, score=-23.701386 -45.3min\n",
      "\n",
      "[CV] no parameters to be set .........................................[CV] no parameters to be set .........................................\n",
      "\n",
      "[CV] .............. no parameters to be set, score=-19.848521 -44.5min[CV] .............. no parameters to be set, score=-25.539676 -46.4min\n",
      "\n",
      "[CV] no parameters to be set .........................................[CV] no parameters to be set .........................................\n",
      "\n",
      "[CV] .............. no parameters to be set, score=-23.602172 -43.0min[CV] .............. no parameters to be set, score=-21.402448 -44.7min\n",
      "\n"
     ]
    }
   ],
   "source": [
    "# base1 = Pipeline([('sel', LeaveTailK(K=4)), ('rf', RandomForestRegressor(n_estimators=500, max_features=0.2, max_depth=25, n_jobs=1))])  # NOTE: n_jobs=-1 will use all of your cores, set to a prefered number e.g. 4\n",
    "# base2 = Pipeline([('sel', LeaveTailK(K=4)), ('xgb', xgb.sklearn.XGBRegressor(n_estimators=500, nthread=1))], copy = False)\n",
    "# base3 = Pipeline([('sel', LeaveTailK(K=4)), ('ri', Ridge(alpha=2.0))], copy = False)\n",
    "# base4 = Pipeline([('sel', LeaveTailK(K=4)), ('la', Lasso(alpha=0.01))], copy = False)\n",
    "# base5 = Pipeline([('sel', SelectK2Last(K=4)), ('mp', DummyRegressor())], copy = False)\n",
    "# base6 = Pipeline([('sel', SelectK2Last(K=3)), ('kdp', DummyRegressor())], copy = False)\n",
    "# base7 = Pipeline([('sel', SelectK2Last(K=2)), ('kdp_zdr', DummyRegressor())], copy = False)\n",
    "# base8 = Pipeline([('sel', SelectK2Last(K=1)), ('ref_zdr', DummyRegressor())], copy = False)\n",
    "# blender = Ridge(alpha=1.65)\n",
    "# base_models=(base1, base2, base3, base4, base5, base6, base7, base8)\n",
    "# clf = BlendedRegressor(base_models=base_models, blending_model=blender, blending_split=0.2, with_feature=True)\n",
    "scores = cross_val_score(estimator=pip, X=X, y=y, scoring=scorer, cv=10, n_jobs=1, verbose=3)\n",
    "print np.mean(scores), np.std(scores)\n",
    "print pip.get_params()['steps']"
   ]
  },
  {
   "cell_type": "code",
   "execution_count": null,
   "metadata": {
    "collapsed": false
   },
   "outputs": [
    {
     "name": "stdout",
     "output_type": "stream",
     "text": [
      "[CV] no parameters to be set .........................................\n",
      "[CV] .............. no parameters to be set, score=-22.186725 -26.2min\n",
      "[CV] no parameters to be set .........................................\n",
      "[CV] .............. no parameters to be set, score=-22.461286 -24.9min\n",
      "[CV] no parameters to be set .........................................\n",
      "[CV] .............. no parameters to be set, score=-23.338106 -22.7min\n",
      "[CV] no parameters to be set .........................................\n",
      "[CV] .............. no parameters to be set, score=-24.858143 -22.9min\n",
      "[CV] no parameters to be set .........................................\n",
      "[CV] .............. no parameters to be set, score=-23.701660 -23.7min\n",
      "[CV] no parameters to be set .........................................\n",
      "[CV] .............. no parameters to be set, score=-23.855486 -24.3min\n",
      "[CV] no parameters to be set .........................................\n",
      "[CV] .............. no parameters to be set, score=-19.848321 -23.7min\n",
      "[CV] no parameters to be set .........................................\n",
      "[CV] .............. no parameters to be set, score=-25.538648 -24.9min\n",
      "[CV] no parameters to be set .........................................\n",
      "[CV] .............. no parameters to be set, score=-23.604519 -29.9min\n",
      "[CV] no parameters to be set .........................................\n",
      "[CV] .............. no parameters to be set, score=-21.402871 -25.3min"
     ]
    },
    {
     "name": "stderr",
     "output_type": "stream",
     "text": [
      "[Parallel(n_jobs=1)]: Done   1 jobs       | elapsed: 26.2min\n",
      "[Parallel(n_jobs=1)]: Done  10 out of  10 | elapsed: 248.5min finished\n"
     ]
    },
    {
     "name": "stdout",
     "output_type": "stream",
     "text": [
      "\n",
      "-23.0795766156 1.5803032266\n",
      "[('ttf', TargetThresholdFilter(threshold=45)), ('lpo', LogPlusOne()), ('imp', Imputer(axis=0, copy=False, missing_values='NaN', strategy='median',\n",
      "    verbose=0)), ('ss', StandardScaler(copy=False, with_mean=True, with_std=True)), ('clf', BlendedRegressor(base_models=(Pipeline(copy=True,\n",
      "     steps=[('sel', LeaveTailK(K=4)), ('rf', RandomForestRegressor(bootstrap=True, criterion='mse', max_depth=25,\n",
      "           max_features=0.2, max_leaf_nodes=None, min_samples_leaf=1,\n",
      "           min_samples_split=2, min_weight_fraction_leaf=0.0,\n",
      "           n_estimato...())]), Pipeline(copy=False,\n",
      "     steps=[('sel', SelectK2Last(K=1)), ('ref_zdr', DummyRegressor())])),\n",
      "         blending_model=Ridge(alpha=1.5, copy_X=True, fit_intercept=True, max_iter=None,\n",
      "   normalize=False, solver='auto', tol=0.001),\n",
      "         blending_split=0.2, with_feature=True))]\n"
     ]
    }
   ],
   "source": [
    "# base1 = Pipeline([('sel', LeaveTailK(K=4)), ('rf', RandomForestRegressor(n_estimators=500, max_features=0.2, max_depth=25, n_jobs=15))])  # NOTE: n_jobs=-1 will use all of your cores, set to a prefered number e.g. 4\n",
    "# base2 = Pipeline([('sel', LeaveTailK(K=4)), ('xgb', xgb.sklearn.XGBRegressor(n_estimators=500, nthread=15))], copy = False)\n",
    "# base3 = Pipeline([('sel', LeaveTailK(K=4)), ('ri', Ridge(alpha=2.0))], copy = False)\n",
    "# base4 = Pipeline([('sel', LeaveTailK(K=4)), ('la', Lasso(alpha=0.01))], copy = False)\n",
    "# base5 = Pipeline([('sel', SelectK2Last(K=4)), ('mp', DummyRegressor())], copy = False)\n",
    "# base6 = Pipeline([('sel', SelectK2Last(K=3)), ('kdp', DummyRegressor())], copy = False)\n",
    "# base7 = Pipeline([('sel', SelectK2Last(K=2)), ('kdp_zdr', DummyRegressor())], copy = False)\n",
    "# base8 = Pipeline([('sel', SelectK2Last(K=1)), ('ref_zdr', DummyRegressor())], copy = False)\n",
    "# blender = Ridge(alpha=1.5)\n",
    "# base_models=(base1, base2, base3, base4, base5, base6, base7, base8)\n",
    "# clf = BlendedRegressor(base_models=base_models, blending_model=blender, blending_split=0.2, with_feature=True)\n",
    "scores = cross_val_score(estimator=pip, X=X, y=y, scoring=scorer, cv=10, n_jobs=1, verbose=3)\n",
    "print np.mean(scores), np.std(scores)\n",
    "print pip.get_params()['steps']"
   ]
  },
  {
   "cell_type": "code",
   "execution_count": 13,
   "metadata": {
    "collapsed": true
   },
   "outputs": [
    {
     "name": "stdout",
     "output_type": "stream",
     "text": [
      "[CV] no parameters to be set .........................................\n",
      "[CV] .............. no parameters to be set, score=-22.187918 -33.5min\n",
      "[CV] no parameters to be set .........................................\n",
      "[CV] .............. no parameters to be set, score=-22.461285 -32.1min\n",
      "[CV] no parameters to be set .........................................\n",
      "[CV] .............. no parameters to be set, score=-23.335912 -33.1min\n",
      "[CV] no parameters to be set .........................................\n",
      "[CV] .............. no parameters to be set, score=-24.858724 -33.3min\n",
      "[CV] no parameters to be set .........................................\n",
      "[CV] .............. no parameters to be set, score=-23.699802 -33.6min\n",
      "[CV] no parameters to be set .........................................\n",
      "[CV] .............. no parameters to be set, score=-23.855560 -32.9min\n",
      "[CV] no parameters to be set .........................................\n",
      "[CV] .............. no parameters to be set, score=-19.846922 -32.8min\n",
      "[CV] no parameters to be set .........................................\n",
      "[CV] .............. no parameters to be set, score=-25.538662 -32.6min\n",
      "[CV] no parameters to be set .........................................\n",
      "[CV] .............. no parameters to be set, score=-23.604222 -32.8min\n",
      "[CV] no parameters to be set .........................................\n",
      "[CV] .............. no parameters to be set, score=-21.402864 -31.3min"
     ]
    },
    {
     "name": "stderr",
     "output_type": "stream",
     "text": [
      "[Parallel(n_jobs=1)]: Done   1 jobs       | elapsed: 33.5min\n",
      "[Parallel(n_jobs=1)]: Done  10 out of  10 | elapsed: 328.1min finished\n"
     ]
    },
    {
     "name": "stdout",
     "output_type": "stream",
     "text": [
      "\n",
      "-23.0791870298 1.58047503911\n",
      "[('ttf', TargetThresholdFilter(threshold=45)), ('lpo', LogPlusOne()), ('imp', Imputer(axis=0, copy=False, missing_values='NaN', strategy='median',\n",
      "    verbose=0)), ('ss', StandardScaler(copy=False, with_mean=True, with_std=True)), ('clf', BlendedRegressor(base_models=(Pipeline(copy=True,\n",
      "     steps=[('sel', LeaveTailK(K=4)), ('rf', RandomForestRegressor(bootstrap=True, criterion='mse', max_depth=25,\n",
      "           max_features=0.2, max_leaf_nodes=None, min_samples_leaf=1,\n",
      "           min_samples_split=2, min_weight_fraction_leaf=0.0,\n",
      "           n_estimato...())]), Pipeline(copy=False,\n",
      "     steps=[('sel', SelectK2Last(K=1)), ('ref_zdr', DummyRegressor())])),\n",
      "         blending_model=Ridge(alpha=1.45, copy_X=True, fit_intercept=True, max_iter=None,\n",
      "   normalize=False, solver='auto', tol=0.001),\n",
      "         blending_split=0.2, with_feature=True))]\n"
     ]
    }
   ],
   "source": [
    "# base1 = Pipeline([('sel', LeaveTailK(K=4)), ('rf', RandomForestRegressor(n_estimators=500, max_features=0.2, max_depth=25, n_jobs=8))])  # NOTE: n_jobs=-1 will use all of your cores, set to a prefered number e.g. 4\n",
    "# base2 = Pipeline([('sel', LeaveTailK(K=4)), ('xgb', xgb.sklearn.XGBRegressor(n_estimators=500, nthread=8))], copy = False)\n",
    "# base3 = Pipeline([('sel', LeaveTailK(K=4)), ('ri', Ridge(alpha=2.0))], copy = False)\n",
    "# base4 = Pipeline([('sel', LeaveTailK(K=4)), ('la', Lasso(alpha=0.01))], copy = False)\n",
    "# base5 = Pipeline([('sel', SelectK2Last(K=4)), ('mp', DummyRegressor())], copy = False)\n",
    "# base6 = Pipeline([('sel', SelectK2Last(K=3)), ('kdp', DummyRegressor())], copy = False)\n",
    "# base7 = Pipeline([('sel', SelectK2Last(K=2)), ('kdp_zdr', DummyRegressor())], copy = False)\n",
    "# base8 = Pipeline([('sel', SelectK2Last(K=1)), ('ref_zdr', DummyRegressor())], copy = False)\n",
    "# blender = Ridge(alpha=1.45)\n",
    "# base_models=(base1, base2, base3, base4, base5, base6, base7, base8)\n",
    "# clf = BlendedRegressor(base_models=base_models, blending_model=blender, blending_split=0.2, with_feature=True)\n",
    "scores = cross_val_score(estimator=pip, X=X, y=y, scoring=scorer, cv=10, n_jobs=1, verbose=3)\n",
    "print np.mean(scores), np.std(scores)\n",
    "print pip.get_params()['steps']"
   ]
  },
  {
   "cell_type": "code",
   "execution_count": 15,
   "metadata": {
    "collapsed": true
   },
   "outputs": [
    {
     "name": "stdout",
     "output_type": "stream",
     "text": [
      "[CV] no parameters to be set .........................................\n",
      "[CV] .............. no parameters to be set, score=-22.189119 -32.8min\n",
      "[CV] no parameters to be set .........................................\n",
      "[CV] .............. no parameters to be set, score=-22.462491 -32.4min\n",
      "[CV] no parameters to be set .........................................\n",
      "[CV] .............. no parameters to be set, score=-23.337383 -30.9min\n",
      "[CV] no parameters to be set .........................................\n",
      "[CV] .............. no parameters to be set, score=-24.860385 -30.8min\n",
      "[CV] no parameters to be set .........................................\n",
      "[CV] .............. no parameters to be set, score=-23.699989 -32.4min\n",
      "[CV] no parameters to be set .........................................\n",
      "[CV] .............. no parameters to be set, score=-23.857302 -31.9min\n",
      "[CV] no parameters to be set .........................................\n",
      "[CV] .............. no parameters to be set, score=-19.849174 -31.5min\n",
      "[CV] no parameters to be set .........................................\n",
      "[CV] .............. no parameters to be set, score=-25.539342 -30.6min\n",
      "[CV] no parameters to be set .........................................\n",
      "[CV] .............. no parameters to be set, score=-23.604708 -33.5min\n",
      "[CV] no parameters to be set .........................................\n",
      "[CV] .............. no parameters to be set, score=-21.402576 -32.1min"
     ]
    },
    {
     "name": "stderr",
     "output_type": "stream",
     "text": [
      "[Parallel(n_jobs=1)]: Done   1 jobs       | elapsed: 32.8min\n",
      "[Parallel(n_jobs=1)]: Done  10 out of  10 | elapsed: 318.9min finished\n"
     ]
    },
    {
     "name": "stdout",
     "output_type": "stream",
     "text": [
      "\n",
      "-23.0802470572 1.58035611458\n",
      "[('ttf', TargetThresholdFilter(threshold=45)), ('lpo', LogPlusOne()), ('imp', Imputer(axis=0, copy=False, missing_values='NaN', strategy='median',\n",
      "    verbose=0)), ('ss', StandardScaler(copy=False, with_mean=True, with_std=True)), ('clf', BlendedRegressor(base_models=(Pipeline(copy=True,\n",
      "     steps=[('sel', LeaveTailK(K=4)), ('rf', RandomForestRegressor(bootstrap=True, criterion='mse', max_depth=25,\n",
      "           max_features=0.2, max_leaf_nodes=None, min_samples_leaf=1,\n",
      "           min_samples_split=2, min_weight_fraction_leaf=0.0,\n",
      "           n_estimato...())]), Pipeline(copy=False,\n",
      "     steps=[('sel', SelectK2Last(K=1)), ('ref_zdr', DummyRegressor())])),\n",
      "         blending_model=Ridge(alpha=1.3, copy_X=True, fit_intercept=True, max_iter=None,\n",
      "   normalize=False, solver='auto', tol=0.001),\n",
      "         blending_split=0.2, with_feature=True))]\n"
     ]
    }
   ],
   "source": [
    "# base1 = Pipeline([('sel', LeaveTailK(K=4)), ('rf', RandomForestRegressor(n_estimators=500, max_features=0.2, max_depth=25, n_jobs=8))])  # NOTE: n_jobs=-1 will use all of your cores, set to a prefered number e.g. 4\n",
    "# base2 = Pipeline([('sel', LeaveTailK(K=4)), ('xgb', xgb.sklearn.XGBRegressor(n_estimators=500, nthread=8))], copy = False)\n",
    "# base3 = Pipeline([('sel', LeaveTailK(K=4)), ('ri', Ridge(alpha=2.0))], copy = False)\n",
    "# base4 = Pipeline([('sel', LeaveTailK(K=4)), ('la', Lasso(alpha=0.01))], copy = False)\n",
    "# base5 = Pipeline([('sel', SelectK2Last(K=4)), ('mp', DummyRegressor())], copy = False)\n",
    "# base6 = Pipeline([('sel', SelectK2Last(K=3)), ('kdp', DummyRegressor())], copy = False)\n",
    "# base7 = Pipeline([('sel', SelectK2Last(K=2)), ('kdp_zdr', DummyRegressor())], copy = False)\n",
    "# base8 = Pipeline([('sel', SelectK2Last(K=1)), ('ref_zdr', DummyRegressor())], copy = False)\n",
    "# blender = Ridge(alpha=1.3)\n",
    "# base_models=(base1, base2, base3, base4, base5, base6, base7, base8)\n",
    "# clf = BlendedRegressor(base_models=base_models, blending_model=blender, blending_split=0.2, with_feature=True)\n",
    "scores = cross_val_score(estimator=pip, X=X, y=y, scoring=scorer, cv=10, n_jobs=1, verbose=3)\n",
    "print np.mean(scores), np.std(scores)\n",
    "print pip.get_params()['steps']"
   ]
  },
  {
   "cell_type": "code",
   "execution_count": 119,
   "metadata": {
    "collapsed": true
   },
   "outputs": [
    {
     "name": "stdout",
     "output_type": "stream",
     "text": [
      "[CV] clf__blending_split=0.25 ........................................\n",
      "[CV] ............. clf__blending_split=0.25, score=-18.713007 -   6.8s\n",
      "[CV] clf__blending_split=0.3 .........................................\n",
      "[CV] .............. clf__blending_split=0.3, score=-18.707754 -   5.9s\n",
      "[CV] clf__blending_split=0.35 ........................................\n",
      "[CV] ............. clf__blending_split=0.35, score=-18.709316 -   6.2s\n",
      "[CV] clf__blending_split=0.4 .........................................\n",
      "[CV] .............. clf__blending_split=0.4, score=-18.702015 -   5.7s\n",
      "[CV] clf__blending_split=0.25 ........................................\n",
      "[CV] ............. clf__blending_split=0.25, score=-14.465574 -   6.8s\n",
      "[CV] clf__blending_split=0.3 .........................................\n",
      "[CV] .............. clf__blending_split=0.3, score=-14.467973 -   6.4s\n",
      "[CV] clf__blending_split=0.35 ........................................\n",
      "[CV] ............. clf__blending_split=0.35, score=-14.463040 -   6.1s\n",
      "[CV] clf__blending_split=0.4 .........................................\n",
      "[CV] .............. clf__blending_split=0.4, score=-14.462342 -   5.7s\n",
      "[CV] clf__blending_split=0.25 ........................................\n",
      "[CV] ............. clf__blending_split=0.25, score=-17.352529 -   6.4s\n",
      "[CV] clf__blending_split=0.3 .........................................\n",
      "[CV] .............. clf__blending_split=0.3, score=-17.350011 -   6.4s\n",
      "[CV] clf__blending_split=0.35 ........................................\n",
      "[CV] ............. clf__blending_split=0.35, score=-17.352744 -   6.2s\n",
      "[CV] clf__blending_split=0.4 .........................................\n",
      "[CV] .............. clf__blending_split=0.4, score=-17.353438 -   5.2s\n",
      "[CV] clf__blending_split=0.25 ........................................\n",
      "[CV] ............. clf__blending_split=0.25, score=-16.030793 -   6.9s\n",
      "[CV] clf__blending_split=0.3 .........................................\n",
      "[CV] .............. clf__blending_split=0.3, score=-16.033291 -   6.5s\n",
      "[CV] clf__blending_split=0.35 ........................................\n",
      "[CV] ............. clf__blending_split=0.35, score=-16.032402 -   6.2s\n",
      "[CV] clf__blending_split=0.4 .........................................\n",
      "[CV] .............. clf__blending_split=0.4, score=-16.033563 -   5.7s\n",
      "[CV] clf__blending_split=0.25 ........................................\n",
      "[CV] ............. clf__blending_split=0.25, score=-14.194037 -   6.9s\n",
      "[CV] clf__blending_split=0.3 .........................................\n",
      "[CV] .............. clf__blending_split=0.3, score=-14.193918 -   6.5s\n",
      "[CV] clf__blending_split=0.35 ........................................\n",
      "[CV] ............. clf__blending_split=0.35, score=-14.195710 -   6.2s\n",
      "[CV] clf__blending_split=0.4 .........................................\n",
      "[CV] .............. clf__blending_split=0.4, score=-14.191962 -   5.8s\n",
      "[CV] clf__blending_split=0.25 ........................................\n",
      "[CV] ............. clf__blending_split=0.25, score=-21.156562 -   6.9s\n",
      "[CV] clf__blending_split=0.3 .........................................\n",
      "[CV] .............. clf__blending_split=0.3, score=-21.154026 -   6.1s\n",
      "[CV] clf__blending_split=0.35 ........................................\n",
      "[CV] ............. clf__blending_split=0.35, score=-21.150061 -   6.0s\n",
      "[CV] clf__blending_split=0.4 .........................................\n",
      "[CV] .............. clf__blending_split=0.4, score=-21.148342 -   5.1s\n",
      "[CV] clf__blending_split=0.25 ........................................\n",
      "[CV] ............. clf__blending_split=0.25, score=-16.089605 -   6.9s\n",
      "[CV] clf__blending_split=0.3 .........................................\n",
      "[CV] .............. clf__blending_split=0.3, score=-16.087883 -   5.6s\n",
      "[CV] clf__blending_split=0.35 ........................................\n",
      "[CV] ............. clf__blending_split=0.35, score=-16.087291 -   6.2s\n",
      "[CV] clf__blending_split=0.4 .........................................\n",
      "[CV] .............. clf__blending_split=0.4, score=-16.088744 -   5.1s\n",
      "[CV] clf__blending_split=0.25 ........................................\n",
      "[CV] ............. clf__blending_split=0.25, score=-17.521578 -   7.3s\n",
      "[CV] clf__blending_split=0.3 .........................................\n",
      "[CV] .............. clf__blending_split=0.3, score=-17.524531 -   6.6s\n",
      "[CV] clf__blending_split=0.35 ........................................\n",
      "[CV] ............. clf__blending_split=0.35, score=-17.519344 -   6.3s\n",
      "[CV] clf__blending_split=0.4 .........................................\n",
      "[CV] .............. clf__blending_split=0.4, score=-17.524885 -   6.3s\n",
      "[CV] clf__blending_split=0.25 ........................................\n",
      "[CV] ............. clf__blending_split=0.25, score=-15.740674 -   7.1s\n",
      "[CV] clf__blending_split=0.3 .........................................\n",
      "[CV] .............. clf__blending_split=0.3, score=-15.738606 -   6.9s\n",
      "[CV] clf__blending_split=0.35 ........................................\n",
      "[CV] ............. clf__blending_split=0.35, score=-15.741910 -   6.4s\n",
      "[CV] clf__blending_split=0.4 .........................................\n",
      "[CV] .............. clf__blending_split=0.4, score=-15.735885 -   6.3s\n",
      "[CV] clf__blending_split=0.25 ........................................\n",
      "[CV] ............. clf__blending_split=0.25, score=-18.031525 -   7.1s\n",
      "[CV] clf__blending_split=0.3 .........................................\n",
      "[CV] .............. clf__blending_split=0.3, score=-18.032221 -   6.6s\n",
      "[CV] clf__blending_split=0.35 ........................................\n",
      "[CV] ............. clf__blending_split=0.35, score=-18.027429 -   6.3s\n",
      "[CV] clf__blending_split=0.4 .........................................\n",
      "[CV] .............. clf__blending_split=0.4, score=-18.033927 -   5.9s"
     ]
    },
    {
     "name": "stderr",
     "output_type": "stream",
     "text": [
      "[Parallel(n_jobs=1)]: Done  31 tasks       | elapsed:  3.2min\n",
      "[Parallel(n_jobs=1)]: Done  40 out of  40 | elapsed:  4.2min finished\n"
     ]
    },
    {
     "name": "stdout",
     "output_type": "stream",
     "text": [
      "\n"
     ]
    }
   ],
   "source": [
    "# Sweep parameter\n",
    "param_name, param_range='clf__blending_split', [0.25, 0.3, 0.35, 0.4]\n",
    "train_scores, test_scores= validation_curve(estimator=pip, X=X, y=y, scoring=scorer, cv=10, n_jobs=1, \n",
    "                          param_name=param_name, param_range=param_range, verbose=3)\n",
    "train_scores_mean = np.mean(train_scores, axis=1)\n",
    "train_scores_std = np.std(train_scores, axis=1)\n",
    "test_scores_mean = np.mean(test_scores, axis=1)\n",
    "test_scores_std = np.std(test_scores, axis=1)# Sweep parameter"
   ]
  },
  {
   "cell_type": "code",
   "execution_count": 118,
   "metadata": {
    "collapsed": true
   },
   "outputs": [
    {
     "name": "stdout",
     "output_type": "stream",
     "text": [
      "[('ttf', TargetThresholdFilter(threshold=45)), ('lpo', LogPlusOne()), ('imp', Imputer(axis=0, copy=False, missing_values='NaN', strategy='median',\n",
      "    verbose=0)), ('ss', StandardScaler(copy=False, with_mean=True, with_std=True)), ('clf', BlendedRegressor(base_models=(Pipeline(copy=True,\n",
      "     steps=[('sel', LeaveTailK(K=4)), ('rf', RandomForestRegressor(bootstrap=True, criterion='mse', max_depth=25,\n",
      "           max_features=0.2, max_leaf_nodes=None, min_samples_leaf=1,\n",
      "           min_samples_split=2, min_weight_fraction_leaf=0.0,\n",
      "           n_estimato...())]), Pipeline(copy=False,\n",
      "     steps=[('sel', SelectK2Last(K=1)), ('ref_zdr', DummyRegressor())])),\n",
      "         blending_model=Ridge(alpha=1.65, copy_X=True, fit_intercept=True, max_iter=None,\n",
      "   normalize=False, random_state=None, solver='auto', tol=0.001),\n",
      "         blending_split=0.25, with_feature=True))]\n",
      "[0.1, 0.15, 0.2, 0.25]\n",
      "[-16.74958162 -16.76306871 -16.77763937 -16.78406594]\n",
      "[-16.9396585  -16.9337939  -16.9337067  -16.92897006]\n"
     ]
    },
    {
     "data": {
      "image/png": "[encoded data removed]",
      "text/plain": [
       "<matplotlib.figure.Figure at 0x7f71411b9090>"
      ]
     },
     "metadata": {},
     "output_type": "display_data"
    }
   ],
   "source": [
    "# Plotting the validation curver, i.e. trn/val error versus parameter value\n",
    "# 8 estimators, 10 trees\n",
    "# Sweep blending split = [0.1, 0.15, 0.2, 0.25]\n",
    "# 1% data\n",
    "print pip.get_params()['steps']\n",
    "print param_range\n",
    "print train_scores_mean\n",
    "print test_scores_mean\n",
    "plt.title(\"Validation Curve\")\n",
    "plt.xlabel(param_name)\n",
    "plt.ylabel(\"Score\")\n",
    "plt.plot(param_range, train_scores_mean, label=\"Training score\", color=\"r\")\n",
    "plt.twinx()\n",
    "plt.plot(param_range, test_scores_mean, label=\"Cross-validation score\", color=\"g\")\n",
    "plt.show()"
   ]
  },
  {
   "cell_type": "code",
   "execution_count": 120,
   "metadata": {
    "collapsed": true
   },
   "outputs": [
    {
     "name": "stdout",
     "output_type": "stream",
     "text": [
      "[('ttf', TargetThresholdFilter(threshold=45)), ('lpo', LogPlusOne()), ('imp', Imputer(axis=0, copy=False, missing_values='NaN', strategy='median',\n",
      "    verbose=0)), ('ss', StandardScaler(copy=False, with_mean=True, with_std=True)), ('clf', BlendedRegressor(base_models=(Pipeline(copy=True,\n",
      "     steps=[('sel', LeaveTailK(K=4)), ('rf', RandomForestRegressor(bootstrap=True, criterion='mse', max_depth=25,\n",
      "           max_features=0.2, max_leaf_nodes=None, min_samples_leaf=1,\n",
      "           min_samples_split=2, min_weight_fraction_leaf=0.0,\n",
      "           n_estimato...())]), Pipeline(copy=False,\n",
      "     steps=[('sel', SelectK2Last(K=1)), ('ref_zdr', DummyRegressor())])),\n",
      "         blending_model=Ridge(alpha=1.65, copy_X=True, fit_intercept=True, max_iter=None,\n",
      "   normalize=False, random_state=None, solver='auto', tol=0.001),\n",
      "         blending_split=0.4, with_feature=True))]\n",
      "[0.25, 0.3, 0.35, 0.4]\n",
      "[-16.79147303 -16.80095489 -16.80341789 -16.82215892]\n",
      "[-16.9295884  -16.92902143 -16.9279248  -16.92751029]\n"
     ]
    },
    {
     "data": {
      "image/png": "[encoded data removed]",
      "text/plain": [
       "<matplotlib.figure.Figure at 0x7f713fa97e90>"
      ]
     },
     "metadata": {},
     "output_type": "display_data"
    }
   ],
   "source": [
    "# Plotting the validation curver, i.e. trn/val error versus parameter value\n",
    "# 8 estimators, 10 trees\n",
    "# Sweep blending split = [0.25, 0.3, 0.35, 0.4]\n",
    "# 1% data\n",
    "print pip.get_params()['steps']\n",
    "print param_range\n",
    "print train_scores_mean\n",
    "print test_scores_mean\n",
    "plt.title(\"Validation Curve\")\n",
    "plt.xlabel(param_name)\n",
    "plt.ylabel(\"Score\")\n",
    "plt.plot(param_range, train_scores_mean, label=\"Training score\", color=\"r\")\n",
    "plt.twinx()\n",
    "plt.plot(param_range, test_scores_mean, label=\"Cross-validation score\", color=\"g\")\n",
    "plt.show()"
   ]
  },
  {
   "cell_type": "code",
   "execution_count": 11,
   "metadata": {
    "collapsed": true
   },
   "outputs": [
    {
     "name": "stdout",
     "output_type": "stream",
     "text": [
      "[('ttf', TargetThresholdFilter(threshold=45)), ('lpo', LogPlusOne()), ('imp', Imputer(axis=0, copy=False, missing_values='NaN', strategy='median',\n",
      "    verbose=0)), ('ss', StandardScaler(copy=False, with_mean=True, with_std=True)), ('clf', BlendedRegressor(base_models=(Pipeline(copy=True,\n",
      "     steps=[('sel', LeaveTailK(K=4)), ('rf', RandomForestRegressor(bootstrap=True, criterion='mse', max_depth=25,\n",
      "           max_features=0.2, max_leaf_nodes=None, min_samples_leaf=1,\n",
      "           min_samples_split=2, min_weight_fraction_leaf=0.0,\n",
      "           n_estimato...())]), Pipeline(copy=False,\n",
      "     steps=[('sel', SelectK2Last(K=1)), ('ref_zdr', DummyRegressor())])),\n",
      "         blending_model=Ridge(alpha=2.25, copy_X=True, fit_intercept=True, max_iter=None,\n",
      "   normalize=False, random_state=None, solver='auto', tol=0.001),\n",
      "         blending_split=0.2, with_feature=True))]\n",
      "[ 0.5   0.75  1.    1.25  1.5   1.75  2.    2.25]\n",
      "[-16.82281888 -16.81913688 -16.82479604 -16.80673112 -16.80236744\n",
      " -16.82670639 -16.80820261 -16.80128331]\n",
      "[-17.36416159 -17.20246669 -17.40168855 -17.18534221 -17.35636609\n",
      " -17.09963751 -17.17206438 -17.36495043]\n"
     ]
    },
    {
     "data": {
      "image/png": "[encoded data removed]",
      "text/plain": [
       "<matplotlib.figure.Figure at 0x7f0e5abfc8d0>"
      ]
     },
     "metadata": {},
     "output_type": "display_data"
    }
   ],
   "source": [
    "# Plotting the validation curver, i.e. trn/val error versus parameter value\n",
    "# 8 estimators\n",
    "# Sweep alpha = np.arange(0.5, 2.5, 0.25)\n",
    "# 1% data\n",
    "print pip.get_params()['steps']\n",
    "print param_range\n",
    "print train_scores_mean\n",
    "print test_scores_mean\n",
    "plt.title(\"Validation Curve\")\n",
    "plt.xlabel(param_name)\n",
    "plt.ylabel(\"Score\")\n",
    "plt.plot(param_range, train_scores_mean, label=\"Training score\", color=\"r\")\n",
    "# plt.fill_between(param_range, train_scores_mean - train_scores_std, train_scores_mean + train_scores_std, alpha=0.2, color=\"r\")\n",
    "plt.twinx()\n",
    "plt.plot(param_range, test_scores_mean, label=\"Cross-validation score\", color=\"g\")\n",
    "# plt.fill_between(param_range, test_scores_mean - test_scores_std, test_scores_mean + test_scores_std, alpha=0.2, color=\"g\")\n",
    "plt.legend(loc=\"best\")\n",
    "plt.show()"
   ]
  },
  {
   "cell_type": "code",
   "execution_count": 16,
   "metadata": {
    "collapsed": true
   },
   "outputs": [
    {
     "name": "stdout",
     "output_type": "stream",
     "text": [
      "[('ttf', TargetThresholdFilter(threshold=45)), ('lpo', LogPlusOne()), ('imp', Imputer(axis=0, copy=False, missing_values='NaN', strategy='median',\n",
      "    verbose=0)), ('ss', StandardScaler(copy=False, with_mean=True, with_std=True)), ('clf', BlendedRegressor(base_models=(Pipeline(copy=True,\n",
      "     steps=[('sel', LeaveTailK(K=4)), ('rf', RandomForestRegressor(bootstrap=True, criterion='mse', max_depth=25,\n",
      "           max_features=0.2, max_leaf_nodes=None, min_samples_leaf=1,\n",
      "           min_samples_split=2, min_weight_fraction_leaf=0.0,\n",
      "           n_estimato...False, precompute=False, random_state=None,\n",
      "   selection='cyclic', tol=0.0001, warm_start=False))])),\n",
      "         blending_model=Ridge(alpha=2.25, copy_X=True, fit_intercept=True, max_iter=None,\n",
      "   normalize=False, random_state=None, solver='auto', tol=0.001),\n",
      "         blending_split=0.2, with_feature=True))]\n",
      "[ 0.5   0.75  1.    1.25  1.5   1.75  2.    2.25]\n",
      "[-16.8426178  -16.83108931 -16.82697228 -16.81933673 -16.81505369\n",
      " -16.81726312 -16.82874556 -16.81626043]\n",
      "[-17.3169414  -17.48154966 -17.22136648 -17.14951407 -17.26234842\n",
      " -17.47406598 -17.29266128 -17.20762396]\n"
     ]
    },
    {
     "data": {
      "image/png": "[encoded data removed]",
      "text/plain": [
       "<matplotlib.figure.Figure at 0x7f0e5ada0450>"
      ]
     },
     "metadata": {},
     "output_type": "display_data"
    }
   ],
   "source": [
    "# Plotting the validation curver, i.e. trn/val error versus parameter value\n",
    "# 4 estimators\n",
    "# Sweep alpha = np.arange(0.5, 2.5, 0.25)\n",
    "# 1% data\n",
    "print pip.get_params()['steps']\n",
    "print param_range\n",
    "print train_scores_mean\n",
    "print test_scores_mean\n",
    "plt.title(\"Validation Curve\")\n",
    "plt.xlabel(param_name)\n",
    "plt.ylabel(\"Score\")\n",
    "plt.plot(param_range, train_scores_mean, label=\"Training score\", color=\"r\")\n",
    "# plt.fill_between(param_range, train_scores_mean - train_scores_std, train_scores_mean + train_scores_std, alpha=0.2, color=\"r\")\n",
    "plt.twinx()\n",
    "plt.plot(param_range, test_scores_mean, label=\"Cross-validation score\", color=\"g\")\n",
    "# plt.fill_between(param_range, test_scores_mean - test_scores_std, test_scores_mean + test_scores_std, alpha=0.2, color=\"g\")\n",
    "plt.legend(loc=\"best\")\n",
    "plt.show()"
   ]
  },
  {
   "cell_type": "code",
   "execution_count": 13,
   "metadata": {
    "collapsed": true
   },
   "outputs": [
    {
     "name": "stdout",
     "output_type": "stream",
     "text": [
      "[('ttf', TargetThresholdFilter(threshold=45)), ('lpo', LogPlusOne()), ('imp', Imputer(axis=0, copy=False, missing_values='NaN', strategy='median',\n",
      "    verbose=0)), ('ss', StandardScaler(copy=False, with_mean=True, with_std=True)), ('clf', BlendedRegressor(base_models=(Pipeline(copy=True,\n",
      "     steps=[('sel', LeaveTailK(K=4)), ('rf', RandomForestRegressor(bootstrap=True, criterion='mse', max_depth=25,\n",
      "           max_features=0.2, max_leaf_nodes=None, min_samples_leaf=1,\n",
      "           min_samples_split=2, min_weight_fraction_leaf=0.0,\n",
      "           n_estimato...())]), Pipeline(copy=False,\n",
      "     steps=[('sel', SelectK2Last(K=1)), ('ref_zdr', DummyRegressor())])),\n",
      "         blending_model=Ridge(alpha=1.9500000000000004, copy_X=True, fit_intercept=True,\n",
      "   max_iter=None, normalize=False, random_state=None, solver='auto',\n",
      "   tol=0.001),\n",
      "         blending_split=0.2, with_feature=True))]\n",
      "[ 1.5   1.55  1.6   1.65  1.7   1.75  1.8   1.85  1.9   1.95]\n",
      "[-16.83115632 -16.80850813 -16.80891487 -16.81737217 -16.80282997\n",
      " -16.81413371 -16.81695652 -16.81333976 -16.82209762 -16.84237731]\n",
      "[-17.16014355 -17.07395693 -17.28208414 -17.05832777 -17.0860695\n",
      " -17.21959777 -17.13933001 -17.16622223 -17.10058983 -17.16736362]\n"
     ]
    },
    {
     "data": {
      "image/png": "[encoded data removed]",
      "text/plain": [
       "<matplotlib.figure.Figure at 0x7f0e5a97c690>"
      ]
     },
     "metadata": {},
     "output_type": "display_data"
    }
   ],
   "source": [
    "# Plotting the validation curver, i.e. trn/val error versus parameter value\n",
    "# 8 estimators\n",
    "# Sweep alpha = np.arange(1.5, 2, 0.05)\n",
    "# 1% data\n",
    "print pip.get_params()['steps']\n",
    "print param_range\n",
    "print train_scores_mean\n",
    "print test_scores_mean\n",
    "plt.title(\"Validation Curve\")\n",
    "plt.xlabel(param_name)\n",
    "plt.ylabel(\"Score\")\n",
    "plt.plot(param_range, train_scores_mean, label=\"Training score\", color=\"r\")\n",
    "# plt.fill_between(param_range, train_scores_mean - train_scores_std, train_scores_mean + train_scores_std, alpha=0.2, color=\"r\")\n",
    "plt.twinx()\n",
    "plt.plot(param_range, test_scores_mean, label=\"Cross-validation score\", color=\"g\")\n",
    "# plt.fill_between(param_range, test_scores_mean - test_scores_std, test_scores_mean + test_scores_std, alpha=0.2, color=\"g\")\n",
    "plt.legend(loc=\"best\")\n",
    "plt.show()"
   ]
  },
  {
   "cell_type": "markdown",
   "metadata": {},
   "source": [
    "# Generate submission"
   ]
  },
  {
   "cell_type": "code",
   "execution_count": 9,
   "metadata": {
    "collapsed": false
   },
   "outputs": [
    {
     "data": {
      "text/plain": [
       "Pipeline(copy=True,\n",
       "     steps=[('ttf', TargetThresholdFilter(threshold=45)), ('lpo', LogPlusOne()), ('imp', Imputer(axis=0, copy=False, missing_values='NaN', strategy='median',\n",
       "    verbose=0)), ('ss', StandardScaler(copy=False, with_mean=True, with_std=True)), ('clf', BlendedRegressor(base_models=(Pipeline(copy=True,\n",
       "     ...ne,\n",
       "   normalize=False, solver='auto', tol=0.001),\n",
       "         blending_split=0.2, with_feature=True))])"
      ]
     },
     "execution_count": 9,
     "metadata": {},
     "output_type": "execute_result"
    }
   ],
   "source": [
    "pip.fit(X, y)"
   ]
  },
  {
   "cell_type": "code",
   "execution_count": 10,
   "metadata": {
    "collapsed": false,
    "scrolled": true
   },
   "outputs": [
    {
     "name": "stdout",
     "output_type": "stream",
     "text": [
      "(426094, 136)\n"
     ]
    }
   ],
   "source": [
    "test = pd.read_csv('../data/test.csv')\n",
    "test_comb = test.groupby('Id').agg(['mean','std','median','count','min', 'max'])\n",
    "test_comb.columns = ['_'.join(tup) for (i,tup) in enumerate(test_comb.columns.values)]\n",
    "test_withRef_comb = test_comb[pd.notnull(test_comb.Ref_mean)]\n",
    "# Add deterministic estimator as columns\n",
    "# MP params=0.82\n",
    "test_withRef_comb.loc[:,'MP'] = 1+pow(pow(10, test_withRef_comb['Ref_mean']/10)/200, 0.625 * 0.82)\n",
    "#KDP\n",
    "kdp_aa, kdp_bb, kdp_aa_scaling, kdp_bb_scaling = 4.06, 0.0866, 0.33, 0.79\n",
    "test_withRef_comb.loc[:,'KDP'] = np.sign(test_withRef_comb['Kdp_mean'])*(kdp_aa*kdp_aa_scaling)*pow(np.abs(test_withRef_comb['Kdp_mean']),kdp_bb*kdp_bb_scaling)\n",
    "#KDP_ZDR\n",
    "kdpzdr_aa, kdpzdr_bb, kdpzdr_cc, kdpzdr_aa_scaling = 13.6, 0.0968, -0.286, 0.003\n",
    "test_withRef_comb.loc[:, 'KDP_ZDR'] = np.sign(test_withRef_comb['Kdp_mean'])*(kdpzdr_aa*kdpzdr_aa_scaling)*pow(np.abs(test_withRef_comb['Kdp_mean']),kdpzdr_bb)*pow(pow(10,test_withRef_comb['Zdr_mean']/10),kdpzdr_cc)\n",
    "#REF_ZDR\n",
    "refzdr_aa, refzdr_bb, refzdr_cc, refzdr_aa_scaling, refzdr_bb_scaling, refzdr_cc_scaling = 0.00746, 0.945, -4.76, 0.0017, 0.9, 0.8\n",
    "test_withRef_comb.loc[:,'REF_ZDR'] = (refzdr_aa*refzdr_aa_scaling)*pow(pow(10,test_withRef_comb['Ref_mean']/10),refzdr_bb*refzdr_bb_scaling)*pow(pow(10,test_withRef_comb['Zdr_mean']/10),refzdr_cc*refzdr_cc_scaling)\n",
    "# Regularizing negative predictions to 0\n",
    "for name in ['MP','KDP', 'KDP_ZDR', 'REF_ZDR']:\n",
    "    test_withRef_comb.loc[test_withRef_comb[name]<0, name] = 0\n",
    "# Taking log(1+x) on all predictions\n",
    "test_withRef_comb.loc[:, ['MP','KDP', 'KDP_ZDR', 'REF_ZDR']] = np.log10(1+test_withRef_comb.loc[:, ['MP','KDP', 'KDP_ZDR', 'REF_ZDR']])\n",
    "test_X = test_withRef_comb.ix[:, [col for col in test_withRef_comb.columns if not 'Expected' in col]]  # NOTE: used range slicing on column\n",
    "print test_X.shape\n",
    "test_y_predict = 10**pip.predict(X=test_X)-1"
   ]
  },
  {
   "cell_type": "code",
   "execution_count": 11,
   "metadata": {
    "collapsed": false
   },
   "outputs": [
    {
     "name": "stdout",
     "output_type": "stream",
     "text": [
      "../data/result_20151130_082222.csv\n"
     ]
    }
   ],
   "source": [
    "# Ref-samples\n",
    "test_result_withRef = pd.DataFrame()\n",
    "test_result_withRef['Id'] = test_withRef_comb.index\n",
    "test_result_withRef['Expected'] = test_y_predict\n",
    "# All-samples\n",
    "test_result = pd.DataFrame()\n",
    "test_result['Id'] = test['Id'].unique()\n",
    "# Merge and set Non-Ref samples to -1\n",
    "test_result = pd.merge(test_result, test_result_withRef, how='left', on=['Id'], sort=True)\n",
    "test_result.loc[test_result['Expected'].isnull(), 'Expected'] = -1\n",
    "# Write file\n",
    "datetime_str = time.strftime('%Y%m%d_%H%M%S')\n",
    "test_result.to_csv('../data/result_'+datetime_str+'.csv', index=False)\n",
    "print '../data/result_'+datetime_str+'.csv'"
   ]
  },
  {
   "cell_type": "code",
   "execution_count": null,
   "metadata": {
    "collapsed": true
   },
   "outputs": [],
   "source": []
  }
 ],
 "metadata": {
  "kernelspec": {
   "display_name": "Python 2",
   "language": "python",
   "name": "python2"
  },
  "language_info": {
   "codemirror_mode": {
    "name": "ipython",
    "version": 2
   },
   "file_extension": ".py",
   "mimetype": "text/x-python",
   "name": "python",
   "nbconvert_exporter": "python",
   "pygments_lexer": "ipython2",
   "version": "2.7.6"
  }
 },
 "nbformat": 4,
 "nbformat_minor": 0
}
