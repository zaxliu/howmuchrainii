{
 "cells": [
  {
   "cell_type": "code",
   "execution_count": 1,
   "metadata": {
    "collapsed": true
   },
   "outputs": [],
   "source": [
    "# Basics\n",
    "import sys\n",
    "import time\n",
    "import numpy as np\n",
    "import pandas as pd\n",
    "import matplotlib.pyplot as plt\n",
    "# Sklearn\n",
    "from sklearn.preprocessing import StandardScaler, Imputer \n",
    "from sklearn.linear_model import LinearRegression, Ridge, Lasso\n",
    "from sklearn.tree import DecisionTreeRegressor\n",
    "from sklearn.ensemble import RandomForestRegressor\n",
    "from sklearn.cross_validation import cross_val_score, ShuffleSplit\n",
    "from sklearn.learning_curve import learning_curve, validation_curve\n",
    "from sklearn.metrics import make_scorer\n",
    "# xgboost\n",
    "import xgboost as xgb\n",
    "# Our custom modules\n",
    "sys.path.append('..')\n",
    "from anrg.pipeline import Pipeline # my customized Pipeline\n",
    "from anrg.blending import BlendedRegressor\n",
    "from anrg.cleaning import TargetThresholdFilter, LogPlusOne\n",
    "from anrg.mp import MPRegressor\n",
    "##### setting #######\n",
    "pd.set_option('display.max_columns', 500)  # force pandas to display all columns for better visual inspection\n",
    "%matplotlib inline"
   ]
  },
  {
   "cell_type": "code",
   "execution_count": 2,
   "metadata": {
    "collapsed": false
   },
   "outputs": [],
   "source": [
    "trn = pd.read_csv('../data/train.csv')\n",
    "# trn = pd.read_csv('../data/train_10.csv', index_col=0)  # column #0 in our file is DataFrame index\n",
    "# trn = pd.read_csv('../data/train_1.csv', index_col=0)"
   ]
  },
  {
   "cell_type": "code",
   "execution_count": 3,
   "metadata": {
    "collapsed": false
   },
   "outputs": [
    {
     "name": "stdout",
     "output_type": "stream",
     "text": [
      "Time elapsed: 0.3507 secs\n"
     ]
    }
   ],
   "source": [
    "t = time.time()\n",
    "trn_withRef = trn[trn['Ref'].notnull()]\n",
    "print 'Time elapsed: {:.4f} secs'.format(time.time()-t)  # toc"
   ]
  },
  {
   "cell_type": "code",
   "execution_count": 4,
   "metadata": {
    "collapsed": false
   },
   "outputs": [
    {
     "name": "stdout",
     "output_type": "stream",
     "text": [
      "Time elapsed: 6.9483 secs\n"
     ]
    }
   ],
   "source": [
    "# Combine observations by 'Id', aggregate features\n",
    "t = time.time()\n",
    "trn_withRef_comb = trn_withRef.groupby('Id').agg(['mean','std','median','count','min', 'max'])\n",
    "trn_withRef_comb.columns = ['_'.join(tup) for (i,tup) in enumerate(trn_withRef_comb.columns.values)]\n",
    "trn_withRef_comb = trn_withRef_comb.drop(['Expected_count', 'Expected_median', 'Expected_std', 'Expected_min','Expected_max'], axis =1)\n",
    "print 'Time elapsed: {:.4f} secs'.format(time.time()-t)  # toc"
   ]
  },
  {
   "cell_type": "code",
   "execution_count": 5,
   "metadata": {
    "collapsed": false
   },
   "outputs": [
    {
     "name": "stdout",
     "output_type": "stream",
     "text": [
      "(731556, 132) (731556,)\n"
     ]
    }
   ],
   "source": [
    "X = trn_withRef_comb.loc[:, 'minutes_past_mean':'Kdp_5x5_90th_max']  # NOTE: used range slicing on column\n",
    "y = trn_withRef_comb['Expected_mean']\n",
    "print X.shape, y.shape"
   ]
  },
  {
   "cell_type": "code",
   "execution_count": 9,
   "metadata": {
    "collapsed": false
   },
   "outputs": [],
   "source": [
    "ttf = TargetThresholdFilter(threshold=45)\n",
    "lpo = LogPlusOne()\n",
    "imp = Imputer(strategy='median', copy=False)  # Get a imputor with column-mean filling config\n",
    "ss = StandardScaler(copy=False, with_mean=True, with_std=True)\n",
    "base1 = RandomForestRegressor(n_estimators=100, max_features=0.2, max_depth=25, n_jobs=7)  # NOTE: n_jobs=-1 will use all of your cores, set to a prefered number e.g. 4\n",
    "base2 = xgb.sklearn.XGBRegressor(n_estimators=100, nthread=6)\n",
    "base3 = LinearRegression()\n",
    "base4 = Ridge(alpha=2.0)\n",
    "base5 = Lasso(alpha=0.01)\n",
    "# base6 = MPRegressor(power_scaling=0.82)\n",
    "blender = Ridge(alpha=1.0)\n",
    "clf = BlendedRegressor(base_models=(base1, base2, base3, base4, base5), blending_model=blender, blending_split=0.1, with_feature=True)\n",
    "pip = Pipeline([('ttf',ttf), ('lpo',lpo), ('imp',imp), ('ss',ss), ('clf',clf)])  # a Pipeline wrapper to chain'em up\n",
    "def LogPlusOne_score(ground_truth, predictions, lpo=lpo):\n",
    "    return np.float64(np.mean(np.abs(ground_truth - (np.power(10, predictions) - 1))))\n",
    "scorer = make_scorer(LogPlusOne_score, greater_is_better=False)  # define scoring metric"
   ]
  },
  {
   "cell_type": "markdown",
   "metadata": {},
   "source": [
    "# CV"
   ]
  },
  {
   "cell_type": "code",
   "execution_count": 7,
   "metadata": {
    "collapsed": true
   },
   "outputs": [
    {
     "name": "stdout",
     "output_type": "stream",
     "text": [
      "[CV] no parameters to be set .........................................\n",
      "[CV] .............. no parameters to be set, score=-22.266074 - 1.6min\n",
      "[CV] no parameters to be set .........................................\n",
      "[CV] .............. no parameters to be set, score=-22.538688 - 1.6min\n",
      "[CV] no parameters to be set .........................................\n",
      "[CV] .............. no parameters to be set, score=-23.425762 - 1.6min\n",
      "[CV] no parameters to be set .........................................\n",
      "[CV] .............. no parameters to be set, score=-24.934529 - 1.6min\n",
      "[CV] no parameters to be set .........................................\n",
      "[CV] .............. no parameters to be set, score=-23.777680 - 1.6min\n",
      "[CV] no parameters to be set .........................................\n",
      "[CV] .............. no parameters to be set, score=-23.936694 - 1.6min\n",
      "[CV] no parameters to be set .........................................\n",
      "[CV] .............. no parameters to be set, score=-19.927156 - 1.7min\n",
      "[CV] no parameters to be set .........................................\n",
      "[CV] .............. no parameters to be set, score=-25.613683 - 1.6min\n",
      "[CV] no parameters to be set .........................................\n",
      "[CV] .............. no parameters to be set, score=-23.691720 - 1.6min\n",
      "[CV] no parameters to be set .........................................\n",
      "[CV] .............. no parameters to be set, score=-21.477144 - 1.6min\n"
     ]
    },
    {
     "name": "stderr",
     "output_type": "stream",
     "text": [
      "[Parallel(n_jobs=1)]: Done  10 out of  10 | elapsed: 16.1min finished\n"
     ]
    }
   ],
   "source": [
    "scores = cross_val_score(estimator=pip, X=X, y=y, scoring=scorer, cv=10, n_jobs=1, verbose=3)"
   ]
  },
  {
   "cell_type": "code",
   "execution_count": 8,
   "metadata": {
    "collapsed": true
   },
   "outputs": [
    {
     "name": "stdout",
     "output_type": "stream",
     "text": [
      "-23.0838031684 1.58093512081\n",
      "[('ttf', TargetThresholdFilter(threshold=45)), ('lpo', LogPlusOne()), ('imp', Imputer(axis=0, copy=False, missing_values='NaN', strategy='median',\n",
      "    verbose=0)), ('ss', StandardScaler(copy=False, with_mean=True, with_std=True)), ('clf', BlendedRegressor(base_models=(RandomForestRegressor(bootstrap=True, criterion='mse', max_depth=25,\n",
      "           max_features=0.2, max_leaf_nodes=None, min_samples_leaf=1,\n",
      "           min_samples_split=2, min_weight_fraction_leaf=0.0,\n",
      "           n_estimators=500, n_jobs=7, oob_score=False, random_state=None,\n",
      "           ...ve=False, precompute=False, random_state=None,\n",
      "   selection='cyclic', tol=0.0001, warm_start=False)),\n",
      "         blending_model=LinearRegression(copy_X=True, fit_intercept=True, n_jobs=1, normalize=False),\n",
      "         blending_split=0.1))]\n"
     ]
    }
   ],
   "source": [
    "# ttf = TargetThresholdFilter(threshold=45)\n",
    "# base1 = RandomForestRegressor(n_estimators=500, max_features=0.2, max_depth=25, n_jobs=7)  # NOTE: n_jobs=-1 will use all of your cores, set to a prefered number e.g. 4\n",
    "# base2 = xgb.sklearn.XGBRegressor(n_estimators=500, nthread=6)# base3 = LinearRegression()\n",
    "# base4 = Ridge(alpha=2.0)# base5 = Lasso(alpha=0.01)# blender = LinearRegression()\n",
    "# clf = BlendedRegressor(base_models=(base1, base2, base3, base4, base5), blending_model=blender, blending_split=0.1)\n",
    "# pip = Pipeline([('ttf',ttf), ('lpo',lpo), ('imp',imp), ('ss',ss), ('clf',clf)])  # a Pipeline wrapper to chain'em up\n",
    "print np.mean(scores), np.std(scores)\n",
    "print pip.get_params()['steps']"
   ]
  },
  {
   "cell_type": "code",
   "execution_count": 15,
   "metadata": {
    "collapsed": true
   },
   "outputs": [
    {
     "name": "stdout",
     "output_type": "stream",
     "text": [
      "-23.0847722014 1.58095901634\n",
      "[('ttf', TargetThresholdFilter(threshold=45)), ('lpo', LogPlusOne()), ('imp', Imputer(axis=0, copy=False, missing_values='NaN', strategy='median',\n",
      "    verbose=0)), ('ss', StandardScaler(copy=False, with_mean=True, with_std=True)), ('clf', BlendedRegressor(base_models=(RandomForestRegressor(bootstrap=True, criterion='mse', max_depth=25,\n",
      "           max_features=0.2, max_leaf_nodes=None, min_samples_leaf=1,\n",
      "           min_samples_split=2, min_weight_fraction_leaf=0.0,\n",
      "           n_estimators=500, n_jobs=7, oob_score=False, random_state=None,\n",
      "           ...ve=False, precompute=False, random_state=None,\n",
      "   selection='cyclic', tol=0.0001, warm_start=False)),\n",
      "         blending_model=LinearRegression(copy_X=True, fit_intercept=True, n_jobs=1, normalize=False),\n",
      "         blending_split=0.15, with_feature=False))]\n"
     ]
    }
   ],
   "source": [
    "# ttf = TargetThresholdFilter(threshold=45)\n",
    "# base1 = RandomForestRegressor(n_estimators=500, max_features=0.2, max_depth=25, n_jobs=7)  # NOTE: n_jobs=-1 will use all of your cores, set to a prefered number e.g. 4\n",
    "# base2 = xgb.sklearn.XGBRegressor(n_estimators=500, nthread=6)# base3 = LinearRegression()\n",
    "# base4 = Ridge(alpha=2.0)# base5 = Lasso(alpha=0.01)# blender = LinearRegression()\n",
    "# clf = BlendedRegressor(base_models=(base1, base2, base3, base4, base5), blending_model=blender, blending_split=0.15)\n",
    "# pip = Pipeline([('ttf',ttf), ('lpo',lpo), ('imp',imp), ('ss',ss), ('clf',clf)])  # a Pipeline wrapper to chain'em up\n",
    "print np.mean(scores), np.std(scores)\n",
    "print pip.get_params()['steps']"
   ]
  },
  {
   "cell_type": "code",
   "execution_count": 9,
   "metadata": {
    "collapsed": true
   },
   "outputs": [
    {
     "name": "stdout",
     "output_type": "stream",
     "text": [
      "-23.9366190666 1.55330746912\n",
      "[('ttf', TargetThresholdFilter(threshold=45)), ('lpo', LogPlusOne()), ('imp', Imputer(axis=0, copy=False, missing_values='NaN', strategy='median',\n",
      "    verbose=0)), ('ss', StandardScaler(copy=False, with_mean=True, with_std=True)), ('clf', BlendedRegressor(base_models=(RandomForestRegressor(bootstrap=True, criterion='mse', max_depth=25,\n",
      "           max_features=0.2, max_leaf_nodes=None, min_samples_leaf=1,\n",
      "           min_samples_split=2, min_weight_fraction_leaf=0.0,\n",
      "           n_estimators=500, n_jobs=7, oob_score=False, random_state=None,\n",
      "           ...ve=False, precompute=False, random_state=None,\n",
      "   selection='cyclic', tol=0.0001, warm_start=False)),\n",
      "         blending_model=DecisionTreeRegressor(criterion='mse', max_depth=None, max_features=None,\n",
      "           max_leaf_nodes=None, min_samples_leaf=1, min_samples_split=2,\n",
      "           min_weight_fraction_leaf=0.0, presort=False, random_state=None,\n",
      "           splitter='best'),\n",
      "         blending_split=0.1, with_feature=True))]\n"
     ]
    }
   ],
   "source": [
    "# base1 = RandomForestRegressor(n_estimators=500, max_features=0.2, max_depth=25, n_jobs=7)  # NOTE: n_jobs=-1 will use all of your cores, set to a prefered number e.g. 4\n",
    "# base2 = xgb.sklearn.XGBRegressor(n_estimators=500, nthread=6)\n",
    "# base3 = LinearRegression()\n",
    "# base4 = Ridge(alpha=2.0)\n",
    "# base5 = Lasso(alpha=0.01)\n",
    "# blender = DecisionTreeRegressor()\n",
    "# clf = BlendedRegressor(base_models=(base1, base2, base3, base4, base5), blending_model=blender, blending_split=0.1, with_feature=True)\n",
    "print np.mean(scores), np.std(scores)\n",
    "print pip.get_params()['steps']"
   ]
  },
  {
   "cell_type": "code",
   "execution_count": 8,
   "metadata": {
    "collapsed": true
   },
   "outputs": [
    {
     "name": "stdout",
     "output_type": "stream",
     "text": [
      "-23.1589130709 1.58038152971\n",
      "[('ttf', TargetThresholdFilter(threshold=45)), ('lpo', LogPlusOne()), ('imp', Imputer(axis=0, copy=False, missing_values='NaN', strategy='median',\n",
      "    verbose=0)), ('ss', StandardScaler(copy=False, with_mean=True, with_std=True)), ('clf', BlendedRegressor(base_models=(RandomForestRegressor(bootstrap=True, criterion='mse', max_depth=25,\n",
      "           max_features=0.2, max_leaf_nodes=None, min_samples_leaf=1,\n",
      "           min_samples_split=2, min_weight_fraction_leaf=0.0,\n",
      "           n_estimators=10, n_jobs=7, oob_score=False, random_state=None,\n",
      "           v...ve=False, precompute=False, random_state=None,\n",
      "   selection='cyclic', tol=0.0001, warm_start=False)),\n",
      "         blending_model=Ridge(alpha=1.0, copy_X=True, fit_intercept=True, max_iter=None,\n",
      "   normalize=False, random_state=None, solver='auto', tol=0.001),\n",
      "         blending_split=0.1, with_feature=True))]\n"
     ]
    }
   ],
   "source": [
    "# base1 = RandomForestRegressor(n_estimators=10, max_features=0.2, max_depth=25, n_jobs=7)  # NOTE: n_jobs=-1 will use all of your cores, set to a prefered number e.g. 4\n",
    "# base2 = xgb.sklearn.XGBRegressor(n_estimators=100, nthread=6)\n",
    "# base3 = LinearRegression()\n",
    "# base4 = Ridge(alpha=2.0)\n",
    "# base5 = Lasso(alpha=0.01)\n",
    "# blender = Ridge(alpha=1.0)\n",
    "# clf = BlendedRegressor(base_models=(base1, base2, base3, base4, base5), blending_model=blender, blending_split=0.1, with_feature=True)\n",
    "print np.mean(scores), np.std(scores)\n",
    "print pip.get_params()['steps']"
   ]
  },
  {
   "cell_type": "code",
   "execution_count": 10,
   "metadata": {
    "collapsed": true
   },
   "outputs": [
    {
     "name": "stdout",
     "output_type": "stream",
     "text": [
      "[CV] clf__blending_split=0.05 ........................................\n",
      "[CV] ............. clf__blending_split=0.05, score=-22.194630 - 4.5min\n",
      "[CV] clf__blending_split=0.75 ........................................\n",
      "[CV] ............. clf__blending_split=0.75, score=-22.213780 - 1.4min\n",
      "[CV] clf__blending_split=0.1 .........................................\n",
      "[CV] .............. clf__blending_split=0.1, score=-22.199938 - 4.2min\n",
      "[CV] clf__blending_split=0.125 .......................................\n",
      "[CV] ............ clf__blending_split=0.125, score=-22.196160 - 4.0min\n",
      "[CV] clf__blending_split=0.15 ........................................\n",
      "[CV] ............. clf__blending_split=0.15, score=-22.195965 - 3.8min\n",
      "[CV] clf__blending_split=0.05 ........................................\n",
      "[CV] ............. clf__blending_split=0.05, score=-22.467194 - 4.2min\n",
      "[CV] clf__blending_split=0.75 ........................................\n",
      "[CV] ............. clf__blending_split=0.75, score=-22.494834 - 1.3min\n",
      "[CV] clf__blending_split=0.1 .........................................\n",
      "[CV] .............. clf__blending_split=0.1, score=-22.471977 - 4.0min\n",
      "[CV] clf__blending_split=0.125 .......................................\n",
      "[CV] ............ clf__blending_split=0.125, score=-22.471199 - 3.9min\n",
      "[CV] clf__blending_split=0.15 ........................................\n",
      "[CV] ............. clf__blending_split=0.15, score=-22.470687 - 3.8min\n",
      "[CV] clf__blending_split=0.05 ........................................\n",
      "[CV] ............. clf__blending_split=0.05, score=-23.349769 - 4.2min\n",
      "[CV] clf__blending_split=0.75 ........................................\n",
      "[CV] ............. clf__blending_split=0.75, score=-23.370228 - 1.3min\n",
      "[CV] clf__blending_split=0.1 .........................................\n",
      "[CV] .............. clf__blending_split=0.1, score=-23.349723 - 4.0min\n",
      "[CV] clf__blending_split=0.125 .......................................\n",
      "[CV] ............ clf__blending_split=0.125, score=-23.346366 - 3.8min\n",
      "[CV] clf__blending_split=0.15 ........................................\n",
      "[CV] ............. clf__blending_split=0.15, score=-23.345783 - 3.8min\n",
      "[CV] clf__blending_split=0.05 ........................................\n",
      "[CV] ............. clf__blending_split=0.05, score=-24.865805 - 4.2min\n",
      "[CV] clf__blending_split=0.75 ........................................\n",
      "[CV] ............. clf__blending_split=0.75, score=-24.893011 - 1.3min\n",
      "[CV] clf__blending_split=0.1 .........................................\n",
      "[CV] .............. clf__blending_split=0.1, score=-24.864622 - 4.0min\n",
      "[CV] clf__blending_split=0.125 .......................................\n",
      "[CV] ............ clf__blending_split=0.125, score=-24.869244 - 3.9min\n",
      "[CV] clf__blending_split=0.15 ........................................\n",
      "[CV] ............. clf__blending_split=0.15, score=-24.867106 - 3.8min\n",
      "[CV] clf__blending_split=0.05 ........................................\n",
      "[CV] ............. clf__blending_split=0.05, score=-23.711973 - 4.2min\n",
      "[CV] clf__blending_split=0.75 ........................................\n",
      "[CV] ............. clf__blending_split=0.75, score=-23.723052 - 1.3min\n",
      "[CV] clf__blending_split=0.1 .........................................\n",
      "[CV] .............. clf__blending_split=0.1, score=-23.712148 - 4.0min\n",
      "[CV] clf__blending_split=0.125 .......................................\n",
      "[CV] ............ clf__blending_split=0.125, score=-23.715695 - 3.8min\n",
      "[CV] clf__blending_split=0.15 ........................................\n",
      "[CV] ............. clf__blending_split=0.15, score=-23.712834 - 3.8min\n",
      "[CV] clf__blending_split=0.05 ........................................\n",
      "[CV] ............. clf__blending_split=0.05, score=-23.873660 - 4.2min\n",
      "[CV] clf__blending_split=0.75 ........................................\n",
      "[CV] ............. clf__blending_split=0.75, score=-23.899671 - 1.3min\n",
      "[CV] clf__blending_split=0.1 .........................................\n",
      "[CV] .............. clf__blending_split=0.1, score=-23.870623 - 4.0min\n",
      "[CV] clf__blending_split=0.125 .......................................\n",
      "[CV] ............ clf__blending_split=0.125, score=-23.868900 - 3.8min\n",
      "[CV] clf__blending_split=0.15 ........................................\n",
      "[CV] ............. clf__blending_split=0.15, score=-23.869952 - 3.8min\n",
      "[CV] clf__blending_split=0.05 ........................................\n",
      "[CV] ............. clf__blending_split=0.05, score=-19.857883 - 4.2min\n",
      "[CV] clf__blending_split=0.75 ........................................\n",
      "[CV] ............. clf__blending_split=0.75, score=-19.878011 - 1.3min\n",
      "[CV] clf__blending_split=0.1 .........................................\n",
      "[CV] .............. clf__blending_split=0.1, score=-19.853068 - 4.0min\n",
      "[CV] clf__blending_split=0.125 .......................................\n",
      "[CV] ............ clf__blending_split=0.125, score=-19.854966 - 3.9min\n",
      "[CV] clf__blending_split=0.15 ........................................\n",
      "[CV] ............. clf__blending_split=0.15, score=-19.854620 - 3.8min\n",
      "[CV] clf__blending_split=0.05 ........................................\n",
      "[CV] ............. clf__blending_split=0.05, score=-25.538232 - 4.2min\n",
      "[CV] clf__blending_split=0.75 ........................................\n",
      "[CV] ............. clf__blending_split=0.75, score=-25.562785 - 1.3min\n",
      "[CV] clf__blending_split=0.1 .........................................\n",
      "[CV] .............. clf__blending_split=0.1, score=-25.542535 - 4.0min\n",
      "[CV] clf__blending_split=0.125 .......................................\n",
      "[CV] ............ clf__blending_split=0.125, score=-25.545862 - 3.9min\n",
      "[CV] clf__blending_split=0.15 ........................................\n",
      "[CV] ............. clf__blending_split=0.15, score=-25.545989 - 3.7min\n",
      "[CV] clf__blending_split=0.05 ........................................\n",
      "[CV] ............. clf__blending_split=0.05, score=-23.616869 - 4.2min\n",
      "[CV] clf__blending_split=0.75 ........................................\n",
      "[CV] ............. clf__blending_split=0.75, score=-23.646363 - 1.3min\n",
      "[CV] clf__blending_split=0.1 .........................................\n",
      "[CV] .............. clf__blending_split=0.1, score=-23.612528 - 4.0min\n",
      "[CV] clf__blending_split=0.125 .......................................\n",
      "[CV] ............ clf__blending_split=0.125, score=-23.617025 - 3.9min\n",
      "[CV] clf__blending_split=0.15 ........................................\n",
      "[CV] ............. clf__blending_split=0.15, score=-23.614501 - 3.7min\n",
      "[CV] clf__blending_split=0.05 ........................................\n",
      "[CV] ............. clf__blending_split=0.05, score=-21.404771 - 4.2min\n",
      "[CV] clf__blending_split=0.75 ........................................\n",
      "[CV] ............. clf__blending_split=0.75, score=-21.422219 - 1.3min\n",
      "[CV] clf__blending_split=0.1 .........................................\n",
      "[CV] .............. clf__blending_split=0.1, score=-21.410587 - 4.0min\n",
      "[CV] clf__blending_split=0.125 .......................................\n",
      "[CV] ............ clf__blending_split=0.125, score=-21.407796 - 3.9min\n",
      "[CV] clf__blending_split=0.15 ........................................\n",
      "[CV] ............. clf__blending_split=0.15, score=-21.406832 - 3.8min"
     ]
    },
    {
     "name": "stderr",
     "output_type": "stream",
     "text": [
      "[Parallel(n_jobs=1)]: Done  31 tasks       | elapsed: 107.7min\n",
      "[Parallel(n_jobs=1)]: Done  50 out of  50 | elapsed: 172.1min finished\n"
     ]
    },
    {
     "name": "stdout",
     "output_type": "stream",
     "text": [
      "\n"
     ]
    }
   ],
   "source": [
    "# Sweep parameter\n",
    "param_name, param_range='clf__blending_split', [0.05, 0.75, 0.1, 0.125, 0.15]\n",
    "train_scores, test_scores= validation_curve(estimator=pip, X=X, y=y, scoring=scorer, cv=10, n_jobs=1, \n",
    "                          param_name=param_name, param_range=param_range, verbose=3)\n",
    "train_scores_mean = np.mean(train_scores, axis=1)\n",
    "train_scores_std = np.std(train_scores, axis=1)\n",
    "test_scores_mean = np.mean(test_scores, axis=1)\n",
    "test_scores_std = np.std(test_scores, axis=1)# Sweep parameter"
   ]
  },
  {
   "cell_type": "code",
   "execution_count": 10,
   "metadata": {
    "collapsed": true
   },
   "outputs": [
    {
     "name": "stdout",
     "output_type": "stream",
     "text": [
      "[('ttf', TargetThresholdFilter(threshold=45)), ('lpo', LogPlusOne()), ('imp', Imputer(axis=0, copy=False, missing_values='NaN', strategy='median',\n",
      "    verbose=0)), ('ss', StandardScaler(copy=False, with_mean=True, with_std=True)), ('clf', BlendedRegressor(base_models=(RandomForestRegressor(bootstrap=True, criterion='mse', max_depth=25,\n",
      "           max_features=0.2, max_leaf_nodes=None, min_samples_leaf=1,\n",
      "           min_samples_split=2, min_weight_fraction_leaf=0.0,\n",
      "           n_estimators=500, n_jobs=7, oob_score=False, random_state=None,\n",
      "           ...ve=False, precompute=False, random_state=None,\n",
      "   selection='cyclic', tol=0.0001, warm_start=False)),\n",
      "         blending_model=LinearRegression(copy_X=True, fit_intercept=True, n_jobs=1, normalize=False),\n",
      "         blending_split=0.15, with_feature=False))]\n",
      "[0.05, 0.1, 0.15]\n",
      "[-16.49600933 -16.48670207 -16.50771615]\n",
      "[-16.91472066 -16.9170225  -16.91484021]\n"
     ]
    },
    {
     "data": {
      "image/png": "[encoded data removed]",
      "text/plain": [
       "<matplotlib.figure.Figure at 0x7f12f1631f90>"
      ]
     },
     "metadata": {},
     "output_type": "display_data"
    }
   ],
   "source": [
    "# Plotting the validation curver, i.e. trn/val error versus parameter value\n",
    "# Sweep alpha = np.arange(0.5, 1.6, 0.1)\n",
    "# 100% data\n",
    "print pip.get_params()['steps']\n",
    "print param_range\n",
    "print train_scores_mean\n",
    "print test_scores_mean\n",
    "plt.title(\"Validation Curve\")\n",
    "plt.xlabel(param_name)\n",
    "plt.ylabel(\"Score\")\n",
    "plt.plot(param_range, train_scores_mean, label=\"Training score\", color=\"r\")\n",
    "# plt.fill_between(param_range, train_scores_mean - train_scores_std, train_scores_mean + train_scores_std, alpha=0.2, color=\"r\")\n",
    "plt.twinx()\n",
    "plt.plot(param_range, test_scores_mean, label=\"Cross-validation score\", color=\"g\")\n",
    "# plt.fill_between(param_range, test_scores_mean - test_scores_std, test_scores_mean + test_scores_std, alpha=0.2, color=\"g\")\n",
    "plt.legend(loc=\"best\")\n",
    "plt.show()"
   ]
  },
  {
   "cell_type": "code",
   "execution_count": 11,
   "metadata": {
    "collapsed": true
   },
   "outputs": [
    {
     "name": "stdout",
     "output_type": "stream",
     "text": [
      "[('ttf', TargetThresholdFilter(threshold=45)), ('lpo', LogPlusOne()), ('imp', Imputer(axis=0, copy=False, missing_values='NaN', strategy='median',\n",
      "    verbose=0)), ('ss', StandardScaler(copy=False, with_mean=True, with_std=True)), ('clf', BlendedRegressor(base_models=(RandomForestRegressor(bootstrap=True, criterion='mse', max_depth=25,\n",
      "           max_features=0.2, max_leaf_nodes=None, min_samples_leaf=1,\n",
      "           min_samples_split=2, min_weight_fraction_leaf=0.0,\n",
      "           n_estimators=100, n_jobs=7, oob_score=False, random_state=None,\n",
      "           ...ve=False, precompute=False, random_state=None,\n",
      "   selection='cyclic', tol=0.0001, warm_start=False)),\n",
      "         blending_model=Ridge(alpha=1.0, copy_X=True, fit_intercept=True, max_iter=None,\n",
      "   normalize=False, random_state=None, solver='auto', tol=0.001),\n",
      "         blending_split=0.15, with_feature=True))]\n",
      "[0.05, 0.75, 0.1, 0.125, 0.15]\n",
      "[-21.88843838 -22.60693767 -21.91638281 -21.93126713 -21.94761519]\n",
      "[-23.08807851 -23.11039525 -23.08877478 -23.08932134 -23.0884269 ]\n"
     ]
    },
    {
     "data": {
      "image/png": "[encoded data removed]",
      "text/plain": [
       "<matplotlib.figure.Figure at 0x7fd4864db7d0>"
      ]
     },
     "metadata": {},
     "output_type": "display_data"
    }
   ],
   "source": [
    "# Plotting the validation curver, i.e. trn/val error versus parameter value\n",
    "# Sweep alpha = np.arange(0.5, 1.6, 0.1)\n",
    "# 100% data\n",
    "print pip.get_params()['steps']\n",
    "print param_range\n",
    "print train_scores_mean\n",
    "print test_scores_mean\n",
    "plt.title(\"Validation Curve\")\n",
    "plt.xlabel(param_name)\n",
    "plt.ylabel(\"Score\")\n",
    "plt.plot(param_range, train_scores_mean, label=\"Training score\", color=\"r\")\n",
    "# plt.fill_between(param_range, train_scores_mean - train_scores_std, train_scores_mean + train_scores_std, alpha=0.2, color=\"r\")\n",
    "plt.twinx()\n",
    "plt.plot(param_range, test_scores_mean, label=\"Cross-validation score\", color=\"g\")\n",
    "# plt.fill_between(param_range, test_scores_mean - test_scores_std, test_scores_mean + test_scores_std, alpha=0.2, color=\"g\")\n",
    "plt.legend(loc=\"best\")\n",
    "plt.show()"
   ]
  },
  {
   "cell_type": "markdown",
   "metadata": {},
   "source": [
    "# Generate submission"
   ]
  },
  {
   "cell_type": "code",
   "execution_count": 9,
   "metadata": {
    "collapsed": false
   },
   "outputs": [
    {
     "data": {
      "text/plain": [
       "Pipeline(steps=[('ttf', TargetThresholdFilter(threshold=45)), ('lpo', LogPlusOne()), ('imp', Imputer(axis=0, copy=False, missing_values='NaN', strategy='median',\n",
       "    verbose=0)), ('ss', StandardScaler(copy=False, with_mean=True, with_std=True)), ('clf', BlendedRegressor(base_models=(RandomForestRegressor(boo...gression(copy_X=True, fit_intercept=True, n_jobs=1, normalize=False),\n",
       "         blending_split=0.1))])"
      ]
     },
     "execution_count": 9,
     "metadata": {},
     "output_type": "execute_result"
    }
   ],
   "source": [
    "pip.fit(X, y)"
   ]
  },
  {
   "cell_type": "code",
   "execution_count": 10,
   "metadata": {
    "collapsed": true
   },
   "outputs": [],
   "source": [
    "test = pd.read_csv('../data/test.csv')\n",
    "test_withRef = test[test['Ref'].notnull()]\n",
    "test_withRef_comb = test_withRef.groupby('Id').agg(['mean','std','median','count','min', 'max'])\n",
    "test_withRef_comb.columns = ['_'.join(tup) for (i,tup) in enumerate(test_withRef_comb.columns.values)]\n",
    "test_X = test_withRef_comb.loc[:, 'minutes_past_mean':'Kdp_5x5_90th_max']  # NOTE: used range slicing on column\n",
    "test_y_predict = 10**pip.predict(X=test_X)-1"
   ]
  },
  {
   "cell_type": "code",
   "execution_count": 11,
   "metadata": {
    "collapsed": false
   },
   "outputs": [
    {
     "name": "stdout",
     "output_type": "stream",
     "text": [
      "../data/result_20151125_142147.csv\n"
     ]
    }
   ],
   "source": [
    "# Ref-samples\n",
    "test_result_withRef = pd.DataFrame()\n",
    "test_result_withRef['Id'] = test_withRef_comb.index\n",
    "test_result_withRef['Expected'] = test_y_predict\n",
    "# All-samples\n",
    "test_result = pd.DataFrame()\n",
    "test_result['Id'] = test['Id'].unique()\n",
    "# Merge and set Non-Ref samples to -1\n",
    "test_result = pd.merge(test_result, test_result_withRef, how='left', on=['Id'], sort=True)\n",
    "test_result.loc[test_result['Expected'].isnull(), 'Expected'] = -1\n",
    "# Write file\n",
    "datetime_str = time.strftime('%Y%m%d_%H%M%S')\n",
    "test_result.to_csv('../data/result_'+datetime_str+'.csv', index=False)\n",
    "print '../data/result_'+datetime_str+'.csv'"
   ]
  },
  {
   "cell_type": "code",
   "execution_count": null,
   "metadata": {
    "collapsed": true
   },
   "outputs": [],
   "source": []
  }
 ],
 "metadata": {
  "kernelspec": {
   "display_name": "Python 2",
   "language": "python",
   "name": "python2"
  },
  "language_info": {
   "codemirror_mode": {
    "name": "ipython",
    "version": 2
   },
   "file_extension": ".py",
   "mimetype": "text/x-python",
   "name": "python",
   "nbconvert_exporter": "python",
   "pygments_lexer": "ipython2",
   "version": "2.7.6"
  }
 },
 "nbformat": 4,
 "nbformat_minor": 0
}
