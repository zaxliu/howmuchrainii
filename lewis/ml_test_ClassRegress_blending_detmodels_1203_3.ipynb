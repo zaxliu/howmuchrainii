{
 "cells": [
  {
   "cell_type": "code",
   "execution_count": 1,
   "metadata": {
    "collapsed": false
   },
   "outputs": [],
   "source": [
    "# Basics\n",
    "import sys\n",
    "import time\n",
    "import numpy as np\n",
    "import pandas as pd\n",
    "import matplotlib.pyplot as plt\n",
    "# Sklearn\n",
    "from sklearn.preprocessing import StandardScaler, Imputer \n",
    "from sklearn.linear_model import LinearRegression, Ridge, Lasso\n",
    "from sklearn.tree import DecisionTreeRegressor\n",
    "from sklearn.ensemble import RandomForestRegressor\n",
    "from sklearn.cross_validation import cross_val_score, ShuffleSplit, train_test_split\n",
    "from sklearn.learning_curve import learning_curve, validation_curve\n",
    "from sklearn.metrics import make_scorer, confusion_matrix\n",
    "# xgboost\n",
    "import xgboost as xgb\n",
    "# Our custom modules\n",
    "sys.path.append('..')\n",
    "from anrg.pipeline import Pipeline, SelectTailK, LeaveTailK, SelectK2Last, DummyRegressor\n",
    "from anrg.blending import BlendedRegressor\n",
    "from anrg.cleaning import TargetThresholdFilter, LogPlusOne\n",
    "from anrg.classified_regression import ClassifiedRegressor\n",
    "##### setting #######\n",
    "pd.set_option('display.max_columns', 500)  # force pandas to display all columns for better visual inspection\n",
    "%matplotlib inline"
   ]
  },
  {
   "cell_type": "code",
   "execution_count": 2,
   "metadata": {
    "collapsed": true
   },
   "outputs": [],
   "source": [
    "trn = pd.read_csv('../data/train.csv')\n",
    "# trn = pd.read_csv('../data/train_10.csv', index_col=0)  # column #0 in our file is DataFrame index\n",
    "# trn = pd.read_csv('../data/train_1.csv', index_col=0)"
   ]
  },
  {
   "cell_type": "code",
   "execution_count": 3,
   "metadata": {
    "collapsed": false
   },
   "outputs": [
    {
     "name": "stdout",
     "output_type": "stream",
     "text": [
      "Time elapsed: 22.3940 secs\n"
     ]
    }
   ],
   "source": [
    "# Combine observations by 'Id', aggregate features\n",
    "t = time.time()\n",
    "trn_comb = trn.groupby('Id').agg(['mean','std','median','count', 'min', 'max'])\n",
    "trn_comb.columns = ['_'.join(tup) for (i,tup) in enumerate(trn_comb.columns.values)]\n",
    "# ignore id's where all Ref vales are NaN\n",
    "trn_withRef_comb = trn_comb[pd.notnull(trn_comb.Ref_mean)]\n",
    "# Gargage collection\n",
    "del trn\n",
    "del trn_comb\n",
    "# Timing\n",
    "print 'Time elapsed: {:.4f} secs'.format(time.time()-t)  # toc"
   ]
  },
  {
   "cell_type": "code",
   "execution_count": 4,
   "metadata": {
    "collapsed": false,
    "scrolled": true
   },
   "outputs": [],
   "source": [
    "# Add deterministic estimator as columns\n",
    "# MP params=0.82\n",
    "trn_withRef_comb.loc[:,'MP'] = 1+pow(pow(10, trn_withRef_comb['Ref_mean']/10)/200, 0.625 * 0.82)\n",
    "#KDP\n",
    "kdp_aa, kdp_bb, kdp_aa_scaling, kdp_bb_scaling = 4.06, 0.0866, 0.33, 0.79\n",
    "trn_withRef_comb.loc[:,'KDP'] = np.sign(trn_withRef_comb['Kdp_mean'])*(kdp_aa*kdp_aa_scaling)*pow(np.abs(trn_withRef_comb['Kdp_mean']),kdp_bb*kdp_bb_scaling)\n",
    "#KDP_ZDR\n",
    "kdpzdr_aa, kdpzdr_bb, kdpzdr_cc, kdpzdr_aa_scaling = 13.6, 0.0968, -0.286, 0.003\n",
    "trn_withRef_comb.loc[:, 'KDP_ZDR'] = np.sign(trn_withRef_comb['Kdp_mean'])*(kdpzdr_aa*kdpzdr_aa_scaling)*pow(np.abs(trn_withRef_comb['Kdp_mean']),kdpzdr_bb)*pow(pow(10,trn_withRef_comb['Zdr_mean']/10),kdpzdr_cc)\n",
    "#REF_ZDR\n",
    "refzdr_aa, refzdr_bb, refzdr_cc, refzdr_aa_scaling, refzdr_bb_scaling, refzdr_cc_scaling = 0.00746, 0.945, -4.76, 0.0017, 0.9, 0.8\n",
    "trn_withRef_comb.loc[:,'REF_ZDR'] = (refzdr_aa*refzdr_aa_scaling)*pow(pow(10,trn_withRef_comb['Ref_mean']/10),refzdr_bb*refzdr_bb_scaling)*pow(pow(10,trn_withRef_comb['Zdr_mean']/10),refzdr_cc*refzdr_cc_scaling)\n",
    "# Regularizing negative predictions to 0\n",
    "for name in ['MP','KDP', 'KDP_ZDR', 'REF_ZDR']:\n",
    "    trn_withRef_comb.loc[trn_withRef_comb[name]<0, name] = 0\n",
    "# Taking log(1+x) on all predictions\n",
    "trn_withRef_comb.loc[:, ['MP','KDP', 'KDP_ZDR', 'REF_ZDR']] = np.log10(1+trn_withRef_comb.loc[:, ['MP','KDP', 'KDP_ZDR', 'REF_ZDR']])"
   ]
  },
  {
   "cell_type": "code",
   "execution_count": 5,
   "metadata": {
    "collapsed": false
   },
   "outputs": [
    {
     "name": "stdout",
     "output_type": "stream",
     "text": [
      "(731556, 136) (731556,)\n"
     ]
    }
   ],
   "source": [
    "# Extract X and y\n",
    "y = trn_withRef_comb['Expected_mean']\n",
    "X = trn_withRef_comb.ix[:, [col for col in trn_withRef_comb.columns if not 'Expected' in col]]  # NOTE: used range slicing on column\n",
    "# Garbage collection\n",
    "del trn_withRef_comb\n",
    "print X.shape, y.shape"
   ]
  },
  {
   "cell_type": "code",
   "execution_count": 6,
   "metadata": {
    "collapsed": true
   },
   "outputs": [],
   "source": [
    "lpo = LogPlusOne()\n",
    "imp = Imputer(strategy='median', copy=False)  # Get a imputor with column-mean filling config\n",
    "ss = StandardScaler(copy=False, with_mean=True, with_std=True)\n",
    "def LogPlusOne_score(ground_truth, predictions):\n",
    "    return np.float64(np.mean(np.abs(ground_truth - (np.power(10, predictions) - 1))))\n",
    "scorer = make_scorer(LogPlusOne_score, greater_is_better=False)  # define scoring metric"
   ]
  },
  {
   "cell_type": "code",
   "execution_count": 11,
   "metadata": {
    "collapsed": false
   },
   "outputs": [],
   "source": [
    "reg_sub = [None, None]\n",
    "for i in [0, 1]:\n",
    "    base1 = Pipeline([('sel', LeaveTailK(K=4)), ('rf', RandomForestRegressor(n_estimators=500, max_features=0.2, max_depth=25, n_jobs=7))], copy = False)\n",
    "    base2 = Pipeline([('sel', LeaveTailK(K=4)), ('xgb', xgb.sklearn.XGBRegressor(n_estimators=500, nthread=7))], copy = False)\n",
    "    base3 = Pipeline([('sel', LeaveTailK(K=4)), ('ri', Ridge(alpha=2.0))], copy = False)\n",
    "    base4 = Pipeline([('sel', LeaveTailK(K=4)), ('la', Lasso(alpha=0.01))], copy = False)\n",
    "    base5 = Pipeline([('sel', SelectK2Last(K=4)), ('mp', DummyRegressor())], copy = False)\n",
    "    base6 = Pipeline([('sel', SelectK2Last(K=3)), ('kdp', DummyRegressor())], copy = False)\n",
    "    base7 = Pipeline([('sel', SelectK2Last(K=2)), ('kdp_zdr', DummyRegressor())], copy = False)\n",
    "    base8 = Pipeline([('sel', SelectK2Last(K=1)), ('ref_zdr', DummyRegressor())], copy = False)\n",
    "    blender = Ridge(alpha=1.45)\n",
    "    base_models=(base1, base2, base3, base4, base5, base6, base7, base8)\n",
    "    reg_sub[i] = BlendedRegressor(base_models=base_models, blending_model=blender, blending_split=0.15, with_feature=True)\n",
    "reg_sub = tuple(reg_sub)\n",
    "clf = xgb.sklearn.XGBClassifier(n_estimators=500, nthread=14)\n",
    "reg = ClassifiedRegressor(labeling_thresh=np.log10(1+45) , classifier=clf, proba_thresh=0.4, regressors=reg_sub, verbose=1)\n",
    "pip = Pipeline([('lpo',lpo), ('imp',imp), ('ss',ss), ('reg',reg)], copy=True)  # a Pipeline wrapper to chain'em up"
   ]
  },
  {
   "cell_type": "markdown",
   "metadata": {},
   "source": [
    "# CV"
   ]
  },
  {
   "cell_type": "code",
   "execution_count": 8,
   "metadata": {
    "collapsed": true
   },
   "outputs": [
    {
     "name": "stdout",
     "output_type": "stream",
     "text": [
      "[CV] no parameters to be set .........................................\n",
      "Training classifier, total samples = 658400... label False subtotal 640131... label True subtotal 18269... fitting regressors, total samples = 658400... regressor 0 fits label False subtotal 640131... regressor 1 fits label True subtotal 18269...  \n",
      "Regressor prediction, total samples = 73156... regressor 0 predicts label False subtotal 73156... regressor 1 predicts label True subtotal 0...  \n",
      "[CV] .............. no parameters to be set, score=-22.187429 -46.0min\n",
      "[CV] no parameters to be set .........................................\n",
      "Training classifier, total samples = 658400... label False subtotal 640143... label True subtotal 18257... fitting regressors, total samples = 658400... regressor 0 fits label False subtotal 640143... regressor 1 fits label True subtotal 18257...  \n",
      "Regressor prediction, total samples = 73156... regressor 0 predicts label False subtotal 73156... regressor 1 predicts label True subtotal 0...  \n",
      "[CV] .............. no parameters to be set, score=-22.461714 -43.9min\n",
      "[CV] no parameters to be set .........................................\n",
      "Training classifier, total samples = 658400... label False subtotal 640250... label True subtotal 18150... fitting regressors, total samples = 658400... regressor 0 fits label False subtotal 640250... regressor 1 fits label True subtotal 18150...  \n",
      "Regressor prediction, total samples = 73156... regressor 0 predicts label False subtotal 73156... regressor 1 predicts label True subtotal 0...  \n",
      "[CV] .............. no parameters to be set, score=-23.336736 -22.4min\n",
      "[CV] no parameters to be set .........................................\n",
      "Training classifier, total samples = 658400... label False subtotal 640278... label True subtotal 18122... fitting regressors, total samples = 658400... regressor 0 fits label False subtotal 640278... regressor 1 fits label True subtotal 18122...  \n",
      "Regressor prediction, total samples = 73156... regressor 0 predicts label False subtotal 73156... regressor 1 predicts label True subtotal 0...  \n",
      "[CV] .............. no parameters to be set, score=-24.859301 -23.1min\n",
      "[CV] no parameters to be set .........................................\n",
      "Training classifier, total samples = 658400... label False subtotal 640227... label True subtotal 18173... fitting regressors, total samples = 658400... regressor 0 fits label False subtotal 640227... regressor 1 fits label True subtotal 18173...  \n",
      "Regressor prediction, total samples = 73156... regressor 0 predicts label False subtotal 73152... regressor 1 predicts label True subtotal 4...  \n",
      "[CV] .............. no parameters to be set, score=-23.750727 -20.3min\n",
      "[CV] no parameters to be set .........................................\n",
      "Training classifier, total samples = 658400... label False subtotal 640678... label True subtotal 17722... fitting regressors, total samples = 658400... regressor 0 fits label False subtotal 640678... regressor 1 fits label True subtotal 17722...  \n",
      "Regressor prediction, total samples = 73156... regressor 0 predicts label False subtotal 73156... regressor 1 predicts label True subtotal 0...  \n",
      "[CV] .............. no parameters to be set, score=-23.858375 -20.1min\n",
      "[CV] no parameters to be set .........................................\n",
      "Training classifier, total samples = 658401... label False subtotal 640001... label True subtotal 18400... fitting regressors, total samples = 658401... regressor 0 fits label False subtotal 640001... regressor 1 fits label True subtotal 18400...  \n",
      "Regressor prediction, total samples = 73155... regressor 0 predicts label False subtotal 73155... regressor 1 predicts label True subtotal 0...  \n",
      "[CV] .............. no parameters to be set, score=-19.847842 -20.0min\n",
      "[CV] no parameters to be set .........................................\n",
      "Training classifier, total samples = 658401... label False subtotal 640244... label True subtotal 18157... fitting regressors, total samples = 658401... regressor 0 fits label False subtotal 640244... regressor 1 fits label True subtotal 18157...  \n",
      "Regressor prediction, total samples = 73155... regressor 0 predicts label False subtotal 73155... regressor 1 predicts label True subtotal 0...  \n",
      "[CV] .............. no parameters to be set, score=-25.539913 -19.9min\n",
      "[CV] no parameters to be set .........................................\n",
      "Training classifier, total samples = 658401... label False subtotal 640315... label True subtotal 18086... fitting regressors, total samples = 658401... regressor 0 fits label False subtotal 640315... regressor 1 fits label True subtotal 18086...  \n",
      "Regressor prediction, total samples = 73155... regressor 0 predicts label False subtotal 73151... regressor 1 predicts label True subtotal 4...  \n",
      "[CV] .............. no parameters to be set, score=-23.596279 -19.8min\n",
      "[CV] no parameters to be set .........................................\n",
      "Training classifier, total samples = 658401... label False subtotal 640342... label True subtotal 18059... fitting regressors, total samples = 658401... regressor 0 fits label False subtotal 640342... regressor 1 fits label True subtotal 18059...  \n",
      "Regressor prediction, total samples = 73155... regressor 0 predicts label False subtotal 73155... regressor 1 predicts label True subtotal 0...  \n",
      "[CV] .............. no parameters to be set, score=-21.402493 -19.6min\n",
      "-23.0840810317 1.58255971366\n"
     ]
    },
    {
     "name": "stderr",
     "output_type": "stream",
     "text": [
      "[Parallel(n_jobs=1)]: Done  10 out of  10 | elapsed: 255.0min finished\n"
     ]
    }
   ],
   "source": [
    "# label at 45, class xgb 500, proba_thresh=0.1\n",
    "scores = cross_val_score(estimator=pip, X=X, y=y, scoring=scorer, cv=10, n_jobs=1, verbose=3)\n",
    "print np.mean(scores), np.std(scores)"
   ]
  },
  {
   "cell_type": "code",
   "execution_count": 10,
   "metadata": {
    "collapsed": true
   },
   "outputs": [
    {
     "name": "stdout",
     "output_type": "stream",
     "text": [
      "[CV] no parameters to be set .........................................\n",
      "Training classifier, total samples = 658400... label False subtotal 640131... label True subtotal 18269... fitting regressors, total samples = 658400... regressor 0 fits label False subtotal 640131... regressor 1 fits label True subtotal 18269...  \n",
      "Regressor prediction, total samples = 73156... regressor 0 predicts label False subtotal 73156... regressor 1 predicts label True subtotal 0...  \n",
      "[CV] .............. no parameters to be set, score=-22.186684 -19.7min\n",
      "[CV] no parameters to be set .........................................\n",
      "Training classifier, total samples = 658400... label False subtotal 640143... label True subtotal 18257... fitting regressors, total samples = 658400... regressor 0 fits label False subtotal 640143... regressor 1 fits label True subtotal 18257...  \n",
      "Regressor prediction, total samples = 73156... regressor 0 predicts label False subtotal 73156... regressor 1 predicts label True subtotal 0...  \n",
      "[CV] .............. no parameters to be set, score=-22.460362 -19.7min\n",
      "[CV] no parameters to be set .........................................\n",
      "Training classifier, total samples = 658400... label False subtotal 640250... label True subtotal 18150... fitting regressors, total samples = 658400... regressor 0 fits label False subtotal 640250... regressor 1 fits label True subtotal 18150...  \n",
      "Regressor prediction, total samples = 73156... regressor 0 predicts label False subtotal 73156... regressor 1 predicts label True subtotal 0...  \n",
      "[CV] .............. no parameters to be set, score=-23.336632 -19.8min\n",
      "[CV] no parameters to be set .........................................\n",
      "Training classifier, total samples = 658400... label False subtotal 640278... label True subtotal 18122... fitting regressors, total samples = 658400... regressor 0 fits label False subtotal 640278... regressor 1 fits label True subtotal 18122...  \n",
      "Regressor prediction, total samples = 73156... regressor 0 predicts label False subtotal 73156... regressor 1 predicts label True subtotal 0...  \n",
      "[CV] .............. no parameters to be set, score=-24.859272 -19.8min\n",
      "[CV] no parameters to be set .........................................\n",
      "Training classifier, total samples = 658400... label False subtotal 640227... label True subtotal 18173... fitting regressors, total samples = 658400... regressor 0 fits label False subtotal 640227... regressor 1 fits label True subtotal 18173...  \n",
      "Regressor prediction, total samples = 73156... regressor 0 predicts label False subtotal 73152... regressor 1 predicts label True subtotal 4...  \n",
      "[CV] .............. no parameters to be set, score=-23.751499 -19.8min\n",
      "[CV] no parameters to be set .........................................\n",
      "Training classifier, total samples = 658400... label False subtotal 640678... label True subtotal 17722... fitting regressors, total samples = 658400... regressor 0 fits label False subtotal 640678... regressor 1 fits label True subtotal 17722...  \n",
      "Regressor prediction, total samples = 73156... regressor 0 predicts label False subtotal 73156... regressor 1 predicts label True subtotal 0...  \n",
      "[CV] .............. no parameters to be set, score=-23.857947 -19.9min\n",
      "[CV] no parameters to be set .........................................\n",
      "Training classifier, total samples = 658401... label False subtotal 640001... label True subtotal 18400... fitting regressors, total samples = 658401... regressor 0 fits label False subtotal 640001... regressor 1 fits label True subtotal 18400...  \n",
      "Regressor prediction, total samples = 73155... regressor 0 predicts label False subtotal 73155... regressor 1 predicts label True subtotal 0...  \n",
      "[CV] .............. no parameters to be set, score=-19.846455 -19.8min\n",
      "[CV] no parameters to be set .........................................\n",
      "Training classifier, total samples = 658401... label False subtotal 640244... label True subtotal 18157... fitting regressors, total samples = 658401... regressor 0 fits label False subtotal 640244... regressor 1 fits label True subtotal 18157...  \n",
      "Regressor prediction, total samples = 73155... regressor 0 predicts label False subtotal 73154... regressor 1 predicts label True subtotal 1...  \n",
      "[CV] .............. no parameters to be set, score=-25.556379 -19.7min\n",
      "[CV] no parameters to be set .........................................\n",
      "Training classifier, total samples = 658401... label False subtotal 640315... label True subtotal 18086... fitting regressors, total samples = 658401... regressor 0 fits label False subtotal 640315... regressor 1 fits label True subtotal 18086...  \n",
      "Regressor prediction, total samples = 73155... regressor 0 predicts label False subtotal 73150... regressor 1 predicts label True subtotal 5...  \n",
      "[CV] .............. no parameters to be set, score=-23.599475 -19.8min\n",
      "[CV] no parameters to be set .........................................\n",
      "Training classifier, total samples = 658401... label False subtotal 640342... label True subtotal 18059... fitting regressors, total samples = 658401... regressor 0 fits label False subtotal 640342... regressor 1 fits label True subtotal 18059...  \n",
      "Regressor prediction, total samples = 73155... regressor 0 predicts label False subtotal 73155... regressor 1 predicts label True subtotal 0...  \n",
      "[CV] .............. no parameters to be set, score=-21.403769 -19.7min\n",
      "-23.0858474298 1.58547391118\n"
     ]
    },
    {
     "name": "stderr",
     "output_type": "stream",
     "text": [
      "[Parallel(n_jobs=1)]: Done  10 out of  10 | elapsed: 197.7min finished\n"
     ]
    }
   ],
   "source": [
    "# label at 45, class xgb 500, proba_thresh=0.2\n",
    "scores = cross_val_score(estimator=pip, X=X, y=y, scoring=scorer, cv=10, n_jobs=1, verbose=3)\n",
    "print np.mean(scores), np.std(scores)"
   ]
  },
  {
   "cell_type": "code",
   "execution_count": 12,
   "metadata": {
    "collapsed": true
   },
   "outputs": [
    {
     "name": "stdout",
     "output_type": "stream",
     "text": [
      "[CV] no parameters to be set .........................................\n",
      "Training classifier, total samples = 658400... label False subtotal 640131... label True subtotal 18269... fitting regressors, total samples = 658400... regressor 0 fits label False subtotal 640131... regressor 1 fits label True subtotal 18269...  \n",
      "Regressor prediction, total samples = 73156... regressor 0 predicts label False subtotal 73125... regressor 1 predicts label True subtotal 31...  \n",
      "[CV] .............. no parameters to be set, score=-22.194438 -20.0min\n",
      "[CV] no parameters to be set .........................................\n",
      "Training classifier, total samples = 658400... label False subtotal 640143... label True subtotal 18257... fitting regressors, total samples = 658400... regressor 0 fits label False subtotal 640143... regressor 1 fits label True subtotal 18257...  \n",
      "Regressor prediction, total samples = 73156... regressor 0 predicts label False subtotal 73140... regressor 1 predicts label True subtotal 16...  \n",
      "[CV] .............. no parameters to be set, score=-22.486219 -19.8min\n",
      "[CV] no parameters to be set .........................................\n",
      "Training classifier, total samples = 658400... label False subtotal 640250... label True subtotal 18150... fitting regressors, total samples = 658400... regressor 0 fits label False subtotal 640250... regressor 1 fits label True subtotal 18150...  \n",
      "Regressor prediction, total samples = 73156... regressor 0 predicts label False subtotal 73144... regressor 1 predicts label True subtotal 12...  \n",
      "[CV] .............. no parameters to be set, score=-23.320662 -19.7min\n",
      "[CV] no parameters to be set .........................................\n",
      "Training classifier, total samples = 658400... label False subtotal 640278... label True subtotal 18122... fitting regressors, total samples = 658400... regressor 0 fits label False subtotal 640278... regressor 1 fits label True subtotal 18122...  \n",
      "Regressor prediction, total samples = 73156... regressor 0 predicts label False subtotal 73132... regressor 1 predicts label True subtotal 24...  \n",
      "[CV] .............. no parameters to be set, score=-24.844253 -19.7min\n",
      "[CV] no parameters to be set .........................................\n",
      "Training classifier, total samples = 658400... label False subtotal 640227... label True subtotal 18173... fitting regressors, total samples = 658400... regressor 0 fits label False subtotal 640227... regressor 1 fits label True subtotal 18173...  \n",
      "Regressor prediction, total samples = 73156... regressor 0 predicts label False subtotal 73126... regressor 1 predicts label True subtotal 30...  \n",
      "[CV] .............. no parameters to be set, score=-23.778457 -19.9min\n",
      "[CV] no parameters to be set .........................................\n",
      "Training classifier, total samples = 658400... label False subtotal 640678... label True subtotal 17722... fitting regressors, total samples = 658400... regressor 0 fits label False subtotal 640678... regressor 1 fits label True subtotal 17722...  \n",
      "Regressor prediction, total samples = 73156... regressor 0 predicts label False subtotal 73130... regressor 1 predicts label True subtotal 26...  \n",
      "[CV] .............. no parameters to be set, score=-23.809554 -19.8min\n",
      "[CV] no parameters to be set .........................................\n",
      "Training classifier, total samples = 658401... label False subtotal 640001... label True subtotal 18400... fitting regressors, total samples = 658401... regressor 0 fits label False subtotal 640001... regressor 1 fits label True subtotal 18400...  \n",
      "Regressor prediction, total samples = 73155... regressor 0 predicts label False subtotal 73140... regressor 1 predicts label True subtotal 15...  \n",
      "[CV] .............. no parameters to be set, score=-19.785058 -19.8min\n",
      "[CV] no parameters to be set .........................................\n",
      "Training classifier, total samples = 658401... label False subtotal 640244... label True subtotal 18157... fitting regressors, total samples = 658401... regressor 0 fits label False subtotal 640244... regressor 1 fits label True subtotal 18157...  \n",
      "Regressor prediction, total samples = 73155... regressor 0 predicts label False subtotal 73104... regressor 1 predicts label True subtotal 51...  \n",
      "[CV] .............. no parameters to be set, score=-25.374625 -19.8min\n",
      "[CV] no parameters to be set .........................................\n",
      "Training classifier, total samples = 658401... label False subtotal 640315... label True subtotal 18086... fitting regressors, total samples = 658401... regressor 0 fits label False subtotal 640315... regressor 1 fits label True subtotal 18086...  \n",
      "Regressor prediction, total samples = 73155... regressor 0 predicts label False subtotal 73133... regressor 1 predicts label True subtotal 22...  \n",
      "[CV] .............. no parameters to be set, score=-23.386722 -19.7min\n",
      "[CV] no parameters to be set .........................................\n",
      "Training classifier, total samples = 658401... label False subtotal 640342... label True subtotal 18059... fitting regressors, total samples = 658401... regressor 0 fits label False subtotal 640342... regressor 1 fits label True subtotal 18059...  \n",
      "Regressor prediction, total samples = 73155... regressor 0 predicts label False subtotal 73139... regressor 1 predicts label True subtotal 16...  \n",
      "[CV] .............. no parameters to be set, score=-21.396756 -20.1min\n",
      "-23.0376743221 1.56073118708\n"
     ]
    },
    {
     "name": "stderr",
     "output_type": "stream",
     "text": [
      "[Parallel(n_jobs=1)]: Done  10 out of  10 | elapsed: 198.2min finished\n"
     ]
    }
   ],
   "source": [
    "# label at 45, class xgb 500, proba_thresh=0.4\n",
    "scores = cross_val_score(estimator=pip, X=X, y=y, scoring=scorer, cv=10, n_jobs=1, verbose=3)\n",
    "print np.mean(scores), np.std(scores)"
   ]
  }
 ],
 "metadata": {
  "kernelspec": {
   "display_name": "Python 2",
   "language": "python",
   "name": "python2"
  },
  "language_info": {
   "codemirror_mode": {
    "name": "ipython",
    "version": 2
   },
   "file_extension": ".py",
   "mimetype": "text/x-python",
   "name": "python",
   "nbconvert_exporter": "python",
   "pygments_lexer": "ipython2",
   "version": "2.7.6"
  }
 },
 "nbformat": 4,
 "nbformat_minor": 0
}
